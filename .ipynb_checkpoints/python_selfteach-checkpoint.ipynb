{
 "cells": [
  {
   "cell_type": "markdown",
   "metadata": {},
   "source": [
    "# Learning Python as an R user"
   ]
  },
  {
   "cell_type": "code",
   "execution_count": 322,
   "metadata": {},
   "outputs": [],
   "source": [
    "# Introduction"
   ]
  },
  {
   "cell_type": "code",
   "execution_count": 323,
   "metadata": {},
   "outputs": [],
   "source": [
    "# what are your goals for this post? Are you going to explain every detail?"
   ]
  },
  {
   "cell_type": "markdown",
   "metadata": {},
   "source": [
    "# Import libraries"
   ]
  },
  {
   "cell_type": "code",
   "execution_count": 324,
   "metadata": {},
   "outputs": [],
   "source": [
    "# did you install these libraries somewhere? what does import do? what do the dots \".\" mean?"
   ]
  },
  {
   "cell_type": "code",
   "execution_count": 325,
   "metadata": {},
   "outputs": [],
   "source": [
    "import pandas\n",
    "import math\n",
    "import numpy\n",
    "import plotly.express\n",
    "import plotly.offline\n",
    "import scipy\n",
    "import statsmodels.api\n",
    "import statsmodels.formula.api\n",
    "import patsy.contrasts"
   ]
  },
  {
   "cell_type": "markdown",
   "metadata": {},
   "source": [
    "## Offline Plotting Settings"
   ]
  },
  {
   "cell_type": "code",
   "execution_count": 326,
   "metadata": {},
   "outputs": [],
   "source": [
    "# what do this code mean? why do you have to start with \"plotly\"?"
   ]
  },
  {
   "cell_type": "code",
   "execution_count": 327,
   "metadata": {},
   "outputs": [
    {
     "data": {
      "text/html": [
       "        <script type=\"text/javascript\">\n",
       "        window.PlotlyConfig = {MathJaxConfig: 'local'};\n",
       "        if (window.MathJax) {MathJax.Hub.Config({SVG: {font: \"STIX-Web\"}});}\n",
       "        if (typeof require !== 'undefined') {\n",
       "        require.undef(\"plotly\");\n",
       "        requirejs.config({\n",
       "            paths: {\n",
       "                'plotly': ['https://cdn.plot.ly/plotly-latest.min']\n",
       "            }\n",
       "        });\n",
       "        require(['plotly'], function(Plotly) {\n",
       "            window._Plotly = Plotly;\n",
       "        });\n",
       "        }\n",
       "        </script>\n",
       "        "
      ]
     },
     "metadata": {},
     "output_type": "display_data"
    }
   ],
   "source": [
    "plotly.offline.init_notebook_mode(connected = True)"
   ]
  },
  {
   "cell_type": "markdown",
   "metadata": {},
   "source": [
    "# Generate data\n",
    "## `group` variable with 4 levels"
   ]
  },
  {
   "cell_type": "code",
   "execution_count": 328,
   "metadata": {},
   "outputs": [],
   "source": [
    "# similar to the `base::rep` function in R. [] make lists. what are lists?"
   ]
  },
  {
   "cell_type": "code",
   "execution_count": 329,
   "metadata": {},
   "outputs": [],
   "source": [
    "group = numpy.repeat([\"A\", \"B\", \"C\", \"D\"], repeats = 50)"
   ]
  },
  {
   "cell_type": "markdown",
   "metadata": {},
   "source": [
    "## Save parameters"
   ]
  },
  {
   "cell_type": "code",
   "execution_count": 330,
   "metadata": {},
   "outputs": [],
   "source": [
    "# () make tuples. what are tuples?"
   ]
  },
  {
   "cell_type": "code",
   "execution_count": 331,
   "metadata": {},
   "outputs": [],
   "source": [
    "mean = (3, 4, 4, 3)\n",
    "sigma = (1, 1, 1, 1)\n",
    "n = (50, 50, 50, 50)"
   ]
  },
  {
   "cell_type": "markdown",
   "metadata": {},
   "source": [
    "## Random normal variable `x` whose means depend on levels of `group` variable"
   ]
  },
  {
   "cell_type": "code",
   "execution_count": 332,
   "metadata": {},
   "outputs": [],
   "source": [
    "# what are list comprehensions? why do you have to concatenate it? what is zip?"
   ]
  },
  {
   "cell_type": "code",
   "execution_count": 333,
   "metadata": {},
   "outputs": [],
   "source": [
    "# Loop through equal-length mean, sigma, and n (group size)\n",
    "x = numpy.concatenate(\n",
    "    [numpy.random.normal(loc = i, scale = j, size = k) for (i, j, k) in zip(mean, sigma, n)]\n",
    ")"
   ]
  },
  {
   "cell_type": "markdown",
   "metadata": {},
   "source": [
    "## Variable `y` correlated r = 0.75 with x"
   ]
  },
  {
   "cell_type": "code",
   "execution_count": 334,
   "metadata": {},
   "outputs": [],
   "source": [
    "# pretty similar to stats::rnorm in R. annoying part is that I had to concatenate the list above"
   ]
  },
  {
   "cell_type": "code",
   "execution_count": 335,
   "metadata": {},
   "outputs": [],
   "source": [
    "y = x * 0.75 + numpy.random.normal(loc = 0, scale = 1, size = sum(n))"
   ]
  },
  {
   "cell_type": "markdown",
   "metadata": {},
   "source": [
    "## Store variables in a data frame"
   ]
  },
  {
   "cell_type": "code",
   "execution_count": 336,
   "metadata": {},
   "outputs": [],
   "source": [
    "# why the colons? why the squigly brackets?"
   ]
  },
  {
   "cell_type": "code",
   "execution_count": 337,
   "metadata": {},
   "outputs": [],
   "source": [
    "data1 = pandas.DataFrame({\"y\": y, \"x\": x, \"group\": group})"
   ]
  },
  {
   "cell_type": "markdown",
   "metadata": {},
   "source": [
    "## Create contrast variables for use in linear regression on `group` variable"
   ]
  },
  {
   "cell_type": "code",
   "execution_count": 338,
   "metadata": {},
   "outputs": [],
   "source": [
    "# this is similar to base::factor in r, except you use these arrays in the regression syntax. they're not an attribute of the factor."
   ]
  },
  {
   "cell_type": "code",
   "execution_count": 339,
   "metadata": {},
   "outputs": [],
   "source": [
    "# Helmert contrasts\n",
    "group_helmert = patsy.contrasts.Helmert().code_without_intercept(list(set(group)))\n",
    "\n",
    "# 2 main effects and 1 interaction contrast\n",
    "group_factorial = patsy.contrasts.ContrastMatrix([[-1, -1, 1], [-1, 1, -1], [1, -1, -1], [1, 1, 1]], \n",
    "                                                 [\"Main Effect 1\", \"Main Effect 2\", \"Interaction\"])"
   ]
  },
  {
   "cell_type": "markdown",
   "metadata": {},
   "source": [
    "## Add contrast variables to data frame"
   ]
  },
  {
   "cell_type": "code",
   "execution_count": 340,
   "metadata": {},
   "outputs": [],
   "source": [
    "# not too efficient. why do I need .loc? matrix[row, column] is similar to R as well as assignment."
   ]
  },
  {
   "cell_type": "code",
   "execution_count": 341,
   "metadata": {},
   "outputs": [],
   "source": [
    "data1.loc[data1[\"group\"] == \"A\", \"main1\"] = -1\n",
    "data1.loc[data1[\"group\"] == \"B\", \"main1\"] = -1\n",
    "data1.loc[data1[\"group\"] == \"C\", \"main1\"] = 1\n",
    "data1.loc[data1[\"group\"] == \"D\", \"main1\"] = 1\n",
    "\n",
    "data1.loc[data1[\"group\"] == \"A\", \"main2\"] = -1\n",
    "data1.loc[data1[\"group\"] == \"B\", \"main2\"] = 1\n",
    "data1.loc[data1[\"group\"] == \"C\", \"main2\"] = -1\n",
    "data1.loc[data1[\"group\"] == \"D\", \"main2\"] = 1\n",
    "\n",
    "data1.loc[data1[\"group\"] == \"A\", \"interaction\"] = 1\n",
    "data1.loc[data1[\"group\"] == \"B\", \"interaction\"] = -1\n",
    "data1.loc[data1[\"group\"] == \"C\", \"interaction\"] = -1\n",
    "data1.loc[data1[\"group\"] == \"D\", \"interaction\"] = 1"
   ]
  },
  {
   "cell_type": "markdown",
   "metadata": {},
   "source": [
    "# Plots\n",
    "## Boxplots"
   ]
  },
  {
   "cell_type": "code",
   "execution_count": 342,
   "metadata": {},
   "outputs": [],
   "source": [
    "# similar to ggplot2::geom_boxplot"
   ]
  },
  {
   "cell_type": "code",
   "execution_count": 343,
   "metadata": {},
   "outputs": [
    {
     "data": {
      "application/vnd.plotly.v1+json": {
       "config": {
        "linkText": "Export to plot.ly",
        "plotlyServerURL": "https://plot.ly",
        "showLink": false
       },
       "data": [
        {
         "alignmentgroup": "True",
         "hoverlabel": {
          "namelength": 0
         },
         "hovertemplate": "group=%{x}<br>y=%{y}",
         "legendgroup": "",
         "marker": {
          "color": "#636efa"
         },
         "name": "",
         "notched": false,
         "offsetgroup": "",
         "orientation": "v",
         "showlegend": false,
         "type": "box",
         "x": [
          "A",
          "A",
          "A",
          "A",
          "A",
          "A",
          "A",
          "A",
          "A",
          "A",
          "A",
          "A",
          "A",
          "A",
          "A",
          "A",
          "A",
          "A",
          "A",
          "A",
          "A",
          "A",
          "A",
          "A",
          "A",
          "A",
          "A",
          "A",
          "A",
          "A",
          "A",
          "A",
          "A",
          "A",
          "A",
          "A",
          "A",
          "A",
          "A",
          "A",
          "A",
          "A",
          "A",
          "A",
          "A",
          "A",
          "A",
          "A",
          "A",
          "A",
          "B",
          "B",
          "B",
          "B",
          "B",
          "B",
          "B",
          "B",
          "B",
          "B",
          "B",
          "B",
          "B",
          "B",
          "B",
          "B",
          "B",
          "B",
          "B",
          "B",
          "B",
          "B",
          "B",
          "B",
          "B",
          "B",
          "B",
          "B",
          "B",
          "B",
          "B",
          "B",
          "B",
          "B",
          "B",
          "B",
          "B",
          "B",
          "B",
          "B",
          "B",
          "B",
          "B",
          "B",
          "B",
          "B",
          "B",
          "B",
          "B",
          "B",
          "C",
          "C",
          "C",
          "C",
          "C",
          "C",
          "C",
          "C",
          "C",
          "C",
          "C",
          "C",
          "C",
          "C",
          "C",
          "C",
          "C",
          "C",
          "C",
          "C",
          "C",
          "C",
          "C",
          "C",
          "C",
          "C",
          "C",
          "C",
          "C",
          "C",
          "C",
          "C",
          "C",
          "C",
          "C",
          "C",
          "C",
          "C",
          "C",
          "C",
          "C",
          "C",
          "C",
          "C",
          "C",
          "C",
          "C",
          "C",
          "C",
          "C",
          "D",
          "D",
          "D",
          "D",
          "D",
          "D",
          "D",
          "D",
          "D",
          "D",
          "D",
          "D",
          "D",
          "D",
          "D",
          "D",
          "D",
          "D",
          "D",
          "D",
          "D",
          "D",
          "D",
          "D",
          "D",
          "D",
          "D",
          "D",
          "D",
          "D",
          "D",
          "D",
          "D",
          "D",
          "D",
          "D",
          "D",
          "D",
          "D",
          "D",
          "D",
          "D",
          "D",
          "D",
          "D",
          "D",
          "D",
          "D",
          "D",
          "D"
         ],
         "x0": " ",
         "xaxis": "x",
         "y": [
          3.639633968338619,
          -0.2535452757769867,
          0.693132730194409,
          3.536159483327719,
          0.18594576254770123,
          1.8953678851410563,
          1.38869170179541,
          1.5048902046561385,
          1.3450673345878001,
          4.665942955705107,
          3.500416001345053,
          2.1371078992921366,
          1.9462851383719775,
          4.233259589508735,
          -1.2008145960400118,
          3.8880154282533983,
          0.6963427700442585,
          2.195841406996615,
          1.8554619800482146,
          3.7299794230023497,
          2.9811455294840883,
          2.317965281361505,
          1.205160604360921,
          2.4007287348110067,
          3.046707107624779,
          1.5868235944588527,
          3.7208928307862954,
          4.869278428260831,
          0.17408622189484935,
          3.2482663722196854,
          2.5127661747710266,
          -0.16178228433256292,
          3.7914711652588142,
          2.430753060925585,
          0.9603458702367396,
          4.37125226920184,
          0.6878578375676627,
          2.018398298509555,
          3.8791829623151184,
          2.4838054590801875,
          2.0721653772055406,
          3.2081573415795503,
          2.5409839598225306,
          1.8373417717131937,
          -0.057947586292873776,
          1.2076003647364373,
          1.0446190552950658,
          1.5352532533320697,
          2.9288582251639825,
          2.860740925742132,
          2.884495881358384,
          0.7274572250665525,
          -0.3664553028749531,
          2.3342129017412208,
          1.1906979337564245,
          2.110585384033756,
          5.3786572933345225,
          2.9099959663927364,
          4.047328078980396,
          0.5286325743451705,
          4.570546581289342,
          1.8061729262360346,
          0.9778234827333567,
          0.3884976673564031,
          2.0011408904505315,
          3.5096760993690586,
          2.8328320754156926,
          3.3636685241663296,
          2.7715192310506853,
          0.12583224262630477,
          1.0541834039000002,
          0.7278080926535646,
          3.8427151249055633,
          2.8483057409352996,
          4.082355893715508,
          3.9828689947065294,
          3.8232478315009804,
          2.5646107356134906,
          4.556653834048836,
          3.361178302699357,
          4.788273819762924,
          3.929065315253301,
          2.1351031622960432,
          2.374275559195645,
          3.169413950143227,
          4.405744314995359,
          5.7465127834979475,
          1.513473080589536,
          5.413463699194541,
          3.7519515048872303,
          2.2375485759307865,
          4.455282862556301,
          2.0635969683796778,
          2.258723573508433,
          3.0328988012907203,
          4.870308954497705,
          2.3090312143424567,
          3.3723771286059008,
          1.4010381672514844,
          2.9884065465798617,
          4.780266561884151,
          3.604702292697425,
          3.6703304167147754,
          4.524329432848946,
          3.2210691165748595,
          3.261286462785005,
          2.3276575302043367,
          2.942895875543298,
          3.811999277872261,
          1.6012250590171884,
          2.8390006931499925,
          0.9515166245441748,
          1.7243559822194472,
          2.483351712313736,
          1.9340021845385174,
          3.95296771075287,
          5.011744882538471,
          5.360511411319198,
          0.9825859458469994,
          2.9237993557367052,
          2.5762441480802374,
          2.593214276921415,
          2.246389615815144,
          4.58263507248026,
          2.2700327733432526,
          3.132259703038707,
          3.42201090369724,
          1.755504578607895,
          3.092133731324741,
          0.5485891024866625,
          4.438481354122735,
          3.0597455435379346,
          2.344040176800318,
          4.300283524941419,
          3.3940518117910377,
          3.8394839075978644,
          3.4117375779020653,
          -0.15398810659537787,
          4.384870272762001,
          1.8863642139034327,
          2.6487552745699623,
          0.27665896626377573,
          4.276286439719917,
          5.030763323996369,
          0.3420592524454038,
          1.304168439239811,
          3.496299585589922,
          0.6255407937143431,
          2.2315428990503556,
          0.6074015422074666,
          2.356018179006885,
          0.5890321936920497,
          3.7636418731321677,
          1.9564026682473301,
          2.1369196482921273,
          2.756342701144238,
          1.364222294472559,
          1.6265817688154494,
          1.5914659257842223,
          1.7717498530283313,
          3.260633504335903,
          0.30612730819606804,
          3.8734321023630063,
          2.6941855299675956,
          1.7616470137824254,
          2.5832243302933544,
          0.4128238495490187,
          2.6505022910528333,
          3.049471705181432,
          3.6268731414452757,
          1.2598536485354837,
          1.1637216576487253,
          2.243165966297958,
          1.3408332964600653,
          1.3906463365428967,
          2.583835139481253,
          2.0584092929385087,
          1.5931143096022642,
          2.383732383598638,
          2.0263825377121822,
          2.8840506129341392,
          0.5928945345698534,
          3.6080579396267733,
          1.3315115681141978,
          2.3455181656689787,
          2.6042212593416156,
          4.87488770221779,
          3.550311688128678,
          3.321804403073113,
          2.4936428712834675,
          1.7669687728509702,
          0.5078001492877449,
          1.4071652312278315,
          2.5755240484223916,
          2.9562438468472294,
          0.4746892405295263,
          2.80075873903749,
          3.036955141245827,
          4.4807062812901535,
          1.758349360599789
         ],
         "y0": " ",
         "yaxis": "y"
        }
       ],
       "layout": {
        "boxmode": "group",
        "legend": {
         "tracegroupgap": 0
        },
        "margin": {
         "t": 60
        },
        "template": {
         "data": {
          "bar": [
           {
            "error_x": {
             "color": "#2a3f5f"
            },
            "error_y": {
             "color": "#2a3f5f"
            },
            "marker": {
             "line": {
              "color": "#E5ECF6",
              "width": 0.5
             }
            },
            "type": "bar"
           }
          ],
          "barpolar": [
           {
            "marker": {
             "line": {
              "color": "#E5ECF6",
              "width": 0.5
             }
            },
            "type": "barpolar"
           }
          ],
          "carpet": [
           {
            "aaxis": {
             "endlinecolor": "#2a3f5f",
             "gridcolor": "white",
             "linecolor": "white",
             "minorgridcolor": "white",
             "startlinecolor": "#2a3f5f"
            },
            "baxis": {
             "endlinecolor": "#2a3f5f",
             "gridcolor": "white",
             "linecolor": "white",
             "minorgridcolor": "white",
             "startlinecolor": "#2a3f5f"
            },
            "type": "carpet"
           }
          ],
          "choropleth": [
           {
            "colorbar": {
             "outlinewidth": 0,
             "ticks": ""
            },
            "type": "choropleth"
           }
          ],
          "contour": [
           {
            "colorbar": {
             "outlinewidth": 0,
             "ticks": ""
            },
            "colorscale": [
             [
              0,
              "#0d0887"
             ],
             [
              0.1111111111111111,
              "#46039f"
             ],
             [
              0.2222222222222222,
              "#7201a8"
             ],
             [
              0.3333333333333333,
              "#9c179e"
             ],
             [
              0.4444444444444444,
              "#bd3786"
             ],
             [
              0.5555555555555556,
              "#d8576b"
             ],
             [
              0.6666666666666666,
              "#ed7953"
             ],
             [
              0.7777777777777778,
              "#fb9f3a"
             ],
             [
              0.8888888888888888,
              "#fdca26"
             ],
             [
              1,
              "#f0f921"
             ]
            ],
            "type": "contour"
           }
          ],
          "contourcarpet": [
           {
            "colorbar": {
             "outlinewidth": 0,
             "ticks": ""
            },
            "type": "contourcarpet"
           }
          ],
          "heatmap": [
           {
            "colorbar": {
             "outlinewidth": 0,
             "ticks": ""
            },
            "colorscale": [
             [
              0,
              "#0d0887"
             ],
             [
              0.1111111111111111,
              "#46039f"
             ],
             [
              0.2222222222222222,
              "#7201a8"
             ],
             [
              0.3333333333333333,
              "#9c179e"
             ],
             [
              0.4444444444444444,
              "#bd3786"
             ],
             [
              0.5555555555555556,
              "#d8576b"
             ],
             [
              0.6666666666666666,
              "#ed7953"
             ],
             [
              0.7777777777777778,
              "#fb9f3a"
             ],
             [
              0.8888888888888888,
              "#fdca26"
             ],
             [
              1,
              "#f0f921"
             ]
            ],
            "type": "heatmap"
           }
          ],
          "heatmapgl": [
           {
            "colorbar": {
             "outlinewidth": 0,
             "ticks": ""
            },
            "colorscale": [
             [
              0,
              "#0d0887"
             ],
             [
              0.1111111111111111,
              "#46039f"
             ],
             [
              0.2222222222222222,
              "#7201a8"
             ],
             [
              0.3333333333333333,
              "#9c179e"
             ],
             [
              0.4444444444444444,
              "#bd3786"
             ],
             [
              0.5555555555555556,
              "#d8576b"
             ],
             [
              0.6666666666666666,
              "#ed7953"
             ],
             [
              0.7777777777777778,
              "#fb9f3a"
             ],
             [
              0.8888888888888888,
              "#fdca26"
             ],
             [
              1,
              "#f0f921"
             ]
            ],
            "type": "heatmapgl"
           }
          ],
          "histogram": [
           {
            "marker": {
             "colorbar": {
              "outlinewidth": 0,
              "ticks": ""
             }
            },
            "type": "histogram"
           }
          ],
          "histogram2d": [
           {
            "colorbar": {
             "outlinewidth": 0,
             "ticks": ""
            },
            "colorscale": [
             [
              0,
              "#0d0887"
             ],
             [
              0.1111111111111111,
              "#46039f"
             ],
             [
              0.2222222222222222,
              "#7201a8"
             ],
             [
              0.3333333333333333,
              "#9c179e"
             ],
             [
              0.4444444444444444,
              "#bd3786"
             ],
             [
              0.5555555555555556,
              "#d8576b"
             ],
             [
              0.6666666666666666,
              "#ed7953"
             ],
             [
              0.7777777777777778,
              "#fb9f3a"
             ],
             [
              0.8888888888888888,
              "#fdca26"
             ],
             [
              1,
              "#f0f921"
             ]
            ],
            "type": "histogram2d"
           }
          ],
          "histogram2dcontour": [
           {
            "colorbar": {
             "outlinewidth": 0,
             "ticks": ""
            },
            "colorscale": [
             [
              0,
              "#0d0887"
             ],
             [
              0.1111111111111111,
              "#46039f"
             ],
             [
              0.2222222222222222,
              "#7201a8"
             ],
             [
              0.3333333333333333,
              "#9c179e"
             ],
             [
              0.4444444444444444,
              "#bd3786"
             ],
             [
              0.5555555555555556,
              "#d8576b"
             ],
             [
              0.6666666666666666,
              "#ed7953"
             ],
             [
              0.7777777777777778,
              "#fb9f3a"
             ],
             [
              0.8888888888888888,
              "#fdca26"
             ],
             [
              1,
              "#f0f921"
             ]
            ],
            "type": "histogram2dcontour"
           }
          ],
          "mesh3d": [
           {
            "colorbar": {
             "outlinewidth": 0,
             "ticks": ""
            },
            "type": "mesh3d"
           }
          ],
          "parcoords": [
           {
            "line": {
             "colorbar": {
              "outlinewidth": 0,
              "ticks": ""
             }
            },
            "type": "parcoords"
           }
          ],
          "pie": [
           {
            "automargin": true,
            "type": "pie"
           }
          ],
          "scatter": [
           {
            "marker": {
             "colorbar": {
              "outlinewidth": 0,
              "ticks": ""
             }
            },
            "type": "scatter"
           }
          ],
          "scatter3d": [
           {
            "line": {
             "colorbar": {
              "outlinewidth": 0,
              "ticks": ""
             }
            },
            "marker": {
             "colorbar": {
              "outlinewidth": 0,
              "ticks": ""
             }
            },
            "type": "scatter3d"
           }
          ],
          "scattercarpet": [
           {
            "marker": {
             "colorbar": {
              "outlinewidth": 0,
              "ticks": ""
             }
            },
            "type": "scattercarpet"
           }
          ],
          "scattergeo": [
           {
            "marker": {
             "colorbar": {
              "outlinewidth": 0,
              "ticks": ""
             }
            },
            "type": "scattergeo"
           }
          ],
          "scattergl": [
           {
            "marker": {
             "colorbar": {
              "outlinewidth": 0,
              "ticks": ""
             }
            },
            "type": "scattergl"
           }
          ],
          "scattermapbox": [
           {
            "marker": {
             "colorbar": {
              "outlinewidth": 0,
              "ticks": ""
             }
            },
            "type": "scattermapbox"
           }
          ],
          "scatterpolar": [
           {
            "marker": {
             "colorbar": {
              "outlinewidth": 0,
              "ticks": ""
             }
            },
            "type": "scatterpolar"
           }
          ],
          "scatterpolargl": [
           {
            "marker": {
             "colorbar": {
              "outlinewidth": 0,
              "ticks": ""
             }
            },
            "type": "scatterpolargl"
           }
          ],
          "scatterternary": [
           {
            "marker": {
             "colorbar": {
              "outlinewidth": 0,
              "ticks": ""
             }
            },
            "type": "scatterternary"
           }
          ],
          "surface": [
           {
            "colorbar": {
             "outlinewidth": 0,
             "ticks": ""
            },
            "colorscale": [
             [
              0,
              "#0d0887"
             ],
             [
              0.1111111111111111,
              "#46039f"
             ],
             [
              0.2222222222222222,
              "#7201a8"
             ],
             [
              0.3333333333333333,
              "#9c179e"
             ],
             [
              0.4444444444444444,
              "#bd3786"
             ],
             [
              0.5555555555555556,
              "#d8576b"
             ],
             [
              0.6666666666666666,
              "#ed7953"
             ],
             [
              0.7777777777777778,
              "#fb9f3a"
             ],
             [
              0.8888888888888888,
              "#fdca26"
             ],
             [
              1,
              "#f0f921"
             ]
            ],
            "type": "surface"
           }
          ],
          "table": [
           {
            "cells": {
             "fill": {
              "color": "#EBF0F8"
             },
             "line": {
              "color": "white"
             }
            },
            "header": {
             "fill": {
              "color": "#C8D4E3"
             },
             "line": {
              "color": "white"
             }
            },
            "type": "table"
           }
          ]
         },
         "layout": {
          "annotationdefaults": {
           "arrowcolor": "#2a3f5f",
           "arrowhead": 0,
           "arrowwidth": 1
          },
          "coloraxis": {
           "colorbar": {
            "outlinewidth": 0,
            "ticks": ""
           }
          },
          "colorscale": {
           "diverging": [
            [
             0,
             "#8e0152"
            ],
            [
             0.1,
             "#c51b7d"
            ],
            [
             0.2,
             "#de77ae"
            ],
            [
             0.3,
             "#f1b6da"
            ],
            [
             0.4,
             "#fde0ef"
            ],
            [
             0.5,
             "#f7f7f7"
            ],
            [
             0.6,
             "#e6f5d0"
            ],
            [
             0.7,
             "#b8e186"
            ],
            [
             0.8,
             "#7fbc41"
            ],
            [
             0.9,
             "#4d9221"
            ],
            [
             1,
             "#276419"
            ]
           ],
           "sequential": [
            [
             0,
             "#0d0887"
            ],
            [
             0.1111111111111111,
             "#46039f"
            ],
            [
             0.2222222222222222,
             "#7201a8"
            ],
            [
             0.3333333333333333,
             "#9c179e"
            ],
            [
             0.4444444444444444,
             "#bd3786"
            ],
            [
             0.5555555555555556,
             "#d8576b"
            ],
            [
             0.6666666666666666,
             "#ed7953"
            ],
            [
             0.7777777777777778,
             "#fb9f3a"
            ],
            [
             0.8888888888888888,
             "#fdca26"
            ],
            [
             1,
             "#f0f921"
            ]
           ],
           "sequentialminus": [
            [
             0,
             "#0d0887"
            ],
            [
             0.1111111111111111,
             "#46039f"
            ],
            [
             0.2222222222222222,
             "#7201a8"
            ],
            [
             0.3333333333333333,
             "#9c179e"
            ],
            [
             0.4444444444444444,
             "#bd3786"
            ],
            [
             0.5555555555555556,
             "#d8576b"
            ],
            [
             0.6666666666666666,
             "#ed7953"
            ],
            [
             0.7777777777777778,
             "#fb9f3a"
            ],
            [
             0.8888888888888888,
             "#fdca26"
            ],
            [
             1,
             "#f0f921"
            ]
           ]
          },
          "colorway": [
           "#636efa",
           "#EF553B",
           "#00cc96",
           "#ab63fa",
           "#FFA15A",
           "#19d3f3",
           "#FF6692",
           "#B6E880",
           "#FF97FF",
           "#FECB52"
          ],
          "font": {
           "color": "#2a3f5f"
          },
          "geo": {
           "bgcolor": "white",
           "lakecolor": "white",
           "landcolor": "#E5ECF6",
           "showlakes": true,
           "showland": true,
           "subunitcolor": "white"
          },
          "hoverlabel": {
           "align": "left"
          },
          "hovermode": "closest",
          "mapbox": {
           "style": "light"
          },
          "paper_bgcolor": "white",
          "plot_bgcolor": "#E5ECF6",
          "polar": {
           "angularaxis": {
            "gridcolor": "white",
            "linecolor": "white",
            "ticks": ""
           },
           "bgcolor": "#E5ECF6",
           "radialaxis": {
            "gridcolor": "white",
            "linecolor": "white",
            "ticks": ""
           }
          },
          "scene": {
           "xaxis": {
            "backgroundcolor": "#E5ECF6",
            "gridcolor": "white",
            "gridwidth": 2,
            "linecolor": "white",
            "showbackground": true,
            "ticks": "",
            "zerolinecolor": "white"
           },
           "yaxis": {
            "backgroundcolor": "#E5ECF6",
            "gridcolor": "white",
            "gridwidth": 2,
            "linecolor": "white",
            "showbackground": true,
            "ticks": "",
            "zerolinecolor": "white"
           },
           "zaxis": {
            "backgroundcolor": "#E5ECF6",
            "gridcolor": "white",
            "gridwidth": 2,
            "linecolor": "white",
            "showbackground": true,
            "ticks": "",
            "zerolinecolor": "white"
           }
          },
          "shapedefaults": {
           "line": {
            "color": "#2a3f5f"
           }
          },
          "ternary": {
           "aaxis": {
            "gridcolor": "white",
            "linecolor": "white",
            "ticks": ""
           },
           "baxis": {
            "gridcolor": "white",
            "linecolor": "white",
            "ticks": ""
           },
           "bgcolor": "#E5ECF6",
           "caxis": {
            "gridcolor": "white",
            "linecolor": "white",
            "ticks": ""
           }
          },
          "title": {
           "x": 0.05
          },
          "xaxis": {
           "automargin": true,
           "gridcolor": "white",
           "linecolor": "white",
           "ticks": "",
           "title": {
            "standoff": 15
           },
           "zerolinecolor": "white",
           "zerolinewidth": 2
          },
          "yaxis": {
           "automargin": true,
           "gridcolor": "white",
           "linecolor": "white",
           "ticks": "",
           "title": {
            "standoff": 15
           },
           "zerolinecolor": "white",
           "zerolinewidth": 2
          }
         }
        },
        "xaxis": {
         "anchor": "y",
         "domain": [
          0,
          1
         ],
         "title": {
          "text": "group"
         }
        },
        "yaxis": {
         "anchor": "x",
         "domain": [
          0,
          1
         ],
         "title": {
          "text": "y"
         }
        }
       }
      },
      "text/html": [
       "<div>\n",
       "        \n",
       "        \n",
       "            <div id=\"c1205fd2-e103-440a-b815-f192c4d610f1\" class=\"plotly-graph-div\" style=\"height:525px; width:100%;\"></div>\n",
       "            <script type=\"text/javascript\">\n",
       "                require([\"plotly\"], function(Plotly) {\n",
       "                    window.PLOTLYENV=window.PLOTLYENV || {};\n",
       "                    \n",
       "                if (document.getElementById(\"c1205fd2-e103-440a-b815-f192c4d610f1\")) {\n",
       "                    Plotly.newPlot(\n",
       "                        'c1205fd2-e103-440a-b815-f192c4d610f1',\n",
       "                        [{\"alignmentgroup\": \"True\", \"hoverlabel\": {\"namelength\": 0}, \"hovertemplate\": \"group=%{x}<br>y=%{y}\", \"legendgroup\": \"\", \"marker\": {\"color\": \"#636efa\"}, \"name\": \"\", \"notched\": false, \"offsetgroup\": \"\", \"orientation\": \"v\", \"showlegend\": false, \"type\": \"box\", \"x\": [\"A\", \"A\", \"A\", \"A\", \"A\", \"A\", \"A\", \"A\", \"A\", \"A\", \"A\", \"A\", \"A\", \"A\", \"A\", \"A\", \"A\", \"A\", \"A\", \"A\", \"A\", \"A\", \"A\", \"A\", \"A\", \"A\", \"A\", \"A\", \"A\", \"A\", \"A\", \"A\", \"A\", \"A\", \"A\", \"A\", \"A\", \"A\", \"A\", \"A\", \"A\", \"A\", \"A\", \"A\", \"A\", \"A\", \"A\", \"A\", \"A\", \"A\", \"B\", \"B\", \"B\", \"B\", \"B\", \"B\", \"B\", \"B\", \"B\", \"B\", \"B\", \"B\", \"B\", \"B\", \"B\", \"B\", \"B\", \"B\", \"B\", \"B\", \"B\", \"B\", \"B\", \"B\", \"B\", \"B\", \"B\", \"B\", \"B\", \"B\", \"B\", \"B\", \"B\", \"B\", \"B\", \"B\", \"B\", \"B\", \"B\", \"B\", \"B\", \"B\", \"B\", \"B\", \"B\", \"B\", \"B\", \"B\", \"B\", \"B\", \"C\", \"C\", \"C\", \"C\", \"C\", \"C\", \"C\", \"C\", \"C\", \"C\", \"C\", \"C\", \"C\", \"C\", \"C\", \"C\", \"C\", \"C\", \"C\", \"C\", \"C\", \"C\", \"C\", \"C\", \"C\", \"C\", \"C\", \"C\", \"C\", \"C\", \"C\", \"C\", \"C\", \"C\", \"C\", \"C\", \"C\", \"C\", \"C\", \"C\", \"C\", \"C\", \"C\", \"C\", \"C\", \"C\", \"C\", \"C\", \"C\", \"C\", \"D\", \"D\", \"D\", \"D\", \"D\", \"D\", \"D\", \"D\", \"D\", \"D\", \"D\", \"D\", \"D\", \"D\", \"D\", \"D\", \"D\", \"D\", \"D\", \"D\", \"D\", \"D\", \"D\", \"D\", \"D\", \"D\", \"D\", \"D\", \"D\", \"D\", \"D\", \"D\", \"D\", \"D\", \"D\", \"D\", \"D\", \"D\", \"D\", \"D\", \"D\", \"D\", \"D\", \"D\", \"D\", \"D\", \"D\", \"D\", \"D\", \"D\"], \"x0\": \" \", \"xaxis\": \"x\", \"y\": [3.639633968338619, -0.2535452757769867, 0.693132730194409, 3.536159483327719, 0.18594576254770123, 1.8953678851410563, 1.38869170179541, 1.5048902046561385, 1.3450673345878001, 4.665942955705107, 3.500416001345053, 2.1371078992921366, 1.9462851383719775, 4.233259589508735, -1.2008145960400118, 3.8880154282533983, 0.6963427700442585, 2.195841406996615, 1.8554619800482146, 3.7299794230023497, 2.9811455294840883, 2.317965281361505, 1.205160604360921, 2.4007287348110067, 3.046707107624779, 1.5868235944588527, 3.7208928307862954, 4.869278428260831, 0.17408622189484935, 3.2482663722196854, 2.5127661747710266, -0.16178228433256292, 3.7914711652588142, 2.430753060925585, 0.9603458702367396, 4.37125226920184, 0.6878578375676627, 2.018398298509555, 3.8791829623151184, 2.4838054590801875, 2.0721653772055406, 3.2081573415795503, 2.5409839598225306, 1.8373417717131937, -0.057947586292873776, 1.2076003647364373, 1.0446190552950658, 1.5352532533320697, 2.9288582251639825, 2.860740925742132, 2.884495881358384, 0.7274572250665525, -0.3664553028749531, 2.3342129017412208, 1.1906979337564245, 2.110585384033756, 5.3786572933345225, 2.9099959663927364, 4.047328078980396, 0.5286325743451705, 4.570546581289342, 1.8061729262360346, 0.9778234827333567, 0.3884976673564031, 2.0011408904505315, 3.5096760993690586, 2.8328320754156926, 3.3636685241663296, 2.7715192310506853, 0.12583224262630477, 1.0541834039000002, 0.7278080926535646, 3.8427151249055633, 2.8483057409352996, 4.082355893715508, 3.9828689947065294, 3.8232478315009804, 2.5646107356134906, 4.556653834048836, 3.361178302699357, 4.788273819762924, 3.929065315253301, 2.1351031622960432, 2.374275559195645, 3.169413950143227, 4.405744314995359, 5.7465127834979475, 1.513473080589536, 5.413463699194541, 3.7519515048872303, 2.2375485759307865, 4.455282862556301, 2.0635969683796778, 2.258723573508433, 3.0328988012907203, 4.870308954497705, 2.3090312143424567, 3.3723771286059008, 1.4010381672514844, 2.9884065465798617, 4.780266561884151, 3.604702292697425, 3.6703304167147754, 4.524329432848946, 3.2210691165748595, 3.261286462785005, 2.3276575302043367, 2.942895875543298, 3.811999277872261, 1.6012250590171884, 2.8390006931499925, 0.9515166245441748, 1.7243559822194472, 2.483351712313736, 1.9340021845385174, 3.95296771075287, 5.011744882538471, 5.360511411319198, 0.9825859458469994, 2.9237993557367052, 2.5762441480802374, 2.593214276921415, 2.246389615815144, 4.58263507248026, 2.2700327733432526, 3.132259703038707, 3.42201090369724, 1.755504578607895, 3.092133731324741, 0.5485891024866625, 4.438481354122735, 3.0597455435379346, 2.344040176800318, 4.300283524941419, 3.3940518117910377, 3.8394839075978644, 3.4117375779020653, -0.15398810659537787, 4.384870272762001, 1.8863642139034327, 2.6487552745699623, 0.27665896626377573, 4.276286439719917, 5.030763323996369, 0.3420592524454038, 1.304168439239811, 3.496299585589922, 0.6255407937143431, 2.2315428990503556, 0.6074015422074666, 2.356018179006885, 0.5890321936920497, 3.7636418731321677, 1.9564026682473301, 2.1369196482921273, 2.756342701144238, 1.364222294472559, 1.6265817688154494, 1.5914659257842223, 1.7717498530283313, 3.260633504335903, 0.30612730819606804, 3.8734321023630063, 2.6941855299675956, 1.7616470137824254, 2.5832243302933544, 0.4128238495490187, 2.6505022910528333, 3.049471705181432, 3.6268731414452757, 1.2598536485354837, 1.1637216576487253, 2.243165966297958, 1.3408332964600653, 1.3906463365428967, 2.583835139481253, 2.0584092929385087, 1.5931143096022642, 2.383732383598638, 2.0263825377121822, 2.8840506129341392, 0.5928945345698534, 3.6080579396267733, 1.3315115681141978, 2.3455181656689787, 2.6042212593416156, 4.87488770221779, 3.550311688128678, 3.321804403073113, 2.4936428712834675, 1.7669687728509702, 0.5078001492877449, 1.4071652312278315, 2.5755240484223916, 2.9562438468472294, 0.4746892405295263, 2.80075873903749, 3.036955141245827, 4.4807062812901535, 1.758349360599789], \"y0\": \" \", \"yaxis\": \"y\"}],\n",
       "                        {\"boxmode\": \"group\", \"legend\": {\"tracegroupgap\": 0}, \"margin\": {\"t\": 60}, \"template\": {\"data\": {\"bar\": [{\"error_x\": {\"color\": \"#2a3f5f\"}, \"error_y\": {\"color\": \"#2a3f5f\"}, \"marker\": {\"line\": {\"color\": \"#E5ECF6\", \"width\": 0.5}}, \"type\": \"bar\"}], \"barpolar\": [{\"marker\": {\"line\": {\"color\": \"#E5ECF6\", \"width\": 0.5}}, \"type\": \"barpolar\"}], \"carpet\": [{\"aaxis\": {\"endlinecolor\": \"#2a3f5f\", \"gridcolor\": \"white\", \"linecolor\": \"white\", \"minorgridcolor\": \"white\", \"startlinecolor\": \"#2a3f5f\"}, \"baxis\": {\"endlinecolor\": \"#2a3f5f\", \"gridcolor\": \"white\", \"linecolor\": \"white\", \"minorgridcolor\": \"white\", \"startlinecolor\": \"#2a3f5f\"}, \"type\": \"carpet\"}], \"choropleth\": [{\"colorbar\": {\"outlinewidth\": 0, \"ticks\": \"\"}, \"type\": \"choropleth\"}], \"contour\": [{\"colorbar\": {\"outlinewidth\": 0, \"ticks\": \"\"}, \"colorscale\": [[0.0, \"#0d0887\"], [0.1111111111111111, \"#46039f\"], [0.2222222222222222, \"#7201a8\"], [0.3333333333333333, \"#9c179e\"], [0.4444444444444444, \"#bd3786\"], [0.5555555555555556, \"#d8576b\"], [0.6666666666666666, \"#ed7953\"], [0.7777777777777778, \"#fb9f3a\"], [0.8888888888888888, \"#fdca26\"], [1.0, \"#f0f921\"]], \"type\": \"contour\"}], \"contourcarpet\": [{\"colorbar\": {\"outlinewidth\": 0, \"ticks\": \"\"}, \"type\": \"contourcarpet\"}], \"heatmap\": [{\"colorbar\": {\"outlinewidth\": 0, \"ticks\": \"\"}, \"colorscale\": [[0.0, \"#0d0887\"], [0.1111111111111111, \"#46039f\"], [0.2222222222222222, \"#7201a8\"], [0.3333333333333333, \"#9c179e\"], [0.4444444444444444, \"#bd3786\"], [0.5555555555555556, \"#d8576b\"], [0.6666666666666666, \"#ed7953\"], [0.7777777777777778, \"#fb9f3a\"], [0.8888888888888888, \"#fdca26\"], [1.0, \"#f0f921\"]], \"type\": \"heatmap\"}], \"heatmapgl\": [{\"colorbar\": {\"outlinewidth\": 0, \"ticks\": \"\"}, \"colorscale\": [[0.0, \"#0d0887\"], [0.1111111111111111, \"#46039f\"], [0.2222222222222222, \"#7201a8\"], [0.3333333333333333, \"#9c179e\"], [0.4444444444444444, \"#bd3786\"], [0.5555555555555556, \"#d8576b\"], [0.6666666666666666, \"#ed7953\"], [0.7777777777777778, \"#fb9f3a\"], [0.8888888888888888, \"#fdca26\"], [1.0, \"#f0f921\"]], \"type\": \"heatmapgl\"}], \"histogram\": [{\"marker\": {\"colorbar\": {\"outlinewidth\": 0, \"ticks\": \"\"}}, \"type\": \"histogram\"}], \"histogram2d\": [{\"colorbar\": {\"outlinewidth\": 0, \"ticks\": \"\"}, \"colorscale\": [[0.0, \"#0d0887\"], [0.1111111111111111, \"#46039f\"], [0.2222222222222222, \"#7201a8\"], [0.3333333333333333, \"#9c179e\"], [0.4444444444444444, \"#bd3786\"], [0.5555555555555556, \"#d8576b\"], [0.6666666666666666, \"#ed7953\"], [0.7777777777777778, \"#fb9f3a\"], [0.8888888888888888, \"#fdca26\"], [1.0, \"#f0f921\"]], \"type\": \"histogram2d\"}], \"histogram2dcontour\": [{\"colorbar\": {\"outlinewidth\": 0, \"ticks\": \"\"}, \"colorscale\": [[0.0, \"#0d0887\"], [0.1111111111111111, \"#46039f\"], [0.2222222222222222, \"#7201a8\"], [0.3333333333333333, \"#9c179e\"], [0.4444444444444444, \"#bd3786\"], [0.5555555555555556, \"#d8576b\"], [0.6666666666666666, \"#ed7953\"], [0.7777777777777778, \"#fb9f3a\"], [0.8888888888888888, \"#fdca26\"], [1.0, \"#f0f921\"]], \"type\": \"histogram2dcontour\"}], \"mesh3d\": [{\"colorbar\": {\"outlinewidth\": 0, \"ticks\": \"\"}, \"type\": \"mesh3d\"}], \"parcoords\": [{\"line\": {\"colorbar\": {\"outlinewidth\": 0, \"ticks\": \"\"}}, \"type\": \"parcoords\"}], \"pie\": [{\"automargin\": true, \"type\": \"pie\"}], \"scatter\": [{\"marker\": {\"colorbar\": {\"outlinewidth\": 0, \"ticks\": \"\"}}, \"type\": \"scatter\"}], \"scatter3d\": [{\"line\": {\"colorbar\": {\"outlinewidth\": 0, \"ticks\": \"\"}}, \"marker\": {\"colorbar\": {\"outlinewidth\": 0, \"ticks\": \"\"}}, \"type\": \"scatter3d\"}], \"scattercarpet\": [{\"marker\": {\"colorbar\": {\"outlinewidth\": 0, \"ticks\": \"\"}}, \"type\": \"scattercarpet\"}], \"scattergeo\": [{\"marker\": {\"colorbar\": {\"outlinewidth\": 0, \"ticks\": \"\"}}, \"type\": \"scattergeo\"}], \"scattergl\": [{\"marker\": {\"colorbar\": {\"outlinewidth\": 0, \"ticks\": \"\"}}, \"type\": \"scattergl\"}], \"scattermapbox\": [{\"marker\": {\"colorbar\": {\"outlinewidth\": 0, \"ticks\": \"\"}}, \"type\": \"scattermapbox\"}], \"scatterpolar\": [{\"marker\": {\"colorbar\": {\"outlinewidth\": 0, \"ticks\": \"\"}}, \"type\": \"scatterpolar\"}], \"scatterpolargl\": [{\"marker\": {\"colorbar\": {\"outlinewidth\": 0, \"ticks\": \"\"}}, \"type\": \"scatterpolargl\"}], \"scatterternary\": [{\"marker\": {\"colorbar\": {\"outlinewidth\": 0, \"ticks\": \"\"}}, \"type\": \"scatterternary\"}], \"surface\": [{\"colorbar\": {\"outlinewidth\": 0, \"ticks\": \"\"}, \"colorscale\": [[0.0, \"#0d0887\"], [0.1111111111111111, \"#46039f\"], [0.2222222222222222, \"#7201a8\"], [0.3333333333333333, \"#9c179e\"], [0.4444444444444444, \"#bd3786\"], [0.5555555555555556, \"#d8576b\"], [0.6666666666666666, \"#ed7953\"], [0.7777777777777778, \"#fb9f3a\"], [0.8888888888888888, \"#fdca26\"], [1.0, \"#f0f921\"]], \"type\": \"surface\"}], \"table\": [{\"cells\": {\"fill\": {\"color\": \"#EBF0F8\"}, \"line\": {\"color\": \"white\"}}, \"header\": {\"fill\": {\"color\": \"#C8D4E3\"}, \"line\": {\"color\": \"white\"}}, \"type\": \"table\"}]}, \"layout\": {\"annotationdefaults\": {\"arrowcolor\": \"#2a3f5f\", \"arrowhead\": 0, \"arrowwidth\": 1}, \"coloraxis\": {\"colorbar\": {\"outlinewidth\": 0, \"ticks\": \"\"}}, \"colorscale\": {\"diverging\": [[0, \"#8e0152\"], [0.1, \"#c51b7d\"], [0.2, \"#de77ae\"], [0.3, \"#f1b6da\"], [0.4, \"#fde0ef\"], [0.5, \"#f7f7f7\"], [0.6, \"#e6f5d0\"], [0.7, \"#b8e186\"], [0.8, \"#7fbc41\"], [0.9, \"#4d9221\"], [1, \"#276419\"]], \"sequential\": [[0.0, \"#0d0887\"], [0.1111111111111111, \"#46039f\"], [0.2222222222222222, \"#7201a8\"], [0.3333333333333333, \"#9c179e\"], [0.4444444444444444, \"#bd3786\"], [0.5555555555555556, \"#d8576b\"], [0.6666666666666666, \"#ed7953\"], [0.7777777777777778, \"#fb9f3a\"], [0.8888888888888888, \"#fdca26\"], [1.0, \"#f0f921\"]], \"sequentialminus\": [[0.0, \"#0d0887\"], [0.1111111111111111, \"#46039f\"], [0.2222222222222222, \"#7201a8\"], [0.3333333333333333, \"#9c179e\"], [0.4444444444444444, \"#bd3786\"], [0.5555555555555556, \"#d8576b\"], [0.6666666666666666, \"#ed7953\"], [0.7777777777777778, \"#fb9f3a\"], [0.8888888888888888, \"#fdca26\"], [1.0, \"#f0f921\"]]}, \"colorway\": [\"#636efa\", \"#EF553B\", \"#00cc96\", \"#ab63fa\", \"#FFA15A\", \"#19d3f3\", \"#FF6692\", \"#B6E880\", \"#FF97FF\", \"#FECB52\"], \"font\": {\"color\": \"#2a3f5f\"}, \"geo\": {\"bgcolor\": \"white\", \"lakecolor\": \"white\", \"landcolor\": \"#E5ECF6\", \"showlakes\": true, \"showland\": true, \"subunitcolor\": \"white\"}, \"hoverlabel\": {\"align\": \"left\"}, \"hovermode\": \"closest\", \"mapbox\": {\"style\": \"light\"}, \"paper_bgcolor\": \"white\", \"plot_bgcolor\": \"#E5ECF6\", \"polar\": {\"angularaxis\": {\"gridcolor\": \"white\", \"linecolor\": \"white\", \"ticks\": \"\"}, \"bgcolor\": \"#E5ECF6\", \"radialaxis\": {\"gridcolor\": \"white\", \"linecolor\": \"white\", \"ticks\": \"\"}}, \"scene\": {\"xaxis\": {\"backgroundcolor\": \"#E5ECF6\", \"gridcolor\": \"white\", \"gridwidth\": 2, \"linecolor\": \"white\", \"showbackground\": true, \"ticks\": \"\", \"zerolinecolor\": \"white\"}, \"yaxis\": {\"backgroundcolor\": \"#E5ECF6\", \"gridcolor\": \"white\", \"gridwidth\": 2, \"linecolor\": \"white\", \"showbackground\": true, \"ticks\": \"\", \"zerolinecolor\": \"white\"}, \"zaxis\": {\"backgroundcolor\": \"#E5ECF6\", \"gridcolor\": \"white\", \"gridwidth\": 2, \"linecolor\": \"white\", \"showbackground\": true, \"ticks\": \"\", \"zerolinecolor\": \"white\"}}, \"shapedefaults\": {\"line\": {\"color\": \"#2a3f5f\"}}, \"ternary\": {\"aaxis\": {\"gridcolor\": \"white\", \"linecolor\": \"white\", \"ticks\": \"\"}, \"baxis\": {\"gridcolor\": \"white\", \"linecolor\": \"white\", \"ticks\": \"\"}, \"bgcolor\": \"#E5ECF6\", \"caxis\": {\"gridcolor\": \"white\", \"linecolor\": \"white\", \"ticks\": \"\"}}, \"title\": {\"x\": 0.05}, \"xaxis\": {\"automargin\": true, \"gridcolor\": \"white\", \"linecolor\": \"white\", \"ticks\": \"\", \"title\": {\"standoff\": 15}, \"zerolinecolor\": \"white\", \"zerolinewidth\": 2}, \"yaxis\": {\"automargin\": true, \"gridcolor\": \"white\", \"linecolor\": \"white\", \"ticks\": \"\", \"title\": {\"standoff\": 15}, \"zerolinecolor\": \"white\", \"zerolinewidth\": 2}}}, \"xaxis\": {\"anchor\": \"y\", \"domain\": [0.0, 1.0], \"title\": {\"text\": \"group\"}}, \"yaxis\": {\"anchor\": \"x\", \"domain\": [0.0, 1.0], \"title\": {\"text\": \"y\"}}},\n",
       "                        {\"responsive\": true}\n",
       "                    ).then(function(){\n",
       "                            \n",
       "var gd = document.getElementById('c1205fd2-e103-440a-b815-f192c4d610f1');\n",
       "var x = new MutationObserver(function (mutations, observer) {{\n",
       "        var display = window.getComputedStyle(gd).display;\n",
       "        if (!display || display === 'none') {{\n",
       "            console.log([gd, 'removed!']);\n",
       "            Plotly.purge(gd);\n",
       "            observer.disconnect();\n",
       "        }}\n",
       "}});\n",
       "\n",
       "// Listen for the removal of the full notebook cells\n",
       "var notebookContainer = gd.closest('#notebook-container');\n",
       "if (notebookContainer) {{\n",
       "    x.observe(notebookContainer, {childList: true});\n",
       "}}\n",
       "\n",
       "// Listen for the clearing of the current output cell\n",
       "var outputEl = gd.closest('.output');\n",
       "if (outputEl) {{\n",
       "    x.observe(outputEl, {childList: true});\n",
       "}}\n",
       "\n",
       "                        })\n",
       "                };\n",
       "                });\n",
       "            </script>\n",
       "        </div>"
      ]
     },
     "metadata": {},
     "output_type": "display_data"
    }
   ],
   "source": [
    "# boxplots of y by group\n",
    "plotly.offline.iplot(\n",
    "    plotly.express.box(data1, x = \"group\", y = \"y\")\n",
    ")"
   ]
  },
  {
   "cell_type": "code",
   "execution_count": 344,
   "metadata": {},
   "outputs": [
    {
     "data": {
      "application/vnd.plotly.v1+json": {
       "config": {
        "linkText": "Export to plot.ly",
        "plotlyServerURL": "https://plot.ly",
        "showLink": false
       },
       "data": [
        {
         "alignmentgroup": "True",
         "hoverlabel": {
          "namelength": 0
         },
         "hovertemplate": "group=%{x}<br>x=%{y}",
         "legendgroup": "",
         "marker": {
          "color": "#636efa"
         },
         "name": "",
         "notched": false,
         "offsetgroup": "",
         "orientation": "v",
         "showlegend": false,
         "type": "box",
         "x": [
          "A",
          "A",
          "A",
          "A",
          "A",
          "A",
          "A",
          "A",
          "A",
          "A",
          "A",
          "A",
          "A",
          "A",
          "A",
          "A",
          "A",
          "A",
          "A",
          "A",
          "A",
          "A",
          "A",
          "A",
          "A",
          "A",
          "A",
          "A",
          "A",
          "A",
          "A",
          "A",
          "A",
          "A",
          "A",
          "A",
          "A",
          "A",
          "A",
          "A",
          "A",
          "A",
          "A",
          "A",
          "A",
          "A",
          "A",
          "A",
          "A",
          "A",
          "B",
          "B",
          "B",
          "B",
          "B",
          "B",
          "B",
          "B",
          "B",
          "B",
          "B",
          "B",
          "B",
          "B",
          "B",
          "B",
          "B",
          "B",
          "B",
          "B",
          "B",
          "B",
          "B",
          "B",
          "B",
          "B",
          "B",
          "B",
          "B",
          "B",
          "B",
          "B",
          "B",
          "B",
          "B",
          "B",
          "B",
          "B",
          "B",
          "B",
          "B",
          "B",
          "B",
          "B",
          "B",
          "B",
          "B",
          "B",
          "B",
          "B",
          "C",
          "C",
          "C",
          "C",
          "C",
          "C",
          "C",
          "C",
          "C",
          "C",
          "C",
          "C",
          "C",
          "C",
          "C",
          "C",
          "C",
          "C",
          "C",
          "C",
          "C",
          "C",
          "C",
          "C",
          "C",
          "C",
          "C",
          "C",
          "C",
          "C",
          "C",
          "C",
          "C",
          "C",
          "C",
          "C",
          "C",
          "C",
          "C",
          "C",
          "C",
          "C",
          "C",
          "C",
          "C",
          "C",
          "C",
          "C",
          "C",
          "C",
          "D",
          "D",
          "D",
          "D",
          "D",
          "D",
          "D",
          "D",
          "D",
          "D",
          "D",
          "D",
          "D",
          "D",
          "D",
          "D",
          "D",
          "D",
          "D",
          "D",
          "D",
          "D",
          "D",
          "D",
          "D",
          "D",
          "D",
          "D",
          "D",
          "D",
          "D",
          "D",
          "D",
          "D",
          "D",
          "D",
          "D",
          "D",
          "D",
          "D",
          "D",
          "D",
          "D",
          "D",
          "D",
          "D",
          "D",
          "D",
          "D",
          "D"
         ],
         "x0": " ",
         "xaxis": "x",
         "y": [
          3.704314014721918,
          2.3104629062531883,
          2.8563723825995213,
          3.6083737822367787,
          1.490911152662311,
          3.6896427371057254,
          2.7530219096056614,
          4.032651146542533,
          0.34980821484960156,
          3.909161783204173,
          4.278917775403523,
          2.524709001055272,
          2.6531320899512942,
          3.650388465499863,
          1.9382428266519445,
          3.4911982280370535,
          2.100387922988501,
          2.340622610797912,
          2.144835980602888,
          4.198943355193459,
          2.8847299324113953,
          3.7660267086854304,
          2.1686435601834484,
          3.7963677747810096,
          3.849128874407978,
          2.41497055424014,
          2.001454678027793,
          4.198318454831068,
          2.6198573714036635,
          2.9366242680735004,
          3.9028358592608816,
          0.5617433993092615,
          2.9380958175624032,
          1.8554066112661556,
          3.7452952243870414,
          4.601432266015381,
          2.506185178257242,
          2.0991544984302415,
          3.2919666813917514,
          1.7654815586879526,
          2.0624683294259474,
          3.062875362415646,
          3.1454795280080536,
          2.8855572953904214,
          -0.290251591943814,
          1.824005557876925,
          2.594764501245665,
          3.359143765327744,
          3.546821796691777,
          2.9401291464648605,
          4.1438510058298315,
          1.6355302491896486,
          1.8175107803119461,
          3.592157659473223,
          3.3927591803227086,
          3.795331517044415,
          4.776780260460146,
          3.8700493130354037,
          4.807568791476425,
          2.7773346910213297,
          5.201623069161894,
          4.908459693662584,
          2.5670182795401972,
          3.537643025485645,
          4.036422541243809,
          3.660028922317838,
          3.3519756743800238,
          5.971164990216481,
          3.7158744247159765,
          2.5938807489718902,
          2.473308346758571,
          2.8124700718370477,
          4.810251658129395,
          3.584578702481836,
          5.41417373818732,
          3.9243106127141036,
          5.5897383663839015,
          2.9232360887067195,
          5.06513090306967,
          4.730765242057509,
          4.981915022225904,
          6.038140406401867,
          3.8558708632030756,
          2.88183932963583,
          4.6537616962906565,
          5.792817899053105,
          4.39716114891181,
          3.7888244619512084,
          4.779593341028164,
          5.288153539709032,
          3.069214558322661,
          6.210518915105226,
          3.841038316696584,
          3.8472245285100986,
          4.667812246944511,
          2.7731668436472896,
          3.2941754151823646,
          3.186195491683727,
          3.0629670710509584,
          3.6324150758906333,
          5.739256971419575,
          3.935289974227079,
          3.7251724953200065,
          4.799596248435955,
          3.6729460065679556,
          3.1525571652607085,
          3.4990716046184196,
          4.470454638229786,
          5.144387973418461,
          3.573464613289202,
          4.2811617003951525,
          3.546427129473266,
          2.3889768833831244,
          2.9014728952396993,
          2.6458185045098226,
          4.754131042947313,
          3.77426146262802,
          6.092820498466407,
          3.81470580644541,
          4.896988314770823,
          3.8571006647937254,
          2.984138142758413,
          4.140808799164753,
          5.397061563276155,
          3.779496470295057,
          4.398216092223092,
          4.472199688297318,
          3.630609655446979,
          3.1247383468485226,
          3.236024340360933,
          3.986064704051726,
          4.045663512466447,
          4.420065279877554,
          3.773489891801685,
          3.6806441027540315,
          4.476788624582289,
          3.9298423222055576,
          1.8484206364468818,
          5.541919280760408,
          2.568441410441798,
          4.241088755048916,
          2.896665670580529,
          2.7839066809905986,
          5.9865988920934,
          2.8008692722846753,
          3.6806735207485106,
          4.559467993767468,
          3.5348067972643578,
          2.917645627634699,
          2.469528489640808,
          3.0052881056847736,
          2.1203500647318867,
          3.001955198938152,
          4.109888968316632,
          3.0684638072339823,
          4.351660517993954,
          1.7032158068260719,
          3.675890004262176,
          3.6131092663717075,
          2.5124129041714007,
          2.9916888342516597,
          1.7600858176807839,
          4.9554592328865015,
          4.164356396086017,
          3.989515263682135,
          3.478164587127033,
          1.0038272883125896,
          2.5739909670385175,
          3.3310126025721924,
          3.0684781514297845,
          2.2133925043482847,
          3.44451812159718,
          1.8725268413099694,
          4.061484602467909,
          2.580880844685951,
          3.958199959111622,
          3.931320772019193,
          2.446307528623786,
          1.83655947179035,
          2.4752787277098567,
          3.7754825655207145,
          2.1220971790726977,
          3.228617582187703,
          2.8156809852527562,
          2.989289744927994,
          3.082819644870404,
          5.901936635701597,
          3.6692105415491176,
          2.64428173442156,
          2.811323238259899,
          2.3014206229279033,
          3.365768405301499,
          3.1697206766220396,
          2.2110118024423233,
          2.873330627886325,
          0.43696315807683384,
          3.4686700027823907,
          3.780658596360499,
          3.488478118923764,
          2.949655356893879
         ],
         "y0": " ",
         "yaxis": "y"
        }
       ],
       "layout": {
        "boxmode": "group",
        "legend": {
         "tracegroupgap": 0
        },
        "margin": {
         "t": 60
        },
        "template": {
         "data": {
          "bar": [
           {
            "error_x": {
             "color": "#2a3f5f"
            },
            "error_y": {
             "color": "#2a3f5f"
            },
            "marker": {
             "line": {
              "color": "#E5ECF6",
              "width": 0.5
             }
            },
            "type": "bar"
           }
          ],
          "barpolar": [
           {
            "marker": {
             "line": {
              "color": "#E5ECF6",
              "width": 0.5
             }
            },
            "type": "barpolar"
           }
          ],
          "carpet": [
           {
            "aaxis": {
             "endlinecolor": "#2a3f5f",
             "gridcolor": "white",
             "linecolor": "white",
             "minorgridcolor": "white",
             "startlinecolor": "#2a3f5f"
            },
            "baxis": {
             "endlinecolor": "#2a3f5f",
             "gridcolor": "white",
             "linecolor": "white",
             "minorgridcolor": "white",
             "startlinecolor": "#2a3f5f"
            },
            "type": "carpet"
           }
          ],
          "choropleth": [
           {
            "colorbar": {
             "outlinewidth": 0,
             "ticks": ""
            },
            "type": "choropleth"
           }
          ],
          "contour": [
           {
            "colorbar": {
             "outlinewidth": 0,
             "ticks": ""
            },
            "colorscale": [
             [
              0,
              "#0d0887"
             ],
             [
              0.1111111111111111,
              "#46039f"
             ],
             [
              0.2222222222222222,
              "#7201a8"
             ],
             [
              0.3333333333333333,
              "#9c179e"
             ],
             [
              0.4444444444444444,
              "#bd3786"
             ],
             [
              0.5555555555555556,
              "#d8576b"
             ],
             [
              0.6666666666666666,
              "#ed7953"
             ],
             [
              0.7777777777777778,
              "#fb9f3a"
             ],
             [
              0.8888888888888888,
              "#fdca26"
             ],
             [
              1,
              "#f0f921"
             ]
            ],
            "type": "contour"
           }
          ],
          "contourcarpet": [
           {
            "colorbar": {
             "outlinewidth": 0,
             "ticks": ""
            },
            "type": "contourcarpet"
           }
          ],
          "heatmap": [
           {
            "colorbar": {
             "outlinewidth": 0,
             "ticks": ""
            },
            "colorscale": [
             [
              0,
              "#0d0887"
             ],
             [
              0.1111111111111111,
              "#46039f"
             ],
             [
              0.2222222222222222,
              "#7201a8"
             ],
             [
              0.3333333333333333,
              "#9c179e"
             ],
             [
              0.4444444444444444,
              "#bd3786"
             ],
             [
              0.5555555555555556,
              "#d8576b"
             ],
             [
              0.6666666666666666,
              "#ed7953"
             ],
             [
              0.7777777777777778,
              "#fb9f3a"
             ],
             [
              0.8888888888888888,
              "#fdca26"
             ],
             [
              1,
              "#f0f921"
             ]
            ],
            "type": "heatmap"
           }
          ],
          "heatmapgl": [
           {
            "colorbar": {
             "outlinewidth": 0,
             "ticks": ""
            },
            "colorscale": [
             [
              0,
              "#0d0887"
             ],
             [
              0.1111111111111111,
              "#46039f"
             ],
             [
              0.2222222222222222,
              "#7201a8"
             ],
             [
              0.3333333333333333,
              "#9c179e"
             ],
             [
              0.4444444444444444,
              "#bd3786"
             ],
             [
              0.5555555555555556,
              "#d8576b"
             ],
             [
              0.6666666666666666,
              "#ed7953"
             ],
             [
              0.7777777777777778,
              "#fb9f3a"
             ],
             [
              0.8888888888888888,
              "#fdca26"
             ],
             [
              1,
              "#f0f921"
             ]
            ],
            "type": "heatmapgl"
           }
          ],
          "histogram": [
           {
            "marker": {
             "colorbar": {
              "outlinewidth": 0,
              "ticks": ""
             }
            },
            "type": "histogram"
           }
          ],
          "histogram2d": [
           {
            "colorbar": {
             "outlinewidth": 0,
             "ticks": ""
            },
            "colorscale": [
             [
              0,
              "#0d0887"
             ],
             [
              0.1111111111111111,
              "#46039f"
             ],
             [
              0.2222222222222222,
              "#7201a8"
             ],
             [
              0.3333333333333333,
              "#9c179e"
             ],
             [
              0.4444444444444444,
              "#bd3786"
             ],
             [
              0.5555555555555556,
              "#d8576b"
             ],
             [
              0.6666666666666666,
              "#ed7953"
             ],
             [
              0.7777777777777778,
              "#fb9f3a"
             ],
             [
              0.8888888888888888,
              "#fdca26"
             ],
             [
              1,
              "#f0f921"
             ]
            ],
            "type": "histogram2d"
           }
          ],
          "histogram2dcontour": [
           {
            "colorbar": {
             "outlinewidth": 0,
             "ticks": ""
            },
            "colorscale": [
             [
              0,
              "#0d0887"
             ],
             [
              0.1111111111111111,
              "#46039f"
             ],
             [
              0.2222222222222222,
              "#7201a8"
             ],
             [
              0.3333333333333333,
              "#9c179e"
             ],
             [
              0.4444444444444444,
              "#bd3786"
             ],
             [
              0.5555555555555556,
              "#d8576b"
             ],
             [
              0.6666666666666666,
              "#ed7953"
             ],
             [
              0.7777777777777778,
              "#fb9f3a"
             ],
             [
              0.8888888888888888,
              "#fdca26"
             ],
             [
              1,
              "#f0f921"
             ]
            ],
            "type": "histogram2dcontour"
           }
          ],
          "mesh3d": [
           {
            "colorbar": {
             "outlinewidth": 0,
             "ticks": ""
            },
            "type": "mesh3d"
           }
          ],
          "parcoords": [
           {
            "line": {
             "colorbar": {
              "outlinewidth": 0,
              "ticks": ""
             }
            },
            "type": "parcoords"
           }
          ],
          "pie": [
           {
            "automargin": true,
            "type": "pie"
           }
          ],
          "scatter": [
           {
            "marker": {
             "colorbar": {
              "outlinewidth": 0,
              "ticks": ""
             }
            },
            "type": "scatter"
           }
          ],
          "scatter3d": [
           {
            "line": {
             "colorbar": {
              "outlinewidth": 0,
              "ticks": ""
             }
            },
            "marker": {
             "colorbar": {
              "outlinewidth": 0,
              "ticks": ""
             }
            },
            "type": "scatter3d"
           }
          ],
          "scattercarpet": [
           {
            "marker": {
             "colorbar": {
              "outlinewidth": 0,
              "ticks": ""
             }
            },
            "type": "scattercarpet"
           }
          ],
          "scattergeo": [
           {
            "marker": {
             "colorbar": {
              "outlinewidth": 0,
              "ticks": ""
             }
            },
            "type": "scattergeo"
           }
          ],
          "scattergl": [
           {
            "marker": {
             "colorbar": {
              "outlinewidth": 0,
              "ticks": ""
             }
            },
            "type": "scattergl"
           }
          ],
          "scattermapbox": [
           {
            "marker": {
             "colorbar": {
              "outlinewidth": 0,
              "ticks": ""
             }
            },
            "type": "scattermapbox"
           }
          ],
          "scatterpolar": [
           {
            "marker": {
             "colorbar": {
              "outlinewidth": 0,
              "ticks": ""
             }
            },
            "type": "scatterpolar"
           }
          ],
          "scatterpolargl": [
           {
            "marker": {
             "colorbar": {
              "outlinewidth": 0,
              "ticks": ""
             }
            },
            "type": "scatterpolargl"
           }
          ],
          "scatterternary": [
           {
            "marker": {
             "colorbar": {
              "outlinewidth": 0,
              "ticks": ""
             }
            },
            "type": "scatterternary"
           }
          ],
          "surface": [
           {
            "colorbar": {
             "outlinewidth": 0,
             "ticks": ""
            },
            "colorscale": [
             [
              0,
              "#0d0887"
             ],
             [
              0.1111111111111111,
              "#46039f"
             ],
             [
              0.2222222222222222,
              "#7201a8"
             ],
             [
              0.3333333333333333,
              "#9c179e"
             ],
             [
              0.4444444444444444,
              "#bd3786"
             ],
             [
              0.5555555555555556,
              "#d8576b"
             ],
             [
              0.6666666666666666,
              "#ed7953"
             ],
             [
              0.7777777777777778,
              "#fb9f3a"
             ],
             [
              0.8888888888888888,
              "#fdca26"
             ],
             [
              1,
              "#f0f921"
             ]
            ],
            "type": "surface"
           }
          ],
          "table": [
           {
            "cells": {
             "fill": {
              "color": "#EBF0F8"
             },
             "line": {
              "color": "white"
             }
            },
            "header": {
             "fill": {
              "color": "#C8D4E3"
             },
             "line": {
              "color": "white"
             }
            },
            "type": "table"
           }
          ]
         },
         "layout": {
          "annotationdefaults": {
           "arrowcolor": "#2a3f5f",
           "arrowhead": 0,
           "arrowwidth": 1
          },
          "coloraxis": {
           "colorbar": {
            "outlinewidth": 0,
            "ticks": ""
           }
          },
          "colorscale": {
           "diverging": [
            [
             0,
             "#8e0152"
            ],
            [
             0.1,
             "#c51b7d"
            ],
            [
             0.2,
             "#de77ae"
            ],
            [
             0.3,
             "#f1b6da"
            ],
            [
             0.4,
             "#fde0ef"
            ],
            [
             0.5,
             "#f7f7f7"
            ],
            [
             0.6,
             "#e6f5d0"
            ],
            [
             0.7,
             "#b8e186"
            ],
            [
             0.8,
             "#7fbc41"
            ],
            [
             0.9,
             "#4d9221"
            ],
            [
             1,
             "#276419"
            ]
           ],
           "sequential": [
            [
             0,
             "#0d0887"
            ],
            [
             0.1111111111111111,
             "#46039f"
            ],
            [
             0.2222222222222222,
             "#7201a8"
            ],
            [
             0.3333333333333333,
             "#9c179e"
            ],
            [
             0.4444444444444444,
             "#bd3786"
            ],
            [
             0.5555555555555556,
             "#d8576b"
            ],
            [
             0.6666666666666666,
             "#ed7953"
            ],
            [
             0.7777777777777778,
             "#fb9f3a"
            ],
            [
             0.8888888888888888,
             "#fdca26"
            ],
            [
             1,
             "#f0f921"
            ]
           ],
           "sequentialminus": [
            [
             0,
             "#0d0887"
            ],
            [
             0.1111111111111111,
             "#46039f"
            ],
            [
             0.2222222222222222,
             "#7201a8"
            ],
            [
             0.3333333333333333,
             "#9c179e"
            ],
            [
             0.4444444444444444,
             "#bd3786"
            ],
            [
             0.5555555555555556,
             "#d8576b"
            ],
            [
             0.6666666666666666,
             "#ed7953"
            ],
            [
             0.7777777777777778,
             "#fb9f3a"
            ],
            [
             0.8888888888888888,
             "#fdca26"
            ],
            [
             1,
             "#f0f921"
            ]
           ]
          },
          "colorway": [
           "#636efa",
           "#EF553B",
           "#00cc96",
           "#ab63fa",
           "#FFA15A",
           "#19d3f3",
           "#FF6692",
           "#B6E880",
           "#FF97FF",
           "#FECB52"
          ],
          "font": {
           "color": "#2a3f5f"
          },
          "geo": {
           "bgcolor": "white",
           "lakecolor": "white",
           "landcolor": "#E5ECF6",
           "showlakes": true,
           "showland": true,
           "subunitcolor": "white"
          },
          "hoverlabel": {
           "align": "left"
          },
          "hovermode": "closest",
          "mapbox": {
           "style": "light"
          },
          "paper_bgcolor": "white",
          "plot_bgcolor": "#E5ECF6",
          "polar": {
           "angularaxis": {
            "gridcolor": "white",
            "linecolor": "white",
            "ticks": ""
           },
           "bgcolor": "#E5ECF6",
           "radialaxis": {
            "gridcolor": "white",
            "linecolor": "white",
            "ticks": ""
           }
          },
          "scene": {
           "xaxis": {
            "backgroundcolor": "#E5ECF6",
            "gridcolor": "white",
            "gridwidth": 2,
            "linecolor": "white",
            "showbackground": true,
            "ticks": "",
            "zerolinecolor": "white"
           },
           "yaxis": {
            "backgroundcolor": "#E5ECF6",
            "gridcolor": "white",
            "gridwidth": 2,
            "linecolor": "white",
            "showbackground": true,
            "ticks": "",
            "zerolinecolor": "white"
           },
           "zaxis": {
            "backgroundcolor": "#E5ECF6",
            "gridcolor": "white",
            "gridwidth": 2,
            "linecolor": "white",
            "showbackground": true,
            "ticks": "",
            "zerolinecolor": "white"
           }
          },
          "shapedefaults": {
           "line": {
            "color": "#2a3f5f"
           }
          },
          "ternary": {
           "aaxis": {
            "gridcolor": "white",
            "linecolor": "white",
            "ticks": ""
           },
           "baxis": {
            "gridcolor": "white",
            "linecolor": "white",
            "ticks": ""
           },
           "bgcolor": "#E5ECF6",
           "caxis": {
            "gridcolor": "white",
            "linecolor": "white",
            "ticks": ""
           }
          },
          "title": {
           "x": 0.05
          },
          "xaxis": {
           "automargin": true,
           "gridcolor": "white",
           "linecolor": "white",
           "ticks": "",
           "title": {
            "standoff": 15
           },
           "zerolinecolor": "white",
           "zerolinewidth": 2
          },
          "yaxis": {
           "automargin": true,
           "gridcolor": "white",
           "linecolor": "white",
           "ticks": "",
           "title": {
            "standoff": 15
           },
           "zerolinecolor": "white",
           "zerolinewidth": 2
          }
         }
        },
        "xaxis": {
         "anchor": "y",
         "domain": [
          0,
          1
         ],
         "title": {
          "text": "group"
         }
        },
        "yaxis": {
         "anchor": "x",
         "domain": [
          0,
          1
         ],
         "title": {
          "text": "x"
         }
        }
       }
      },
      "text/html": [
       "<div>\n",
       "        \n",
       "        \n",
       "            <div id=\"67509879-9dee-4a8f-9ee4-a5de6bdc132c\" class=\"plotly-graph-div\" style=\"height:525px; width:100%;\"></div>\n",
       "            <script type=\"text/javascript\">\n",
       "                require([\"plotly\"], function(Plotly) {\n",
       "                    window.PLOTLYENV=window.PLOTLYENV || {};\n",
       "                    \n",
       "                if (document.getElementById(\"67509879-9dee-4a8f-9ee4-a5de6bdc132c\")) {\n",
       "                    Plotly.newPlot(\n",
       "                        '67509879-9dee-4a8f-9ee4-a5de6bdc132c',\n",
       "                        [{\"alignmentgroup\": \"True\", \"hoverlabel\": {\"namelength\": 0}, \"hovertemplate\": \"group=%{x}<br>x=%{y}\", \"legendgroup\": \"\", \"marker\": {\"color\": \"#636efa\"}, \"name\": \"\", \"notched\": false, \"offsetgroup\": \"\", \"orientation\": \"v\", \"showlegend\": false, \"type\": \"box\", \"x\": [\"A\", \"A\", \"A\", \"A\", \"A\", \"A\", \"A\", \"A\", \"A\", \"A\", \"A\", \"A\", \"A\", \"A\", \"A\", \"A\", \"A\", \"A\", \"A\", \"A\", \"A\", \"A\", \"A\", \"A\", \"A\", \"A\", \"A\", \"A\", \"A\", \"A\", \"A\", \"A\", \"A\", \"A\", \"A\", \"A\", \"A\", \"A\", \"A\", \"A\", \"A\", \"A\", \"A\", \"A\", \"A\", \"A\", \"A\", \"A\", \"A\", \"A\", \"B\", \"B\", \"B\", \"B\", \"B\", \"B\", \"B\", \"B\", \"B\", \"B\", \"B\", \"B\", \"B\", \"B\", \"B\", \"B\", \"B\", \"B\", \"B\", \"B\", \"B\", \"B\", \"B\", \"B\", \"B\", \"B\", \"B\", \"B\", \"B\", \"B\", \"B\", \"B\", \"B\", \"B\", \"B\", \"B\", \"B\", \"B\", \"B\", \"B\", \"B\", \"B\", \"B\", \"B\", \"B\", \"B\", \"B\", \"B\", \"B\", \"B\", \"C\", \"C\", \"C\", \"C\", \"C\", \"C\", \"C\", \"C\", \"C\", \"C\", \"C\", \"C\", \"C\", \"C\", \"C\", \"C\", \"C\", \"C\", \"C\", \"C\", \"C\", \"C\", \"C\", \"C\", \"C\", \"C\", \"C\", \"C\", \"C\", \"C\", \"C\", \"C\", \"C\", \"C\", \"C\", \"C\", \"C\", \"C\", \"C\", \"C\", \"C\", \"C\", \"C\", \"C\", \"C\", \"C\", \"C\", \"C\", \"C\", \"C\", \"D\", \"D\", \"D\", \"D\", \"D\", \"D\", \"D\", \"D\", \"D\", \"D\", \"D\", \"D\", \"D\", \"D\", \"D\", \"D\", \"D\", \"D\", \"D\", \"D\", \"D\", \"D\", \"D\", \"D\", \"D\", \"D\", \"D\", \"D\", \"D\", \"D\", \"D\", \"D\", \"D\", \"D\", \"D\", \"D\", \"D\", \"D\", \"D\", \"D\", \"D\", \"D\", \"D\", \"D\", \"D\", \"D\", \"D\", \"D\", \"D\", \"D\"], \"x0\": \" \", \"xaxis\": \"x\", \"y\": [3.704314014721918, 2.3104629062531883, 2.8563723825995213, 3.6083737822367787, 1.490911152662311, 3.6896427371057254, 2.7530219096056614, 4.032651146542533, 0.34980821484960156, 3.909161783204173, 4.278917775403523, 2.524709001055272, 2.6531320899512942, 3.650388465499863, 1.9382428266519445, 3.4911982280370535, 2.100387922988501, 2.340622610797912, 2.144835980602888, 4.198943355193459, 2.8847299324113953, 3.7660267086854304, 2.1686435601834484, 3.7963677747810096, 3.849128874407978, 2.41497055424014, 2.001454678027793, 4.198318454831068, 2.6198573714036635, 2.9366242680735004, 3.9028358592608816, 0.5617433993092615, 2.9380958175624032, 1.8554066112661556, 3.7452952243870414, 4.601432266015381, 2.506185178257242, 2.0991544984302415, 3.2919666813917514, 1.7654815586879526, 2.0624683294259474, 3.062875362415646, 3.1454795280080536, 2.8855572953904214, -0.290251591943814, 1.824005557876925, 2.594764501245665, 3.359143765327744, 3.546821796691777, 2.9401291464648605, 4.1438510058298315, 1.6355302491896486, 1.8175107803119461, 3.592157659473223, 3.3927591803227086, 3.795331517044415, 4.776780260460146, 3.8700493130354037, 4.807568791476425, 2.7773346910213297, 5.201623069161894, 4.908459693662584, 2.5670182795401972, 3.537643025485645, 4.036422541243809, 3.660028922317838, 3.3519756743800238, 5.971164990216481, 3.7158744247159765, 2.5938807489718902, 2.473308346758571, 2.8124700718370477, 4.810251658129395, 3.584578702481836, 5.41417373818732, 3.9243106127141036, 5.5897383663839015, 2.9232360887067195, 5.06513090306967, 4.730765242057509, 4.981915022225904, 6.038140406401867, 3.8558708632030756, 2.88183932963583, 4.6537616962906565, 5.792817899053105, 4.39716114891181, 3.7888244619512084, 4.779593341028164, 5.288153539709032, 3.069214558322661, 6.210518915105226, 3.841038316696584, 3.8472245285100986, 4.667812246944511, 2.7731668436472896, 3.2941754151823646, 3.186195491683727, 3.0629670710509584, 3.6324150758906333, 5.739256971419575, 3.935289974227079, 3.7251724953200065, 4.799596248435955, 3.6729460065679556, 3.1525571652607085, 3.4990716046184196, 4.470454638229786, 5.144387973418461, 3.573464613289202, 4.2811617003951525, 3.546427129473266, 2.3889768833831244, 2.9014728952396993, 2.6458185045098226, 4.754131042947313, 3.77426146262802, 6.092820498466407, 3.81470580644541, 4.896988314770823, 3.8571006647937254, 2.984138142758413, 4.140808799164753, 5.397061563276155, 3.779496470295057, 4.398216092223092, 4.472199688297318, 3.630609655446979, 3.1247383468485226, 3.236024340360933, 3.986064704051726, 4.045663512466447, 4.420065279877554, 3.773489891801685, 3.6806441027540315, 4.476788624582289, 3.9298423222055576, 1.8484206364468818, 5.541919280760408, 2.568441410441798, 4.241088755048916, 2.896665670580529, 2.7839066809905986, 5.9865988920934, 2.8008692722846753, 3.6806735207485106, 4.559467993767468, 3.5348067972643578, 2.917645627634699, 2.469528489640808, 3.0052881056847736, 2.1203500647318867, 3.001955198938152, 4.109888968316632, 3.0684638072339823, 4.351660517993954, 1.7032158068260719, 3.675890004262176, 3.6131092663717075, 2.5124129041714007, 2.9916888342516597, 1.7600858176807839, 4.9554592328865015, 4.164356396086017, 3.989515263682135, 3.478164587127033, 1.0038272883125896, 2.5739909670385175, 3.3310126025721924, 3.0684781514297845, 2.2133925043482847, 3.44451812159718, 1.8725268413099694, 4.061484602467909, 2.580880844685951, 3.958199959111622, 3.931320772019193, 2.446307528623786, 1.83655947179035, 2.4752787277098567, 3.7754825655207145, 2.1220971790726977, 3.228617582187703, 2.8156809852527562, 2.989289744927994, 3.082819644870404, 5.901936635701597, 3.6692105415491176, 2.64428173442156, 2.811323238259899, 2.3014206229279033, 3.365768405301499, 3.1697206766220396, 2.2110118024423233, 2.873330627886325, 0.43696315807683384, 3.4686700027823907, 3.780658596360499, 3.488478118923764, 2.949655356893879], \"y0\": \" \", \"yaxis\": \"y\"}],\n",
       "                        {\"boxmode\": \"group\", \"legend\": {\"tracegroupgap\": 0}, \"margin\": {\"t\": 60}, \"template\": {\"data\": {\"bar\": [{\"error_x\": {\"color\": \"#2a3f5f\"}, \"error_y\": {\"color\": \"#2a3f5f\"}, \"marker\": {\"line\": {\"color\": \"#E5ECF6\", \"width\": 0.5}}, \"type\": \"bar\"}], \"barpolar\": [{\"marker\": {\"line\": {\"color\": \"#E5ECF6\", \"width\": 0.5}}, \"type\": \"barpolar\"}], \"carpet\": [{\"aaxis\": {\"endlinecolor\": \"#2a3f5f\", \"gridcolor\": \"white\", \"linecolor\": \"white\", \"minorgridcolor\": \"white\", \"startlinecolor\": \"#2a3f5f\"}, \"baxis\": {\"endlinecolor\": \"#2a3f5f\", \"gridcolor\": \"white\", \"linecolor\": \"white\", \"minorgridcolor\": \"white\", \"startlinecolor\": \"#2a3f5f\"}, \"type\": \"carpet\"}], \"choropleth\": [{\"colorbar\": {\"outlinewidth\": 0, \"ticks\": \"\"}, \"type\": \"choropleth\"}], \"contour\": [{\"colorbar\": {\"outlinewidth\": 0, \"ticks\": \"\"}, \"colorscale\": [[0.0, \"#0d0887\"], [0.1111111111111111, \"#46039f\"], [0.2222222222222222, \"#7201a8\"], [0.3333333333333333, \"#9c179e\"], [0.4444444444444444, \"#bd3786\"], [0.5555555555555556, \"#d8576b\"], [0.6666666666666666, \"#ed7953\"], [0.7777777777777778, \"#fb9f3a\"], [0.8888888888888888, \"#fdca26\"], [1.0, \"#f0f921\"]], \"type\": \"contour\"}], \"contourcarpet\": [{\"colorbar\": {\"outlinewidth\": 0, \"ticks\": \"\"}, \"type\": \"contourcarpet\"}], \"heatmap\": [{\"colorbar\": {\"outlinewidth\": 0, \"ticks\": \"\"}, \"colorscale\": [[0.0, \"#0d0887\"], [0.1111111111111111, \"#46039f\"], [0.2222222222222222, \"#7201a8\"], [0.3333333333333333, \"#9c179e\"], [0.4444444444444444, \"#bd3786\"], [0.5555555555555556, \"#d8576b\"], [0.6666666666666666, \"#ed7953\"], [0.7777777777777778, \"#fb9f3a\"], [0.8888888888888888, \"#fdca26\"], [1.0, \"#f0f921\"]], \"type\": \"heatmap\"}], \"heatmapgl\": [{\"colorbar\": {\"outlinewidth\": 0, \"ticks\": \"\"}, \"colorscale\": [[0.0, \"#0d0887\"], [0.1111111111111111, \"#46039f\"], [0.2222222222222222, \"#7201a8\"], [0.3333333333333333, \"#9c179e\"], [0.4444444444444444, \"#bd3786\"], [0.5555555555555556, \"#d8576b\"], [0.6666666666666666, \"#ed7953\"], [0.7777777777777778, \"#fb9f3a\"], [0.8888888888888888, \"#fdca26\"], [1.0, \"#f0f921\"]], \"type\": \"heatmapgl\"}], \"histogram\": [{\"marker\": {\"colorbar\": {\"outlinewidth\": 0, \"ticks\": \"\"}}, \"type\": \"histogram\"}], \"histogram2d\": [{\"colorbar\": {\"outlinewidth\": 0, \"ticks\": \"\"}, \"colorscale\": [[0.0, \"#0d0887\"], [0.1111111111111111, \"#46039f\"], [0.2222222222222222, \"#7201a8\"], [0.3333333333333333, \"#9c179e\"], [0.4444444444444444, \"#bd3786\"], [0.5555555555555556, \"#d8576b\"], [0.6666666666666666, \"#ed7953\"], [0.7777777777777778, \"#fb9f3a\"], [0.8888888888888888, \"#fdca26\"], [1.0, \"#f0f921\"]], \"type\": \"histogram2d\"}], \"histogram2dcontour\": [{\"colorbar\": {\"outlinewidth\": 0, \"ticks\": \"\"}, \"colorscale\": [[0.0, \"#0d0887\"], [0.1111111111111111, \"#46039f\"], [0.2222222222222222, \"#7201a8\"], [0.3333333333333333, \"#9c179e\"], [0.4444444444444444, \"#bd3786\"], [0.5555555555555556, \"#d8576b\"], [0.6666666666666666, \"#ed7953\"], [0.7777777777777778, \"#fb9f3a\"], [0.8888888888888888, \"#fdca26\"], [1.0, \"#f0f921\"]], \"type\": \"histogram2dcontour\"}], \"mesh3d\": [{\"colorbar\": {\"outlinewidth\": 0, \"ticks\": \"\"}, \"type\": \"mesh3d\"}], \"parcoords\": [{\"line\": {\"colorbar\": {\"outlinewidth\": 0, \"ticks\": \"\"}}, \"type\": \"parcoords\"}], \"pie\": [{\"automargin\": true, \"type\": \"pie\"}], \"scatter\": [{\"marker\": {\"colorbar\": {\"outlinewidth\": 0, \"ticks\": \"\"}}, \"type\": \"scatter\"}], \"scatter3d\": [{\"line\": {\"colorbar\": {\"outlinewidth\": 0, \"ticks\": \"\"}}, \"marker\": {\"colorbar\": {\"outlinewidth\": 0, \"ticks\": \"\"}}, \"type\": \"scatter3d\"}], \"scattercarpet\": [{\"marker\": {\"colorbar\": {\"outlinewidth\": 0, \"ticks\": \"\"}}, \"type\": \"scattercarpet\"}], \"scattergeo\": [{\"marker\": {\"colorbar\": {\"outlinewidth\": 0, \"ticks\": \"\"}}, \"type\": \"scattergeo\"}], \"scattergl\": [{\"marker\": {\"colorbar\": {\"outlinewidth\": 0, \"ticks\": \"\"}}, \"type\": \"scattergl\"}], \"scattermapbox\": [{\"marker\": {\"colorbar\": {\"outlinewidth\": 0, \"ticks\": \"\"}}, \"type\": \"scattermapbox\"}], \"scatterpolar\": [{\"marker\": {\"colorbar\": {\"outlinewidth\": 0, \"ticks\": \"\"}}, \"type\": \"scatterpolar\"}], \"scatterpolargl\": [{\"marker\": {\"colorbar\": {\"outlinewidth\": 0, \"ticks\": \"\"}}, \"type\": \"scatterpolargl\"}], \"scatterternary\": [{\"marker\": {\"colorbar\": {\"outlinewidth\": 0, \"ticks\": \"\"}}, \"type\": \"scatterternary\"}], \"surface\": [{\"colorbar\": {\"outlinewidth\": 0, \"ticks\": \"\"}, \"colorscale\": [[0.0, \"#0d0887\"], [0.1111111111111111, \"#46039f\"], [0.2222222222222222, \"#7201a8\"], [0.3333333333333333, \"#9c179e\"], [0.4444444444444444, \"#bd3786\"], [0.5555555555555556, \"#d8576b\"], [0.6666666666666666, \"#ed7953\"], [0.7777777777777778, \"#fb9f3a\"], [0.8888888888888888, \"#fdca26\"], [1.0, \"#f0f921\"]], \"type\": \"surface\"}], \"table\": [{\"cells\": {\"fill\": {\"color\": \"#EBF0F8\"}, \"line\": {\"color\": \"white\"}}, \"header\": {\"fill\": {\"color\": \"#C8D4E3\"}, \"line\": {\"color\": \"white\"}}, \"type\": \"table\"}]}, \"layout\": {\"annotationdefaults\": {\"arrowcolor\": \"#2a3f5f\", \"arrowhead\": 0, \"arrowwidth\": 1}, \"coloraxis\": {\"colorbar\": {\"outlinewidth\": 0, \"ticks\": \"\"}}, \"colorscale\": {\"diverging\": [[0, \"#8e0152\"], [0.1, \"#c51b7d\"], [0.2, \"#de77ae\"], [0.3, \"#f1b6da\"], [0.4, \"#fde0ef\"], [0.5, \"#f7f7f7\"], [0.6, \"#e6f5d0\"], [0.7, \"#b8e186\"], [0.8, \"#7fbc41\"], [0.9, \"#4d9221\"], [1, \"#276419\"]], \"sequential\": [[0.0, \"#0d0887\"], [0.1111111111111111, \"#46039f\"], [0.2222222222222222, \"#7201a8\"], [0.3333333333333333, \"#9c179e\"], [0.4444444444444444, \"#bd3786\"], [0.5555555555555556, \"#d8576b\"], [0.6666666666666666, \"#ed7953\"], [0.7777777777777778, \"#fb9f3a\"], [0.8888888888888888, \"#fdca26\"], [1.0, \"#f0f921\"]], \"sequentialminus\": [[0.0, \"#0d0887\"], [0.1111111111111111, \"#46039f\"], [0.2222222222222222, \"#7201a8\"], [0.3333333333333333, \"#9c179e\"], [0.4444444444444444, \"#bd3786\"], [0.5555555555555556, \"#d8576b\"], [0.6666666666666666, \"#ed7953\"], [0.7777777777777778, \"#fb9f3a\"], [0.8888888888888888, \"#fdca26\"], [1.0, \"#f0f921\"]]}, \"colorway\": [\"#636efa\", \"#EF553B\", \"#00cc96\", \"#ab63fa\", \"#FFA15A\", \"#19d3f3\", \"#FF6692\", \"#B6E880\", \"#FF97FF\", \"#FECB52\"], \"font\": {\"color\": \"#2a3f5f\"}, \"geo\": {\"bgcolor\": \"white\", \"lakecolor\": \"white\", \"landcolor\": \"#E5ECF6\", \"showlakes\": true, \"showland\": true, \"subunitcolor\": \"white\"}, \"hoverlabel\": {\"align\": \"left\"}, \"hovermode\": \"closest\", \"mapbox\": {\"style\": \"light\"}, \"paper_bgcolor\": \"white\", \"plot_bgcolor\": \"#E5ECF6\", \"polar\": {\"angularaxis\": {\"gridcolor\": \"white\", \"linecolor\": \"white\", \"ticks\": \"\"}, \"bgcolor\": \"#E5ECF6\", \"radialaxis\": {\"gridcolor\": \"white\", \"linecolor\": \"white\", \"ticks\": \"\"}}, \"scene\": {\"xaxis\": {\"backgroundcolor\": \"#E5ECF6\", \"gridcolor\": \"white\", \"gridwidth\": 2, \"linecolor\": \"white\", \"showbackground\": true, \"ticks\": \"\", \"zerolinecolor\": \"white\"}, \"yaxis\": {\"backgroundcolor\": \"#E5ECF6\", \"gridcolor\": \"white\", \"gridwidth\": 2, \"linecolor\": \"white\", \"showbackground\": true, \"ticks\": \"\", \"zerolinecolor\": \"white\"}, \"zaxis\": {\"backgroundcolor\": \"#E5ECF6\", \"gridcolor\": \"white\", \"gridwidth\": 2, \"linecolor\": \"white\", \"showbackground\": true, \"ticks\": \"\", \"zerolinecolor\": \"white\"}}, \"shapedefaults\": {\"line\": {\"color\": \"#2a3f5f\"}}, \"ternary\": {\"aaxis\": {\"gridcolor\": \"white\", \"linecolor\": \"white\", \"ticks\": \"\"}, \"baxis\": {\"gridcolor\": \"white\", \"linecolor\": \"white\", \"ticks\": \"\"}, \"bgcolor\": \"#E5ECF6\", \"caxis\": {\"gridcolor\": \"white\", \"linecolor\": \"white\", \"ticks\": \"\"}}, \"title\": {\"x\": 0.05}, \"xaxis\": {\"automargin\": true, \"gridcolor\": \"white\", \"linecolor\": \"white\", \"ticks\": \"\", \"title\": {\"standoff\": 15}, \"zerolinecolor\": \"white\", \"zerolinewidth\": 2}, \"yaxis\": {\"automargin\": true, \"gridcolor\": \"white\", \"linecolor\": \"white\", \"ticks\": \"\", \"title\": {\"standoff\": 15}, \"zerolinecolor\": \"white\", \"zerolinewidth\": 2}}}, \"xaxis\": {\"anchor\": \"y\", \"domain\": [0.0, 1.0], \"title\": {\"text\": \"group\"}}, \"yaxis\": {\"anchor\": \"x\", \"domain\": [0.0, 1.0], \"title\": {\"text\": \"x\"}}},\n",
       "                        {\"responsive\": true}\n",
       "                    ).then(function(){\n",
       "                            \n",
       "var gd = document.getElementById('67509879-9dee-4a8f-9ee4-a5de6bdc132c');\n",
       "var x = new MutationObserver(function (mutations, observer) {{\n",
       "        var display = window.getComputedStyle(gd).display;\n",
       "        if (!display || display === 'none') {{\n",
       "            console.log([gd, 'removed!']);\n",
       "            Plotly.purge(gd);\n",
       "            observer.disconnect();\n",
       "        }}\n",
       "}});\n",
       "\n",
       "// Listen for the removal of the full notebook cells\n",
       "var notebookContainer = gd.closest('#notebook-container');\n",
       "if (notebookContainer) {{\n",
       "    x.observe(notebookContainer, {childList: true});\n",
       "}}\n",
       "\n",
       "// Listen for the clearing of the current output cell\n",
       "var outputEl = gd.closest('.output');\n",
       "if (outputEl) {{\n",
       "    x.observe(outputEl, {childList: true});\n",
       "}}\n",
       "\n",
       "                        })\n",
       "                };\n",
       "                });\n",
       "            </script>\n",
       "        </div>"
      ]
     },
     "metadata": {},
     "output_type": "display_data"
    }
   ],
   "source": [
    "# boxplots of x by group\n",
    "plotly.offline.iplot(\n",
    "    plotly.express.box(data1, x = \"group\", y = \"x\")\n",
    ")"
   ]
  },
  {
   "cell_type": "markdown",
   "metadata": {},
   "source": [
    "## Histograms"
   ]
  },
  {
   "cell_type": "code",
   "execution_count": 345,
   "metadata": {},
   "outputs": [],
   "source": [
    "# similar to ggplot2::geom_histogram"
   ]
  },
  {
   "cell_type": "code",
   "execution_count": 346,
   "metadata": {},
   "outputs": [
    {
     "data": {
      "application/vnd.plotly.v1+json": {
       "config": {
        "linkText": "Export to plot.ly",
        "plotlyServerURL": "https://plot.ly",
        "showLink": false
       },
       "data": [
        {
         "alignmentgroup": "True",
         "bingroup": "x",
         "hoverlabel": {
          "namelength": 0
         },
         "hovertemplate": "group=A<br>y=%{x}<br>count=%{y}",
         "legendgroup": "",
         "marker": {
          "color": "#636efa"
         },
         "name": "",
         "offsetgroup": "",
         "orientation": "v",
         "showlegend": false,
         "type": "histogram",
         "x": [
          3.639633968338619,
          -0.2535452757769867,
          0.693132730194409,
          3.536159483327719,
          0.18594576254770123,
          1.8953678851410563,
          1.38869170179541,
          1.5048902046561385,
          1.3450673345878001,
          4.665942955705107,
          3.500416001345053,
          2.1371078992921366,
          1.9462851383719775,
          4.233259589508735,
          -1.2008145960400118,
          3.8880154282533983,
          0.6963427700442585,
          2.195841406996615,
          1.8554619800482146,
          3.7299794230023497,
          2.9811455294840883,
          2.317965281361505,
          1.205160604360921,
          2.4007287348110067,
          3.046707107624779,
          1.5868235944588527,
          3.7208928307862954,
          4.869278428260831,
          0.17408622189484935,
          3.2482663722196854,
          2.5127661747710266,
          -0.16178228433256292,
          3.7914711652588142,
          2.430753060925585,
          0.9603458702367396,
          4.37125226920184,
          0.6878578375676627,
          2.018398298509555,
          3.8791829623151184,
          2.4838054590801875,
          2.0721653772055406,
          3.2081573415795503,
          2.5409839598225306,
          1.8373417717131937,
          -0.057947586292873776,
          1.2076003647364373,
          1.0446190552950658,
          1.5352532533320697,
          2.9288582251639825,
          2.860740925742132
         ],
         "xaxis": "x",
         "yaxis": "y"
        },
        {
         "alignmentgroup": "True",
         "bingroup": "x",
         "hoverlabel": {
          "namelength": 0
         },
         "hovertemplate": "group=B<br>y=%{x}<br>count=%{y}",
         "legendgroup": "",
         "marker": {
          "color": "#636efa"
         },
         "name": "",
         "offsetgroup": "",
         "orientation": "v",
         "showlegend": false,
         "type": "histogram",
         "x": [
          2.884495881358384,
          0.7274572250665525,
          -0.3664553028749531,
          2.3342129017412208,
          1.1906979337564245,
          2.110585384033756,
          5.3786572933345225,
          2.9099959663927364,
          4.047328078980396,
          0.5286325743451705,
          4.570546581289342,
          1.8061729262360346,
          0.9778234827333567,
          0.3884976673564031,
          2.0011408904505315,
          3.5096760993690586,
          2.8328320754156926,
          3.3636685241663296,
          2.7715192310506853,
          0.12583224262630477,
          1.0541834039000002,
          0.7278080926535646,
          3.8427151249055633,
          2.8483057409352996,
          4.082355893715508,
          3.9828689947065294,
          3.8232478315009804,
          2.5646107356134906,
          4.556653834048836,
          3.361178302699357,
          4.788273819762924,
          3.929065315253301,
          2.1351031622960432,
          2.374275559195645,
          3.169413950143227,
          4.405744314995359,
          5.7465127834979475,
          1.513473080589536,
          5.413463699194541,
          3.7519515048872303,
          2.2375485759307865,
          4.455282862556301,
          2.0635969683796778,
          2.258723573508433,
          3.0328988012907203,
          4.870308954497705,
          2.3090312143424567,
          3.3723771286059008,
          1.4010381672514844,
          2.9884065465798617
         ],
         "xaxis": "x2",
         "yaxis": "y2"
        },
        {
         "alignmentgroup": "True",
         "bingroup": "x",
         "hoverlabel": {
          "namelength": 0
         },
         "hovertemplate": "group=C<br>y=%{x}<br>count=%{y}",
         "legendgroup": "",
         "marker": {
          "color": "#636efa"
         },
         "name": "",
         "offsetgroup": "",
         "orientation": "v",
         "showlegend": false,
         "type": "histogram",
         "x": [
          4.780266561884151,
          3.604702292697425,
          3.6703304167147754,
          4.524329432848946,
          3.2210691165748595,
          3.261286462785005,
          2.3276575302043367,
          2.942895875543298,
          3.811999277872261,
          1.6012250590171884,
          2.8390006931499925,
          0.9515166245441748,
          1.7243559822194472,
          2.483351712313736,
          1.9340021845385174,
          3.95296771075287,
          5.011744882538471,
          5.360511411319198,
          0.9825859458469994,
          2.9237993557367052,
          2.5762441480802374,
          2.593214276921415,
          2.246389615815144,
          4.58263507248026,
          2.2700327733432526,
          3.132259703038707,
          3.42201090369724,
          1.755504578607895,
          3.092133731324741,
          0.5485891024866625,
          4.438481354122735,
          3.0597455435379346,
          2.344040176800318,
          4.300283524941419,
          3.3940518117910377,
          3.8394839075978644,
          3.4117375779020653,
          -0.15398810659537787,
          4.384870272762001,
          1.8863642139034327,
          2.6487552745699623,
          0.27665896626377573,
          4.276286439719917,
          5.030763323996369,
          0.3420592524454038,
          1.304168439239811,
          3.496299585589922,
          0.6255407937143431,
          2.2315428990503556,
          0.6074015422074666
         ],
         "xaxis": "x3",
         "yaxis": "y3"
        },
        {
         "alignmentgroup": "True",
         "bingroup": "x",
         "hoverlabel": {
          "namelength": 0
         },
         "hovertemplate": "group=D<br>y=%{x}<br>count=%{y}",
         "legendgroup": "",
         "marker": {
          "color": "#636efa"
         },
         "name": "",
         "offsetgroup": "",
         "orientation": "v",
         "showlegend": false,
         "type": "histogram",
         "x": [
          2.356018179006885,
          0.5890321936920497,
          3.7636418731321677,
          1.9564026682473301,
          2.1369196482921273,
          2.756342701144238,
          1.364222294472559,
          1.6265817688154494,
          1.5914659257842223,
          1.7717498530283313,
          3.260633504335903,
          0.30612730819606804,
          3.8734321023630063,
          2.6941855299675956,
          1.7616470137824254,
          2.5832243302933544,
          0.4128238495490187,
          2.6505022910528333,
          3.049471705181432,
          3.6268731414452757,
          1.2598536485354837,
          1.1637216576487253,
          2.243165966297958,
          1.3408332964600653,
          1.3906463365428967,
          2.583835139481253,
          2.0584092929385087,
          1.5931143096022642,
          2.383732383598638,
          2.0263825377121822,
          2.8840506129341392,
          0.5928945345698534,
          3.6080579396267733,
          1.3315115681141978,
          2.3455181656689787,
          2.6042212593416156,
          4.87488770221779,
          3.550311688128678,
          3.321804403073113,
          2.4936428712834675,
          1.7669687728509702,
          0.5078001492877449,
          1.4071652312278315,
          2.5755240484223916,
          2.9562438468472294,
          0.4746892405295263,
          2.80075873903749,
          3.036955141245827,
          4.4807062812901535,
          1.758349360599789
         ],
         "xaxis": "x4",
         "yaxis": "y4"
        }
       ],
       "layout": {
        "annotations": [
         {
          "showarrow": false,
          "text": "group=A",
          "x": 0.1175,
          "xanchor": "center",
          "xref": "paper",
          "y": 1,
          "yanchor": "bottom",
          "yref": "paper"
         },
         {
          "showarrow": false,
          "text": "group=B",
          "x": 0.3725,
          "xanchor": "center",
          "xref": "paper",
          "y": 1,
          "yanchor": "bottom",
          "yref": "paper"
         },
         {
          "showarrow": false,
          "text": "group=C",
          "x": 0.6275,
          "xanchor": "center",
          "xref": "paper",
          "y": 1,
          "yanchor": "bottom",
          "yref": "paper"
         },
         {
          "showarrow": false,
          "text": "group=D",
          "x": 0.8824999999999998,
          "xanchor": "center",
          "xref": "paper",
          "y": 1,
          "yanchor": "bottom",
          "yref": "paper"
         }
        ],
        "barmode": "relative",
        "legend": {
         "tracegroupgap": 0
        },
        "margin": {
         "t": 60
        },
        "template": {
         "data": {
          "bar": [
           {
            "error_x": {
             "color": "#2a3f5f"
            },
            "error_y": {
             "color": "#2a3f5f"
            },
            "marker": {
             "line": {
              "color": "#E5ECF6",
              "width": 0.5
             }
            },
            "type": "bar"
           }
          ],
          "barpolar": [
           {
            "marker": {
             "line": {
              "color": "#E5ECF6",
              "width": 0.5
             }
            },
            "type": "barpolar"
           }
          ],
          "carpet": [
           {
            "aaxis": {
             "endlinecolor": "#2a3f5f",
             "gridcolor": "white",
             "linecolor": "white",
             "minorgridcolor": "white",
             "startlinecolor": "#2a3f5f"
            },
            "baxis": {
             "endlinecolor": "#2a3f5f",
             "gridcolor": "white",
             "linecolor": "white",
             "minorgridcolor": "white",
             "startlinecolor": "#2a3f5f"
            },
            "type": "carpet"
           }
          ],
          "choropleth": [
           {
            "colorbar": {
             "outlinewidth": 0,
             "ticks": ""
            },
            "type": "choropleth"
           }
          ],
          "contour": [
           {
            "colorbar": {
             "outlinewidth": 0,
             "ticks": ""
            },
            "colorscale": [
             [
              0,
              "#0d0887"
             ],
             [
              0.1111111111111111,
              "#46039f"
             ],
             [
              0.2222222222222222,
              "#7201a8"
             ],
             [
              0.3333333333333333,
              "#9c179e"
             ],
             [
              0.4444444444444444,
              "#bd3786"
             ],
             [
              0.5555555555555556,
              "#d8576b"
             ],
             [
              0.6666666666666666,
              "#ed7953"
             ],
             [
              0.7777777777777778,
              "#fb9f3a"
             ],
             [
              0.8888888888888888,
              "#fdca26"
             ],
             [
              1,
              "#f0f921"
             ]
            ],
            "type": "contour"
           }
          ],
          "contourcarpet": [
           {
            "colorbar": {
             "outlinewidth": 0,
             "ticks": ""
            },
            "type": "contourcarpet"
           }
          ],
          "heatmap": [
           {
            "colorbar": {
             "outlinewidth": 0,
             "ticks": ""
            },
            "colorscale": [
             [
              0,
              "#0d0887"
             ],
             [
              0.1111111111111111,
              "#46039f"
             ],
             [
              0.2222222222222222,
              "#7201a8"
             ],
             [
              0.3333333333333333,
              "#9c179e"
             ],
             [
              0.4444444444444444,
              "#bd3786"
             ],
             [
              0.5555555555555556,
              "#d8576b"
             ],
             [
              0.6666666666666666,
              "#ed7953"
             ],
             [
              0.7777777777777778,
              "#fb9f3a"
             ],
             [
              0.8888888888888888,
              "#fdca26"
             ],
             [
              1,
              "#f0f921"
             ]
            ],
            "type": "heatmap"
           }
          ],
          "heatmapgl": [
           {
            "colorbar": {
             "outlinewidth": 0,
             "ticks": ""
            },
            "colorscale": [
             [
              0,
              "#0d0887"
             ],
             [
              0.1111111111111111,
              "#46039f"
             ],
             [
              0.2222222222222222,
              "#7201a8"
             ],
             [
              0.3333333333333333,
              "#9c179e"
             ],
             [
              0.4444444444444444,
              "#bd3786"
             ],
             [
              0.5555555555555556,
              "#d8576b"
             ],
             [
              0.6666666666666666,
              "#ed7953"
             ],
             [
              0.7777777777777778,
              "#fb9f3a"
             ],
             [
              0.8888888888888888,
              "#fdca26"
             ],
             [
              1,
              "#f0f921"
             ]
            ],
            "type": "heatmapgl"
           }
          ],
          "histogram": [
           {
            "marker": {
             "colorbar": {
              "outlinewidth": 0,
              "ticks": ""
             }
            },
            "type": "histogram"
           }
          ],
          "histogram2d": [
           {
            "colorbar": {
             "outlinewidth": 0,
             "ticks": ""
            },
            "colorscale": [
             [
              0,
              "#0d0887"
             ],
             [
              0.1111111111111111,
              "#46039f"
             ],
             [
              0.2222222222222222,
              "#7201a8"
             ],
             [
              0.3333333333333333,
              "#9c179e"
             ],
             [
              0.4444444444444444,
              "#bd3786"
             ],
             [
              0.5555555555555556,
              "#d8576b"
             ],
             [
              0.6666666666666666,
              "#ed7953"
             ],
             [
              0.7777777777777778,
              "#fb9f3a"
             ],
             [
              0.8888888888888888,
              "#fdca26"
             ],
             [
              1,
              "#f0f921"
             ]
            ],
            "type": "histogram2d"
           }
          ],
          "histogram2dcontour": [
           {
            "colorbar": {
             "outlinewidth": 0,
             "ticks": ""
            },
            "colorscale": [
             [
              0,
              "#0d0887"
             ],
             [
              0.1111111111111111,
              "#46039f"
             ],
             [
              0.2222222222222222,
              "#7201a8"
             ],
             [
              0.3333333333333333,
              "#9c179e"
             ],
             [
              0.4444444444444444,
              "#bd3786"
             ],
             [
              0.5555555555555556,
              "#d8576b"
             ],
             [
              0.6666666666666666,
              "#ed7953"
             ],
             [
              0.7777777777777778,
              "#fb9f3a"
             ],
             [
              0.8888888888888888,
              "#fdca26"
             ],
             [
              1,
              "#f0f921"
             ]
            ],
            "type": "histogram2dcontour"
           }
          ],
          "mesh3d": [
           {
            "colorbar": {
             "outlinewidth": 0,
             "ticks": ""
            },
            "type": "mesh3d"
           }
          ],
          "parcoords": [
           {
            "line": {
             "colorbar": {
              "outlinewidth": 0,
              "ticks": ""
             }
            },
            "type": "parcoords"
           }
          ],
          "pie": [
           {
            "automargin": true,
            "type": "pie"
           }
          ],
          "scatter": [
           {
            "marker": {
             "colorbar": {
              "outlinewidth": 0,
              "ticks": ""
             }
            },
            "type": "scatter"
           }
          ],
          "scatter3d": [
           {
            "line": {
             "colorbar": {
              "outlinewidth": 0,
              "ticks": ""
             }
            },
            "marker": {
             "colorbar": {
              "outlinewidth": 0,
              "ticks": ""
             }
            },
            "type": "scatter3d"
           }
          ],
          "scattercarpet": [
           {
            "marker": {
             "colorbar": {
              "outlinewidth": 0,
              "ticks": ""
             }
            },
            "type": "scattercarpet"
           }
          ],
          "scattergeo": [
           {
            "marker": {
             "colorbar": {
              "outlinewidth": 0,
              "ticks": ""
             }
            },
            "type": "scattergeo"
           }
          ],
          "scattergl": [
           {
            "marker": {
             "colorbar": {
              "outlinewidth": 0,
              "ticks": ""
             }
            },
            "type": "scattergl"
           }
          ],
          "scattermapbox": [
           {
            "marker": {
             "colorbar": {
              "outlinewidth": 0,
              "ticks": ""
             }
            },
            "type": "scattermapbox"
           }
          ],
          "scatterpolar": [
           {
            "marker": {
             "colorbar": {
              "outlinewidth": 0,
              "ticks": ""
             }
            },
            "type": "scatterpolar"
           }
          ],
          "scatterpolargl": [
           {
            "marker": {
             "colorbar": {
              "outlinewidth": 0,
              "ticks": ""
             }
            },
            "type": "scatterpolargl"
           }
          ],
          "scatterternary": [
           {
            "marker": {
             "colorbar": {
              "outlinewidth": 0,
              "ticks": ""
             }
            },
            "type": "scatterternary"
           }
          ],
          "surface": [
           {
            "colorbar": {
             "outlinewidth": 0,
             "ticks": ""
            },
            "colorscale": [
             [
              0,
              "#0d0887"
             ],
             [
              0.1111111111111111,
              "#46039f"
             ],
             [
              0.2222222222222222,
              "#7201a8"
             ],
             [
              0.3333333333333333,
              "#9c179e"
             ],
             [
              0.4444444444444444,
              "#bd3786"
             ],
             [
              0.5555555555555556,
              "#d8576b"
             ],
             [
              0.6666666666666666,
              "#ed7953"
             ],
             [
              0.7777777777777778,
              "#fb9f3a"
             ],
             [
              0.8888888888888888,
              "#fdca26"
             ],
             [
              1,
              "#f0f921"
             ]
            ],
            "type": "surface"
           }
          ],
          "table": [
           {
            "cells": {
             "fill": {
              "color": "#EBF0F8"
             },
             "line": {
              "color": "white"
             }
            },
            "header": {
             "fill": {
              "color": "#C8D4E3"
             },
             "line": {
              "color": "white"
             }
            },
            "type": "table"
           }
          ]
         },
         "layout": {
          "annotationdefaults": {
           "arrowcolor": "#2a3f5f",
           "arrowhead": 0,
           "arrowwidth": 1
          },
          "coloraxis": {
           "colorbar": {
            "outlinewidth": 0,
            "ticks": ""
           }
          },
          "colorscale": {
           "diverging": [
            [
             0,
             "#8e0152"
            ],
            [
             0.1,
             "#c51b7d"
            ],
            [
             0.2,
             "#de77ae"
            ],
            [
             0.3,
             "#f1b6da"
            ],
            [
             0.4,
             "#fde0ef"
            ],
            [
             0.5,
             "#f7f7f7"
            ],
            [
             0.6,
             "#e6f5d0"
            ],
            [
             0.7,
             "#b8e186"
            ],
            [
             0.8,
             "#7fbc41"
            ],
            [
             0.9,
             "#4d9221"
            ],
            [
             1,
             "#276419"
            ]
           ],
           "sequential": [
            [
             0,
             "#0d0887"
            ],
            [
             0.1111111111111111,
             "#46039f"
            ],
            [
             0.2222222222222222,
             "#7201a8"
            ],
            [
             0.3333333333333333,
             "#9c179e"
            ],
            [
             0.4444444444444444,
             "#bd3786"
            ],
            [
             0.5555555555555556,
             "#d8576b"
            ],
            [
             0.6666666666666666,
             "#ed7953"
            ],
            [
             0.7777777777777778,
             "#fb9f3a"
            ],
            [
             0.8888888888888888,
             "#fdca26"
            ],
            [
             1,
             "#f0f921"
            ]
           ],
           "sequentialminus": [
            [
             0,
             "#0d0887"
            ],
            [
             0.1111111111111111,
             "#46039f"
            ],
            [
             0.2222222222222222,
             "#7201a8"
            ],
            [
             0.3333333333333333,
             "#9c179e"
            ],
            [
             0.4444444444444444,
             "#bd3786"
            ],
            [
             0.5555555555555556,
             "#d8576b"
            ],
            [
             0.6666666666666666,
             "#ed7953"
            ],
            [
             0.7777777777777778,
             "#fb9f3a"
            ],
            [
             0.8888888888888888,
             "#fdca26"
            ],
            [
             1,
             "#f0f921"
            ]
           ]
          },
          "colorway": [
           "#636efa",
           "#EF553B",
           "#00cc96",
           "#ab63fa",
           "#FFA15A",
           "#19d3f3",
           "#FF6692",
           "#B6E880",
           "#FF97FF",
           "#FECB52"
          ],
          "font": {
           "color": "#2a3f5f"
          },
          "geo": {
           "bgcolor": "white",
           "lakecolor": "white",
           "landcolor": "#E5ECF6",
           "showlakes": true,
           "showland": true,
           "subunitcolor": "white"
          },
          "hoverlabel": {
           "align": "left"
          },
          "hovermode": "closest",
          "mapbox": {
           "style": "light"
          },
          "paper_bgcolor": "white",
          "plot_bgcolor": "#E5ECF6",
          "polar": {
           "angularaxis": {
            "gridcolor": "white",
            "linecolor": "white",
            "ticks": ""
           },
           "bgcolor": "#E5ECF6",
           "radialaxis": {
            "gridcolor": "white",
            "linecolor": "white",
            "ticks": ""
           }
          },
          "scene": {
           "xaxis": {
            "backgroundcolor": "#E5ECF6",
            "gridcolor": "white",
            "gridwidth": 2,
            "linecolor": "white",
            "showbackground": true,
            "ticks": "",
            "zerolinecolor": "white"
           },
           "yaxis": {
            "backgroundcolor": "#E5ECF6",
            "gridcolor": "white",
            "gridwidth": 2,
            "linecolor": "white",
            "showbackground": true,
            "ticks": "",
            "zerolinecolor": "white"
           },
           "zaxis": {
            "backgroundcolor": "#E5ECF6",
            "gridcolor": "white",
            "gridwidth": 2,
            "linecolor": "white",
            "showbackground": true,
            "ticks": "",
            "zerolinecolor": "white"
           }
          },
          "shapedefaults": {
           "line": {
            "color": "#2a3f5f"
           }
          },
          "ternary": {
           "aaxis": {
            "gridcolor": "white",
            "linecolor": "white",
            "ticks": ""
           },
           "baxis": {
            "gridcolor": "white",
            "linecolor": "white",
            "ticks": ""
           },
           "bgcolor": "#E5ECF6",
           "caxis": {
            "gridcolor": "white",
            "linecolor": "white",
            "ticks": ""
           }
          },
          "title": {
           "x": 0.05
          },
          "xaxis": {
           "automargin": true,
           "gridcolor": "white",
           "linecolor": "white",
           "ticks": "",
           "title": {
            "standoff": 15
           },
           "zerolinecolor": "white",
           "zerolinewidth": 2
          },
          "yaxis": {
           "automargin": true,
           "gridcolor": "white",
           "linecolor": "white",
           "ticks": "",
           "title": {
            "standoff": 15
           },
           "zerolinecolor": "white",
           "zerolinewidth": 2
          }
         }
        },
        "xaxis": {
         "anchor": "y",
         "domain": [
          0,
          0.235
         ],
         "title": {
          "text": "y"
         }
        },
        "xaxis2": {
         "anchor": "y2",
         "domain": [
          0.255,
          0.49
         ],
         "matches": "x",
         "title": {
          "text": "y"
         }
        },
        "xaxis3": {
         "anchor": "y3",
         "domain": [
          0.51,
          0.745
         ],
         "matches": "x",
         "title": {
          "text": "y"
         }
        },
        "xaxis4": {
         "anchor": "y4",
         "domain": [
          0.7649999999999999,
          0.9999999999999999
         ],
         "matches": "x",
         "title": {
          "text": "y"
         }
        },
        "yaxis": {
         "anchor": "x",
         "domain": [
          0,
          1
         ],
         "title": {
          "text": "count"
         }
        },
        "yaxis2": {
         "anchor": "x2",
         "domain": [
          0,
          1
         ],
         "matches": "y",
         "showticklabels": false
        },
        "yaxis3": {
         "anchor": "x3",
         "domain": [
          0,
          1
         ],
         "matches": "y",
         "showticklabels": false
        },
        "yaxis4": {
         "anchor": "x4",
         "domain": [
          0,
          1
         ],
         "matches": "y",
         "showticklabels": false
        }
       }
      },
      "text/html": [
       "<div>\n",
       "        \n",
       "        \n",
       "            <div id=\"bc6cdcc4-fa5e-473e-87a5-5ea10680e558\" class=\"plotly-graph-div\" style=\"height:525px; width:100%;\"></div>\n",
       "            <script type=\"text/javascript\">\n",
       "                require([\"plotly\"], function(Plotly) {\n",
       "                    window.PLOTLYENV=window.PLOTLYENV || {};\n",
       "                    \n",
       "                if (document.getElementById(\"bc6cdcc4-fa5e-473e-87a5-5ea10680e558\")) {\n",
       "                    Plotly.newPlot(\n",
       "                        'bc6cdcc4-fa5e-473e-87a5-5ea10680e558',\n",
       "                        [{\"alignmentgroup\": \"True\", \"bingroup\": \"x\", \"hoverlabel\": {\"namelength\": 0}, \"hovertemplate\": \"group=A<br>y=%{x}<br>count=%{y}\", \"legendgroup\": \"\", \"marker\": {\"color\": \"#636efa\"}, \"name\": \"\", \"offsetgroup\": \"\", \"orientation\": \"v\", \"showlegend\": false, \"type\": \"histogram\", \"x\": [3.639633968338619, -0.2535452757769867, 0.693132730194409, 3.536159483327719, 0.18594576254770123, 1.8953678851410563, 1.38869170179541, 1.5048902046561385, 1.3450673345878001, 4.665942955705107, 3.500416001345053, 2.1371078992921366, 1.9462851383719775, 4.233259589508735, -1.2008145960400118, 3.8880154282533983, 0.6963427700442585, 2.195841406996615, 1.8554619800482146, 3.7299794230023497, 2.9811455294840883, 2.317965281361505, 1.205160604360921, 2.4007287348110067, 3.046707107624779, 1.5868235944588527, 3.7208928307862954, 4.869278428260831, 0.17408622189484935, 3.2482663722196854, 2.5127661747710266, -0.16178228433256292, 3.7914711652588142, 2.430753060925585, 0.9603458702367396, 4.37125226920184, 0.6878578375676627, 2.018398298509555, 3.8791829623151184, 2.4838054590801875, 2.0721653772055406, 3.2081573415795503, 2.5409839598225306, 1.8373417717131937, -0.057947586292873776, 1.2076003647364373, 1.0446190552950658, 1.5352532533320697, 2.9288582251639825, 2.860740925742132], \"xaxis\": \"x\", \"yaxis\": \"y\"}, {\"alignmentgroup\": \"True\", \"bingroup\": \"x\", \"hoverlabel\": {\"namelength\": 0}, \"hovertemplate\": \"group=B<br>y=%{x}<br>count=%{y}\", \"legendgroup\": \"\", \"marker\": {\"color\": \"#636efa\"}, \"name\": \"\", \"offsetgroup\": \"\", \"orientation\": \"v\", \"showlegend\": false, \"type\": \"histogram\", \"x\": [2.884495881358384, 0.7274572250665525, -0.3664553028749531, 2.3342129017412208, 1.1906979337564245, 2.110585384033756, 5.3786572933345225, 2.9099959663927364, 4.047328078980396, 0.5286325743451705, 4.570546581289342, 1.8061729262360346, 0.9778234827333567, 0.3884976673564031, 2.0011408904505315, 3.5096760993690586, 2.8328320754156926, 3.3636685241663296, 2.7715192310506853, 0.12583224262630477, 1.0541834039000002, 0.7278080926535646, 3.8427151249055633, 2.8483057409352996, 4.082355893715508, 3.9828689947065294, 3.8232478315009804, 2.5646107356134906, 4.556653834048836, 3.361178302699357, 4.788273819762924, 3.929065315253301, 2.1351031622960432, 2.374275559195645, 3.169413950143227, 4.405744314995359, 5.7465127834979475, 1.513473080589536, 5.413463699194541, 3.7519515048872303, 2.2375485759307865, 4.455282862556301, 2.0635969683796778, 2.258723573508433, 3.0328988012907203, 4.870308954497705, 2.3090312143424567, 3.3723771286059008, 1.4010381672514844, 2.9884065465798617], \"xaxis\": \"x2\", \"yaxis\": \"y2\"}, {\"alignmentgroup\": \"True\", \"bingroup\": \"x\", \"hoverlabel\": {\"namelength\": 0}, \"hovertemplate\": \"group=C<br>y=%{x}<br>count=%{y}\", \"legendgroup\": \"\", \"marker\": {\"color\": \"#636efa\"}, \"name\": \"\", \"offsetgroup\": \"\", \"orientation\": \"v\", \"showlegend\": false, \"type\": \"histogram\", \"x\": [4.780266561884151, 3.604702292697425, 3.6703304167147754, 4.524329432848946, 3.2210691165748595, 3.261286462785005, 2.3276575302043367, 2.942895875543298, 3.811999277872261, 1.6012250590171884, 2.8390006931499925, 0.9515166245441748, 1.7243559822194472, 2.483351712313736, 1.9340021845385174, 3.95296771075287, 5.011744882538471, 5.360511411319198, 0.9825859458469994, 2.9237993557367052, 2.5762441480802374, 2.593214276921415, 2.246389615815144, 4.58263507248026, 2.2700327733432526, 3.132259703038707, 3.42201090369724, 1.755504578607895, 3.092133731324741, 0.5485891024866625, 4.438481354122735, 3.0597455435379346, 2.344040176800318, 4.300283524941419, 3.3940518117910377, 3.8394839075978644, 3.4117375779020653, -0.15398810659537787, 4.384870272762001, 1.8863642139034327, 2.6487552745699623, 0.27665896626377573, 4.276286439719917, 5.030763323996369, 0.3420592524454038, 1.304168439239811, 3.496299585589922, 0.6255407937143431, 2.2315428990503556, 0.6074015422074666], \"xaxis\": \"x3\", \"yaxis\": \"y3\"}, {\"alignmentgroup\": \"True\", \"bingroup\": \"x\", \"hoverlabel\": {\"namelength\": 0}, \"hovertemplate\": \"group=D<br>y=%{x}<br>count=%{y}\", \"legendgroup\": \"\", \"marker\": {\"color\": \"#636efa\"}, \"name\": \"\", \"offsetgroup\": \"\", \"orientation\": \"v\", \"showlegend\": false, \"type\": \"histogram\", \"x\": [2.356018179006885, 0.5890321936920497, 3.7636418731321677, 1.9564026682473301, 2.1369196482921273, 2.756342701144238, 1.364222294472559, 1.6265817688154494, 1.5914659257842223, 1.7717498530283313, 3.260633504335903, 0.30612730819606804, 3.8734321023630063, 2.6941855299675956, 1.7616470137824254, 2.5832243302933544, 0.4128238495490187, 2.6505022910528333, 3.049471705181432, 3.6268731414452757, 1.2598536485354837, 1.1637216576487253, 2.243165966297958, 1.3408332964600653, 1.3906463365428967, 2.583835139481253, 2.0584092929385087, 1.5931143096022642, 2.383732383598638, 2.0263825377121822, 2.8840506129341392, 0.5928945345698534, 3.6080579396267733, 1.3315115681141978, 2.3455181656689787, 2.6042212593416156, 4.87488770221779, 3.550311688128678, 3.321804403073113, 2.4936428712834675, 1.7669687728509702, 0.5078001492877449, 1.4071652312278315, 2.5755240484223916, 2.9562438468472294, 0.4746892405295263, 2.80075873903749, 3.036955141245827, 4.4807062812901535, 1.758349360599789], \"xaxis\": \"x4\", \"yaxis\": \"y4\"}],\n",
       "                        {\"annotations\": [{\"showarrow\": false, \"text\": \"group=A\", \"x\": 0.1175, \"xanchor\": \"center\", \"xref\": \"paper\", \"y\": 1.0, \"yanchor\": \"bottom\", \"yref\": \"paper\"}, {\"showarrow\": false, \"text\": \"group=B\", \"x\": 0.3725, \"xanchor\": \"center\", \"xref\": \"paper\", \"y\": 1.0, \"yanchor\": \"bottom\", \"yref\": \"paper\"}, {\"showarrow\": false, \"text\": \"group=C\", \"x\": 0.6275, \"xanchor\": \"center\", \"xref\": \"paper\", \"y\": 1.0, \"yanchor\": \"bottom\", \"yref\": \"paper\"}, {\"showarrow\": false, \"text\": \"group=D\", \"x\": 0.8824999999999998, \"xanchor\": \"center\", \"xref\": \"paper\", \"y\": 1.0, \"yanchor\": \"bottom\", \"yref\": \"paper\"}], \"barmode\": \"relative\", \"legend\": {\"tracegroupgap\": 0}, \"margin\": {\"t\": 60}, \"template\": {\"data\": {\"bar\": [{\"error_x\": {\"color\": \"#2a3f5f\"}, \"error_y\": {\"color\": \"#2a3f5f\"}, \"marker\": {\"line\": {\"color\": \"#E5ECF6\", \"width\": 0.5}}, \"type\": \"bar\"}], \"barpolar\": [{\"marker\": {\"line\": {\"color\": \"#E5ECF6\", \"width\": 0.5}}, \"type\": \"barpolar\"}], \"carpet\": [{\"aaxis\": {\"endlinecolor\": \"#2a3f5f\", \"gridcolor\": \"white\", \"linecolor\": \"white\", \"minorgridcolor\": \"white\", \"startlinecolor\": \"#2a3f5f\"}, \"baxis\": {\"endlinecolor\": \"#2a3f5f\", \"gridcolor\": \"white\", \"linecolor\": \"white\", \"minorgridcolor\": \"white\", \"startlinecolor\": \"#2a3f5f\"}, \"type\": \"carpet\"}], \"choropleth\": [{\"colorbar\": {\"outlinewidth\": 0, \"ticks\": \"\"}, \"type\": \"choropleth\"}], \"contour\": [{\"colorbar\": {\"outlinewidth\": 0, \"ticks\": \"\"}, \"colorscale\": [[0.0, \"#0d0887\"], [0.1111111111111111, \"#46039f\"], [0.2222222222222222, \"#7201a8\"], [0.3333333333333333, \"#9c179e\"], [0.4444444444444444, \"#bd3786\"], [0.5555555555555556, \"#d8576b\"], [0.6666666666666666, \"#ed7953\"], [0.7777777777777778, \"#fb9f3a\"], [0.8888888888888888, \"#fdca26\"], [1.0, \"#f0f921\"]], \"type\": \"contour\"}], \"contourcarpet\": [{\"colorbar\": {\"outlinewidth\": 0, \"ticks\": \"\"}, \"type\": \"contourcarpet\"}], \"heatmap\": [{\"colorbar\": {\"outlinewidth\": 0, \"ticks\": \"\"}, \"colorscale\": [[0.0, \"#0d0887\"], [0.1111111111111111, \"#46039f\"], [0.2222222222222222, \"#7201a8\"], [0.3333333333333333, \"#9c179e\"], [0.4444444444444444, \"#bd3786\"], [0.5555555555555556, \"#d8576b\"], [0.6666666666666666, \"#ed7953\"], [0.7777777777777778, \"#fb9f3a\"], [0.8888888888888888, \"#fdca26\"], [1.0, \"#f0f921\"]], \"type\": \"heatmap\"}], \"heatmapgl\": [{\"colorbar\": {\"outlinewidth\": 0, \"ticks\": \"\"}, \"colorscale\": [[0.0, \"#0d0887\"], [0.1111111111111111, \"#46039f\"], [0.2222222222222222, \"#7201a8\"], [0.3333333333333333, \"#9c179e\"], [0.4444444444444444, \"#bd3786\"], [0.5555555555555556, \"#d8576b\"], [0.6666666666666666, \"#ed7953\"], [0.7777777777777778, \"#fb9f3a\"], [0.8888888888888888, \"#fdca26\"], [1.0, \"#f0f921\"]], \"type\": \"heatmapgl\"}], \"histogram\": [{\"marker\": {\"colorbar\": {\"outlinewidth\": 0, \"ticks\": \"\"}}, \"type\": \"histogram\"}], \"histogram2d\": [{\"colorbar\": {\"outlinewidth\": 0, \"ticks\": \"\"}, \"colorscale\": [[0.0, \"#0d0887\"], [0.1111111111111111, \"#46039f\"], [0.2222222222222222, \"#7201a8\"], [0.3333333333333333, \"#9c179e\"], [0.4444444444444444, \"#bd3786\"], [0.5555555555555556, \"#d8576b\"], [0.6666666666666666, \"#ed7953\"], [0.7777777777777778, \"#fb9f3a\"], [0.8888888888888888, \"#fdca26\"], [1.0, \"#f0f921\"]], \"type\": \"histogram2d\"}], \"histogram2dcontour\": [{\"colorbar\": {\"outlinewidth\": 0, \"ticks\": \"\"}, \"colorscale\": [[0.0, \"#0d0887\"], [0.1111111111111111, \"#46039f\"], [0.2222222222222222, \"#7201a8\"], [0.3333333333333333, \"#9c179e\"], [0.4444444444444444, \"#bd3786\"], [0.5555555555555556, \"#d8576b\"], [0.6666666666666666, \"#ed7953\"], [0.7777777777777778, \"#fb9f3a\"], [0.8888888888888888, \"#fdca26\"], [1.0, \"#f0f921\"]], \"type\": \"histogram2dcontour\"}], \"mesh3d\": [{\"colorbar\": {\"outlinewidth\": 0, \"ticks\": \"\"}, \"type\": \"mesh3d\"}], \"parcoords\": [{\"line\": {\"colorbar\": {\"outlinewidth\": 0, \"ticks\": \"\"}}, \"type\": \"parcoords\"}], \"pie\": [{\"automargin\": true, \"type\": \"pie\"}], \"scatter\": [{\"marker\": {\"colorbar\": {\"outlinewidth\": 0, \"ticks\": \"\"}}, \"type\": \"scatter\"}], \"scatter3d\": [{\"line\": {\"colorbar\": {\"outlinewidth\": 0, \"ticks\": \"\"}}, \"marker\": {\"colorbar\": {\"outlinewidth\": 0, \"ticks\": \"\"}}, \"type\": \"scatter3d\"}], \"scattercarpet\": [{\"marker\": {\"colorbar\": {\"outlinewidth\": 0, \"ticks\": \"\"}}, \"type\": \"scattercarpet\"}], \"scattergeo\": [{\"marker\": {\"colorbar\": {\"outlinewidth\": 0, \"ticks\": \"\"}}, \"type\": \"scattergeo\"}], \"scattergl\": [{\"marker\": {\"colorbar\": {\"outlinewidth\": 0, \"ticks\": \"\"}}, \"type\": \"scattergl\"}], \"scattermapbox\": [{\"marker\": {\"colorbar\": {\"outlinewidth\": 0, \"ticks\": \"\"}}, \"type\": \"scattermapbox\"}], \"scatterpolar\": [{\"marker\": {\"colorbar\": {\"outlinewidth\": 0, \"ticks\": \"\"}}, \"type\": \"scatterpolar\"}], \"scatterpolargl\": [{\"marker\": {\"colorbar\": {\"outlinewidth\": 0, \"ticks\": \"\"}}, \"type\": \"scatterpolargl\"}], \"scatterternary\": [{\"marker\": {\"colorbar\": {\"outlinewidth\": 0, \"ticks\": \"\"}}, \"type\": \"scatterternary\"}], \"surface\": [{\"colorbar\": {\"outlinewidth\": 0, \"ticks\": \"\"}, \"colorscale\": [[0.0, \"#0d0887\"], [0.1111111111111111, \"#46039f\"], [0.2222222222222222, \"#7201a8\"], [0.3333333333333333, \"#9c179e\"], [0.4444444444444444, \"#bd3786\"], [0.5555555555555556, \"#d8576b\"], [0.6666666666666666, \"#ed7953\"], [0.7777777777777778, \"#fb9f3a\"], [0.8888888888888888, \"#fdca26\"], [1.0, \"#f0f921\"]], \"type\": \"surface\"}], \"table\": [{\"cells\": {\"fill\": {\"color\": \"#EBF0F8\"}, \"line\": {\"color\": \"white\"}}, \"header\": {\"fill\": {\"color\": \"#C8D4E3\"}, \"line\": {\"color\": \"white\"}}, \"type\": \"table\"}]}, \"layout\": {\"annotationdefaults\": {\"arrowcolor\": \"#2a3f5f\", \"arrowhead\": 0, \"arrowwidth\": 1}, \"coloraxis\": {\"colorbar\": {\"outlinewidth\": 0, \"ticks\": \"\"}}, \"colorscale\": {\"diverging\": [[0, \"#8e0152\"], [0.1, \"#c51b7d\"], [0.2, \"#de77ae\"], [0.3, \"#f1b6da\"], [0.4, \"#fde0ef\"], [0.5, \"#f7f7f7\"], [0.6, \"#e6f5d0\"], [0.7, \"#b8e186\"], [0.8, \"#7fbc41\"], [0.9, \"#4d9221\"], [1, \"#276419\"]], \"sequential\": [[0.0, \"#0d0887\"], [0.1111111111111111, \"#46039f\"], [0.2222222222222222, \"#7201a8\"], [0.3333333333333333, \"#9c179e\"], [0.4444444444444444, \"#bd3786\"], [0.5555555555555556, \"#d8576b\"], [0.6666666666666666, \"#ed7953\"], [0.7777777777777778, \"#fb9f3a\"], [0.8888888888888888, \"#fdca26\"], [1.0, \"#f0f921\"]], \"sequentialminus\": [[0.0, \"#0d0887\"], [0.1111111111111111, \"#46039f\"], [0.2222222222222222, \"#7201a8\"], [0.3333333333333333, \"#9c179e\"], [0.4444444444444444, \"#bd3786\"], [0.5555555555555556, \"#d8576b\"], [0.6666666666666666, \"#ed7953\"], [0.7777777777777778, \"#fb9f3a\"], [0.8888888888888888, \"#fdca26\"], [1.0, \"#f0f921\"]]}, \"colorway\": [\"#636efa\", \"#EF553B\", \"#00cc96\", \"#ab63fa\", \"#FFA15A\", \"#19d3f3\", \"#FF6692\", \"#B6E880\", \"#FF97FF\", \"#FECB52\"], \"font\": {\"color\": \"#2a3f5f\"}, \"geo\": {\"bgcolor\": \"white\", \"lakecolor\": \"white\", \"landcolor\": \"#E5ECF6\", \"showlakes\": true, \"showland\": true, \"subunitcolor\": \"white\"}, \"hoverlabel\": {\"align\": \"left\"}, \"hovermode\": \"closest\", \"mapbox\": {\"style\": \"light\"}, \"paper_bgcolor\": \"white\", \"plot_bgcolor\": \"#E5ECF6\", \"polar\": {\"angularaxis\": {\"gridcolor\": \"white\", \"linecolor\": \"white\", \"ticks\": \"\"}, \"bgcolor\": \"#E5ECF6\", \"radialaxis\": {\"gridcolor\": \"white\", \"linecolor\": \"white\", \"ticks\": \"\"}}, \"scene\": {\"xaxis\": {\"backgroundcolor\": \"#E5ECF6\", \"gridcolor\": \"white\", \"gridwidth\": 2, \"linecolor\": \"white\", \"showbackground\": true, \"ticks\": \"\", \"zerolinecolor\": \"white\"}, \"yaxis\": {\"backgroundcolor\": \"#E5ECF6\", \"gridcolor\": \"white\", \"gridwidth\": 2, \"linecolor\": \"white\", \"showbackground\": true, \"ticks\": \"\", \"zerolinecolor\": \"white\"}, \"zaxis\": {\"backgroundcolor\": \"#E5ECF6\", \"gridcolor\": \"white\", \"gridwidth\": 2, \"linecolor\": \"white\", \"showbackground\": true, \"ticks\": \"\", \"zerolinecolor\": \"white\"}}, \"shapedefaults\": {\"line\": {\"color\": \"#2a3f5f\"}}, \"ternary\": {\"aaxis\": {\"gridcolor\": \"white\", \"linecolor\": \"white\", \"ticks\": \"\"}, \"baxis\": {\"gridcolor\": \"white\", \"linecolor\": \"white\", \"ticks\": \"\"}, \"bgcolor\": \"#E5ECF6\", \"caxis\": {\"gridcolor\": \"white\", \"linecolor\": \"white\", \"ticks\": \"\"}}, \"title\": {\"x\": 0.05}, \"xaxis\": {\"automargin\": true, \"gridcolor\": \"white\", \"linecolor\": \"white\", \"ticks\": \"\", \"title\": {\"standoff\": 15}, \"zerolinecolor\": \"white\", \"zerolinewidth\": 2}, \"yaxis\": {\"automargin\": true, \"gridcolor\": \"white\", \"linecolor\": \"white\", \"ticks\": \"\", \"title\": {\"standoff\": 15}, \"zerolinecolor\": \"white\", \"zerolinewidth\": 2}}}, \"xaxis\": {\"anchor\": \"y\", \"domain\": [0.0, 0.235], \"title\": {\"text\": \"y\"}}, \"xaxis2\": {\"anchor\": \"y2\", \"domain\": [0.255, 0.49], \"matches\": \"x\", \"title\": {\"text\": \"y\"}}, \"xaxis3\": {\"anchor\": \"y3\", \"domain\": [0.51, 0.745], \"matches\": \"x\", \"title\": {\"text\": \"y\"}}, \"xaxis4\": {\"anchor\": \"y4\", \"domain\": [0.7649999999999999, 0.9999999999999999], \"matches\": \"x\", \"title\": {\"text\": \"y\"}}, \"yaxis\": {\"anchor\": \"x\", \"domain\": [0.0, 1.0], \"title\": {\"text\": \"count\"}}, \"yaxis2\": {\"anchor\": \"x2\", \"domain\": [0.0, 1.0], \"matches\": \"y\", \"showticklabels\": false}, \"yaxis3\": {\"anchor\": \"x3\", \"domain\": [0.0, 1.0], \"matches\": \"y\", \"showticklabels\": false}, \"yaxis4\": {\"anchor\": \"x4\", \"domain\": [0.0, 1.0], \"matches\": \"y\", \"showticklabels\": false}},\n",
       "                        {\"responsive\": true}\n",
       "                    ).then(function(){\n",
       "                            \n",
       "var gd = document.getElementById('bc6cdcc4-fa5e-473e-87a5-5ea10680e558');\n",
       "var x = new MutationObserver(function (mutations, observer) {{\n",
       "        var display = window.getComputedStyle(gd).display;\n",
       "        if (!display || display === 'none') {{\n",
       "            console.log([gd, 'removed!']);\n",
       "            Plotly.purge(gd);\n",
       "            observer.disconnect();\n",
       "        }}\n",
       "}});\n",
       "\n",
       "// Listen for the removal of the full notebook cells\n",
       "var notebookContainer = gd.closest('#notebook-container');\n",
       "if (notebookContainer) {{\n",
       "    x.observe(notebookContainer, {childList: true});\n",
       "}}\n",
       "\n",
       "// Listen for the clearing of the current output cell\n",
       "var outputEl = gd.closest('.output');\n",
       "if (outputEl) {{\n",
       "    x.observe(outputEl, {childList: true});\n",
       "}}\n",
       "\n",
       "                        })\n",
       "                };\n",
       "                });\n",
       "            </script>\n",
       "        </div>"
      ]
     },
     "metadata": {},
     "output_type": "display_data"
    }
   ],
   "source": [
    "# y histograms by group\n",
    "plotly.offline.iplot(\n",
    "    plotly.express.histogram(data1, x = \"y\", facet_col = \"group\")\n",
    ")"
   ]
  },
  {
   "cell_type": "code",
   "execution_count": 347,
   "metadata": {},
   "outputs": [
    {
     "data": {
      "application/vnd.plotly.v1+json": {
       "config": {
        "linkText": "Export to plot.ly",
        "plotlyServerURL": "https://plot.ly",
        "showLink": false
       },
       "data": [
        {
         "alignmentgroup": "True",
         "bingroup": "x",
         "hoverlabel": {
          "namelength": 0
         },
         "hovertemplate": "group=A<br>x=%{x}<br>count=%{y}",
         "legendgroup": "",
         "marker": {
          "color": "#636efa"
         },
         "name": "",
         "offsetgroup": "",
         "orientation": "v",
         "showlegend": false,
         "type": "histogram",
         "x": [
          3.704314014721918,
          2.3104629062531883,
          2.8563723825995213,
          3.6083737822367787,
          1.490911152662311,
          3.6896427371057254,
          2.7530219096056614,
          4.032651146542533,
          0.34980821484960156,
          3.909161783204173,
          4.278917775403523,
          2.524709001055272,
          2.6531320899512942,
          3.650388465499863,
          1.9382428266519445,
          3.4911982280370535,
          2.100387922988501,
          2.340622610797912,
          2.144835980602888,
          4.198943355193459,
          2.8847299324113953,
          3.7660267086854304,
          2.1686435601834484,
          3.7963677747810096,
          3.849128874407978,
          2.41497055424014,
          2.001454678027793,
          4.198318454831068,
          2.6198573714036635,
          2.9366242680735004,
          3.9028358592608816,
          0.5617433993092615,
          2.9380958175624032,
          1.8554066112661556,
          3.7452952243870414,
          4.601432266015381,
          2.506185178257242,
          2.0991544984302415,
          3.2919666813917514,
          1.7654815586879526,
          2.0624683294259474,
          3.062875362415646,
          3.1454795280080536,
          2.8855572953904214,
          -0.290251591943814,
          1.824005557876925,
          2.594764501245665,
          3.359143765327744,
          3.546821796691777,
          2.9401291464648605
         ],
         "xaxis": "x",
         "yaxis": "y"
        },
        {
         "alignmentgroup": "True",
         "bingroup": "x",
         "hoverlabel": {
          "namelength": 0
         },
         "hovertemplate": "group=B<br>x=%{x}<br>count=%{y}",
         "legendgroup": "",
         "marker": {
          "color": "#636efa"
         },
         "name": "",
         "offsetgroup": "",
         "orientation": "v",
         "showlegend": false,
         "type": "histogram",
         "x": [
          4.1438510058298315,
          1.6355302491896486,
          1.8175107803119461,
          3.592157659473223,
          3.3927591803227086,
          3.795331517044415,
          4.776780260460146,
          3.8700493130354037,
          4.807568791476425,
          2.7773346910213297,
          5.201623069161894,
          4.908459693662584,
          2.5670182795401972,
          3.537643025485645,
          4.036422541243809,
          3.660028922317838,
          3.3519756743800238,
          5.971164990216481,
          3.7158744247159765,
          2.5938807489718902,
          2.473308346758571,
          2.8124700718370477,
          4.810251658129395,
          3.584578702481836,
          5.41417373818732,
          3.9243106127141036,
          5.5897383663839015,
          2.9232360887067195,
          5.06513090306967,
          4.730765242057509,
          4.981915022225904,
          6.038140406401867,
          3.8558708632030756,
          2.88183932963583,
          4.6537616962906565,
          5.792817899053105,
          4.39716114891181,
          3.7888244619512084,
          4.779593341028164,
          5.288153539709032,
          3.069214558322661,
          6.210518915105226,
          3.841038316696584,
          3.8472245285100986,
          4.667812246944511,
          2.7731668436472896,
          3.2941754151823646,
          3.186195491683727,
          3.0629670710509584,
          3.6324150758906333
         ],
         "xaxis": "x2",
         "yaxis": "y2"
        },
        {
         "alignmentgroup": "True",
         "bingroup": "x",
         "hoverlabel": {
          "namelength": 0
         },
         "hovertemplate": "group=C<br>x=%{x}<br>count=%{y}",
         "legendgroup": "",
         "marker": {
          "color": "#636efa"
         },
         "name": "",
         "offsetgroup": "",
         "orientation": "v",
         "showlegend": false,
         "type": "histogram",
         "x": [
          5.739256971419575,
          3.935289974227079,
          3.7251724953200065,
          4.799596248435955,
          3.6729460065679556,
          3.1525571652607085,
          3.4990716046184196,
          4.470454638229786,
          5.144387973418461,
          3.573464613289202,
          4.2811617003951525,
          3.546427129473266,
          2.3889768833831244,
          2.9014728952396993,
          2.6458185045098226,
          4.754131042947313,
          3.77426146262802,
          6.092820498466407,
          3.81470580644541,
          4.896988314770823,
          3.8571006647937254,
          2.984138142758413,
          4.140808799164753,
          5.397061563276155,
          3.779496470295057,
          4.398216092223092,
          4.472199688297318,
          3.630609655446979,
          3.1247383468485226,
          3.236024340360933,
          3.986064704051726,
          4.045663512466447,
          4.420065279877554,
          3.773489891801685,
          3.6806441027540315,
          4.476788624582289,
          3.9298423222055576,
          1.8484206364468818,
          5.541919280760408,
          2.568441410441798,
          4.241088755048916,
          2.896665670580529,
          2.7839066809905986,
          5.9865988920934,
          2.8008692722846753,
          3.6806735207485106,
          4.559467993767468,
          3.5348067972643578,
          2.917645627634699,
          2.469528489640808
         ],
         "xaxis": "x3",
         "yaxis": "y3"
        },
        {
         "alignmentgroup": "True",
         "bingroup": "x",
         "hoverlabel": {
          "namelength": 0
         },
         "hovertemplate": "group=D<br>x=%{x}<br>count=%{y}",
         "legendgroup": "",
         "marker": {
          "color": "#636efa"
         },
         "name": "",
         "offsetgroup": "",
         "orientation": "v",
         "showlegend": false,
         "type": "histogram",
         "x": [
          3.0052881056847736,
          2.1203500647318867,
          3.001955198938152,
          4.109888968316632,
          3.0684638072339823,
          4.351660517993954,
          1.7032158068260719,
          3.675890004262176,
          3.6131092663717075,
          2.5124129041714007,
          2.9916888342516597,
          1.7600858176807839,
          4.9554592328865015,
          4.164356396086017,
          3.989515263682135,
          3.478164587127033,
          1.0038272883125896,
          2.5739909670385175,
          3.3310126025721924,
          3.0684781514297845,
          2.2133925043482847,
          3.44451812159718,
          1.8725268413099694,
          4.061484602467909,
          2.580880844685951,
          3.958199959111622,
          3.931320772019193,
          2.446307528623786,
          1.83655947179035,
          2.4752787277098567,
          3.7754825655207145,
          2.1220971790726977,
          3.228617582187703,
          2.8156809852527562,
          2.989289744927994,
          3.082819644870404,
          5.901936635701597,
          3.6692105415491176,
          2.64428173442156,
          2.811323238259899,
          2.3014206229279033,
          3.365768405301499,
          3.1697206766220396,
          2.2110118024423233,
          2.873330627886325,
          0.43696315807683384,
          3.4686700027823907,
          3.780658596360499,
          3.488478118923764,
          2.949655356893879
         ],
         "xaxis": "x4",
         "yaxis": "y4"
        }
       ],
       "layout": {
        "annotations": [
         {
          "showarrow": false,
          "text": "group=A",
          "x": 0.1175,
          "xanchor": "center",
          "xref": "paper",
          "y": 1,
          "yanchor": "bottom",
          "yref": "paper"
         },
         {
          "showarrow": false,
          "text": "group=B",
          "x": 0.3725,
          "xanchor": "center",
          "xref": "paper",
          "y": 1,
          "yanchor": "bottom",
          "yref": "paper"
         },
         {
          "showarrow": false,
          "text": "group=C",
          "x": 0.6275,
          "xanchor": "center",
          "xref": "paper",
          "y": 1,
          "yanchor": "bottom",
          "yref": "paper"
         },
         {
          "showarrow": false,
          "text": "group=D",
          "x": 0.8824999999999998,
          "xanchor": "center",
          "xref": "paper",
          "y": 1,
          "yanchor": "bottom",
          "yref": "paper"
         }
        ],
        "barmode": "relative",
        "legend": {
         "tracegroupgap": 0
        },
        "margin": {
         "t": 60
        },
        "template": {
         "data": {
          "bar": [
           {
            "error_x": {
             "color": "#2a3f5f"
            },
            "error_y": {
             "color": "#2a3f5f"
            },
            "marker": {
             "line": {
              "color": "#E5ECF6",
              "width": 0.5
             }
            },
            "type": "bar"
           }
          ],
          "barpolar": [
           {
            "marker": {
             "line": {
              "color": "#E5ECF6",
              "width": 0.5
             }
            },
            "type": "barpolar"
           }
          ],
          "carpet": [
           {
            "aaxis": {
             "endlinecolor": "#2a3f5f",
             "gridcolor": "white",
             "linecolor": "white",
             "minorgridcolor": "white",
             "startlinecolor": "#2a3f5f"
            },
            "baxis": {
             "endlinecolor": "#2a3f5f",
             "gridcolor": "white",
             "linecolor": "white",
             "minorgridcolor": "white",
             "startlinecolor": "#2a3f5f"
            },
            "type": "carpet"
           }
          ],
          "choropleth": [
           {
            "colorbar": {
             "outlinewidth": 0,
             "ticks": ""
            },
            "type": "choropleth"
           }
          ],
          "contour": [
           {
            "colorbar": {
             "outlinewidth": 0,
             "ticks": ""
            },
            "colorscale": [
             [
              0,
              "#0d0887"
             ],
             [
              0.1111111111111111,
              "#46039f"
             ],
             [
              0.2222222222222222,
              "#7201a8"
             ],
             [
              0.3333333333333333,
              "#9c179e"
             ],
             [
              0.4444444444444444,
              "#bd3786"
             ],
             [
              0.5555555555555556,
              "#d8576b"
             ],
             [
              0.6666666666666666,
              "#ed7953"
             ],
             [
              0.7777777777777778,
              "#fb9f3a"
             ],
             [
              0.8888888888888888,
              "#fdca26"
             ],
             [
              1,
              "#f0f921"
             ]
            ],
            "type": "contour"
           }
          ],
          "contourcarpet": [
           {
            "colorbar": {
             "outlinewidth": 0,
             "ticks": ""
            },
            "type": "contourcarpet"
           }
          ],
          "heatmap": [
           {
            "colorbar": {
             "outlinewidth": 0,
             "ticks": ""
            },
            "colorscale": [
             [
              0,
              "#0d0887"
             ],
             [
              0.1111111111111111,
              "#46039f"
             ],
             [
              0.2222222222222222,
              "#7201a8"
             ],
             [
              0.3333333333333333,
              "#9c179e"
             ],
             [
              0.4444444444444444,
              "#bd3786"
             ],
             [
              0.5555555555555556,
              "#d8576b"
             ],
             [
              0.6666666666666666,
              "#ed7953"
             ],
             [
              0.7777777777777778,
              "#fb9f3a"
             ],
             [
              0.8888888888888888,
              "#fdca26"
             ],
             [
              1,
              "#f0f921"
             ]
            ],
            "type": "heatmap"
           }
          ],
          "heatmapgl": [
           {
            "colorbar": {
             "outlinewidth": 0,
             "ticks": ""
            },
            "colorscale": [
             [
              0,
              "#0d0887"
             ],
             [
              0.1111111111111111,
              "#46039f"
             ],
             [
              0.2222222222222222,
              "#7201a8"
             ],
             [
              0.3333333333333333,
              "#9c179e"
             ],
             [
              0.4444444444444444,
              "#bd3786"
             ],
             [
              0.5555555555555556,
              "#d8576b"
             ],
             [
              0.6666666666666666,
              "#ed7953"
             ],
             [
              0.7777777777777778,
              "#fb9f3a"
             ],
             [
              0.8888888888888888,
              "#fdca26"
             ],
             [
              1,
              "#f0f921"
             ]
            ],
            "type": "heatmapgl"
           }
          ],
          "histogram": [
           {
            "marker": {
             "colorbar": {
              "outlinewidth": 0,
              "ticks": ""
             }
            },
            "type": "histogram"
           }
          ],
          "histogram2d": [
           {
            "colorbar": {
             "outlinewidth": 0,
             "ticks": ""
            },
            "colorscale": [
             [
              0,
              "#0d0887"
             ],
             [
              0.1111111111111111,
              "#46039f"
             ],
             [
              0.2222222222222222,
              "#7201a8"
             ],
             [
              0.3333333333333333,
              "#9c179e"
             ],
             [
              0.4444444444444444,
              "#bd3786"
             ],
             [
              0.5555555555555556,
              "#d8576b"
             ],
             [
              0.6666666666666666,
              "#ed7953"
             ],
             [
              0.7777777777777778,
              "#fb9f3a"
             ],
             [
              0.8888888888888888,
              "#fdca26"
             ],
             [
              1,
              "#f0f921"
             ]
            ],
            "type": "histogram2d"
           }
          ],
          "histogram2dcontour": [
           {
            "colorbar": {
             "outlinewidth": 0,
             "ticks": ""
            },
            "colorscale": [
             [
              0,
              "#0d0887"
             ],
             [
              0.1111111111111111,
              "#46039f"
             ],
             [
              0.2222222222222222,
              "#7201a8"
             ],
             [
              0.3333333333333333,
              "#9c179e"
             ],
             [
              0.4444444444444444,
              "#bd3786"
             ],
             [
              0.5555555555555556,
              "#d8576b"
             ],
             [
              0.6666666666666666,
              "#ed7953"
             ],
             [
              0.7777777777777778,
              "#fb9f3a"
             ],
             [
              0.8888888888888888,
              "#fdca26"
             ],
             [
              1,
              "#f0f921"
             ]
            ],
            "type": "histogram2dcontour"
           }
          ],
          "mesh3d": [
           {
            "colorbar": {
             "outlinewidth": 0,
             "ticks": ""
            },
            "type": "mesh3d"
           }
          ],
          "parcoords": [
           {
            "line": {
             "colorbar": {
              "outlinewidth": 0,
              "ticks": ""
             }
            },
            "type": "parcoords"
           }
          ],
          "pie": [
           {
            "automargin": true,
            "type": "pie"
           }
          ],
          "scatter": [
           {
            "marker": {
             "colorbar": {
              "outlinewidth": 0,
              "ticks": ""
             }
            },
            "type": "scatter"
           }
          ],
          "scatter3d": [
           {
            "line": {
             "colorbar": {
              "outlinewidth": 0,
              "ticks": ""
             }
            },
            "marker": {
             "colorbar": {
              "outlinewidth": 0,
              "ticks": ""
             }
            },
            "type": "scatter3d"
           }
          ],
          "scattercarpet": [
           {
            "marker": {
             "colorbar": {
              "outlinewidth": 0,
              "ticks": ""
             }
            },
            "type": "scattercarpet"
           }
          ],
          "scattergeo": [
           {
            "marker": {
             "colorbar": {
              "outlinewidth": 0,
              "ticks": ""
             }
            },
            "type": "scattergeo"
           }
          ],
          "scattergl": [
           {
            "marker": {
             "colorbar": {
              "outlinewidth": 0,
              "ticks": ""
             }
            },
            "type": "scattergl"
           }
          ],
          "scattermapbox": [
           {
            "marker": {
             "colorbar": {
              "outlinewidth": 0,
              "ticks": ""
             }
            },
            "type": "scattermapbox"
           }
          ],
          "scatterpolar": [
           {
            "marker": {
             "colorbar": {
              "outlinewidth": 0,
              "ticks": ""
             }
            },
            "type": "scatterpolar"
           }
          ],
          "scatterpolargl": [
           {
            "marker": {
             "colorbar": {
              "outlinewidth": 0,
              "ticks": ""
             }
            },
            "type": "scatterpolargl"
           }
          ],
          "scatterternary": [
           {
            "marker": {
             "colorbar": {
              "outlinewidth": 0,
              "ticks": ""
             }
            },
            "type": "scatterternary"
           }
          ],
          "surface": [
           {
            "colorbar": {
             "outlinewidth": 0,
             "ticks": ""
            },
            "colorscale": [
             [
              0,
              "#0d0887"
             ],
             [
              0.1111111111111111,
              "#46039f"
             ],
             [
              0.2222222222222222,
              "#7201a8"
             ],
             [
              0.3333333333333333,
              "#9c179e"
             ],
             [
              0.4444444444444444,
              "#bd3786"
             ],
             [
              0.5555555555555556,
              "#d8576b"
             ],
             [
              0.6666666666666666,
              "#ed7953"
             ],
             [
              0.7777777777777778,
              "#fb9f3a"
             ],
             [
              0.8888888888888888,
              "#fdca26"
             ],
             [
              1,
              "#f0f921"
             ]
            ],
            "type": "surface"
           }
          ],
          "table": [
           {
            "cells": {
             "fill": {
              "color": "#EBF0F8"
             },
             "line": {
              "color": "white"
             }
            },
            "header": {
             "fill": {
              "color": "#C8D4E3"
             },
             "line": {
              "color": "white"
             }
            },
            "type": "table"
           }
          ]
         },
         "layout": {
          "annotationdefaults": {
           "arrowcolor": "#2a3f5f",
           "arrowhead": 0,
           "arrowwidth": 1
          },
          "coloraxis": {
           "colorbar": {
            "outlinewidth": 0,
            "ticks": ""
           }
          },
          "colorscale": {
           "diverging": [
            [
             0,
             "#8e0152"
            ],
            [
             0.1,
             "#c51b7d"
            ],
            [
             0.2,
             "#de77ae"
            ],
            [
             0.3,
             "#f1b6da"
            ],
            [
             0.4,
             "#fde0ef"
            ],
            [
             0.5,
             "#f7f7f7"
            ],
            [
             0.6,
             "#e6f5d0"
            ],
            [
             0.7,
             "#b8e186"
            ],
            [
             0.8,
             "#7fbc41"
            ],
            [
             0.9,
             "#4d9221"
            ],
            [
             1,
             "#276419"
            ]
           ],
           "sequential": [
            [
             0,
             "#0d0887"
            ],
            [
             0.1111111111111111,
             "#46039f"
            ],
            [
             0.2222222222222222,
             "#7201a8"
            ],
            [
             0.3333333333333333,
             "#9c179e"
            ],
            [
             0.4444444444444444,
             "#bd3786"
            ],
            [
             0.5555555555555556,
             "#d8576b"
            ],
            [
             0.6666666666666666,
             "#ed7953"
            ],
            [
             0.7777777777777778,
             "#fb9f3a"
            ],
            [
             0.8888888888888888,
             "#fdca26"
            ],
            [
             1,
             "#f0f921"
            ]
           ],
           "sequentialminus": [
            [
             0,
             "#0d0887"
            ],
            [
             0.1111111111111111,
             "#46039f"
            ],
            [
             0.2222222222222222,
             "#7201a8"
            ],
            [
             0.3333333333333333,
             "#9c179e"
            ],
            [
             0.4444444444444444,
             "#bd3786"
            ],
            [
             0.5555555555555556,
             "#d8576b"
            ],
            [
             0.6666666666666666,
             "#ed7953"
            ],
            [
             0.7777777777777778,
             "#fb9f3a"
            ],
            [
             0.8888888888888888,
             "#fdca26"
            ],
            [
             1,
             "#f0f921"
            ]
           ]
          },
          "colorway": [
           "#636efa",
           "#EF553B",
           "#00cc96",
           "#ab63fa",
           "#FFA15A",
           "#19d3f3",
           "#FF6692",
           "#B6E880",
           "#FF97FF",
           "#FECB52"
          ],
          "font": {
           "color": "#2a3f5f"
          },
          "geo": {
           "bgcolor": "white",
           "lakecolor": "white",
           "landcolor": "#E5ECF6",
           "showlakes": true,
           "showland": true,
           "subunitcolor": "white"
          },
          "hoverlabel": {
           "align": "left"
          },
          "hovermode": "closest",
          "mapbox": {
           "style": "light"
          },
          "paper_bgcolor": "white",
          "plot_bgcolor": "#E5ECF6",
          "polar": {
           "angularaxis": {
            "gridcolor": "white",
            "linecolor": "white",
            "ticks": ""
           },
           "bgcolor": "#E5ECF6",
           "radialaxis": {
            "gridcolor": "white",
            "linecolor": "white",
            "ticks": ""
           }
          },
          "scene": {
           "xaxis": {
            "backgroundcolor": "#E5ECF6",
            "gridcolor": "white",
            "gridwidth": 2,
            "linecolor": "white",
            "showbackground": true,
            "ticks": "",
            "zerolinecolor": "white"
           },
           "yaxis": {
            "backgroundcolor": "#E5ECF6",
            "gridcolor": "white",
            "gridwidth": 2,
            "linecolor": "white",
            "showbackground": true,
            "ticks": "",
            "zerolinecolor": "white"
           },
           "zaxis": {
            "backgroundcolor": "#E5ECF6",
            "gridcolor": "white",
            "gridwidth": 2,
            "linecolor": "white",
            "showbackground": true,
            "ticks": "",
            "zerolinecolor": "white"
           }
          },
          "shapedefaults": {
           "line": {
            "color": "#2a3f5f"
           }
          },
          "ternary": {
           "aaxis": {
            "gridcolor": "white",
            "linecolor": "white",
            "ticks": ""
           },
           "baxis": {
            "gridcolor": "white",
            "linecolor": "white",
            "ticks": ""
           },
           "bgcolor": "#E5ECF6",
           "caxis": {
            "gridcolor": "white",
            "linecolor": "white",
            "ticks": ""
           }
          },
          "title": {
           "x": 0.05
          },
          "xaxis": {
           "automargin": true,
           "gridcolor": "white",
           "linecolor": "white",
           "ticks": "",
           "title": {
            "standoff": 15
           },
           "zerolinecolor": "white",
           "zerolinewidth": 2
          },
          "yaxis": {
           "automargin": true,
           "gridcolor": "white",
           "linecolor": "white",
           "ticks": "",
           "title": {
            "standoff": 15
           },
           "zerolinecolor": "white",
           "zerolinewidth": 2
          }
         }
        },
        "xaxis": {
         "anchor": "y",
         "domain": [
          0,
          0.235
         ],
         "title": {
          "text": "x"
         }
        },
        "xaxis2": {
         "anchor": "y2",
         "domain": [
          0.255,
          0.49
         ],
         "matches": "x",
         "title": {
          "text": "x"
         }
        },
        "xaxis3": {
         "anchor": "y3",
         "domain": [
          0.51,
          0.745
         ],
         "matches": "x",
         "title": {
          "text": "x"
         }
        },
        "xaxis4": {
         "anchor": "y4",
         "domain": [
          0.7649999999999999,
          0.9999999999999999
         ],
         "matches": "x",
         "title": {
          "text": "x"
         }
        },
        "yaxis": {
         "anchor": "x",
         "domain": [
          0,
          1
         ],
         "title": {
          "text": "count"
         }
        },
        "yaxis2": {
         "anchor": "x2",
         "domain": [
          0,
          1
         ],
         "matches": "y",
         "showticklabels": false
        },
        "yaxis3": {
         "anchor": "x3",
         "domain": [
          0,
          1
         ],
         "matches": "y",
         "showticklabels": false
        },
        "yaxis4": {
         "anchor": "x4",
         "domain": [
          0,
          1
         ],
         "matches": "y",
         "showticklabels": false
        }
       }
      },
      "text/html": [
       "<div>\n",
       "        \n",
       "        \n",
       "            <div id=\"687a7a57-135c-4000-ad2b-d86e15a15542\" class=\"plotly-graph-div\" style=\"height:525px; width:100%;\"></div>\n",
       "            <script type=\"text/javascript\">\n",
       "                require([\"plotly\"], function(Plotly) {\n",
       "                    window.PLOTLYENV=window.PLOTLYENV || {};\n",
       "                    \n",
       "                if (document.getElementById(\"687a7a57-135c-4000-ad2b-d86e15a15542\")) {\n",
       "                    Plotly.newPlot(\n",
       "                        '687a7a57-135c-4000-ad2b-d86e15a15542',\n",
       "                        [{\"alignmentgroup\": \"True\", \"bingroup\": \"x\", \"hoverlabel\": {\"namelength\": 0}, \"hovertemplate\": \"group=A<br>x=%{x}<br>count=%{y}\", \"legendgroup\": \"\", \"marker\": {\"color\": \"#636efa\"}, \"name\": \"\", \"offsetgroup\": \"\", \"orientation\": \"v\", \"showlegend\": false, \"type\": \"histogram\", \"x\": [3.704314014721918, 2.3104629062531883, 2.8563723825995213, 3.6083737822367787, 1.490911152662311, 3.6896427371057254, 2.7530219096056614, 4.032651146542533, 0.34980821484960156, 3.909161783204173, 4.278917775403523, 2.524709001055272, 2.6531320899512942, 3.650388465499863, 1.9382428266519445, 3.4911982280370535, 2.100387922988501, 2.340622610797912, 2.144835980602888, 4.198943355193459, 2.8847299324113953, 3.7660267086854304, 2.1686435601834484, 3.7963677747810096, 3.849128874407978, 2.41497055424014, 2.001454678027793, 4.198318454831068, 2.6198573714036635, 2.9366242680735004, 3.9028358592608816, 0.5617433993092615, 2.9380958175624032, 1.8554066112661556, 3.7452952243870414, 4.601432266015381, 2.506185178257242, 2.0991544984302415, 3.2919666813917514, 1.7654815586879526, 2.0624683294259474, 3.062875362415646, 3.1454795280080536, 2.8855572953904214, -0.290251591943814, 1.824005557876925, 2.594764501245665, 3.359143765327744, 3.546821796691777, 2.9401291464648605], \"xaxis\": \"x\", \"yaxis\": \"y\"}, {\"alignmentgroup\": \"True\", \"bingroup\": \"x\", \"hoverlabel\": {\"namelength\": 0}, \"hovertemplate\": \"group=B<br>x=%{x}<br>count=%{y}\", \"legendgroup\": \"\", \"marker\": {\"color\": \"#636efa\"}, \"name\": \"\", \"offsetgroup\": \"\", \"orientation\": \"v\", \"showlegend\": false, \"type\": \"histogram\", \"x\": [4.1438510058298315, 1.6355302491896486, 1.8175107803119461, 3.592157659473223, 3.3927591803227086, 3.795331517044415, 4.776780260460146, 3.8700493130354037, 4.807568791476425, 2.7773346910213297, 5.201623069161894, 4.908459693662584, 2.5670182795401972, 3.537643025485645, 4.036422541243809, 3.660028922317838, 3.3519756743800238, 5.971164990216481, 3.7158744247159765, 2.5938807489718902, 2.473308346758571, 2.8124700718370477, 4.810251658129395, 3.584578702481836, 5.41417373818732, 3.9243106127141036, 5.5897383663839015, 2.9232360887067195, 5.06513090306967, 4.730765242057509, 4.981915022225904, 6.038140406401867, 3.8558708632030756, 2.88183932963583, 4.6537616962906565, 5.792817899053105, 4.39716114891181, 3.7888244619512084, 4.779593341028164, 5.288153539709032, 3.069214558322661, 6.210518915105226, 3.841038316696584, 3.8472245285100986, 4.667812246944511, 2.7731668436472896, 3.2941754151823646, 3.186195491683727, 3.0629670710509584, 3.6324150758906333], \"xaxis\": \"x2\", \"yaxis\": \"y2\"}, {\"alignmentgroup\": \"True\", \"bingroup\": \"x\", \"hoverlabel\": {\"namelength\": 0}, \"hovertemplate\": \"group=C<br>x=%{x}<br>count=%{y}\", \"legendgroup\": \"\", \"marker\": {\"color\": \"#636efa\"}, \"name\": \"\", \"offsetgroup\": \"\", \"orientation\": \"v\", \"showlegend\": false, \"type\": \"histogram\", \"x\": [5.739256971419575, 3.935289974227079, 3.7251724953200065, 4.799596248435955, 3.6729460065679556, 3.1525571652607085, 3.4990716046184196, 4.470454638229786, 5.144387973418461, 3.573464613289202, 4.2811617003951525, 3.546427129473266, 2.3889768833831244, 2.9014728952396993, 2.6458185045098226, 4.754131042947313, 3.77426146262802, 6.092820498466407, 3.81470580644541, 4.896988314770823, 3.8571006647937254, 2.984138142758413, 4.140808799164753, 5.397061563276155, 3.779496470295057, 4.398216092223092, 4.472199688297318, 3.630609655446979, 3.1247383468485226, 3.236024340360933, 3.986064704051726, 4.045663512466447, 4.420065279877554, 3.773489891801685, 3.6806441027540315, 4.476788624582289, 3.9298423222055576, 1.8484206364468818, 5.541919280760408, 2.568441410441798, 4.241088755048916, 2.896665670580529, 2.7839066809905986, 5.9865988920934, 2.8008692722846753, 3.6806735207485106, 4.559467993767468, 3.5348067972643578, 2.917645627634699, 2.469528489640808], \"xaxis\": \"x3\", \"yaxis\": \"y3\"}, {\"alignmentgroup\": \"True\", \"bingroup\": \"x\", \"hoverlabel\": {\"namelength\": 0}, \"hovertemplate\": \"group=D<br>x=%{x}<br>count=%{y}\", \"legendgroup\": \"\", \"marker\": {\"color\": \"#636efa\"}, \"name\": \"\", \"offsetgroup\": \"\", \"orientation\": \"v\", \"showlegend\": false, \"type\": \"histogram\", \"x\": [3.0052881056847736, 2.1203500647318867, 3.001955198938152, 4.109888968316632, 3.0684638072339823, 4.351660517993954, 1.7032158068260719, 3.675890004262176, 3.6131092663717075, 2.5124129041714007, 2.9916888342516597, 1.7600858176807839, 4.9554592328865015, 4.164356396086017, 3.989515263682135, 3.478164587127033, 1.0038272883125896, 2.5739909670385175, 3.3310126025721924, 3.0684781514297845, 2.2133925043482847, 3.44451812159718, 1.8725268413099694, 4.061484602467909, 2.580880844685951, 3.958199959111622, 3.931320772019193, 2.446307528623786, 1.83655947179035, 2.4752787277098567, 3.7754825655207145, 2.1220971790726977, 3.228617582187703, 2.8156809852527562, 2.989289744927994, 3.082819644870404, 5.901936635701597, 3.6692105415491176, 2.64428173442156, 2.811323238259899, 2.3014206229279033, 3.365768405301499, 3.1697206766220396, 2.2110118024423233, 2.873330627886325, 0.43696315807683384, 3.4686700027823907, 3.780658596360499, 3.488478118923764, 2.949655356893879], \"xaxis\": \"x4\", \"yaxis\": \"y4\"}],\n",
       "                        {\"annotations\": [{\"showarrow\": false, \"text\": \"group=A\", \"x\": 0.1175, \"xanchor\": \"center\", \"xref\": \"paper\", \"y\": 1.0, \"yanchor\": \"bottom\", \"yref\": \"paper\"}, {\"showarrow\": false, \"text\": \"group=B\", \"x\": 0.3725, \"xanchor\": \"center\", \"xref\": \"paper\", \"y\": 1.0, \"yanchor\": \"bottom\", \"yref\": \"paper\"}, {\"showarrow\": false, \"text\": \"group=C\", \"x\": 0.6275, \"xanchor\": \"center\", \"xref\": \"paper\", \"y\": 1.0, \"yanchor\": \"bottom\", \"yref\": \"paper\"}, {\"showarrow\": false, \"text\": \"group=D\", \"x\": 0.8824999999999998, \"xanchor\": \"center\", \"xref\": \"paper\", \"y\": 1.0, \"yanchor\": \"bottom\", \"yref\": \"paper\"}], \"barmode\": \"relative\", \"legend\": {\"tracegroupgap\": 0}, \"margin\": {\"t\": 60}, \"template\": {\"data\": {\"bar\": [{\"error_x\": {\"color\": \"#2a3f5f\"}, \"error_y\": {\"color\": \"#2a3f5f\"}, \"marker\": {\"line\": {\"color\": \"#E5ECF6\", \"width\": 0.5}}, \"type\": \"bar\"}], \"barpolar\": [{\"marker\": {\"line\": {\"color\": \"#E5ECF6\", \"width\": 0.5}}, \"type\": \"barpolar\"}], \"carpet\": [{\"aaxis\": {\"endlinecolor\": \"#2a3f5f\", \"gridcolor\": \"white\", \"linecolor\": \"white\", \"minorgridcolor\": \"white\", \"startlinecolor\": \"#2a3f5f\"}, \"baxis\": {\"endlinecolor\": \"#2a3f5f\", \"gridcolor\": \"white\", \"linecolor\": \"white\", \"minorgridcolor\": \"white\", \"startlinecolor\": \"#2a3f5f\"}, \"type\": \"carpet\"}], \"choropleth\": [{\"colorbar\": {\"outlinewidth\": 0, \"ticks\": \"\"}, \"type\": \"choropleth\"}], \"contour\": [{\"colorbar\": {\"outlinewidth\": 0, \"ticks\": \"\"}, \"colorscale\": [[0.0, \"#0d0887\"], [0.1111111111111111, \"#46039f\"], [0.2222222222222222, \"#7201a8\"], [0.3333333333333333, \"#9c179e\"], [0.4444444444444444, \"#bd3786\"], [0.5555555555555556, \"#d8576b\"], [0.6666666666666666, \"#ed7953\"], [0.7777777777777778, \"#fb9f3a\"], [0.8888888888888888, \"#fdca26\"], [1.0, \"#f0f921\"]], \"type\": \"contour\"}], \"contourcarpet\": [{\"colorbar\": {\"outlinewidth\": 0, \"ticks\": \"\"}, \"type\": \"contourcarpet\"}], \"heatmap\": [{\"colorbar\": {\"outlinewidth\": 0, \"ticks\": \"\"}, \"colorscale\": [[0.0, \"#0d0887\"], [0.1111111111111111, \"#46039f\"], [0.2222222222222222, \"#7201a8\"], [0.3333333333333333, \"#9c179e\"], [0.4444444444444444, \"#bd3786\"], [0.5555555555555556, \"#d8576b\"], [0.6666666666666666, \"#ed7953\"], [0.7777777777777778, \"#fb9f3a\"], [0.8888888888888888, \"#fdca26\"], [1.0, \"#f0f921\"]], \"type\": \"heatmap\"}], \"heatmapgl\": [{\"colorbar\": {\"outlinewidth\": 0, \"ticks\": \"\"}, \"colorscale\": [[0.0, \"#0d0887\"], [0.1111111111111111, \"#46039f\"], [0.2222222222222222, \"#7201a8\"], [0.3333333333333333, \"#9c179e\"], [0.4444444444444444, \"#bd3786\"], [0.5555555555555556, \"#d8576b\"], [0.6666666666666666, \"#ed7953\"], [0.7777777777777778, \"#fb9f3a\"], [0.8888888888888888, \"#fdca26\"], [1.0, \"#f0f921\"]], \"type\": \"heatmapgl\"}], \"histogram\": [{\"marker\": {\"colorbar\": {\"outlinewidth\": 0, \"ticks\": \"\"}}, \"type\": \"histogram\"}], \"histogram2d\": [{\"colorbar\": {\"outlinewidth\": 0, \"ticks\": \"\"}, \"colorscale\": [[0.0, \"#0d0887\"], [0.1111111111111111, \"#46039f\"], [0.2222222222222222, \"#7201a8\"], [0.3333333333333333, \"#9c179e\"], [0.4444444444444444, \"#bd3786\"], [0.5555555555555556, \"#d8576b\"], [0.6666666666666666, \"#ed7953\"], [0.7777777777777778, \"#fb9f3a\"], [0.8888888888888888, \"#fdca26\"], [1.0, \"#f0f921\"]], \"type\": \"histogram2d\"}], \"histogram2dcontour\": [{\"colorbar\": {\"outlinewidth\": 0, \"ticks\": \"\"}, \"colorscale\": [[0.0, \"#0d0887\"], [0.1111111111111111, \"#46039f\"], [0.2222222222222222, \"#7201a8\"], [0.3333333333333333, \"#9c179e\"], [0.4444444444444444, \"#bd3786\"], [0.5555555555555556, \"#d8576b\"], [0.6666666666666666, \"#ed7953\"], [0.7777777777777778, \"#fb9f3a\"], [0.8888888888888888, \"#fdca26\"], [1.0, \"#f0f921\"]], \"type\": \"histogram2dcontour\"}], \"mesh3d\": [{\"colorbar\": {\"outlinewidth\": 0, \"ticks\": \"\"}, \"type\": \"mesh3d\"}], \"parcoords\": [{\"line\": {\"colorbar\": {\"outlinewidth\": 0, \"ticks\": \"\"}}, \"type\": \"parcoords\"}], \"pie\": [{\"automargin\": true, \"type\": \"pie\"}], \"scatter\": [{\"marker\": {\"colorbar\": {\"outlinewidth\": 0, \"ticks\": \"\"}}, \"type\": \"scatter\"}], \"scatter3d\": [{\"line\": {\"colorbar\": {\"outlinewidth\": 0, \"ticks\": \"\"}}, \"marker\": {\"colorbar\": {\"outlinewidth\": 0, \"ticks\": \"\"}}, \"type\": \"scatter3d\"}], \"scattercarpet\": [{\"marker\": {\"colorbar\": {\"outlinewidth\": 0, \"ticks\": \"\"}}, \"type\": \"scattercarpet\"}], \"scattergeo\": [{\"marker\": {\"colorbar\": {\"outlinewidth\": 0, \"ticks\": \"\"}}, \"type\": \"scattergeo\"}], \"scattergl\": [{\"marker\": {\"colorbar\": {\"outlinewidth\": 0, \"ticks\": \"\"}}, \"type\": \"scattergl\"}], \"scattermapbox\": [{\"marker\": {\"colorbar\": {\"outlinewidth\": 0, \"ticks\": \"\"}}, \"type\": \"scattermapbox\"}], \"scatterpolar\": [{\"marker\": {\"colorbar\": {\"outlinewidth\": 0, \"ticks\": \"\"}}, \"type\": \"scatterpolar\"}], \"scatterpolargl\": [{\"marker\": {\"colorbar\": {\"outlinewidth\": 0, \"ticks\": \"\"}}, \"type\": \"scatterpolargl\"}], \"scatterternary\": [{\"marker\": {\"colorbar\": {\"outlinewidth\": 0, \"ticks\": \"\"}}, \"type\": \"scatterternary\"}], \"surface\": [{\"colorbar\": {\"outlinewidth\": 0, \"ticks\": \"\"}, \"colorscale\": [[0.0, \"#0d0887\"], [0.1111111111111111, \"#46039f\"], [0.2222222222222222, \"#7201a8\"], [0.3333333333333333, \"#9c179e\"], [0.4444444444444444, \"#bd3786\"], [0.5555555555555556, \"#d8576b\"], [0.6666666666666666, \"#ed7953\"], [0.7777777777777778, \"#fb9f3a\"], [0.8888888888888888, \"#fdca26\"], [1.0, \"#f0f921\"]], \"type\": \"surface\"}], \"table\": [{\"cells\": {\"fill\": {\"color\": \"#EBF0F8\"}, \"line\": {\"color\": \"white\"}}, \"header\": {\"fill\": {\"color\": \"#C8D4E3\"}, \"line\": {\"color\": \"white\"}}, \"type\": \"table\"}]}, \"layout\": {\"annotationdefaults\": {\"arrowcolor\": \"#2a3f5f\", \"arrowhead\": 0, \"arrowwidth\": 1}, \"coloraxis\": {\"colorbar\": {\"outlinewidth\": 0, \"ticks\": \"\"}}, \"colorscale\": {\"diverging\": [[0, \"#8e0152\"], [0.1, \"#c51b7d\"], [0.2, \"#de77ae\"], [0.3, \"#f1b6da\"], [0.4, \"#fde0ef\"], [0.5, \"#f7f7f7\"], [0.6, \"#e6f5d0\"], [0.7, \"#b8e186\"], [0.8, \"#7fbc41\"], [0.9, \"#4d9221\"], [1, \"#276419\"]], \"sequential\": [[0.0, \"#0d0887\"], [0.1111111111111111, \"#46039f\"], [0.2222222222222222, \"#7201a8\"], [0.3333333333333333, \"#9c179e\"], [0.4444444444444444, \"#bd3786\"], [0.5555555555555556, \"#d8576b\"], [0.6666666666666666, \"#ed7953\"], [0.7777777777777778, \"#fb9f3a\"], [0.8888888888888888, \"#fdca26\"], [1.0, \"#f0f921\"]], \"sequentialminus\": [[0.0, \"#0d0887\"], [0.1111111111111111, \"#46039f\"], [0.2222222222222222, \"#7201a8\"], [0.3333333333333333, \"#9c179e\"], [0.4444444444444444, \"#bd3786\"], [0.5555555555555556, \"#d8576b\"], [0.6666666666666666, \"#ed7953\"], [0.7777777777777778, \"#fb9f3a\"], [0.8888888888888888, \"#fdca26\"], [1.0, \"#f0f921\"]]}, \"colorway\": [\"#636efa\", \"#EF553B\", \"#00cc96\", \"#ab63fa\", \"#FFA15A\", \"#19d3f3\", \"#FF6692\", \"#B6E880\", \"#FF97FF\", \"#FECB52\"], \"font\": {\"color\": \"#2a3f5f\"}, \"geo\": {\"bgcolor\": \"white\", \"lakecolor\": \"white\", \"landcolor\": \"#E5ECF6\", \"showlakes\": true, \"showland\": true, \"subunitcolor\": \"white\"}, \"hoverlabel\": {\"align\": \"left\"}, \"hovermode\": \"closest\", \"mapbox\": {\"style\": \"light\"}, \"paper_bgcolor\": \"white\", \"plot_bgcolor\": \"#E5ECF6\", \"polar\": {\"angularaxis\": {\"gridcolor\": \"white\", \"linecolor\": \"white\", \"ticks\": \"\"}, \"bgcolor\": \"#E5ECF6\", \"radialaxis\": {\"gridcolor\": \"white\", \"linecolor\": \"white\", \"ticks\": \"\"}}, \"scene\": {\"xaxis\": {\"backgroundcolor\": \"#E5ECF6\", \"gridcolor\": \"white\", \"gridwidth\": 2, \"linecolor\": \"white\", \"showbackground\": true, \"ticks\": \"\", \"zerolinecolor\": \"white\"}, \"yaxis\": {\"backgroundcolor\": \"#E5ECF6\", \"gridcolor\": \"white\", \"gridwidth\": 2, \"linecolor\": \"white\", \"showbackground\": true, \"ticks\": \"\", \"zerolinecolor\": \"white\"}, \"zaxis\": {\"backgroundcolor\": \"#E5ECF6\", \"gridcolor\": \"white\", \"gridwidth\": 2, \"linecolor\": \"white\", \"showbackground\": true, \"ticks\": \"\", \"zerolinecolor\": \"white\"}}, \"shapedefaults\": {\"line\": {\"color\": \"#2a3f5f\"}}, \"ternary\": {\"aaxis\": {\"gridcolor\": \"white\", \"linecolor\": \"white\", \"ticks\": \"\"}, \"baxis\": {\"gridcolor\": \"white\", \"linecolor\": \"white\", \"ticks\": \"\"}, \"bgcolor\": \"#E5ECF6\", \"caxis\": {\"gridcolor\": \"white\", \"linecolor\": \"white\", \"ticks\": \"\"}}, \"title\": {\"x\": 0.05}, \"xaxis\": {\"automargin\": true, \"gridcolor\": \"white\", \"linecolor\": \"white\", \"ticks\": \"\", \"title\": {\"standoff\": 15}, \"zerolinecolor\": \"white\", \"zerolinewidth\": 2}, \"yaxis\": {\"automargin\": true, \"gridcolor\": \"white\", \"linecolor\": \"white\", \"ticks\": \"\", \"title\": {\"standoff\": 15}, \"zerolinecolor\": \"white\", \"zerolinewidth\": 2}}}, \"xaxis\": {\"anchor\": \"y\", \"domain\": [0.0, 0.235], \"title\": {\"text\": \"x\"}}, \"xaxis2\": {\"anchor\": \"y2\", \"domain\": [0.255, 0.49], \"matches\": \"x\", \"title\": {\"text\": \"x\"}}, \"xaxis3\": {\"anchor\": \"y3\", \"domain\": [0.51, 0.745], \"matches\": \"x\", \"title\": {\"text\": \"x\"}}, \"xaxis4\": {\"anchor\": \"y4\", \"domain\": [0.7649999999999999, 0.9999999999999999], \"matches\": \"x\", \"title\": {\"text\": \"x\"}}, \"yaxis\": {\"anchor\": \"x\", \"domain\": [0.0, 1.0], \"title\": {\"text\": \"count\"}}, \"yaxis2\": {\"anchor\": \"x2\", \"domain\": [0.0, 1.0], \"matches\": \"y\", \"showticklabels\": false}, \"yaxis3\": {\"anchor\": \"x3\", \"domain\": [0.0, 1.0], \"matches\": \"y\", \"showticklabels\": false}, \"yaxis4\": {\"anchor\": \"x4\", \"domain\": [0.0, 1.0], \"matches\": \"y\", \"showticklabels\": false}},\n",
       "                        {\"responsive\": true}\n",
       "                    ).then(function(){\n",
       "                            \n",
       "var gd = document.getElementById('687a7a57-135c-4000-ad2b-d86e15a15542');\n",
       "var x = new MutationObserver(function (mutations, observer) {{\n",
       "        var display = window.getComputedStyle(gd).display;\n",
       "        if (!display || display === 'none') {{\n",
       "            console.log([gd, 'removed!']);\n",
       "            Plotly.purge(gd);\n",
       "            observer.disconnect();\n",
       "        }}\n",
       "}});\n",
       "\n",
       "// Listen for the removal of the full notebook cells\n",
       "var notebookContainer = gd.closest('#notebook-container');\n",
       "if (notebookContainer) {{\n",
       "    x.observe(notebookContainer, {childList: true});\n",
       "}}\n",
       "\n",
       "// Listen for the clearing of the current output cell\n",
       "var outputEl = gd.closest('.output');\n",
       "if (outputEl) {{\n",
       "    x.observe(outputEl, {childList: true});\n",
       "}}\n",
       "\n",
       "                        })\n",
       "                };\n",
       "                });\n",
       "            </script>\n",
       "        </div>"
      ]
     },
     "metadata": {},
     "output_type": "display_data"
    }
   ],
   "source": [
    "# x histograms by group\n",
    "plotly.offline.iplot(\n",
    "    plotly.express.histogram(data1, x = \"x\", facet_col = \"group\")\n",
    ")"
   ]
  },
  {
   "cell_type": "markdown",
   "metadata": {},
   "source": [
    "## Scatterplot"
   ]
  },
  {
   "cell_type": "code",
   "execution_count": 348,
   "metadata": {},
   "outputs": [],
   "source": [
    "# similar to ggplot2::geom_point and ggplot2::geom_smooth"
   ]
  },
  {
   "cell_type": "code",
   "execution_count": 349,
   "metadata": {},
   "outputs": [
    {
     "data": {
      "application/vnd.plotly.v1+json": {
       "config": {
        "linkText": "Export to plot.ly",
        "plotlyServerURL": "https://plot.ly",
        "showLink": false
       },
       "data": [
        {
         "hoverlabel": {
          "namelength": 0
         },
         "hovertemplate": "group=A<br>x=%{x}<br>y=%{y}",
         "legendgroup": "group=A",
         "marker": {
          "color": "#636efa",
          "symbol": "circle"
         },
         "mode": "markers",
         "name": "group=A",
         "showlegend": true,
         "type": "scatter",
         "x": [
          3.704314014721918,
          2.3104629062531883,
          2.8563723825995213,
          3.6083737822367787,
          1.490911152662311,
          3.6896427371057254,
          2.7530219096056614,
          4.032651146542533,
          0.34980821484960156,
          3.909161783204173,
          4.278917775403523,
          2.524709001055272,
          2.6531320899512942,
          3.650388465499863,
          1.9382428266519445,
          3.4911982280370535,
          2.100387922988501,
          2.340622610797912,
          2.144835980602888,
          4.198943355193459,
          2.8847299324113953,
          3.7660267086854304,
          2.1686435601834484,
          3.7963677747810096,
          3.849128874407978,
          2.41497055424014,
          2.001454678027793,
          4.198318454831068,
          2.6198573714036635,
          2.9366242680735004,
          3.9028358592608816,
          0.5617433993092615,
          2.9380958175624032,
          1.8554066112661556,
          3.7452952243870414,
          4.601432266015381,
          2.506185178257242,
          2.0991544984302415,
          3.2919666813917514,
          1.7654815586879526,
          2.0624683294259474,
          3.062875362415646,
          3.1454795280080536,
          2.8855572953904214,
          -0.290251591943814,
          1.824005557876925,
          2.594764501245665,
          3.359143765327744,
          3.546821796691777,
          2.9401291464648605
         ],
         "xaxis": "x",
         "y": [
          3.639633968338619,
          -0.2535452757769867,
          0.693132730194409,
          3.536159483327719,
          0.18594576254770123,
          1.8953678851410563,
          1.38869170179541,
          1.5048902046561385,
          1.3450673345878001,
          4.665942955705107,
          3.500416001345053,
          2.1371078992921366,
          1.9462851383719775,
          4.233259589508735,
          -1.2008145960400118,
          3.8880154282533983,
          0.6963427700442585,
          2.195841406996615,
          1.8554619800482146,
          3.7299794230023497,
          2.9811455294840883,
          2.317965281361505,
          1.205160604360921,
          2.4007287348110067,
          3.046707107624779,
          1.5868235944588527,
          3.7208928307862954,
          4.869278428260831,
          0.17408622189484935,
          3.2482663722196854,
          2.5127661747710266,
          -0.16178228433256292,
          3.7914711652588142,
          2.430753060925585,
          0.9603458702367396,
          4.37125226920184,
          0.6878578375676627,
          2.018398298509555,
          3.8791829623151184,
          2.4838054590801875,
          2.0721653772055406,
          3.2081573415795503,
          2.5409839598225306,
          1.8373417717131937,
          -0.057947586292873776,
          1.2076003647364373,
          1.0446190552950658,
          1.5352532533320697,
          2.9288582251639825,
          2.860740925742132
         ],
         "yaxis": "y"
        },
        {
         "hoverlabel": {
          "namelength": 0
         },
         "hovertemplate": "<b>OLS trendline</b><br>y = 0.861333 * x + -0.244286<br>R<sup>2</sup>=0.398487<br><br>group=A<br>x=%{x}<br>y=%{y} <b>(trend)</b>",
         "legendgroup": "group=A",
         "marker": {
          "color": "#636efa",
          "symbol": "circle"
         },
         "mode": "lines",
         "name": "group=A",
         "showlegend": false,
         "type": "scatter",
         "x": [
          -0.290251591943814,
          0.34980821484960156,
          0.5617433993092615,
          1.490911152662311,
          1.7654815586879526,
          1.824005557876925,
          1.8554066112661556,
          1.9382428266519445,
          2.001454678027793,
          2.0624683294259474,
          2.0991544984302415,
          2.100387922988501,
          2.144835980602888,
          2.1686435601834484,
          2.3104629062531883,
          2.340622610797912,
          2.41497055424014,
          2.506185178257242,
          2.524709001055272,
          2.594764501245665,
          2.6198573714036635,
          2.6531320899512942,
          2.7530219096056614,
          2.8563723825995213,
          2.8847299324113953,
          2.8855572953904214,
          2.9366242680735004,
          2.9380958175624032,
          2.9401291464648605,
          3.062875362415646,
          3.1454795280080536,
          3.2919666813917514,
          3.359143765327744,
          3.4911982280370535,
          3.546821796691777,
          3.6083737822367787,
          3.650388465499863,
          3.6896427371057254,
          3.704314014721918,
          3.7452952243870414,
          3.7660267086854304,
          3.7963677747810096,
          3.849128874407978,
          3.9028358592608816,
          3.909161783204173,
          4.032651146542533,
          4.198318454831068,
          4.198943355193459,
          4.278917775403523,
          4.601432266015381
         ],
         "xaxis": "x",
         "y": [
          -0.4942889380765164,
          0.05701574257521966,
          0.23956252640273615,
          1.0398854432571734,
          1.276382014989634,
          1.3267906710884734,
          1.3538374369174444,
          1.4251870089183003,
          1.4796334671496871,
          1.5321865430379729,
          1.5637855537438206,
          1.5648479431095987,
          1.6031325251886581,
          1.6236387808829609,
          1.7457924741243973,
          1.771770025137761,
          1.8358083677762014,
          1.9143745402350623,
          1.9303297214598902,
          1.9906708407591183,
          2.012284159736911,
          2.040944775335601,
          2.1269831807164983,
          2.2160023612748483,
          2.2404276568131243,
          2.2411402919108037,
          2.2851259644496555,
          2.286393458693837,
          2.2881448321269624,
          2.3938702075805063,
          2.465019907419609,
          2.591194137481593,
          2.649055981661414,
          2.7627988579049934,
          2.810709277257102,
          2.8637260381506975,
          2.8999146744206117,
          2.9337256768335025,
          2.9463625334758046,
          2.9816610047551375,
          2.999517717845464,
          3.0256514815608524,
          3.071096361667296,
          3.117355964002636,
          3.1228046915158587,
          3.2291701643928556,
          3.371864896230504,
          3.372403143580315,
          3.4412877567465454,
          3.7190801542149834
         ],
         "yaxis": "y"
        },
        {
         "hoverlabel": {
          "namelength": 0
         },
         "hovertemplate": "group=B<br>x=%{x}<br>y=%{y}",
         "legendgroup": "group=B",
         "marker": {
          "color": "#EF553B",
          "symbol": "circle"
         },
         "mode": "markers",
         "name": "group=B",
         "showlegend": true,
         "type": "scatter",
         "x": [
          4.1438510058298315,
          1.6355302491896486,
          1.8175107803119461,
          3.592157659473223,
          3.3927591803227086,
          3.795331517044415,
          4.776780260460146,
          3.8700493130354037,
          4.807568791476425,
          2.7773346910213297,
          5.201623069161894,
          4.908459693662584,
          2.5670182795401972,
          3.537643025485645,
          4.036422541243809,
          3.660028922317838,
          3.3519756743800238,
          5.971164990216481,
          3.7158744247159765,
          2.5938807489718902,
          2.473308346758571,
          2.8124700718370477,
          4.810251658129395,
          3.584578702481836,
          5.41417373818732,
          3.9243106127141036,
          5.5897383663839015,
          2.9232360887067195,
          5.06513090306967,
          4.730765242057509,
          4.981915022225904,
          6.038140406401867,
          3.8558708632030756,
          2.88183932963583,
          4.6537616962906565,
          5.792817899053105,
          4.39716114891181,
          3.7888244619512084,
          4.779593341028164,
          5.288153539709032,
          3.069214558322661,
          6.210518915105226,
          3.841038316696584,
          3.8472245285100986,
          4.667812246944511,
          2.7731668436472896,
          3.2941754151823646,
          3.186195491683727,
          3.0629670710509584,
          3.6324150758906333
         ],
         "xaxis": "x2",
         "y": [
          2.884495881358384,
          0.7274572250665525,
          -0.3664553028749531,
          2.3342129017412208,
          1.1906979337564245,
          2.110585384033756,
          5.3786572933345225,
          2.9099959663927364,
          4.047328078980396,
          0.5286325743451705,
          4.570546581289342,
          1.8061729262360346,
          0.9778234827333567,
          0.3884976673564031,
          2.0011408904505315,
          3.5096760993690586,
          2.8328320754156926,
          3.3636685241663296,
          2.7715192310506853,
          0.12583224262630477,
          1.0541834039000002,
          0.7278080926535646,
          3.8427151249055633,
          2.8483057409352996,
          4.082355893715508,
          3.9828689947065294,
          3.8232478315009804,
          2.5646107356134906,
          4.556653834048836,
          3.361178302699357,
          4.788273819762924,
          3.929065315253301,
          2.1351031622960432,
          2.374275559195645,
          3.169413950143227,
          4.405744314995359,
          5.7465127834979475,
          1.513473080589536,
          5.413463699194541,
          3.7519515048872303,
          2.2375485759307865,
          4.455282862556301,
          2.0635969683796778,
          2.258723573508433,
          3.0328988012907203,
          4.870308954497705,
          2.3090312143424567,
          3.3723771286059008,
          1.4010381672514844,
          2.9884065465798617
         ],
         "yaxis": "y2"
        },
        {
         "hoverlabel": {
          "namelength": 0
         },
         "hovertemplate": "<b>OLS trendline</b><br>y = 0.948785 * x + -0.963026<br>R<sup>2</sup>=0.500653<br><br>group=B<br>x=%{x}<br>y=%{y} <b>(trend)</b>",
         "legendgroup": "group=B",
         "marker": {
          "color": "#EF553B",
          "symbol": "circle"
         },
         "mode": "lines",
         "name": "group=B",
         "showlegend": false,
         "type": "scatter",
         "x": [
          1.6355302491896486,
          1.8175107803119461,
          2.473308346758571,
          2.5670182795401972,
          2.5938807489718902,
          2.7731668436472896,
          2.7773346910213297,
          2.8124700718370477,
          2.88183932963583,
          2.9232360887067195,
          3.0629670710509584,
          3.069214558322661,
          3.186195491683727,
          3.2941754151823646,
          3.3519756743800238,
          3.3927591803227086,
          3.537643025485645,
          3.584578702481836,
          3.592157659473223,
          3.6324150758906333,
          3.660028922317838,
          3.7158744247159765,
          3.7888244619512084,
          3.795331517044415,
          3.841038316696584,
          3.8472245285100986,
          3.8558708632030756,
          3.8700493130354037,
          3.9243106127141036,
          4.036422541243809,
          4.1438510058298315,
          4.39716114891181,
          4.6537616962906565,
          4.667812246944511,
          4.730765242057509,
          4.776780260460146,
          4.779593341028164,
          4.807568791476425,
          4.810251658129395,
          4.908459693662584,
          4.981915022225904,
          5.06513090306967,
          5.201623069161894,
          5.288153539709032,
          5.41417373818732,
          5.5897383663839015,
          5.792817899053105,
          5.971164990216481,
          6.038140406401867,
          6.210518915105226
         ],
         "xaxis": "x2",
         "y": [
          0.5887398092159541,
          0.7614001253100817,
          1.3836107234335644,
          1.4725212597170392,
          1.4980079556539139,
          1.6681118320797543,
          1.6720662212696082,
          1.7054021277004587,
          1.771218607655139,
          1.8104952130280993,
          1.943069810051809,
          1.9489973294434375,
          2.0599870315096105,
          2.162436714495562,
          2.2172767073334967,
          2.2559714676139704,
          2.393435021261661,
          2.437966866378698,
          2.445157663667432,
          2.4833532783350902,
          2.5095528691555593,
          2.5625382189456314,
          2.6317520871019386,
          2.6379258804319505,
          2.681291785712725,
          2.6871611678964094,
          2.6953646766560455,
          2.7088169707815606,
          2.7602992535094106,
          2.8666693190240142,
          2.96859578631443,
          3.2089325361010896,
          3.4523911706436134,
          3.4657221160048,
          3.5254509450627705,
          3.56910928353161,
          3.57177829090881,
          3.598320966037207,
          3.6008664284637835,
          3.694044695136432,
          3.763737975897424,
          3.8426919178489403,
          3.9721935760566405,
          4.054292349504015,
          4.1738583666450655,
          4.340431373177276,
          4.53311009593223,
          4.702323060334682,
          4.765868300354523,
          4.929418365941234
         ],
         "yaxis": "y2"
        },
        {
         "hoverlabel": {
          "namelength": 0
         },
         "hovertemplate": "group=C<br>x=%{x}<br>y=%{y}",
         "legendgroup": "group=C",
         "marker": {
          "color": "#00cc96",
          "symbol": "circle"
         },
         "mode": "markers",
         "name": "group=C",
         "showlegend": true,
         "type": "scatter",
         "x": [
          5.739256971419575,
          3.935289974227079,
          3.7251724953200065,
          4.799596248435955,
          3.6729460065679556,
          3.1525571652607085,
          3.4990716046184196,
          4.470454638229786,
          5.144387973418461,
          3.573464613289202,
          4.2811617003951525,
          3.546427129473266,
          2.3889768833831244,
          2.9014728952396993,
          2.6458185045098226,
          4.754131042947313,
          3.77426146262802,
          6.092820498466407,
          3.81470580644541,
          4.896988314770823,
          3.8571006647937254,
          2.984138142758413,
          4.140808799164753,
          5.397061563276155,
          3.779496470295057,
          4.398216092223092,
          4.472199688297318,
          3.630609655446979,
          3.1247383468485226,
          3.236024340360933,
          3.986064704051726,
          4.045663512466447,
          4.420065279877554,
          3.773489891801685,
          3.6806441027540315,
          4.476788624582289,
          3.9298423222055576,
          1.8484206364468818,
          5.541919280760408,
          2.568441410441798,
          4.241088755048916,
          2.896665670580529,
          2.7839066809905986,
          5.9865988920934,
          2.8008692722846753,
          3.6806735207485106,
          4.559467993767468,
          3.5348067972643578,
          2.917645627634699,
          2.469528489640808
         ],
         "xaxis": "x3",
         "y": [
          4.780266561884151,
          3.604702292697425,
          3.6703304167147754,
          4.524329432848946,
          3.2210691165748595,
          3.261286462785005,
          2.3276575302043367,
          2.942895875543298,
          3.811999277872261,
          1.6012250590171884,
          2.8390006931499925,
          0.9515166245441748,
          1.7243559822194472,
          2.483351712313736,
          1.9340021845385174,
          3.95296771075287,
          5.011744882538471,
          5.360511411319198,
          0.9825859458469994,
          2.9237993557367052,
          2.5762441480802374,
          2.593214276921415,
          2.246389615815144,
          4.58263507248026,
          2.2700327733432526,
          3.132259703038707,
          3.42201090369724,
          1.755504578607895,
          3.092133731324741,
          0.5485891024866625,
          4.438481354122735,
          3.0597455435379346,
          2.344040176800318,
          4.300283524941419,
          3.3940518117910377,
          3.8394839075978644,
          3.4117375779020653,
          -0.15398810659537787,
          4.384870272762001,
          1.8863642139034327,
          2.6487552745699623,
          0.27665896626377573,
          4.276286439719917,
          5.030763323996369,
          0.3420592524454038,
          1.304168439239811,
          3.496299585589922,
          0.6255407937143431,
          2.2315428990503556,
          0.6074015422074666
         ],
         "yaxis": "y3"
        },
        {
         "hoverlabel": {
          "namelength": 0
         },
         "hovertemplate": "<b>OLS trendline</b><br>y = 1.019971 * x + -1.159454<br>R<sup>2</sup>=0.487488<br><br>group=C<br>x=%{x}<br>y=%{y} <b>(trend)</b>",
         "legendgroup": "group=C",
         "marker": {
          "color": "#00cc96",
          "symbol": "circle"
         },
         "mode": "lines",
         "name": "group=C",
         "showlegend": false,
         "type": "scatter",
         "x": [
          1.8484206364468818,
          2.3889768833831244,
          2.469528489640808,
          2.568441410441798,
          2.6458185045098226,
          2.7839066809905986,
          2.8008692722846753,
          2.896665670580529,
          2.9014728952396993,
          2.917645627634699,
          2.984138142758413,
          3.1247383468485226,
          3.1525571652607085,
          3.236024340360933,
          3.4990716046184196,
          3.5348067972643578,
          3.546427129473266,
          3.573464613289202,
          3.630609655446979,
          3.6729460065679556,
          3.6806441027540315,
          3.6806735207485106,
          3.7251724953200065,
          3.773489891801685,
          3.77426146262802,
          3.779496470295057,
          3.81470580644541,
          3.8571006647937254,
          3.9298423222055576,
          3.935289974227079,
          3.986064704051726,
          4.045663512466447,
          4.140808799164753,
          4.241088755048916,
          4.2811617003951525,
          4.398216092223092,
          4.420065279877554,
          4.470454638229786,
          4.472199688297318,
          4.476788624582289,
          4.559467993767468,
          4.754131042947313,
          4.799596248435955,
          4.896988314770823,
          5.144387973418461,
          5.397061563276155,
          5.541919280760408,
          5.739256971419575,
          5.9865988920934,
          6.092820498466407
         ],
         "xaxis": "x3",
         "y": [
          0.7258824492632319,
          1.2772344010411274,
          1.3593947415805947,
          1.4602830991729374,
          1.5392055278362013,
          1.6800515286948432,
          1.6973528879339734,
          1.7950624814740905,
          1.7999657134938678,
          1.8164614391877318,
          1.8842819078251147,
          2.0276901051862963,
          2.056064506397356,
          2.141198643985676,
          2.4094993497498023,
          2.4459482268540214,
          2.457800634221436,
          2.4853780964329455,
          2.5436644092943648,
          2.5868462797361613,
          2.5946981182473676,
          2.594728123762548,
          2.6401158084321197,
          2.689398174524435,
          2.6901851547571964,
          2.69552471324191,
          2.731437231721399,
          2.7746787778660833,
          2.8488731933721225,
          2.8544296430324425,
          2.906218419035833,
          2.9670075034823387,
          3.0640529817667947,
          3.1663356761474515,
          3.20720893726572,
          3.3266010777955866,
          3.3488866259255485,
          3.4002823340203165,
          3.402062235309289,
          3.406742819414354,
          3.4910734174425557,
          3.6896241745795897,
          3.7359973872216075,
          3.835334516642934,
          4.0876751110541,
          4.3453949648535115,
          4.493145704425398,
          4.6944245195735785,
          4.946706222898509,
          5.0550492312841815
         ],
         "yaxis": "y3"
        },
        {
         "hoverlabel": {
          "namelength": 0
         },
         "hovertemplate": "group=D<br>x=%{x}<br>y=%{y}",
         "legendgroup": "group=D",
         "marker": {
          "color": "#ab63fa",
          "symbol": "circle"
         },
         "mode": "markers",
         "name": "group=D",
         "showlegend": true,
         "type": "scatter",
         "x": [
          3.0052881056847736,
          2.1203500647318867,
          3.001955198938152,
          4.109888968316632,
          3.0684638072339823,
          4.351660517993954,
          1.7032158068260719,
          3.675890004262176,
          3.6131092663717075,
          2.5124129041714007,
          2.9916888342516597,
          1.7600858176807839,
          4.9554592328865015,
          4.164356396086017,
          3.989515263682135,
          3.478164587127033,
          1.0038272883125896,
          2.5739909670385175,
          3.3310126025721924,
          3.0684781514297845,
          2.2133925043482847,
          3.44451812159718,
          1.8725268413099694,
          4.061484602467909,
          2.580880844685951,
          3.958199959111622,
          3.931320772019193,
          2.446307528623786,
          1.83655947179035,
          2.4752787277098567,
          3.7754825655207145,
          2.1220971790726977,
          3.228617582187703,
          2.8156809852527562,
          2.989289744927994,
          3.082819644870404,
          5.901936635701597,
          3.6692105415491176,
          2.64428173442156,
          2.811323238259899,
          2.3014206229279033,
          3.365768405301499,
          3.1697206766220396,
          2.2110118024423233,
          2.873330627886325,
          0.43696315807683384,
          3.4686700027823907,
          3.780658596360499,
          3.488478118923764,
          2.949655356893879
         ],
         "xaxis": "x4",
         "y": [
          2.356018179006885,
          0.5890321936920497,
          3.7636418731321677,
          1.9564026682473301,
          2.1369196482921273,
          2.756342701144238,
          1.364222294472559,
          1.6265817688154494,
          1.5914659257842223,
          1.7717498530283313,
          3.260633504335903,
          0.30612730819606804,
          3.8734321023630063,
          2.6941855299675956,
          1.7616470137824254,
          2.5832243302933544,
          0.4128238495490187,
          2.6505022910528333,
          3.049471705181432,
          3.6268731414452757,
          1.2598536485354837,
          1.1637216576487253,
          2.243165966297958,
          1.3408332964600653,
          1.3906463365428967,
          2.583835139481253,
          2.0584092929385087,
          1.5931143096022642,
          2.383732383598638,
          2.0263825377121822,
          2.8840506129341392,
          0.5928945345698534,
          3.6080579396267733,
          1.3315115681141978,
          2.3455181656689787,
          2.6042212593416156,
          4.87488770221779,
          3.550311688128678,
          3.321804403073113,
          2.4936428712834675,
          1.7669687728509702,
          0.5078001492877449,
          1.4071652312278315,
          2.5755240484223916,
          2.9562438468472294,
          0.4746892405295263,
          2.80075873903749,
          3.036955141245827,
          4.4807062812901535,
          1.758349360599789
         ],
         "yaxis": "y4"
        },
        {
         "hoverlabel": {
          "namelength": 0
         },
         "hovertemplate": "<b>OLS trendline</b><br>y = 0.629661 * x + 0.311915<br>R<sup>2</sup>=0.324209<br><br>group=D<br>x=%{x}<br>y=%{y} <b>(trend)</b>",
         "legendgroup": "group=D",
         "marker": {
          "color": "#ab63fa",
          "symbol": "circle"
         },
         "mode": "lines",
         "name": "group=D",
         "showlegend": false,
         "type": "scatter",
         "x": [
          0.43696315807683384,
          1.0038272883125896,
          1.7032158068260719,
          1.7600858176807839,
          1.83655947179035,
          1.8725268413099694,
          2.1203500647318867,
          2.1220971790726977,
          2.2110118024423233,
          2.2133925043482847,
          2.3014206229279033,
          2.446307528623786,
          2.4752787277098567,
          2.5124129041714007,
          2.5739909670385175,
          2.580880844685951,
          2.64428173442156,
          2.811323238259899,
          2.8156809852527562,
          2.873330627886325,
          2.949655356893879,
          2.989289744927994,
          2.9916888342516597,
          3.001955198938152,
          3.0052881056847736,
          3.0684638072339823,
          3.0684781514297845,
          3.082819644870404,
          3.1697206766220396,
          3.228617582187703,
          3.3310126025721924,
          3.365768405301499,
          3.44451812159718,
          3.4686700027823907,
          3.478164587127033,
          3.488478118923764,
          3.6131092663717075,
          3.6692105415491176,
          3.675890004262176,
          3.7754825655207145,
          3.780658596360499,
          3.931320772019193,
          3.958199959111622,
          3.989515263682135,
          4.061484602467909,
          4.109888968316632,
          4.164356396086017,
          4.351660517993954,
          4.9554592328865015,
          5.901936635701597
         ],
         "xaxis": "x4",
         "y": [
          0.5870539398400028,
          0.9439859903136578,
          1.3843634364698074,
          1.420172245851324,
          1.4683246984631841,
          1.490971936607256,
          1.6470164745712075,
          1.6481165637650999,
          1.7041026054700394,
          1.7056016398374247,
          1.7610294843385292,
          1.852259071074431,
          1.8705010958258843,
          1.893883026415772,
          1.932656311002,
          1.9369945960072417,
          1.976915642988594,
          2.0820951089294444,
          2.084839010839341,
          2.1211387236924284,
          2.1691974040241373,
          2.1941536195186715,
          2.1956642317198867,
          2.202128557830865,
          2.2042271581402804,
          2.244006412976342,
          2.244015444952343,
          2.253045719382454,
          2.30776388163147,
          2.3448489469033937,
          2.409323064482376,
          2.4312074266643156,
          2.480793026127005,
          2.4960005159193965,
          2.5019788822999236,
          2.508472907685339,
          2.586948240024639,
          2.6222730067812368,
          2.626478801777019,
          2.689188321053092,
          2.6924474641218037,
          2.787313511236682,
          2.8042382783056015,
          2.82395629409699,
          2.869272556484867,
          2.8997508821236337,
          2.9340468794196117,
          3.0519849191169954,
          3.4321732250701755,
          4.02813282472463
         ],
         "yaxis": "y4"
        }
       ],
       "layout": {
        "annotations": [
         {
          "showarrow": false,
          "text": "group=A",
          "x": 0.1175,
          "xanchor": "center",
          "xref": "paper",
          "y": 1,
          "yanchor": "bottom",
          "yref": "paper"
         },
         {
          "showarrow": false,
          "text": "group=B",
          "x": 0.3725,
          "xanchor": "center",
          "xref": "paper",
          "y": 1,
          "yanchor": "bottom",
          "yref": "paper"
         },
         {
          "showarrow": false,
          "text": "group=C",
          "x": 0.6275,
          "xanchor": "center",
          "xref": "paper",
          "y": 1,
          "yanchor": "bottom",
          "yref": "paper"
         },
         {
          "showarrow": false,
          "text": "group=D",
          "x": 0.8824999999999998,
          "xanchor": "center",
          "xref": "paper",
          "y": 1,
          "yanchor": "bottom",
          "yref": "paper"
         }
        ],
        "legend": {
         "tracegroupgap": 0
        },
        "margin": {
         "t": 60
        },
        "template": {
         "data": {
          "bar": [
           {
            "error_x": {
             "color": "#2a3f5f"
            },
            "error_y": {
             "color": "#2a3f5f"
            },
            "marker": {
             "line": {
              "color": "#E5ECF6",
              "width": 0.5
             }
            },
            "type": "bar"
           }
          ],
          "barpolar": [
           {
            "marker": {
             "line": {
              "color": "#E5ECF6",
              "width": 0.5
             }
            },
            "type": "barpolar"
           }
          ],
          "carpet": [
           {
            "aaxis": {
             "endlinecolor": "#2a3f5f",
             "gridcolor": "white",
             "linecolor": "white",
             "minorgridcolor": "white",
             "startlinecolor": "#2a3f5f"
            },
            "baxis": {
             "endlinecolor": "#2a3f5f",
             "gridcolor": "white",
             "linecolor": "white",
             "minorgridcolor": "white",
             "startlinecolor": "#2a3f5f"
            },
            "type": "carpet"
           }
          ],
          "choropleth": [
           {
            "colorbar": {
             "outlinewidth": 0,
             "ticks": ""
            },
            "type": "choropleth"
           }
          ],
          "contour": [
           {
            "colorbar": {
             "outlinewidth": 0,
             "ticks": ""
            },
            "colorscale": [
             [
              0,
              "#0d0887"
             ],
             [
              0.1111111111111111,
              "#46039f"
             ],
             [
              0.2222222222222222,
              "#7201a8"
             ],
             [
              0.3333333333333333,
              "#9c179e"
             ],
             [
              0.4444444444444444,
              "#bd3786"
             ],
             [
              0.5555555555555556,
              "#d8576b"
             ],
             [
              0.6666666666666666,
              "#ed7953"
             ],
             [
              0.7777777777777778,
              "#fb9f3a"
             ],
             [
              0.8888888888888888,
              "#fdca26"
             ],
             [
              1,
              "#f0f921"
             ]
            ],
            "type": "contour"
           }
          ],
          "contourcarpet": [
           {
            "colorbar": {
             "outlinewidth": 0,
             "ticks": ""
            },
            "type": "contourcarpet"
           }
          ],
          "heatmap": [
           {
            "colorbar": {
             "outlinewidth": 0,
             "ticks": ""
            },
            "colorscale": [
             [
              0,
              "#0d0887"
             ],
             [
              0.1111111111111111,
              "#46039f"
             ],
             [
              0.2222222222222222,
              "#7201a8"
             ],
             [
              0.3333333333333333,
              "#9c179e"
             ],
             [
              0.4444444444444444,
              "#bd3786"
             ],
             [
              0.5555555555555556,
              "#d8576b"
             ],
             [
              0.6666666666666666,
              "#ed7953"
             ],
             [
              0.7777777777777778,
              "#fb9f3a"
             ],
             [
              0.8888888888888888,
              "#fdca26"
             ],
             [
              1,
              "#f0f921"
             ]
            ],
            "type": "heatmap"
           }
          ],
          "heatmapgl": [
           {
            "colorbar": {
             "outlinewidth": 0,
             "ticks": ""
            },
            "colorscale": [
             [
              0,
              "#0d0887"
             ],
             [
              0.1111111111111111,
              "#46039f"
             ],
             [
              0.2222222222222222,
              "#7201a8"
             ],
             [
              0.3333333333333333,
              "#9c179e"
             ],
             [
              0.4444444444444444,
              "#bd3786"
             ],
             [
              0.5555555555555556,
              "#d8576b"
             ],
             [
              0.6666666666666666,
              "#ed7953"
             ],
             [
              0.7777777777777778,
              "#fb9f3a"
             ],
             [
              0.8888888888888888,
              "#fdca26"
             ],
             [
              1,
              "#f0f921"
             ]
            ],
            "type": "heatmapgl"
           }
          ],
          "histogram": [
           {
            "marker": {
             "colorbar": {
              "outlinewidth": 0,
              "ticks": ""
             }
            },
            "type": "histogram"
           }
          ],
          "histogram2d": [
           {
            "colorbar": {
             "outlinewidth": 0,
             "ticks": ""
            },
            "colorscale": [
             [
              0,
              "#0d0887"
             ],
             [
              0.1111111111111111,
              "#46039f"
             ],
             [
              0.2222222222222222,
              "#7201a8"
             ],
             [
              0.3333333333333333,
              "#9c179e"
             ],
             [
              0.4444444444444444,
              "#bd3786"
             ],
             [
              0.5555555555555556,
              "#d8576b"
             ],
             [
              0.6666666666666666,
              "#ed7953"
             ],
             [
              0.7777777777777778,
              "#fb9f3a"
             ],
             [
              0.8888888888888888,
              "#fdca26"
             ],
             [
              1,
              "#f0f921"
             ]
            ],
            "type": "histogram2d"
           }
          ],
          "histogram2dcontour": [
           {
            "colorbar": {
             "outlinewidth": 0,
             "ticks": ""
            },
            "colorscale": [
             [
              0,
              "#0d0887"
             ],
             [
              0.1111111111111111,
              "#46039f"
             ],
             [
              0.2222222222222222,
              "#7201a8"
             ],
             [
              0.3333333333333333,
              "#9c179e"
             ],
             [
              0.4444444444444444,
              "#bd3786"
             ],
             [
              0.5555555555555556,
              "#d8576b"
             ],
             [
              0.6666666666666666,
              "#ed7953"
             ],
             [
              0.7777777777777778,
              "#fb9f3a"
             ],
             [
              0.8888888888888888,
              "#fdca26"
             ],
             [
              1,
              "#f0f921"
             ]
            ],
            "type": "histogram2dcontour"
           }
          ],
          "mesh3d": [
           {
            "colorbar": {
             "outlinewidth": 0,
             "ticks": ""
            },
            "type": "mesh3d"
           }
          ],
          "parcoords": [
           {
            "line": {
             "colorbar": {
              "outlinewidth": 0,
              "ticks": ""
             }
            },
            "type": "parcoords"
           }
          ],
          "pie": [
           {
            "automargin": true,
            "type": "pie"
           }
          ],
          "scatter": [
           {
            "marker": {
             "colorbar": {
              "outlinewidth": 0,
              "ticks": ""
             }
            },
            "type": "scatter"
           }
          ],
          "scatter3d": [
           {
            "line": {
             "colorbar": {
              "outlinewidth": 0,
              "ticks": ""
             }
            },
            "marker": {
             "colorbar": {
              "outlinewidth": 0,
              "ticks": ""
             }
            },
            "type": "scatter3d"
           }
          ],
          "scattercarpet": [
           {
            "marker": {
             "colorbar": {
              "outlinewidth": 0,
              "ticks": ""
             }
            },
            "type": "scattercarpet"
           }
          ],
          "scattergeo": [
           {
            "marker": {
             "colorbar": {
              "outlinewidth": 0,
              "ticks": ""
             }
            },
            "type": "scattergeo"
           }
          ],
          "scattergl": [
           {
            "marker": {
             "colorbar": {
              "outlinewidth": 0,
              "ticks": ""
             }
            },
            "type": "scattergl"
           }
          ],
          "scattermapbox": [
           {
            "marker": {
             "colorbar": {
              "outlinewidth": 0,
              "ticks": ""
             }
            },
            "type": "scattermapbox"
           }
          ],
          "scatterpolar": [
           {
            "marker": {
             "colorbar": {
              "outlinewidth": 0,
              "ticks": ""
             }
            },
            "type": "scatterpolar"
           }
          ],
          "scatterpolargl": [
           {
            "marker": {
             "colorbar": {
              "outlinewidth": 0,
              "ticks": ""
             }
            },
            "type": "scatterpolargl"
           }
          ],
          "scatterternary": [
           {
            "marker": {
             "colorbar": {
              "outlinewidth": 0,
              "ticks": ""
             }
            },
            "type": "scatterternary"
           }
          ],
          "surface": [
           {
            "colorbar": {
             "outlinewidth": 0,
             "ticks": ""
            },
            "colorscale": [
             [
              0,
              "#0d0887"
             ],
             [
              0.1111111111111111,
              "#46039f"
             ],
             [
              0.2222222222222222,
              "#7201a8"
             ],
             [
              0.3333333333333333,
              "#9c179e"
             ],
             [
              0.4444444444444444,
              "#bd3786"
             ],
             [
              0.5555555555555556,
              "#d8576b"
             ],
             [
              0.6666666666666666,
              "#ed7953"
             ],
             [
              0.7777777777777778,
              "#fb9f3a"
             ],
             [
              0.8888888888888888,
              "#fdca26"
             ],
             [
              1,
              "#f0f921"
             ]
            ],
            "type": "surface"
           }
          ],
          "table": [
           {
            "cells": {
             "fill": {
              "color": "#EBF0F8"
             },
             "line": {
              "color": "white"
             }
            },
            "header": {
             "fill": {
              "color": "#C8D4E3"
             },
             "line": {
              "color": "white"
             }
            },
            "type": "table"
           }
          ]
         },
         "layout": {
          "annotationdefaults": {
           "arrowcolor": "#2a3f5f",
           "arrowhead": 0,
           "arrowwidth": 1
          },
          "coloraxis": {
           "colorbar": {
            "outlinewidth": 0,
            "ticks": ""
           }
          },
          "colorscale": {
           "diverging": [
            [
             0,
             "#8e0152"
            ],
            [
             0.1,
             "#c51b7d"
            ],
            [
             0.2,
             "#de77ae"
            ],
            [
             0.3,
             "#f1b6da"
            ],
            [
             0.4,
             "#fde0ef"
            ],
            [
             0.5,
             "#f7f7f7"
            ],
            [
             0.6,
             "#e6f5d0"
            ],
            [
             0.7,
             "#b8e186"
            ],
            [
             0.8,
             "#7fbc41"
            ],
            [
             0.9,
             "#4d9221"
            ],
            [
             1,
             "#276419"
            ]
           ],
           "sequential": [
            [
             0,
             "#0d0887"
            ],
            [
             0.1111111111111111,
             "#46039f"
            ],
            [
             0.2222222222222222,
             "#7201a8"
            ],
            [
             0.3333333333333333,
             "#9c179e"
            ],
            [
             0.4444444444444444,
             "#bd3786"
            ],
            [
             0.5555555555555556,
             "#d8576b"
            ],
            [
             0.6666666666666666,
             "#ed7953"
            ],
            [
             0.7777777777777778,
             "#fb9f3a"
            ],
            [
             0.8888888888888888,
             "#fdca26"
            ],
            [
             1,
             "#f0f921"
            ]
           ],
           "sequentialminus": [
            [
             0,
             "#0d0887"
            ],
            [
             0.1111111111111111,
             "#46039f"
            ],
            [
             0.2222222222222222,
             "#7201a8"
            ],
            [
             0.3333333333333333,
             "#9c179e"
            ],
            [
             0.4444444444444444,
             "#bd3786"
            ],
            [
             0.5555555555555556,
             "#d8576b"
            ],
            [
             0.6666666666666666,
             "#ed7953"
            ],
            [
             0.7777777777777778,
             "#fb9f3a"
            ],
            [
             0.8888888888888888,
             "#fdca26"
            ],
            [
             1,
             "#f0f921"
            ]
           ]
          },
          "colorway": [
           "#636efa",
           "#EF553B",
           "#00cc96",
           "#ab63fa",
           "#FFA15A",
           "#19d3f3",
           "#FF6692",
           "#B6E880",
           "#FF97FF",
           "#FECB52"
          ],
          "font": {
           "color": "#2a3f5f"
          },
          "geo": {
           "bgcolor": "white",
           "lakecolor": "white",
           "landcolor": "#E5ECF6",
           "showlakes": true,
           "showland": true,
           "subunitcolor": "white"
          },
          "hoverlabel": {
           "align": "left"
          },
          "hovermode": "closest",
          "mapbox": {
           "style": "light"
          },
          "paper_bgcolor": "white",
          "plot_bgcolor": "#E5ECF6",
          "polar": {
           "angularaxis": {
            "gridcolor": "white",
            "linecolor": "white",
            "ticks": ""
           },
           "bgcolor": "#E5ECF6",
           "radialaxis": {
            "gridcolor": "white",
            "linecolor": "white",
            "ticks": ""
           }
          },
          "scene": {
           "xaxis": {
            "backgroundcolor": "#E5ECF6",
            "gridcolor": "white",
            "gridwidth": 2,
            "linecolor": "white",
            "showbackground": true,
            "ticks": "",
            "zerolinecolor": "white"
           },
           "yaxis": {
            "backgroundcolor": "#E5ECF6",
            "gridcolor": "white",
            "gridwidth": 2,
            "linecolor": "white",
            "showbackground": true,
            "ticks": "",
            "zerolinecolor": "white"
           },
           "zaxis": {
            "backgroundcolor": "#E5ECF6",
            "gridcolor": "white",
            "gridwidth": 2,
            "linecolor": "white",
            "showbackground": true,
            "ticks": "",
            "zerolinecolor": "white"
           }
          },
          "shapedefaults": {
           "line": {
            "color": "#2a3f5f"
           }
          },
          "ternary": {
           "aaxis": {
            "gridcolor": "white",
            "linecolor": "white",
            "ticks": ""
           },
           "baxis": {
            "gridcolor": "white",
            "linecolor": "white",
            "ticks": ""
           },
           "bgcolor": "#E5ECF6",
           "caxis": {
            "gridcolor": "white",
            "linecolor": "white",
            "ticks": ""
           }
          },
          "title": {
           "x": 0.05
          },
          "xaxis": {
           "automargin": true,
           "gridcolor": "white",
           "linecolor": "white",
           "ticks": "",
           "title": {
            "standoff": 15
           },
           "zerolinecolor": "white",
           "zerolinewidth": 2
          },
          "yaxis": {
           "automargin": true,
           "gridcolor": "white",
           "linecolor": "white",
           "ticks": "",
           "title": {
            "standoff": 15
           },
           "zerolinecolor": "white",
           "zerolinewidth": 2
          }
         }
        },
        "xaxis": {
         "anchor": "y",
         "domain": [
          0,
          0.235
         ],
         "title": {
          "text": "x"
         }
        },
        "xaxis2": {
         "anchor": "y2",
         "domain": [
          0.255,
          0.49
         ],
         "matches": "x",
         "title": {
          "text": "x"
         }
        },
        "xaxis3": {
         "anchor": "y3",
         "domain": [
          0.51,
          0.745
         ],
         "matches": "x",
         "title": {
          "text": "x"
         }
        },
        "xaxis4": {
         "anchor": "y4",
         "domain": [
          0.7649999999999999,
          0.9999999999999999
         ],
         "matches": "x",
         "title": {
          "text": "x"
         }
        },
        "yaxis": {
         "anchor": "x",
         "domain": [
          0,
          1
         ],
         "title": {
          "text": "y"
         }
        },
        "yaxis2": {
         "anchor": "x2",
         "domain": [
          0,
          1
         ],
         "matches": "y",
         "showticklabels": false
        },
        "yaxis3": {
         "anchor": "x3",
         "domain": [
          0,
          1
         ],
         "matches": "y",
         "showticklabels": false
        },
        "yaxis4": {
         "anchor": "x4",
         "domain": [
          0,
          1
         ],
         "matches": "y",
         "showticklabels": false
        }
       }
      },
      "text/html": [
       "<div>\n",
       "        \n",
       "        \n",
       "            <div id=\"a01798f7-21af-48d2-bd83-293c9766d5eb\" class=\"plotly-graph-div\" style=\"height:525px; width:100%;\"></div>\n",
       "            <script type=\"text/javascript\">\n",
       "                require([\"plotly\"], function(Plotly) {\n",
       "                    window.PLOTLYENV=window.PLOTLYENV || {};\n",
       "                    \n",
       "                if (document.getElementById(\"a01798f7-21af-48d2-bd83-293c9766d5eb\")) {\n",
       "                    Plotly.newPlot(\n",
       "                        'a01798f7-21af-48d2-bd83-293c9766d5eb',\n",
       "                        [{\"hoverlabel\": {\"namelength\": 0}, \"hovertemplate\": \"group=A<br>x=%{x}<br>y=%{y}\", \"legendgroup\": \"group=A\", \"marker\": {\"color\": \"#636efa\", \"symbol\": \"circle\"}, \"mode\": \"markers\", \"name\": \"group=A\", \"showlegend\": true, \"type\": \"scatter\", \"x\": [3.704314014721918, 2.3104629062531883, 2.8563723825995213, 3.6083737822367787, 1.490911152662311, 3.6896427371057254, 2.7530219096056614, 4.032651146542533, 0.34980821484960156, 3.909161783204173, 4.278917775403523, 2.524709001055272, 2.6531320899512942, 3.650388465499863, 1.9382428266519445, 3.4911982280370535, 2.100387922988501, 2.340622610797912, 2.144835980602888, 4.198943355193459, 2.8847299324113953, 3.7660267086854304, 2.1686435601834484, 3.7963677747810096, 3.849128874407978, 2.41497055424014, 2.001454678027793, 4.198318454831068, 2.6198573714036635, 2.9366242680735004, 3.9028358592608816, 0.5617433993092615, 2.9380958175624032, 1.8554066112661556, 3.7452952243870414, 4.601432266015381, 2.506185178257242, 2.0991544984302415, 3.2919666813917514, 1.7654815586879526, 2.0624683294259474, 3.062875362415646, 3.1454795280080536, 2.8855572953904214, -0.290251591943814, 1.824005557876925, 2.594764501245665, 3.359143765327744, 3.546821796691777, 2.9401291464648605], \"xaxis\": \"x\", \"y\": [3.639633968338619, -0.2535452757769867, 0.693132730194409, 3.536159483327719, 0.18594576254770123, 1.8953678851410563, 1.38869170179541, 1.5048902046561385, 1.3450673345878001, 4.665942955705107, 3.500416001345053, 2.1371078992921366, 1.9462851383719775, 4.233259589508735, -1.2008145960400118, 3.8880154282533983, 0.6963427700442585, 2.195841406996615, 1.8554619800482146, 3.7299794230023497, 2.9811455294840883, 2.317965281361505, 1.205160604360921, 2.4007287348110067, 3.046707107624779, 1.5868235944588527, 3.7208928307862954, 4.869278428260831, 0.17408622189484935, 3.2482663722196854, 2.5127661747710266, -0.16178228433256292, 3.7914711652588142, 2.430753060925585, 0.9603458702367396, 4.37125226920184, 0.6878578375676627, 2.018398298509555, 3.8791829623151184, 2.4838054590801875, 2.0721653772055406, 3.2081573415795503, 2.5409839598225306, 1.8373417717131937, -0.057947586292873776, 1.2076003647364373, 1.0446190552950658, 1.5352532533320697, 2.9288582251639825, 2.860740925742132], \"yaxis\": \"y\"}, {\"hoverlabel\": {\"namelength\": 0}, \"hovertemplate\": \"<b>OLS trendline</b><br>y = 0.861333 * x + -0.244286<br>R<sup>2</sup>=0.398487<br><br>group=A<br>x=%{x}<br>y=%{y} <b>(trend)</b>\", \"legendgroup\": \"group=A\", \"marker\": {\"color\": \"#636efa\", \"symbol\": \"circle\"}, \"mode\": \"lines\", \"name\": \"group=A\", \"showlegend\": false, \"type\": \"scatter\", \"x\": [-0.290251591943814, 0.34980821484960156, 0.5617433993092615, 1.490911152662311, 1.7654815586879526, 1.824005557876925, 1.8554066112661556, 1.9382428266519445, 2.001454678027793, 2.0624683294259474, 2.0991544984302415, 2.100387922988501, 2.144835980602888, 2.1686435601834484, 2.3104629062531883, 2.340622610797912, 2.41497055424014, 2.506185178257242, 2.524709001055272, 2.594764501245665, 2.6198573714036635, 2.6531320899512942, 2.7530219096056614, 2.8563723825995213, 2.8847299324113953, 2.8855572953904214, 2.9366242680735004, 2.9380958175624032, 2.9401291464648605, 3.062875362415646, 3.1454795280080536, 3.2919666813917514, 3.359143765327744, 3.4911982280370535, 3.546821796691777, 3.6083737822367787, 3.650388465499863, 3.6896427371057254, 3.704314014721918, 3.7452952243870414, 3.7660267086854304, 3.7963677747810096, 3.849128874407978, 3.9028358592608816, 3.909161783204173, 4.032651146542533, 4.198318454831068, 4.198943355193459, 4.278917775403523, 4.601432266015381], \"xaxis\": \"x\", \"y\": [-0.4942889380765164, 0.05701574257521966, 0.23956252640273615, 1.0398854432571734, 1.276382014989634, 1.3267906710884734, 1.3538374369174444, 1.4251870089183003, 1.4796334671496871, 1.5321865430379729, 1.5637855537438206, 1.5648479431095987, 1.6031325251886581, 1.6236387808829609, 1.7457924741243973, 1.771770025137761, 1.8358083677762014, 1.9143745402350623, 1.9303297214598902, 1.9906708407591183, 2.012284159736911, 2.040944775335601, 2.1269831807164983, 2.2160023612748483, 2.2404276568131243, 2.2411402919108037, 2.2851259644496555, 2.286393458693837, 2.2881448321269624, 2.3938702075805063, 2.465019907419609, 2.591194137481593, 2.649055981661414, 2.7627988579049934, 2.810709277257102, 2.8637260381506975, 2.8999146744206117, 2.9337256768335025, 2.9463625334758046, 2.9816610047551375, 2.999517717845464, 3.0256514815608524, 3.071096361667296, 3.117355964002636, 3.1228046915158587, 3.2291701643928556, 3.371864896230504, 3.372403143580315, 3.4412877567465454, 3.7190801542149834], \"yaxis\": \"y\"}, {\"hoverlabel\": {\"namelength\": 0}, \"hovertemplate\": \"group=B<br>x=%{x}<br>y=%{y}\", \"legendgroup\": \"group=B\", \"marker\": {\"color\": \"#EF553B\", \"symbol\": \"circle\"}, \"mode\": \"markers\", \"name\": \"group=B\", \"showlegend\": true, \"type\": \"scatter\", \"x\": [4.1438510058298315, 1.6355302491896486, 1.8175107803119461, 3.592157659473223, 3.3927591803227086, 3.795331517044415, 4.776780260460146, 3.8700493130354037, 4.807568791476425, 2.7773346910213297, 5.201623069161894, 4.908459693662584, 2.5670182795401972, 3.537643025485645, 4.036422541243809, 3.660028922317838, 3.3519756743800238, 5.971164990216481, 3.7158744247159765, 2.5938807489718902, 2.473308346758571, 2.8124700718370477, 4.810251658129395, 3.584578702481836, 5.41417373818732, 3.9243106127141036, 5.5897383663839015, 2.9232360887067195, 5.06513090306967, 4.730765242057509, 4.981915022225904, 6.038140406401867, 3.8558708632030756, 2.88183932963583, 4.6537616962906565, 5.792817899053105, 4.39716114891181, 3.7888244619512084, 4.779593341028164, 5.288153539709032, 3.069214558322661, 6.210518915105226, 3.841038316696584, 3.8472245285100986, 4.667812246944511, 2.7731668436472896, 3.2941754151823646, 3.186195491683727, 3.0629670710509584, 3.6324150758906333], \"xaxis\": \"x2\", \"y\": [2.884495881358384, 0.7274572250665525, -0.3664553028749531, 2.3342129017412208, 1.1906979337564245, 2.110585384033756, 5.3786572933345225, 2.9099959663927364, 4.047328078980396, 0.5286325743451705, 4.570546581289342, 1.8061729262360346, 0.9778234827333567, 0.3884976673564031, 2.0011408904505315, 3.5096760993690586, 2.8328320754156926, 3.3636685241663296, 2.7715192310506853, 0.12583224262630477, 1.0541834039000002, 0.7278080926535646, 3.8427151249055633, 2.8483057409352996, 4.082355893715508, 3.9828689947065294, 3.8232478315009804, 2.5646107356134906, 4.556653834048836, 3.361178302699357, 4.788273819762924, 3.929065315253301, 2.1351031622960432, 2.374275559195645, 3.169413950143227, 4.405744314995359, 5.7465127834979475, 1.513473080589536, 5.413463699194541, 3.7519515048872303, 2.2375485759307865, 4.455282862556301, 2.0635969683796778, 2.258723573508433, 3.0328988012907203, 4.870308954497705, 2.3090312143424567, 3.3723771286059008, 1.4010381672514844, 2.9884065465798617], \"yaxis\": \"y2\"}, {\"hoverlabel\": {\"namelength\": 0}, \"hovertemplate\": \"<b>OLS trendline</b><br>y = 0.948785 * x + -0.963026<br>R<sup>2</sup>=0.500653<br><br>group=B<br>x=%{x}<br>y=%{y} <b>(trend)</b>\", \"legendgroup\": \"group=B\", \"marker\": {\"color\": \"#EF553B\", \"symbol\": \"circle\"}, \"mode\": \"lines\", \"name\": \"group=B\", \"showlegend\": false, \"type\": \"scatter\", \"x\": [1.6355302491896486, 1.8175107803119461, 2.473308346758571, 2.5670182795401972, 2.5938807489718902, 2.7731668436472896, 2.7773346910213297, 2.8124700718370477, 2.88183932963583, 2.9232360887067195, 3.0629670710509584, 3.069214558322661, 3.186195491683727, 3.2941754151823646, 3.3519756743800238, 3.3927591803227086, 3.537643025485645, 3.584578702481836, 3.592157659473223, 3.6324150758906333, 3.660028922317838, 3.7158744247159765, 3.7888244619512084, 3.795331517044415, 3.841038316696584, 3.8472245285100986, 3.8558708632030756, 3.8700493130354037, 3.9243106127141036, 4.036422541243809, 4.1438510058298315, 4.39716114891181, 4.6537616962906565, 4.667812246944511, 4.730765242057509, 4.776780260460146, 4.779593341028164, 4.807568791476425, 4.810251658129395, 4.908459693662584, 4.981915022225904, 5.06513090306967, 5.201623069161894, 5.288153539709032, 5.41417373818732, 5.5897383663839015, 5.792817899053105, 5.971164990216481, 6.038140406401867, 6.210518915105226], \"xaxis\": \"x2\", \"y\": [0.5887398092159541, 0.7614001253100817, 1.3836107234335644, 1.4725212597170392, 1.4980079556539139, 1.6681118320797543, 1.6720662212696082, 1.7054021277004587, 1.771218607655139, 1.8104952130280993, 1.943069810051809, 1.9489973294434375, 2.0599870315096105, 2.162436714495562, 2.2172767073334967, 2.2559714676139704, 2.393435021261661, 2.437966866378698, 2.445157663667432, 2.4833532783350902, 2.5095528691555593, 2.5625382189456314, 2.6317520871019386, 2.6379258804319505, 2.681291785712725, 2.6871611678964094, 2.6953646766560455, 2.7088169707815606, 2.7602992535094106, 2.8666693190240142, 2.96859578631443, 3.2089325361010896, 3.4523911706436134, 3.4657221160048, 3.5254509450627705, 3.56910928353161, 3.57177829090881, 3.598320966037207, 3.6008664284637835, 3.694044695136432, 3.763737975897424, 3.8426919178489403, 3.9721935760566405, 4.054292349504015, 4.1738583666450655, 4.340431373177276, 4.53311009593223, 4.702323060334682, 4.765868300354523, 4.929418365941234], \"yaxis\": \"y2\"}, {\"hoverlabel\": {\"namelength\": 0}, \"hovertemplate\": \"group=C<br>x=%{x}<br>y=%{y}\", \"legendgroup\": \"group=C\", \"marker\": {\"color\": \"#00cc96\", \"symbol\": \"circle\"}, \"mode\": \"markers\", \"name\": \"group=C\", \"showlegend\": true, \"type\": \"scatter\", \"x\": [5.739256971419575, 3.935289974227079, 3.7251724953200065, 4.799596248435955, 3.6729460065679556, 3.1525571652607085, 3.4990716046184196, 4.470454638229786, 5.144387973418461, 3.573464613289202, 4.2811617003951525, 3.546427129473266, 2.3889768833831244, 2.9014728952396993, 2.6458185045098226, 4.754131042947313, 3.77426146262802, 6.092820498466407, 3.81470580644541, 4.896988314770823, 3.8571006647937254, 2.984138142758413, 4.140808799164753, 5.397061563276155, 3.779496470295057, 4.398216092223092, 4.472199688297318, 3.630609655446979, 3.1247383468485226, 3.236024340360933, 3.986064704051726, 4.045663512466447, 4.420065279877554, 3.773489891801685, 3.6806441027540315, 4.476788624582289, 3.9298423222055576, 1.8484206364468818, 5.541919280760408, 2.568441410441798, 4.241088755048916, 2.896665670580529, 2.7839066809905986, 5.9865988920934, 2.8008692722846753, 3.6806735207485106, 4.559467993767468, 3.5348067972643578, 2.917645627634699, 2.469528489640808], \"xaxis\": \"x3\", \"y\": [4.780266561884151, 3.604702292697425, 3.6703304167147754, 4.524329432848946, 3.2210691165748595, 3.261286462785005, 2.3276575302043367, 2.942895875543298, 3.811999277872261, 1.6012250590171884, 2.8390006931499925, 0.9515166245441748, 1.7243559822194472, 2.483351712313736, 1.9340021845385174, 3.95296771075287, 5.011744882538471, 5.360511411319198, 0.9825859458469994, 2.9237993557367052, 2.5762441480802374, 2.593214276921415, 2.246389615815144, 4.58263507248026, 2.2700327733432526, 3.132259703038707, 3.42201090369724, 1.755504578607895, 3.092133731324741, 0.5485891024866625, 4.438481354122735, 3.0597455435379346, 2.344040176800318, 4.300283524941419, 3.3940518117910377, 3.8394839075978644, 3.4117375779020653, -0.15398810659537787, 4.384870272762001, 1.8863642139034327, 2.6487552745699623, 0.27665896626377573, 4.276286439719917, 5.030763323996369, 0.3420592524454038, 1.304168439239811, 3.496299585589922, 0.6255407937143431, 2.2315428990503556, 0.6074015422074666], \"yaxis\": \"y3\"}, {\"hoverlabel\": {\"namelength\": 0}, \"hovertemplate\": \"<b>OLS trendline</b><br>y = 1.019971 * x + -1.159454<br>R<sup>2</sup>=0.487488<br><br>group=C<br>x=%{x}<br>y=%{y} <b>(trend)</b>\", \"legendgroup\": \"group=C\", \"marker\": {\"color\": \"#00cc96\", \"symbol\": \"circle\"}, \"mode\": \"lines\", \"name\": \"group=C\", \"showlegend\": false, \"type\": \"scatter\", \"x\": [1.8484206364468818, 2.3889768833831244, 2.469528489640808, 2.568441410441798, 2.6458185045098226, 2.7839066809905986, 2.8008692722846753, 2.896665670580529, 2.9014728952396993, 2.917645627634699, 2.984138142758413, 3.1247383468485226, 3.1525571652607085, 3.236024340360933, 3.4990716046184196, 3.5348067972643578, 3.546427129473266, 3.573464613289202, 3.630609655446979, 3.6729460065679556, 3.6806441027540315, 3.6806735207485106, 3.7251724953200065, 3.773489891801685, 3.77426146262802, 3.779496470295057, 3.81470580644541, 3.8571006647937254, 3.9298423222055576, 3.935289974227079, 3.986064704051726, 4.045663512466447, 4.140808799164753, 4.241088755048916, 4.2811617003951525, 4.398216092223092, 4.420065279877554, 4.470454638229786, 4.472199688297318, 4.476788624582289, 4.559467993767468, 4.754131042947313, 4.799596248435955, 4.896988314770823, 5.144387973418461, 5.397061563276155, 5.541919280760408, 5.739256971419575, 5.9865988920934, 6.092820498466407], \"xaxis\": \"x3\", \"y\": [0.7258824492632319, 1.2772344010411274, 1.3593947415805947, 1.4602830991729374, 1.5392055278362013, 1.6800515286948432, 1.6973528879339734, 1.7950624814740905, 1.7999657134938678, 1.8164614391877318, 1.8842819078251147, 2.0276901051862963, 2.056064506397356, 2.141198643985676, 2.4094993497498023, 2.4459482268540214, 2.457800634221436, 2.4853780964329455, 2.5436644092943648, 2.5868462797361613, 2.5946981182473676, 2.594728123762548, 2.6401158084321197, 2.689398174524435, 2.6901851547571964, 2.69552471324191, 2.731437231721399, 2.7746787778660833, 2.8488731933721225, 2.8544296430324425, 2.906218419035833, 2.9670075034823387, 3.0640529817667947, 3.1663356761474515, 3.20720893726572, 3.3266010777955866, 3.3488866259255485, 3.4002823340203165, 3.402062235309289, 3.406742819414354, 3.4910734174425557, 3.6896241745795897, 3.7359973872216075, 3.835334516642934, 4.0876751110541, 4.3453949648535115, 4.493145704425398, 4.6944245195735785, 4.946706222898509, 5.0550492312841815], \"yaxis\": \"y3\"}, {\"hoverlabel\": {\"namelength\": 0}, \"hovertemplate\": \"group=D<br>x=%{x}<br>y=%{y}\", \"legendgroup\": \"group=D\", \"marker\": {\"color\": \"#ab63fa\", \"symbol\": \"circle\"}, \"mode\": \"markers\", \"name\": \"group=D\", \"showlegend\": true, \"type\": \"scatter\", \"x\": [3.0052881056847736, 2.1203500647318867, 3.001955198938152, 4.109888968316632, 3.0684638072339823, 4.351660517993954, 1.7032158068260719, 3.675890004262176, 3.6131092663717075, 2.5124129041714007, 2.9916888342516597, 1.7600858176807839, 4.9554592328865015, 4.164356396086017, 3.989515263682135, 3.478164587127033, 1.0038272883125896, 2.5739909670385175, 3.3310126025721924, 3.0684781514297845, 2.2133925043482847, 3.44451812159718, 1.8725268413099694, 4.061484602467909, 2.580880844685951, 3.958199959111622, 3.931320772019193, 2.446307528623786, 1.83655947179035, 2.4752787277098567, 3.7754825655207145, 2.1220971790726977, 3.228617582187703, 2.8156809852527562, 2.989289744927994, 3.082819644870404, 5.901936635701597, 3.6692105415491176, 2.64428173442156, 2.811323238259899, 2.3014206229279033, 3.365768405301499, 3.1697206766220396, 2.2110118024423233, 2.873330627886325, 0.43696315807683384, 3.4686700027823907, 3.780658596360499, 3.488478118923764, 2.949655356893879], \"xaxis\": \"x4\", \"y\": [2.356018179006885, 0.5890321936920497, 3.7636418731321677, 1.9564026682473301, 2.1369196482921273, 2.756342701144238, 1.364222294472559, 1.6265817688154494, 1.5914659257842223, 1.7717498530283313, 3.260633504335903, 0.30612730819606804, 3.8734321023630063, 2.6941855299675956, 1.7616470137824254, 2.5832243302933544, 0.4128238495490187, 2.6505022910528333, 3.049471705181432, 3.6268731414452757, 1.2598536485354837, 1.1637216576487253, 2.243165966297958, 1.3408332964600653, 1.3906463365428967, 2.583835139481253, 2.0584092929385087, 1.5931143096022642, 2.383732383598638, 2.0263825377121822, 2.8840506129341392, 0.5928945345698534, 3.6080579396267733, 1.3315115681141978, 2.3455181656689787, 2.6042212593416156, 4.87488770221779, 3.550311688128678, 3.321804403073113, 2.4936428712834675, 1.7669687728509702, 0.5078001492877449, 1.4071652312278315, 2.5755240484223916, 2.9562438468472294, 0.4746892405295263, 2.80075873903749, 3.036955141245827, 4.4807062812901535, 1.758349360599789], \"yaxis\": \"y4\"}, {\"hoverlabel\": {\"namelength\": 0}, \"hovertemplate\": \"<b>OLS trendline</b><br>y = 0.629661 * x + 0.311915<br>R<sup>2</sup>=0.324209<br><br>group=D<br>x=%{x}<br>y=%{y} <b>(trend)</b>\", \"legendgroup\": \"group=D\", \"marker\": {\"color\": \"#ab63fa\", \"symbol\": \"circle\"}, \"mode\": \"lines\", \"name\": \"group=D\", \"showlegend\": false, \"type\": \"scatter\", \"x\": [0.43696315807683384, 1.0038272883125896, 1.7032158068260719, 1.7600858176807839, 1.83655947179035, 1.8725268413099694, 2.1203500647318867, 2.1220971790726977, 2.2110118024423233, 2.2133925043482847, 2.3014206229279033, 2.446307528623786, 2.4752787277098567, 2.5124129041714007, 2.5739909670385175, 2.580880844685951, 2.64428173442156, 2.811323238259899, 2.8156809852527562, 2.873330627886325, 2.949655356893879, 2.989289744927994, 2.9916888342516597, 3.001955198938152, 3.0052881056847736, 3.0684638072339823, 3.0684781514297845, 3.082819644870404, 3.1697206766220396, 3.228617582187703, 3.3310126025721924, 3.365768405301499, 3.44451812159718, 3.4686700027823907, 3.478164587127033, 3.488478118923764, 3.6131092663717075, 3.6692105415491176, 3.675890004262176, 3.7754825655207145, 3.780658596360499, 3.931320772019193, 3.958199959111622, 3.989515263682135, 4.061484602467909, 4.109888968316632, 4.164356396086017, 4.351660517993954, 4.9554592328865015, 5.901936635701597], \"xaxis\": \"x4\", \"y\": [0.5870539398400028, 0.9439859903136578, 1.3843634364698074, 1.420172245851324, 1.4683246984631841, 1.490971936607256, 1.6470164745712075, 1.6481165637650999, 1.7041026054700394, 1.7056016398374247, 1.7610294843385292, 1.852259071074431, 1.8705010958258843, 1.893883026415772, 1.932656311002, 1.9369945960072417, 1.976915642988594, 2.0820951089294444, 2.084839010839341, 2.1211387236924284, 2.1691974040241373, 2.1941536195186715, 2.1956642317198867, 2.202128557830865, 2.2042271581402804, 2.244006412976342, 2.244015444952343, 2.253045719382454, 2.30776388163147, 2.3448489469033937, 2.409323064482376, 2.4312074266643156, 2.480793026127005, 2.4960005159193965, 2.5019788822999236, 2.508472907685339, 2.586948240024639, 2.6222730067812368, 2.626478801777019, 2.689188321053092, 2.6924474641218037, 2.787313511236682, 2.8042382783056015, 2.82395629409699, 2.869272556484867, 2.8997508821236337, 2.9340468794196117, 3.0519849191169954, 3.4321732250701755, 4.02813282472463], \"yaxis\": \"y4\"}],\n",
       "                        {\"annotations\": [{\"showarrow\": false, \"text\": \"group=A\", \"x\": 0.1175, \"xanchor\": \"center\", \"xref\": \"paper\", \"y\": 1.0, \"yanchor\": \"bottom\", \"yref\": \"paper\"}, {\"showarrow\": false, \"text\": \"group=B\", \"x\": 0.3725, \"xanchor\": \"center\", \"xref\": \"paper\", \"y\": 1.0, \"yanchor\": \"bottom\", \"yref\": \"paper\"}, {\"showarrow\": false, \"text\": \"group=C\", \"x\": 0.6275, \"xanchor\": \"center\", \"xref\": \"paper\", \"y\": 1.0, \"yanchor\": \"bottom\", \"yref\": \"paper\"}, {\"showarrow\": false, \"text\": \"group=D\", \"x\": 0.8824999999999998, \"xanchor\": \"center\", \"xref\": \"paper\", \"y\": 1.0, \"yanchor\": \"bottom\", \"yref\": \"paper\"}], \"legend\": {\"tracegroupgap\": 0}, \"margin\": {\"t\": 60}, \"template\": {\"data\": {\"bar\": [{\"error_x\": {\"color\": \"#2a3f5f\"}, \"error_y\": {\"color\": \"#2a3f5f\"}, \"marker\": {\"line\": {\"color\": \"#E5ECF6\", \"width\": 0.5}}, \"type\": \"bar\"}], \"barpolar\": [{\"marker\": {\"line\": {\"color\": \"#E5ECF6\", \"width\": 0.5}}, \"type\": \"barpolar\"}], \"carpet\": [{\"aaxis\": {\"endlinecolor\": \"#2a3f5f\", \"gridcolor\": \"white\", \"linecolor\": \"white\", \"minorgridcolor\": \"white\", \"startlinecolor\": \"#2a3f5f\"}, \"baxis\": {\"endlinecolor\": \"#2a3f5f\", \"gridcolor\": \"white\", \"linecolor\": \"white\", \"minorgridcolor\": \"white\", \"startlinecolor\": \"#2a3f5f\"}, \"type\": \"carpet\"}], \"choropleth\": [{\"colorbar\": {\"outlinewidth\": 0, \"ticks\": \"\"}, \"type\": \"choropleth\"}], \"contour\": [{\"colorbar\": {\"outlinewidth\": 0, \"ticks\": \"\"}, \"colorscale\": [[0.0, \"#0d0887\"], [0.1111111111111111, \"#46039f\"], [0.2222222222222222, \"#7201a8\"], [0.3333333333333333, \"#9c179e\"], [0.4444444444444444, \"#bd3786\"], [0.5555555555555556, \"#d8576b\"], [0.6666666666666666, \"#ed7953\"], [0.7777777777777778, \"#fb9f3a\"], [0.8888888888888888, \"#fdca26\"], [1.0, \"#f0f921\"]], \"type\": \"contour\"}], \"contourcarpet\": [{\"colorbar\": {\"outlinewidth\": 0, \"ticks\": \"\"}, \"type\": \"contourcarpet\"}], \"heatmap\": [{\"colorbar\": {\"outlinewidth\": 0, \"ticks\": \"\"}, \"colorscale\": [[0.0, \"#0d0887\"], [0.1111111111111111, \"#46039f\"], [0.2222222222222222, \"#7201a8\"], [0.3333333333333333, \"#9c179e\"], [0.4444444444444444, \"#bd3786\"], [0.5555555555555556, \"#d8576b\"], [0.6666666666666666, \"#ed7953\"], [0.7777777777777778, \"#fb9f3a\"], [0.8888888888888888, \"#fdca26\"], [1.0, \"#f0f921\"]], \"type\": \"heatmap\"}], \"heatmapgl\": [{\"colorbar\": {\"outlinewidth\": 0, \"ticks\": \"\"}, \"colorscale\": [[0.0, \"#0d0887\"], [0.1111111111111111, \"#46039f\"], [0.2222222222222222, \"#7201a8\"], [0.3333333333333333, \"#9c179e\"], [0.4444444444444444, \"#bd3786\"], [0.5555555555555556, \"#d8576b\"], [0.6666666666666666, \"#ed7953\"], [0.7777777777777778, \"#fb9f3a\"], [0.8888888888888888, \"#fdca26\"], [1.0, \"#f0f921\"]], \"type\": \"heatmapgl\"}], \"histogram\": [{\"marker\": {\"colorbar\": {\"outlinewidth\": 0, \"ticks\": \"\"}}, \"type\": \"histogram\"}], \"histogram2d\": [{\"colorbar\": {\"outlinewidth\": 0, \"ticks\": \"\"}, \"colorscale\": [[0.0, \"#0d0887\"], [0.1111111111111111, \"#46039f\"], [0.2222222222222222, \"#7201a8\"], [0.3333333333333333, \"#9c179e\"], [0.4444444444444444, \"#bd3786\"], [0.5555555555555556, \"#d8576b\"], [0.6666666666666666, \"#ed7953\"], [0.7777777777777778, \"#fb9f3a\"], [0.8888888888888888, \"#fdca26\"], [1.0, \"#f0f921\"]], \"type\": \"histogram2d\"}], \"histogram2dcontour\": [{\"colorbar\": {\"outlinewidth\": 0, \"ticks\": \"\"}, \"colorscale\": [[0.0, \"#0d0887\"], [0.1111111111111111, \"#46039f\"], [0.2222222222222222, \"#7201a8\"], [0.3333333333333333, \"#9c179e\"], [0.4444444444444444, \"#bd3786\"], [0.5555555555555556, \"#d8576b\"], [0.6666666666666666, \"#ed7953\"], [0.7777777777777778, \"#fb9f3a\"], [0.8888888888888888, \"#fdca26\"], [1.0, \"#f0f921\"]], \"type\": \"histogram2dcontour\"}], \"mesh3d\": [{\"colorbar\": {\"outlinewidth\": 0, \"ticks\": \"\"}, \"type\": \"mesh3d\"}], \"parcoords\": [{\"line\": {\"colorbar\": {\"outlinewidth\": 0, \"ticks\": \"\"}}, \"type\": \"parcoords\"}], \"pie\": [{\"automargin\": true, \"type\": \"pie\"}], \"scatter\": [{\"marker\": {\"colorbar\": {\"outlinewidth\": 0, \"ticks\": \"\"}}, \"type\": \"scatter\"}], \"scatter3d\": [{\"line\": {\"colorbar\": {\"outlinewidth\": 0, \"ticks\": \"\"}}, \"marker\": {\"colorbar\": {\"outlinewidth\": 0, \"ticks\": \"\"}}, \"type\": \"scatter3d\"}], \"scattercarpet\": [{\"marker\": {\"colorbar\": {\"outlinewidth\": 0, \"ticks\": \"\"}}, \"type\": \"scattercarpet\"}], \"scattergeo\": [{\"marker\": {\"colorbar\": {\"outlinewidth\": 0, \"ticks\": \"\"}}, \"type\": \"scattergeo\"}], \"scattergl\": [{\"marker\": {\"colorbar\": {\"outlinewidth\": 0, \"ticks\": \"\"}}, \"type\": \"scattergl\"}], \"scattermapbox\": [{\"marker\": {\"colorbar\": {\"outlinewidth\": 0, \"ticks\": \"\"}}, \"type\": \"scattermapbox\"}], \"scatterpolar\": [{\"marker\": {\"colorbar\": {\"outlinewidth\": 0, \"ticks\": \"\"}}, \"type\": \"scatterpolar\"}], \"scatterpolargl\": [{\"marker\": {\"colorbar\": {\"outlinewidth\": 0, \"ticks\": \"\"}}, \"type\": \"scatterpolargl\"}], \"scatterternary\": [{\"marker\": {\"colorbar\": {\"outlinewidth\": 0, \"ticks\": \"\"}}, \"type\": \"scatterternary\"}], \"surface\": [{\"colorbar\": {\"outlinewidth\": 0, \"ticks\": \"\"}, \"colorscale\": [[0.0, \"#0d0887\"], [0.1111111111111111, \"#46039f\"], [0.2222222222222222, \"#7201a8\"], [0.3333333333333333, \"#9c179e\"], [0.4444444444444444, \"#bd3786\"], [0.5555555555555556, \"#d8576b\"], [0.6666666666666666, \"#ed7953\"], [0.7777777777777778, \"#fb9f3a\"], [0.8888888888888888, \"#fdca26\"], [1.0, \"#f0f921\"]], \"type\": \"surface\"}], \"table\": [{\"cells\": {\"fill\": {\"color\": \"#EBF0F8\"}, \"line\": {\"color\": \"white\"}}, \"header\": {\"fill\": {\"color\": \"#C8D4E3\"}, \"line\": {\"color\": \"white\"}}, \"type\": \"table\"}]}, \"layout\": {\"annotationdefaults\": {\"arrowcolor\": \"#2a3f5f\", \"arrowhead\": 0, \"arrowwidth\": 1}, \"coloraxis\": {\"colorbar\": {\"outlinewidth\": 0, \"ticks\": \"\"}}, \"colorscale\": {\"diverging\": [[0, \"#8e0152\"], [0.1, \"#c51b7d\"], [0.2, \"#de77ae\"], [0.3, \"#f1b6da\"], [0.4, \"#fde0ef\"], [0.5, \"#f7f7f7\"], [0.6, \"#e6f5d0\"], [0.7, \"#b8e186\"], [0.8, \"#7fbc41\"], [0.9, \"#4d9221\"], [1, \"#276419\"]], \"sequential\": [[0.0, \"#0d0887\"], [0.1111111111111111, \"#46039f\"], [0.2222222222222222, \"#7201a8\"], [0.3333333333333333, \"#9c179e\"], [0.4444444444444444, \"#bd3786\"], [0.5555555555555556, \"#d8576b\"], [0.6666666666666666, \"#ed7953\"], [0.7777777777777778, \"#fb9f3a\"], [0.8888888888888888, \"#fdca26\"], [1.0, \"#f0f921\"]], \"sequentialminus\": [[0.0, \"#0d0887\"], [0.1111111111111111, \"#46039f\"], [0.2222222222222222, \"#7201a8\"], [0.3333333333333333, \"#9c179e\"], [0.4444444444444444, \"#bd3786\"], [0.5555555555555556, \"#d8576b\"], [0.6666666666666666, \"#ed7953\"], [0.7777777777777778, \"#fb9f3a\"], [0.8888888888888888, \"#fdca26\"], [1.0, \"#f0f921\"]]}, \"colorway\": [\"#636efa\", \"#EF553B\", \"#00cc96\", \"#ab63fa\", \"#FFA15A\", \"#19d3f3\", \"#FF6692\", \"#B6E880\", \"#FF97FF\", \"#FECB52\"], \"font\": {\"color\": \"#2a3f5f\"}, \"geo\": {\"bgcolor\": \"white\", \"lakecolor\": \"white\", \"landcolor\": \"#E5ECF6\", \"showlakes\": true, \"showland\": true, \"subunitcolor\": \"white\"}, \"hoverlabel\": {\"align\": \"left\"}, \"hovermode\": \"closest\", \"mapbox\": {\"style\": \"light\"}, \"paper_bgcolor\": \"white\", \"plot_bgcolor\": \"#E5ECF6\", \"polar\": {\"angularaxis\": {\"gridcolor\": \"white\", \"linecolor\": \"white\", \"ticks\": \"\"}, \"bgcolor\": \"#E5ECF6\", \"radialaxis\": {\"gridcolor\": \"white\", \"linecolor\": \"white\", \"ticks\": \"\"}}, \"scene\": {\"xaxis\": {\"backgroundcolor\": \"#E5ECF6\", \"gridcolor\": \"white\", \"gridwidth\": 2, \"linecolor\": \"white\", \"showbackground\": true, \"ticks\": \"\", \"zerolinecolor\": \"white\"}, \"yaxis\": {\"backgroundcolor\": \"#E5ECF6\", \"gridcolor\": \"white\", \"gridwidth\": 2, \"linecolor\": \"white\", \"showbackground\": true, \"ticks\": \"\", \"zerolinecolor\": \"white\"}, \"zaxis\": {\"backgroundcolor\": \"#E5ECF6\", \"gridcolor\": \"white\", \"gridwidth\": 2, \"linecolor\": \"white\", \"showbackground\": true, \"ticks\": \"\", \"zerolinecolor\": \"white\"}}, \"shapedefaults\": {\"line\": {\"color\": \"#2a3f5f\"}}, \"ternary\": {\"aaxis\": {\"gridcolor\": \"white\", \"linecolor\": \"white\", \"ticks\": \"\"}, \"baxis\": {\"gridcolor\": \"white\", \"linecolor\": \"white\", \"ticks\": \"\"}, \"bgcolor\": \"#E5ECF6\", \"caxis\": {\"gridcolor\": \"white\", \"linecolor\": \"white\", \"ticks\": \"\"}}, \"title\": {\"x\": 0.05}, \"xaxis\": {\"automargin\": true, \"gridcolor\": \"white\", \"linecolor\": \"white\", \"ticks\": \"\", \"title\": {\"standoff\": 15}, \"zerolinecolor\": \"white\", \"zerolinewidth\": 2}, \"yaxis\": {\"automargin\": true, \"gridcolor\": \"white\", \"linecolor\": \"white\", \"ticks\": \"\", \"title\": {\"standoff\": 15}, \"zerolinecolor\": \"white\", \"zerolinewidth\": 2}}}, \"xaxis\": {\"anchor\": \"y\", \"domain\": [0.0, 0.235], \"title\": {\"text\": \"x\"}}, \"xaxis2\": {\"anchor\": \"y2\", \"domain\": [0.255, 0.49], \"matches\": \"x\", \"title\": {\"text\": \"x\"}}, \"xaxis3\": {\"anchor\": \"y3\", \"domain\": [0.51, 0.745], \"matches\": \"x\", \"title\": {\"text\": \"x\"}}, \"xaxis4\": {\"anchor\": \"y4\", \"domain\": [0.7649999999999999, 0.9999999999999999], \"matches\": \"x\", \"title\": {\"text\": \"x\"}}, \"yaxis\": {\"anchor\": \"x\", \"domain\": [0.0, 1.0], \"title\": {\"text\": \"y\"}}, \"yaxis2\": {\"anchor\": \"x2\", \"domain\": [0.0, 1.0], \"matches\": \"y\", \"showticklabels\": false}, \"yaxis3\": {\"anchor\": \"x3\", \"domain\": [0.0, 1.0], \"matches\": \"y\", \"showticklabels\": false}, \"yaxis4\": {\"anchor\": \"x4\", \"domain\": [0.0, 1.0], \"matches\": \"y\", \"showticklabels\": false}},\n",
       "                        {\"responsive\": true}\n",
       "                    ).then(function(){\n",
       "                            \n",
       "var gd = document.getElementById('a01798f7-21af-48d2-bd83-293c9766d5eb');\n",
       "var x = new MutationObserver(function (mutations, observer) {{\n",
       "        var display = window.getComputedStyle(gd).display;\n",
       "        if (!display || display === 'none') {{\n",
       "            console.log([gd, 'removed!']);\n",
       "            Plotly.purge(gd);\n",
       "            observer.disconnect();\n",
       "        }}\n",
       "}});\n",
       "\n",
       "// Listen for the removal of the full notebook cells\n",
       "var notebookContainer = gd.closest('#notebook-container');\n",
       "if (notebookContainer) {{\n",
       "    x.observe(notebookContainer, {childList: true});\n",
       "}}\n",
       "\n",
       "// Listen for the clearing of the current output cell\n",
       "var outputEl = gd.closest('.output');\n",
       "if (outputEl) {{\n",
       "    x.observe(outputEl, {childList: true});\n",
       "}}\n",
       "\n",
       "                        })\n",
       "                };\n",
       "                });\n",
       "            </script>\n",
       "        </div>"
      ]
     },
     "metadata": {},
     "output_type": "display_data"
    }
   ],
   "source": [
    "plotly.offline.iplot(\n",
    "    plotly.express.scatter(data1, x = \"x\", y = \"y\", color = \"group\", trendline = \"ols\", facet_col = \"group\")\n",
    ")"
   ]
  },
  {
   "cell_type": "markdown",
   "metadata": {},
   "source": [
    "## Bars of `group` means with 95% confidence intervals"
   ]
  },
  {
   "cell_type": "code",
   "execution_count": 350,
   "metadata": {},
   "outputs": [],
   "source": [
    "# had to manually compute summary data in a data frame (haven't found ggplot2::stat_summary)"
   ]
  },
  {
   "cell_type": "code",
   "execution_count": 351,
   "metadata": {},
   "outputs": [
    {
     "data": {
      "application/vnd.plotly.v1+json": {
       "config": {
        "linkText": "Export to plot.ly",
        "plotlyServerURL": "https://plot.ly",
        "showLink": false
       },
       "data": [
        {
         "alignmentgroup": "True",
         "error_y": {
          "array": [
           2.5845464284782107
          ],
          "arrayminus": [
           1.7868959714591524
          ]
         },
         "hoverlabel": {
          "namelength": 0
         },
         "hovertemplate": "group=%{x}<br>mean=%{y}",
         "legendgroup": "group=A",
         "marker": {
          "color": "#636efa"
         },
         "name": "group=A",
         "offsetgroup": "group=A",
         "orientation": "v",
         "showlegend": true,
         "textposition": "auto",
         "type": "bar",
         "x": [
          "A"
         ],
         "xaxis": "x",
         "y": [
          2.1857211999686816
         ],
         "yaxis": "y"
        },
        {
         "alignmentgroup": "True",
         "error_y": {
          "array": [
           3.241551604353637
          ],
          "arrayminus": [
           2.4045978194170092
          ]
         },
         "hoverlabel": {
          "namelength": 0
         },
         "hovertemplate": "group=%{x}<br>mean=%{y}",
         "legendgroup": "group=B",
         "marker": {
          "color": "#EF553B"
         },
         "name": "group=B",
         "offsetgroup": "group=B",
         "orientation": "v",
         "showlegend": true,
         "textposition": "auto",
         "type": "bar",
         "x": [
          "B"
         ],
         "xaxis": "x",
         "y": [
          2.823074711885323
         ],
         "yaxis": "y"
        },
        {
         "alignmentgroup": "True",
         "error_y": {
          "array": [
           3.1927111917805697
          ],
          "arrayminus": [
           2.4022151773577787
          ]
         },
         "hoverlabel": {
          "namelength": 0
         },
         "hovertemplate": "group=%{x}<br>mean=%{y}",
         "legendgroup": "group=C",
         "marker": {
          "color": "#00cc96"
         },
         "name": "group=C",
         "offsetgroup": "group=C",
         "orientation": "v",
         "showlegend": true,
         "textposition": "auto",
         "type": "bar",
         "x": [
          "C"
         ],
         "xaxis": "x",
         "y": [
          2.797463184569174
         ],
         "yaxis": "y"
        },
        {
         "alignmentgroup": "True",
         "error_y": {
          "array": [
           2.53284278777485
          ],
          "arrayminus": [
           1.9290393725010628
          ]
         },
         "hoverlabel": {
          "namelength": 0
         },
         "hovertemplate": "group=%{x}<br>mean=%{y}",
         "legendgroup": "group=D",
         "marker": {
          "color": "#ab63fa"
         },
         "name": "group=D",
         "offsetgroup": "group=D",
         "orientation": "v",
         "showlegend": true,
         "textposition": "auto",
         "type": "bar",
         "x": [
          "D"
         ],
         "xaxis": "x",
         "y": [
          2.2309410801379563
         ],
         "yaxis": "y"
        }
       ],
       "layout": {
        "barmode": "relative",
        "legend": {
         "tracegroupgap": 0
        },
        "margin": {
         "t": 60
        },
        "template": {
         "data": {
          "bar": [
           {
            "error_x": {
             "color": "#2a3f5f"
            },
            "error_y": {
             "color": "#2a3f5f"
            },
            "marker": {
             "line": {
              "color": "#E5ECF6",
              "width": 0.5
             }
            },
            "type": "bar"
           }
          ],
          "barpolar": [
           {
            "marker": {
             "line": {
              "color": "#E5ECF6",
              "width": 0.5
             }
            },
            "type": "barpolar"
           }
          ],
          "carpet": [
           {
            "aaxis": {
             "endlinecolor": "#2a3f5f",
             "gridcolor": "white",
             "linecolor": "white",
             "minorgridcolor": "white",
             "startlinecolor": "#2a3f5f"
            },
            "baxis": {
             "endlinecolor": "#2a3f5f",
             "gridcolor": "white",
             "linecolor": "white",
             "minorgridcolor": "white",
             "startlinecolor": "#2a3f5f"
            },
            "type": "carpet"
           }
          ],
          "choropleth": [
           {
            "colorbar": {
             "outlinewidth": 0,
             "ticks": ""
            },
            "type": "choropleth"
           }
          ],
          "contour": [
           {
            "colorbar": {
             "outlinewidth": 0,
             "ticks": ""
            },
            "colorscale": [
             [
              0,
              "#0d0887"
             ],
             [
              0.1111111111111111,
              "#46039f"
             ],
             [
              0.2222222222222222,
              "#7201a8"
             ],
             [
              0.3333333333333333,
              "#9c179e"
             ],
             [
              0.4444444444444444,
              "#bd3786"
             ],
             [
              0.5555555555555556,
              "#d8576b"
             ],
             [
              0.6666666666666666,
              "#ed7953"
             ],
             [
              0.7777777777777778,
              "#fb9f3a"
             ],
             [
              0.8888888888888888,
              "#fdca26"
             ],
             [
              1,
              "#f0f921"
             ]
            ],
            "type": "contour"
           }
          ],
          "contourcarpet": [
           {
            "colorbar": {
             "outlinewidth": 0,
             "ticks": ""
            },
            "type": "contourcarpet"
           }
          ],
          "heatmap": [
           {
            "colorbar": {
             "outlinewidth": 0,
             "ticks": ""
            },
            "colorscale": [
             [
              0,
              "#0d0887"
             ],
             [
              0.1111111111111111,
              "#46039f"
             ],
             [
              0.2222222222222222,
              "#7201a8"
             ],
             [
              0.3333333333333333,
              "#9c179e"
             ],
             [
              0.4444444444444444,
              "#bd3786"
             ],
             [
              0.5555555555555556,
              "#d8576b"
             ],
             [
              0.6666666666666666,
              "#ed7953"
             ],
             [
              0.7777777777777778,
              "#fb9f3a"
             ],
             [
              0.8888888888888888,
              "#fdca26"
             ],
             [
              1,
              "#f0f921"
             ]
            ],
            "type": "heatmap"
           }
          ],
          "heatmapgl": [
           {
            "colorbar": {
             "outlinewidth": 0,
             "ticks": ""
            },
            "colorscale": [
             [
              0,
              "#0d0887"
             ],
             [
              0.1111111111111111,
              "#46039f"
             ],
             [
              0.2222222222222222,
              "#7201a8"
             ],
             [
              0.3333333333333333,
              "#9c179e"
             ],
             [
              0.4444444444444444,
              "#bd3786"
             ],
             [
              0.5555555555555556,
              "#d8576b"
             ],
             [
              0.6666666666666666,
              "#ed7953"
             ],
             [
              0.7777777777777778,
              "#fb9f3a"
             ],
             [
              0.8888888888888888,
              "#fdca26"
             ],
             [
              1,
              "#f0f921"
             ]
            ],
            "type": "heatmapgl"
           }
          ],
          "histogram": [
           {
            "marker": {
             "colorbar": {
              "outlinewidth": 0,
              "ticks": ""
             }
            },
            "type": "histogram"
           }
          ],
          "histogram2d": [
           {
            "colorbar": {
             "outlinewidth": 0,
             "ticks": ""
            },
            "colorscale": [
             [
              0,
              "#0d0887"
             ],
             [
              0.1111111111111111,
              "#46039f"
             ],
             [
              0.2222222222222222,
              "#7201a8"
             ],
             [
              0.3333333333333333,
              "#9c179e"
             ],
             [
              0.4444444444444444,
              "#bd3786"
             ],
             [
              0.5555555555555556,
              "#d8576b"
             ],
             [
              0.6666666666666666,
              "#ed7953"
             ],
             [
              0.7777777777777778,
              "#fb9f3a"
             ],
             [
              0.8888888888888888,
              "#fdca26"
             ],
             [
              1,
              "#f0f921"
             ]
            ],
            "type": "histogram2d"
           }
          ],
          "histogram2dcontour": [
           {
            "colorbar": {
             "outlinewidth": 0,
             "ticks": ""
            },
            "colorscale": [
             [
              0,
              "#0d0887"
             ],
             [
              0.1111111111111111,
              "#46039f"
             ],
             [
              0.2222222222222222,
              "#7201a8"
             ],
             [
              0.3333333333333333,
              "#9c179e"
             ],
             [
              0.4444444444444444,
              "#bd3786"
             ],
             [
              0.5555555555555556,
              "#d8576b"
             ],
             [
              0.6666666666666666,
              "#ed7953"
             ],
             [
              0.7777777777777778,
              "#fb9f3a"
             ],
             [
              0.8888888888888888,
              "#fdca26"
             ],
             [
              1,
              "#f0f921"
             ]
            ],
            "type": "histogram2dcontour"
           }
          ],
          "mesh3d": [
           {
            "colorbar": {
             "outlinewidth": 0,
             "ticks": ""
            },
            "type": "mesh3d"
           }
          ],
          "parcoords": [
           {
            "line": {
             "colorbar": {
              "outlinewidth": 0,
              "ticks": ""
             }
            },
            "type": "parcoords"
           }
          ],
          "pie": [
           {
            "automargin": true,
            "type": "pie"
           }
          ],
          "scatter": [
           {
            "marker": {
             "colorbar": {
              "outlinewidth": 0,
              "ticks": ""
             }
            },
            "type": "scatter"
           }
          ],
          "scatter3d": [
           {
            "line": {
             "colorbar": {
              "outlinewidth": 0,
              "ticks": ""
             }
            },
            "marker": {
             "colorbar": {
              "outlinewidth": 0,
              "ticks": ""
             }
            },
            "type": "scatter3d"
           }
          ],
          "scattercarpet": [
           {
            "marker": {
             "colorbar": {
              "outlinewidth": 0,
              "ticks": ""
             }
            },
            "type": "scattercarpet"
           }
          ],
          "scattergeo": [
           {
            "marker": {
             "colorbar": {
              "outlinewidth": 0,
              "ticks": ""
             }
            },
            "type": "scattergeo"
           }
          ],
          "scattergl": [
           {
            "marker": {
             "colorbar": {
              "outlinewidth": 0,
              "ticks": ""
             }
            },
            "type": "scattergl"
           }
          ],
          "scattermapbox": [
           {
            "marker": {
             "colorbar": {
              "outlinewidth": 0,
              "ticks": ""
             }
            },
            "type": "scattermapbox"
           }
          ],
          "scatterpolar": [
           {
            "marker": {
             "colorbar": {
              "outlinewidth": 0,
              "ticks": ""
             }
            },
            "type": "scatterpolar"
           }
          ],
          "scatterpolargl": [
           {
            "marker": {
             "colorbar": {
              "outlinewidth": 0,
              "ticks": ""
             }
            },
            "type": "scatterpolargl"
           }
          ],
          "scatterternary": [
           {
            "marker": {
             "colorbar": {
              "outlinewidth": 0,
              "ticks": ""
             }
            },
            "type": "scatterternary"
           }
          ],
          "surface": [
           {
            "colorbar": {
             "outlinewidth": 0,
             "ticks": ""
            },
            "colorscale": [
             [
              0,
              "#0d0887"
             ],
             [
              0.1111111111111111,
              "#46039f"
             ],
             [
              0.2222222222222222,
              "#7201a8"
             ],
             [
              0.3333333333333333,
              "#9c179e"
             ],
             [
              0.4444444444444444,
              "#bd3786"
             ],
             [
              0.5555555555555556,
              "#d8576b"
             ],
             [
              0.6666666666666666,
              "#ed7953"
             ],
             [
              0.7777777777777778,
              "#fb9f3a"
             ],
             [
              0.8888888888888888,
              "#fdca26"
             ],
             [
              1,
              "#f0f921"
             ]
            ],
            "type": "surface"
           }
          ],
          "table": [
           {
            "cells": {
             "fill": {
              "color": "#EBF0F8"
             },
             "line": {
              "color": "white"
             }
            },
            "header": {
             "fill": {
              "color": "#C8D4E3"
             },
             "line": {
              "color": "white"
             }
            },
            "type": "table"
           }
          ]
         },
         "layout": {
          "annotationdefaults": {
           "arrowcolor": "#2a3f5f",
           "arrowhead": 0,
           "arrowwidth": 1
          },
          "coloraxis": {
           "colorbar": {
            "outlinewidth": 0,
            "ticks": ""
           }
          },
          "colorscale": {
           "diverging": [
            [
             0,
             "#8e0152"
            ],
            [
             0.1,
             "#c51b7d"
            ],
            [
             0.2,
             "#de77ae"
            ],
            [
             0.3,
             "#f1b6da"
            ],
            [
             0.4,
             "#fde0ef"
            ],
            [
             0.5,
             "#f7f7f7"
            ],
            [
             0.6,
             "#e6f5d0"
            ],
            [
             0.7,
             "#b8e186"
            ],
            [
             0.8,
             "#7fbc41"
            ],
            [
             0.9,
             "#4d9221"
            ],
            [
             1,
             "#276419"
            ]
           ],
           "sequential": [
            [
             0,
             "#0d0887"
            ],
            [
             0.1111111111111111,
             "#46039f"
            ],
            [
             0.2222222222222222,
             "#7201a8"
            ],
            [
             0.3333333333333333,
             "#9c179e"
            ],
            [
             0.4444444444444444,
             "#bd3786"
            ],
            [
             0.5555555555555556,
             "#d8576b"
            ],
            [
             0.6666666666666666,
             "#ed7953"
            ],
            [
             0.7777777777777778,
             "#fb9f3a"
            ],
            [
             0.8888888888888888,
             "#fdca26"
            ],
            [
             1,
             "#f0f921"
            ]
           ],
           "sequentialminus": [
            [
             0,
             "#0d0887"
            ],
            [
             0.1111111111111111,
             "#46039f"
            ],
            [
             0.2222222222222222,
             "#7201a8"
            ],
            [
             0.3333333333333333,
             "#9c179e"
            ],
            [
             0.4444444444444444,
             "#bd3786"
            ],
            [
             0.5555555555555556,
             "#d8576b"
            ],
            [
             0.6666666666666666,
             "#ed7953"
            ],
            [
             0.7777777777777778,
             "#fb9f3a"
            ],
            [
             0.8888888888888888,
             "#fdca26"
            ],
            [
             1,
             "#f0f921"
            ]
           ]
          },
          "colorway": [
           "#636efa",
           "#EF553B",
           "#00cc96",
           "#ab63fa",
           "#FFA15A",
           "#19d3f3",
           "#FF6692",
           "#B6E880",
           "#FF97FF",
           "#FECB52"
          ],
          "font": {
           "color": "#2a3f5f"
          },
          "geo": {
           "bgcolor": "white",
           "lakecolor": "white",
           "landcolor": "#E5ECF6",
           "showlakes": true,
           "showland": true,
           "subunitcolor": "white"
          },
          "hoverlabel": {
           "align": "left"
          },
          "hovermode": "closest",
          "mapbox": {
           "style": "light"
          },
          "paper_bgcolor": "white",
          "plot_bgcolor": "#E5ECF6",
          "polar": {
           "angularaxis": {
            "gridcolor": "white",
            "linecolor": "white",
            "ticks": ""
           },
           "bgcolor": "#E5ECF6",
           "radialaxis": {
            "gridcolor": "white",
            "linecolor": "white",
            "ticks": ""
           }
          },
          "scene": {
           "xaxis": {
            "backgroundcolor": "#E5ECF6",
            "gridcolor": "white",
            "gridwidth": 2,
            "linecolor": "white",
            "showbackground": true,
            "ticks": "",
            "zerolinecolor": "white"
           },
           "yaxis": {
            "backgroundcolor": "#E5ECF6",
            "gridcolor": "white",
            "gridwidth": 2,
            "linecolor": "white",
            "showbackground": true,
            "ticks": "",
            "zerolinecolor": "white"
           },
           "zaxis": {
            "backgroundcolor": "#E5ECF6",
            "gridcolor": "white",
            "gridwidth": 2,
            "linecolor": "white",
            "showbackground": true,
            "ticks": "",
            "zerolinecolor": "white"
           }
          },
          "shapedefaults": {
           "line": {
            "color": "#2a3f5f"
           }
          },
          "ternary": {
           "aaxis": {
            "gridcolor": "white",
            "linecolor": "white",
            "ticks": ""
           },
           "baxis": {
            "gridcolor": "white",
            "linecolor": "white",
            "ticks": ""
           },
           "bgcolor": "#E5ECF6",
           "caxis": {
            "gridcolor": "white",
            "linecolor": "white",
            "ticks": ""
           }
          },
          "title": {
           "x": 0.05
          },
          "xaxis": {
           "automargin": true,
           "gridcolor": "white",
           "linecolor": "white",
           "ticks": "",
           "title": {
            "standoff": 15
           },
           "zerolinecolor": "white",
           "zerolinewidth": 2
          },
          "yaxis": {
           "automargin": true,
           "gridcolor": "white",
           "linecolor": "white",
           "ticks": "",
           "title": {
            "standoff": 15
           },
           "zerolinecolor": "white",
           "zerolinewidth": 2
          }
         }
        },
        "xaxis": {
         "anchor": "y",
         "categoryarray": [
          "A",
          "B",
          "C",
          "D"
         ],
         "categoryorder": "array",
         "domain": [
          0,
          1
         ],
         "title": {
          "text": "group"
         }
        },
        "yaxis": {
         "anchor": "x",
         "domain": [
          0,
          1
         ],
         "title": {
          "text": "mean"
         }
        }
       }
      },
      "text/html": [
       "<div>\n",
       "        \n",
       "        \n",
       "            <div id=\"aeaf9710-fb2c-4ded-9f3e-c92b6bd9b4b7\" class=\"plotly-graph-div\" style=\"height:525px; width:100%;\"></div>\n",
       "            <script type=\"text/javascript\">\n",
       "                require([\"plotly\"], function(Plotly) {\n",
       "                    window.PLOTLYENV=window.PLOTLYENV || {};\n",
       "                    \n",
       "                if (document.getElementById(\"aeaf9710-fb2c-4ded-9f3e-c92b6bd9b4b7\")) {\n",
       "                    Plotly.newPlot(\n",
       "                        'aeaf9710-fb2c-4ded-9f3e-c92b6bd9b4b7',\n",
       "                        [{\"alignmentgroup\": \"True\", \"error_y\": {\"array\": [2.5845464284782107], \"arrayminus\": [1.7868959714591524]}, \"hoverlabel\": {\"namelength\": 0}, \"hovertemplate\": \"group=%{x}<br>mean=%{y}\", \"legendgroup\": \"group=A\", \"marker\": {\"color\": \"#636efa\"}, \"name\": \"group=A\", \"offsetgroup\": \"group=A\", \"orientation\": \"v\", \"showlegend\": true, \"textposition\": \"auto\", \"type\": \"bar\", \"x\": [\"A\"], \"xaxis\": \"x\", \"y\": [2.1857211999686816], \"yaxis\": \"y\"}, {\"alignmentgroup\": \"True\", \"error_y\": {\"array\": [3.241551604353637], \"arrayminus\": [2.4045978194170092]}, \"hoverlabel\": {\"namelength\": 0}, \"hovertemplate\": \"group=%{x}<br>mean=%{y}\", \"legendgroup\": \"group=B\", \"marker\": {\"color\": \"#EF553B\"}, \"name\": \"group=B\", \"offsetgroup\": \"group=B\", \"orientation\": \"v\", \"showlegend\": true, \"textposition\": \"auto\", \"type\": \"bar\", \"x\": [\"B\"], \"xaxis\": \"x\", \"y\": [2.823074711885323], \"yaxis\": \"y\"}, {\"alignmentgroup\": \"True\", \"error_y\": {\"array\": [3.1927111917805697], \"arrayminus\": [2.4022151773577787]}, \"hoverlabel\": {\"namelength\": 0}, \"hovertemplate\": \"group=%{x}<br>mean=%{y}\", \"legendgroup\": \"group=C\", \"marker\": {\"color\": \"#00cc96\"}, \"name\": \"group=C\", \"offsetgroup\": \"group=C\", \"orientation\": \"v\", \"showlegend\": true, \"textposition\": \"auto\", \"type\": \"bar\", \"x\": [\"C\"], \"xaxis\": \"x\", \"y\": [2.797463184569174], \"yaxis\": \"y\"}, {\"alignmentgroup\": \"True\", \"error_y\": {\"array\": [2.53284278777485], \"arrayminus\": [1.9290393725010628]}, \"hoverlabel\": {\"namelength\": 0}, \"hovertemplate\": \"group=%{x}<br>mean=%{y}\", \"legendgroup\": \"group=D\", \"marker\": {\"color\": \"#ab63fa\"}, \"name\": \"group=D\", \"offsetgroup\": \"group=D\", \"orientation\": \"v\", \"showlegend\": true, \"textposition\": \"auto\", \"type\": \"bar\", \"x\": [\"D\"], \"xaxis\": \"x\", \"y\": [2.2309410801379563], \"yaxis\": \"y\"}],\n",
       "                        {\"barmode\": \"relative\", \"legend\": {\"tracegroupgap\": 0}, \"margin\": {\"t\": 60}, \"template\": {\"data\": {\"bar\": [{\"error_x\": {\"color\": \"#2a3f5f\"}, \"error_y\": {\"color\": \"#2a3f5f\"}, \"marker\": {\"line\": {\"color\": \"#E5ECF6\", \"width\": 0.5}}, \"type\": \"bar\"}], \"barpolar\": [{\"marker\": {\"line\": {\"color\": \"#E5ECF6\", \"width\": 0.5}}, \"type\": \"barpolar\"}], \"carpet\": [{\"aaxis\": {\"endlinecolor\": \"#2a3f5f\", \"gridcolor\": \"white\", \"linecolor\": \"white\", \"minorgridcolor\": \"white\", \"startlinecolor\": \"#2a3f5f\"}, \"baxis\": {\"endlinecolor\": \"#2a3f5f\", \"gridcolor\": \"white\", \"linecolor\": \"white\", \"minorgridcolor\": \"white\", \"startlinecolor\": \"#2a3f5f\"}, \"type\": \"carpet\"}], \"choropleth\": [{\"colorbar\": {\"outlinewidth\": 0, \"ticks\": \"\"}, \"type\": \"choropleth\"}], \"contour\": [{\"colorbar\": {\"outlinewidth\": 0, \"ticks\": \"\"}, \"colorscale\": [[0.0, \"#0d0887\"], [0.1111111111111111, \"#46039f\"], [0.2222222222222222, \"#7201a8\"], [0.3333333333333333, \"#9c179e\"], [0.4444444444444444, \"#bd3786\"], [0.5555555555555556, \"#d8576b\"], [0.6666666666666666, \"#ed7953\"], [0.7777777777777778, \"#fb9f3a\"], [0.8888888888888888, \"#fdca26\"], [1.0, \"#f0f921\"]], \"type\": \"contour\"}], \"contourcarpet\": [{\"colorbar\": {\"outlinewidth\": 0, \"ticks\": \"\"}, \"type\": \"contourcarpet\"}], \"heatmap\": [{\"colorbar\": {\"outlinewidth\": 0, \"ticks\": \"\"}, \"colorscale\": [[0.0, \"#0d0887\"], [0.1111111111111111, \"#46039f\"], [0.2222222222222222, \"#7201a8\"], [0.3333333333333333, \"#9c179e\"], [0.4444444444444444, \"#bd3786\"], [0.5555555555555556, \"#d8576b\"], [0.6666666666666666, \"#ed7953\"], [0.7777777777777778, \"#fb9f3a\"], [0.8888888888888888, \"#fdca26\"], [1.0, \"#f0f921\"]], \"type\": \"heatmap\"}], \"heatmapgl\": [{\"colorbar\": {\"outlinewidth\": 0, \"ticks\": \"\"}, \"colorscale\": [[0.0, \"#0d0887\"], [0.1111111111111111, \"#46039f\"], [0.2222222222222222, \"#7201a8\"], [0.3333333333333333, \"#9c179e\"], [0.4444444444444444, \"#bd3786\"], [0.5555555555555556, \"#d8576b\"], [0.6666666666666666, \"#ed7953\"], [0.7777777777777778, \"#fb9f3a\"], [0.8888888888888888, \"#fdca26\"], [1.0, \"#f0f921\"]], \"type\": \"heatmapgl\"}], \"histogram\": [{\"marker\": {\"colorbar\": {\"outlinewidth\": 0, \"ticks\": \"\"}}, \"type\": \"histogram\"}], \"histogram2d\": [{\"colorbar\": {\"outlinewidth\": 0, \"ticks\": \"\"}, \"colorscale\": [[0.0, \"#0d0887\"], [0.1111111111111111, \"#46039f\"], [0.2222222222222222, \"#7201a8\"], [0.3333333333333333, \"#9c179e\"], [0.4444444444444444, \"#bd3786\"], [0.5555555555555556, \"#d8576b\"], [0.6666666666666666, \"#ed7953\"], [0.7777777777777778, \"#fb9f3a\"], [0.8888888888888888, \"#fdca26\"], [1.0, \"#f0f921\"]], \"type\": \"histogram2d\"}], \"histogram2dcontour\": [{\"colorbar\": {\"outlinewidth\": 0, \"ticks\": \"\"}, \"colorscale\": [[0.0, \"#0d0887\"], [0.1111111111111111, \"#46039f\"], [0.2222222222222222, \"#7201a8\"], [0.3333333333333333, \"#9c179e\"], [0.4444444444444444, \"#bd3786\"], [0.5555555555555556, \"#d8576b\"], [0.6666666666666666, \"#ed7953\"], [0.7777777777777778, \"#fb9f3a\"], [0.8888888888888888, \"#fdca26\"], [1.0, \"#f0f921\"]], \"type\": \"histogram2dcontour\"}], \"mesh3d\": [{\"colorbar\": {\"outlinewidth\": 0, \"ticks\": \"\"}, \"type\": \"mesh3d\"}], \"parcoords\": [{\"line\": {\"colorbar\": {\"outlinewidth\": 0, \"ticks\": \"\"}}, \"type\": \"parcoords\"}], \"pie\": [{\"automargin\": true, \"type\": \"pie\"}], \"scatter\": [{\"marker\": {\"colorbar\": {\"outlinewidth\": 0, \"ticks\": \"\"}}, \"type\": \"scatter\"}], \"scatter3d\": [{\"line\": {\"colorbar\": {\"outlinewidth\": 0, \"ticks\": \"\"}}, \"marker\": {\"colorbar\": {\"outlinewidth\": 0, \"ticks\": \"\"}}, \"type\": \"scatter3d\"}], \"scattercarpet\": [{\"marker\": {\"colorbar\": {\"outlinewidth\": 0, \"ticks\": \"\"}}, \"type\": \"scattercarpet\"}], \"scattergeo\": [{\"marker\": {\"colorbar\": {\"outlinewidth\": 0, \"ticks\": \"\"}}, \"type\": \"scattergeo\"}], \"scattergl\": [{\"marker\": {\"colorbar\": {\"outlinewidth\": 0, \"ticks\": \"\"}}, \"type\": \"scattergl\"}], \"scattermapbox\": [{\"marker\": {\"colorbar\": {\"outlinewidth\": 0, \"ticks\": \"\"}}, \"type\": \"scattermapbox\"}], \"scatterpolar\": [{\"marker\": {\"colorbar\": {\"outlinewidth\": 0, \"ticks\": \"\"}}, \"type\": \"scatterpolar\"}], \"scatterpolargl\": [{\"marker\": {\"colorbar\": {\"outlinewidth\": 0, \"ticks\": \"\"}}, \"type\": \"scatterpolargl\"}], \"scatterternary\": [{\"marker\": {\"colorbar\": {\"outlinewidth\": 0, \"ticks\": \"\"}}, \"type\": \"scatterternary\"}], \"surface\": [{\"colorbar\": {\"outlinewidth\": 0, \"ticks\": \"\"}, \"colorscale\": [[0.0, \"#0d0887\"], [0.1111111111111111, \"#46039f\"], [0.2222222222222222, \"#7201a8\"], [0.3333333333333333, \"#9c179e\"], [0.4444444444444444, \"#bd3786\"], [0.5555555555555556, \"#d8576b\"], [0.6666666666666666, \"#ed7953\"], [0.7777777777777778, \"#fb9f3a\"], [0.8888888888888888, \"#fdca26\"], [1.0, \"#f0f921\"]], \"type\": \"surface\"}], \"table\": [{\"cells\": {\"fill\": {\"color\": \"#EBF0F8\"}, \"line\": {\"color\": \"white\"}}, \"header\": {\"fill\": {\"color\": \"#C8D4E3\"}, \"line\": {\"color\": \"white\"}}, \"type\": \"table\"}]}, \"layout\": {\"annotationdefaults\": {\"arrowcolor\": \"#2a3f5f\", \"arrowhead\": 0, \"arrowwidth\": 1}, \"coloraxis\": {\"colorbar\": {\"outlinewidth\": 0, \"ticks\": \"\"}}, \"colorscale\": {\"diverging\": [[0, \"#8e0152\"], [0.1, \"#c51b7d\"], [0.2, \"#de77ae\"], [0.3, \"#f1b6da\"], [0.4, \"#fde0ef\"], [0.5, \"#f7f7f7\"], [0.6, \"#e6f5d0\"], [0.7, \"#b8e186\"], [0.8, \"#7fbc41\"], [0.9, \"#4d9221\"], [1, \"#276419\"]], \"sequential\": [[0.0, \"#0d0887\"], [0.1111111111111111, \"#46039f\"], [0.2222222222222222, \"#7201a8\"], [0.3333333333333333, \"#9c179e\"], [0.4444444444444444, \"#bd3786\"], [0.5555555555555556, \"#d8576b\"], [0.6666666666666666, \"#ed7953\"], [0.7777777777777778, \"#fb9f3a\"], [0.8888888888888888, \"#fdca26\"], [1.0, \"#f0f921\"]], \"sequentialminus\": [[0.0, \"#0d0887\"], [0.1111111111111111, \"#46039f\"], [0.2222222222222222, \"#7201a8\"], [0.3333333333333333, \"#9c179e\"], [0.4444444444444444, \"#bd3786\"], [0.5555555555555556, \"#d8576b\"], [0.6666666666666666, \"#ed7953\"], [0.7777777777777778, \"#fb9f3a\"], [0.8888888888888888, \"#fdca26\"], [1.0, \"#f0f921\"]]}, \"colorway\": [\"#636efa\", \"#EF553B\", \"#00cc96\", \"#ab63fa\", \"#FFA15A\", \"#19d3f3\", \"#FF6692\", \"#B6E880\", \"#FF97FF\", \"#FECB52\"], \"font\": {\"color\": \"#2a3f5f\"}, \"geo\": {\"bgcolor\": \"white\", \"lakecolor\": \"white\", \"landcolor\": \"#E5ECF6\", \"showlakes\": true, \"showland\": true, \"subunitcolor\": \"white\"}, \"hoverlabel\": {\"align\": \"left\"}, \"hovermode\": \"closest\", \"mapbox\": {\"style\": \"light\"}, \"paper_bgcolor\": \"white\", \"plot_bgcolor\": \"#E5ECF6\", \"polar\": {\"angularaxis\": {\"gridcolor\": \"white\", \"linecolor\": \"white\", \"ticks\": \"\"}, \"bgcolor\": \"#E5ECF6\", \"radialaxis\": {\"gridcolor\": \"white\", \"linecolor\": \"white\", \"ticks\": \"\"}}, \"scene\": {\"xaxis\": {\"backgroundcolor\": \"#E5ECF6\", \"gridcolor\": \"white\", \"gridwidth\": 2, \"linecolor\": \"white\", \"showbackground\": true, \"ticks\": \"\", \"zerolinecolor\": \"white\"}, \"yaxis\": {\"backgroundcolor\": \"#E5ECF6\", \"gridcolor\": \"white\", \"gridwidth\": 2, \"linecolor\": \"white\", \"showbackground\": true, \"ticks\": \"\", \"zerolinecolor\": \"white\"}, \"zaxis\": {\"backgroundcolor\": \"#E5ECF6\", \"gridcolor\": \"white\", \"gridwidth\": 2, \"linecolor\": \"white\", \"showbackground\": true, \"ticks\": \"\", \"zerolinecolor\": \"white\"}}, \"shapedefaults\": {\"line\": {\"color\": \"#2a3f5f\"}}, \"ternary\": {\"aaxis\": {\"gridcolor\": \"white\", \"linecolor\": \"white\", \"ticks\": \"\"}, \"baxis\": {\"gridcolor\": \"white\", \"linecolor\": \"white\", \"ticks\": \"\"}, \"bgcolor\": \"#E5ECF6\", \"caxis\": {\"gridcolor\": \"white\", \"linecolor\": \"white\", \"ticks\": \"\"}}, \"title\": {\"x\": 0.05}, \"xaxis\": {\"automargin\": true, \"gridcolor\": \"white\", \"linecolor\": \"white\", \"ticks\": \"\", \"title\": {\"standoff\": 15}, \"zerolinecolor\": \"white\", \"zerolinewidth\": 2}, \"yaxis\": {\"automargin\": true, \"gridcolor\": \"white\", \"linecolor\": \"white\", \"ticks\": \"\", \"title\": {\"standoff\": 15}, \"zerolinecolor\": \"white\", \"zerolinewidth\": 2}}}, \"xaxis\": {\"anchor\": \"y\", \"categoryarray\": [\"A\", \"B\", \"C\", \"D\"], \"categoryorder\": \"array\", \"domain\": [0.0, 1.0], \"title\": {\"text\": \"group\"}}, \"yaxis\": {\"anchor\": \"x\", \"domain\": [0.0, 1.0], \"title\": {\"text\": \"mean\"}}},\n",
       "                        {\"responsive\": true}\n",
       "                    ).then(function(){\n",
       "                            \n",
       "var gd = document.getElementById('aeaf9710-fb2c-4ded-9f3e-c92b6bd9b4b7');\n",
       "var x = new MutationObserver(function (mutations, observer) {{\n",
       "        var display = window.getComputedStyle(gd).display;\n",
       "        if (!display || display === 'none') {{\n",
       "            console.log([gd, 'removed!']);\n",
       "            Plotly.purge(gd);\n",
       "            observer.disconnect();\n",
       "        }}\n",
       "}});\n",
       "\n",
       "// Listen for the removal of the full notebook cells\n",
       "var notebookContainer = gd.closest('#notebook-container');\n",
       "if (notebookContainer) {{\n",
       "    x.observe(notebookContainer, {childList: true});\n",
       "}}\n",
       "\n",
       "// Listen for the clearing of the current output cell\n",
       "var outputEl = gd.closest('.output');\n",
       "if (outputEl) {{\n",
       "    x.observe(outputEl, {childList: true});\n",
       "}}\n",
       "\n",
       "                        })\n",
       "                };\n",
       "                });\n",
       "            </script>\n",
       "        </div>"
      ]
     },
     "metadata": {},
     "output_type": "display_data"
    }
   ],
   "source": [
    "group_desc = data1.groupby(\"group\")[\"y\"].agg([\"mean\", \"sem\", \"count\"]).reset_index()\n",
    "group_desc[\"df\"] = group_desc[\"count\"] - 1\n",
    "group_desc[\"lower\"] = group_desc[\"mean\"] - scipy.stats.t.ppf(1 - 0.05 / 2, df = group_desc[\"df\"]) * group_desc[\"sem\"]\n",
    "group_desc[\"upper\"] = group_desc[\"mean\"] + scipy.stats.t.ppf(1 - 0.05 / 2, df = group_desc[\"df\"]) * group_desc[\"sem\"]\n",
    "\n",
    "# Plot\n",
    "plotly.offline.iplot(\n",
    "    plotly.express.bar(group_desc, x = \"group\", y = \"mean\", error_y_minus = \"lower\", error_y = \"upper\", color = \"group\")\n",
    ")"
   ]
  },
  {
   "cell_type": "markdown",
   "metadata": {},
   "source": [
    "# Descriptive Statistics"
   ]
  },
  {
   "cell_type": "code",
   "execution_count": 352,
   "metadata": {},
   "outputs": [],
   "source": [
    "# similar to psych::describe and psych::describeBy in R"
   ]
  },
  {
   "cell_type": "code",
   "execution_count": 353,
   "metadata": {},
   "outputs": [
    {
     "data": {
      "text/html": [
       "<div>\n",
       "<style scoped>\n",
       "    .dataframe tbody tr th:only-of-type {\n",
       "        vertical-align: middle;\n",
       "    }\n",
       "\n",
       "    .dataframe tbody tr th {\n",
       "        vertical-align: top;\n",
       "    }\n",
       "\n",
       "    .dataframe thead tr th {\n",
       "        text-align: left;\n",
       "    }\n",
       "\n",
       "    .dataframe thead tr:last-of-type th {\n",
       "        text-align: right;\n",
       "    }\n",
       "</style>\n",
       "<table border=\"1\" class=\"dataframe\">\n",
       "  <thead>\n",
       "    <tr>\n",
       "      <th></th>\n",
       "      <th colspan=\"8\" halign=\"left\">x</th>\n",
       "      <th colspan=\"8\" halign=\"left\">y</th>\n",
       "    </tr>\n",
       "    <tr>\n",
       "      <th></th>\n",
       "      <th>count</th>\n",
       "      <th>mean</th>\n",
       "      <th>std</th>\n",
       "      <th>min</th>\n",
       "      <th>25%</th>\n",
       "      <th>50%</th>\n",
       "      <th>75%</th>\n",
       "      <th>max</th>\n",
       "      <th>count</th>\n",
       "      <th>mean</th>\n",
       "      <th>std</th>\n",
       "      <th>min</th>\n",
       "      <th>25%</th>\n",
       "      <th>50%</th>\n",
       "      <th>75%</th>\n",
       "      <th>max</th>\n",
       "    </tr>\n",
       "    <tr>\n",
       "      <th>group</th>\n",
       "      <th></th>\n",
       "      <th></th>\n",
       "      <th></th>\n",
       "      <th></th>\n",
       "      <th></th>\n",
       "      <th></th>\n",
       "      <th></th>\n",
       "      <th></th>\n",
       "      <th></th>\n",
       "      <th></th>\n",
       "      <th></th>\n",
       "      <th></th>\n",
       "      <th></th>\n",
       "      <th></th>\n",
       "      <th></th>\n",
       "      <th></th>\n",
       "    </tr>\n",
       "  </thead>\n",
       "  <tbody>\n",
       "    <tr>\n",
       "      <td>A</td>\n",
       "      <td>50.0</td>\n",
       "      <td>2.82</td>\n",
       "      <td>1.03</td>\n",
       "      <td>-0.29</td>\n",
       "      <td>2.15</td>\n",
       "      <td>2.89</td>\n",
       "      <td>3.68</td>\n",
       "      <td>4.60</td>\n",
       "      <td>50.0</td>\n",
       "      <td>2.19</td>\n",
       "      <td>1.40</td>\n",
       "      <td>-1.20</td>\n",
       "      <td>1.24</td>\n",
       "      <td>2.17</td>\n",
       "      <td>3.24</td>\n",
       "      <td>4.87</td>\n",
       "    </tr>\n",
       "    <tr>\n",
       "      <td>B</td>\n",
       "      <td>50.0</td>\n",
       "      <td>3.99</td>\n",
       "      <td>1.10</td>\n",
       "      <td>1.64</td>\n",
       "      <td>3.21</td>\n",
       "      <td>3.84</td>\n",
       "      <td>4.80</td>\n",
       "      <td>6.21</td>\n",
       "      <td>50.0</td>\n",
       "      <td>2.82</td>\n",
       "      <td>1.47</td>\n",
       "      <td>-0.37</td>\n",
       "      <td>2.02</td>\n",
       "      <td>2.87</td>\n",
       "      <td>3.91</td>\n",
       "      <td>5.75</td>\n",
       "    </tr>\n",
       "    <tr>\n",
       "      <td>C</td>\n",
       "      <td>50.0</td>\n",
       "      <td>3.88</td>\n",
       "      <td>0.95</td>\n",
       "      <td>1.85</td>\n",
       "      <td>3.17</td>\n",
       "      <td>3.78</td>\n",
       "      <td>4.46</td>\n",
       "      <td>6.09</td>\n",
       "      <td>50.0</td>\n",
       "      <td>2.80</td>\n",
       "      <td>1.39</td>\n",
       "      <td>-0.15</td>\n",
       "      <td>1.90</td>\n",
       "      <td>2.93</td>\n",
       "      <td>3.78</td>\n",
       "      <td>5.36</td>\n",
       "    </tr>\n",
       "    <tr>\n",
       "      <td>D</td>\n",
       "      <td>50.0</td>\n",
       "      <td>3.05</td>\n",
       "      <td>0.96</td>\n",
       "      <td>0.44</td>\n",
       "      <td>2.48</td>\n",
       "      <td>3.04</td>\n",
       "      <td>3.66</td>\n",
       "      <td>5.90</td>\n",
       "      <td>50.0</td>\n",
       "      <td>2.23</td>\n",
       "      <td>1.06</td>\n",
       "      <td>0.31</td>\n",
       "      <td>1.45</td>\n",
       "      <td>2.29</td>\n",
       "      <td>2.86</td>\n",
       "      <td>4.87</td>\n",
       "    </tr>\n",
       "  </tbody>\n",
       "</table>\n",
       "</div>"
      ],
      "text/plain": [
       "          x                                               y                    \\\n",
       "      count  mean   std   min   25%   50%   75%   max count  mean   std   min   \n",
       "group                                                                           \n",
       "A      50.0  2.82  1.03 -0.29  2.15  2.89  3.68  4.60  50.0  2.19  1.40 -1.20   \n",
       "B      50.0  3.99  1.10  1.64  3.21  3.84  4.80  6.21  50.0  2.82  1.47 -0.37   \n",
       "C      50.0  3.88  0.95  1.85  3.17  3.78  4.46  6.09  50.0  2.80  1.39 -0.15   \n",
       "D      50.0  3.05  0.96  0.44  2.48  3.04  3.66  5.90  50.0  2.23  1.06  0.31   \n",
       "\n",
       "                               \n",
       "        25%   50%   75%   max  \n",
       "group                          \n",
       "A      1.24  2.17  3.24  4.87  \n",
       "B      2.02  2.87  3.91  5.75  \n",
       "C      1.90  2.93  3.78  5.36  \n",
       "D      1.45  2.29  2.86  4.87  "
      ]
     },
     "execution_count": 353,
     "metadata": {},
     "output_type": "execute_result"
    }
   ],
   "source": [
    "data1.groupby(\"group\")[[\"x\", \"y\"]].describe().round(2)"
   ]
  },
  {
   "cell_type": "markdown",
   "metadata": {},
   "source": [
    "# Correlation"
   ]
  },
  {
   "cell_type": "code",
   "execution_count": 354,
   "metadata": {},
   "outputs": [],
   "source": [
    "# not a lot of help here from python libraries. they have r and p, like SPSS. had to manually compute the rest. print syntax is pretty neat with the {}"
   ]
  },
  {
   "cell_type": "code",
   "execution_count": 355,
   "metadata": {
    "scrolled": true
   },
   "outputs": [
    {
     "data": {
      "text/html": [
       "<div>\n",
       "<style scoped>\n",
       "    .dataframe tbody tr th:only-of-type {\n",
       "        vertical-align: middle;\n",
       "    }\n",
       "\n",
       "    .dataframe tbody tr th {\n",
       "        vertical-align: top;\n",
       "    }\n",
       "\n",
       "    .dataframe thead th {\n",
       "        text-align: right;\n",
       "    }\n",
       "</style>\n",
       "<table border=\"1\" class=\"dataframe\">\n",
       "  <thead>\n",
       "    <tr style=\"text-align: right;\">\n",
       "      <th></th>\n",
       "      <th>r</th>\n",
       "      <th>lower</th>\n",
       "      <th>upper</th>\n",
       "      <th>t</th>\n",
       "      <th>df</th>\n",
       "      <th>p</th>\n",
       "    </tr>\n",
       "  </thead>\n",
       "  <tbody>\n",
       "    <tr>\n",
       "      <td>0</td>\n",
       "      <td>0.669923</td>\n",
       "      <td>0.585612</td>\n",
       "      <td>0.739894</td>\n",
       "      <td>12.697001</td>\n",
       "      <td>198</td>\n",
       "      <td>2.062092e-27</td>\n",
       "    </tr>\n",
       "  </tbody>\n",
       "</table>\n",
       "</div>"
      ],
      "text/plain": [
       "          r     lower     upper          t   df             p\n",
       "0  0.669923  0.585612  0.739894  12.697001  198  2.062092e-27"
      ]
     },
     "execution_count": 355,
     "metadata": {},
     "output_type": "execute_result"
    }
   ],
   "source": [
    "# Save r and p-value\n",
    "r1, pvalue1 = scipy.stats.pearsonr(x, y)\n",
    "\n",
    "# Save degrees of freedom\n",
    "ddf1 = len(x) - 2\n",
    "\n",
    "# Compute t-statistic and degress of freedom, isf for upper tail of t distribution\n",
    "t1 = scipy.stats.t.isf(pvalue1 / 2, df = ddf1)\n",
    "\n",
    "# Compute standard error\n",
    "se1 = r1 / t1\n",
    "\n",
    "# Compute lower and upper confidence intervals\n",
    "lower1, upper1 = (numpy.tanh(numpy.arctanh(r1) - 1 / math.sqrt(len(x) - 3) * scipy.stats.norm.ppf(1 - 0.05 / 2)),\n",
    "                  numpy.tanh(numpy.arctanh(r1) + 1 / math.sqrt(len(x) - 3) * scipy.stats.norm.ppf(1 - 0.05 / 2)))\n",
    "\n",
    "# Print most basic results\n",
    "# \"r = {0}, 95%CI [{1}, {2}], t({3}) = {4}, p = {5}\".format(r1.round(2), lower1.round(2), upper1.round(2), ddf1, t1.round(2), pvalue1.round(3))\n",
    "\n",
    "# Also as data frame\n",
    "pandas.DataFrame({\"r\": r1, \"lower\": lower1, \"upper\": upper1, \"t\": t1, \"df\": ddf1, \"p\": pvalue1}, index = [0])"
   ]
  },
  {
   "cell_type": "markdown",
   "metadata": {},
   "source": [
    "# Analyses\n",
    "## Regression\n",
    "### Fit linear regression"
   ]
  },
  {
   "cell_type": "code",
   "execution_count": 356,
   "metadata": {},
   "outputs": [],
   "source": [
    "# regress y on numeric/continuous x\n",
    "ols_fit1 = statsmodels.formula.api.ols(\"y ~ x\", data = data1).fit()"
   ]
  },
  {
   "cell_type": "markdown",
   "metadata": {},
   "source": [
    "### Results Summary"
   ]
  },
  {
   "cell_type": "code",
   "execution_count": 357,
   "metadata": {},
   "outputs": [
    {
     "data": {
      "text/html": [
       "<table class=\"simpletable\">\n",
       "<caption>OLS Regression Results</caption>\n",
       "<tr>\n",
       "  <th>Dep. Variable:</th>            <td>y</td>        <th>  R-squared:         </th> <td>   0.449</td>\n",
       "</tr>\n",
       "<tr>\n",
       "  <th>Model:</th>                   <td>OLS</td>       <th>  Adj. R-squared:    </th> <td>   0.446</td>\n",
       "</tr>\n",
       "<tr>\n",
       "  <th>Method:</th>             <td>Least Squares</td>  <th>  F-statistic:       </th> <td>   161.2</td>\n",
       "</tr>\n",
       "<tr>\n",
       "  <th>Date:</th>             <td>Mon, 13 Jan 2020</td> <th>  Prob (F-statistic):</th> <td>2.06e-27</td>\n",
       "</tr>\n",
       "<tr>\n",
       "  <th>Time:</th>                 <td>23:02:14</td>     <th>  Log-Likelihood:    </th> <td> -286.01</td>\n",
       "</tr>\n",
       "<tr>\n",
       "  <th>No. Observations:</th>      <td>   200</td>      <th>  AIC:               </th> <td>   576.0</td>\n",
       "</tr>\n",
       "<tr>\n",
       "  <th>Df Residuals:</th>          <td>   198</td>      <th>  BIC:               </th> <td>   582.6</td>\n",
       "</tr>\n",
       "<tr>\n",
       "  <th>Df Model:</th>              <td>     1</td>      <th>                     </th>     <td> </td>   \n",
       "</tr>\n",
       "<tr>\n",
       "  <th>Covariance Type:</th>      <td>nonrobust</td>    <th>                     </th>     <td> </td>   \n",
       "</tr>\n",
       "</table>\n",
       "<table class=\"simpletable\">\n",
       "<tr>\n",
       "      <td></td>         <th>coef</th>     <th>std err</th>      <th>t</th>      <th>P>|t|</th>  <th>[0.025</th>    <th>0.975]</th>  \n",
       "</tr>\n",
       "<tr>\n",
       "  <th>Intercept</th> <td>   -0.2816</td> <td>    0.231</td> <td>   -1.218</td> <td> 0.225</td> <td>   -0.738</td> <td>    0.174</td>\n",
       "</tr>\n",
       "<tr>\n",
       "  <th>x</th>         <td>    0.8125</td> <td>    0.064</td> <td>   12.697</td> <td> 0.000</td> <td>    0.686</td> <td>    0.939</td>\n",
       "</tr>\n",
       "</table>\n",
       "<table class=\"simpletable\">\n",
       "<tr>\n",
       "  <th>Omnibus:</th>       <td> 0.405</td> <th>  Durbin-Watson:     </th> <td>   2.126</td>\n",
       "</tr>\n",
       "<tr>\n",
       "  <th>Prob(Omnibus):</th> <td> 0.817</td> <th>  Jarque-Bera (JB):  </th> <td>   0.546</td>\n",
       "</tr>\n",
       "<tr>\n",
       "  <th>Skew:</th>          <td> 0.078</td> <th>  Prob(JB):          </th> <td>   0.761</td>\n",
       "</tr>\n",
       "<tr>\n",
       "  <th>Kurtosis:</th>      <td> 2.797</td> <th>  Cond. No.          </th> <td>    12.4</td>\n",
       "</tr>\n",
       "</table><br/><br/>Warnings:<br/>[1] Standard Errors assume that the covariance matrix of the errors is correctly specified."
      ],
      "text/plain": [
       "<class 'statsmodels.iolib.summary.Summary'>\n",
       "\"\"\"\n",
       "                            OLS Regression Results                            \n",
       "==============================================================================\n",
       "Dep. Variable:                      y   R-squared:                       0.449\n",
       "Model:                            OLS   Adj. R-squared:                  0.446\n",
       "Method:                 Least Squares   F-statistic:                     161.2\n",
       "Date:                Mon, 13 Jan 2020   Prob (F-statistic):           2.06e-27\n",
       "Time:                        23:02:14   Log-Likelihood:                -286.01\n",
       "No. Observations:                 200   AIC:                             576.0\n",
       "Df Residuals:                     198   BIC:                             582.6\n",
       "Df Model:                           1                                         \n",
       "Covariance Type:            nonrobust                                         \n",
       "==============================================================================\n",
       "                 coef    std err          t      P>|t|      [0.025      0.975]\n",
       "------------------------------------------------------------------------------\n",
       "Intercept     -0.2816      0.231     -1.218      0.225      -0.738       0.174\n",
       "x              0.8125      0.064     12.697      0.000       0.686       0.939\n",
       "==============================================================================\n",
       "Omnibus:                        0.405   Durbin-Watson:                   2.126\n",
       "Prob(Omnibus):                  0.817   Jarque-Bera (JB):                0.546\n",
       "Skew:                           0.078   Prob(JB):                        0.761\n",
       "Kurtosis:                       2.797   Cond. No.                         12.4\n",
       "==============================================================================\n",
       "\n",
       "Warnings:\n",
       "[1] Standard Errors assume that the covariance matrix of the errors is correctly specified.\n",
       "\"\"\""
      ]
     },
     "execution_count": 357,
     "metadata": {},
     "output_type": "execute_result"
    }
   ],
   "source": [
    "ols_fit1.summary()"
   ]
  },
  {
   "cell_type": "markdown",
   "metadata": {},
   "source": [
    "## Fit linear regression"
   ]
  },
  {
   "cell_type": "code",
   "execution_count": 358,
   "metadata": {},
   "outputs": [],
   "source": [
    "# helmert contrasts on group\n",
    "ols_fit2 = statsmodels.formula.api.ols(\"y ~ C(group, group_helmert)\", data = data1).fit()"
   ]
  },
  {
   "cell_type": "markdown",
   "metadata": {},
   "source": [
    "### Results Summary"
   ]
  },
  {
   "cell_type": "code",
   "execution_count": 359,
   "metadata": {},
   "outputs": [
    {
     "data": {
      "text/html": [
       "<table class=\"simpletable\">\n",
       "<caption>OLS Regression Results</caption>\n",
       "<tr>\n",
       "  <th>Dep. Variable:</th>            <td>y</td>        <th>  R-squared:         </th> <td>   0.049</td>\n",
       "</tr>\n",
       "<tr>\n",
       "  <th>Model:</th>                   <td>OLS</td>       <th>  Adj. R-squared:    </th> <td>   0.034</td>\n",
       "</tr>\n",
       "<tr>\n",
       "  <th>Method:</th>             <td>Least Squares</td>  <th>  F-statistic:       </th> <td>   3.367</td>\n",
       "</tr>\n",
       "<tr>\n",
       "  <th>Date:</th>             <td>Mon, 13 Jan 2020</td> <th>  Prob (F-statistic):</th>  <td>0.0197</td> \n",
       "</tr>\n",
       "<tr>\n",
       "  <th>Time:</th>                 <td>23:02:14</td>     <th>  Log-Likelihood:    </th> <td> -340.55</td>\n",
       "</tr>\n",
       "<tr>\n",
       "  <th>No. Observations:</th>      <td>   200</td>      <th>  AIC:               </th> <td>   689.1</td>\n",
       "</tr>\n",
       "<tr>\n",
       "  <th>Df Residuals:</th>          <td>   196</td>      <th>  BIC:               </th> <td>   702.3</td>\n",
       "</tr>\n",
       "<tr>\n",
       "  <th>Df Model:</th>              <td>     3</td>      <th>                     </th>     <td> </td>   \n",
       "</tr>\n",
       "<tr>\n",
       "  <th>Covariance Type:</th>      <td>nonrobust</td>    <th>                     </th>     <td> </td>   \n",
       "</tr>\n",
       "</table>\n",
       "<table class=\"simpletable\">\n",
       "<tr>\n",
       "                <td></td>                  <th>coef</th>     <th>std err</th>      <th>t</th>      <th>P>|t|</th>  <th>[0.025</th>    <th>0.975]</th>  \n",
       "</tr>\n",
       "<tr>\n",
       "  <th>Intercept</th>                    <td>    2.5093</td> <td>    0.095</td> <td>   26.450</td> <td> 0.000</td> <td>    2.322</td> <td>    2.696</td>\n",
       "</tr>\n",
       "<tr>\n",
       "  <th>C(group, group_helmert)[H.B]</th> <td>    0.3187</td> <td>    0.134</td> <td>    2.375</td> <td> 0.019</td> <td>    0.054</td> <td>    0.583</td>\n",
       "</tr>\n",
       "<tr>\n",
       "  <th>C(group, group_helmert)[H.A]</th> <td>    0.0977</td> <td>    0.077</td> <td>    1.261</td> <td> 0.209</td> <td>   -0.055</td> <td>    0.250</td>\n",
       "</tr>\n",
       "<tr>\n",
       "  <th>C(group, group_helmert)[H.C]</th> <td>   -0.0928</td> <td>    0.055</td> <td>   -1.694</td> <td> 0.092</td> <td>   -0.201</td> <td>    0.015</td>\n",
       "</tr>\n",
       "</table>\n",
       "<table class=\"simpletable\">\n",
       "<tr>\n",
       "  <th>Omnibus:</th>       <td> 3.306</td> <th>  Durbin-Watson:     </th> <td>   2.119</td>\n",
       "</tr>\n",
       "<tr>\n",
       "  <th>Prob(Omnibus):</th> <td> 0.191</td> <th>  Jarque-Bera (JB):  </th> <td>   2.519</td>\n",
       "</tr>\n",
       "<tr>\n",
       "  <th>Skew:</th>          <td>-0.132</td> <th>  Prob(JB):          </th> <td>   0.284</td>\n",
       "</tr>\n",
       "<tr>\n",
       "  <th>Kurtosis:</th>      <td> 2.517</td> <th>  Cond. No.          </th> <td>    2.45</td>\n",
       "</tr>\n",
       "</table><br/><br/>Warnings:<br/>[1] Standard Errors assume that the covariance matrix of the errors is correctly specified."
      ],
      "text/plain": [
       "<class 'statsmodels.iolib.summary.Summary'>\n",
       "\"\"\"\n",
       "                            OLS Regression Results                            \n",
       "==============================================================================\n",
       "Dep. Variable:                      y   R-squared:                       0.049\n",
       "Model:                            OLS   Adj. R-squared:                  0.034\n",
       "Method:                 Least Squares   F-statistic:                     3.367\n",
       "Date:                Mon, 13 Jan 2020   Prob (F-statistic):             0.0197\n",
       "Time:                        23:02:14   Log-Likelihood:                -340.55\n",
       "No. Observations:                 200   AIC:                             689.1\n",
       "Df Residuals:                     196   BIC:                             702.3\n",
       "Df Model:                           3                                         \n",
       "Covariance Type:            nonrobust                                         \n",
       "================================================================================================\n",
       "                                   coef    std err          t      P>|t|      [0.025      0.975]\n",
       "------------------------------------------------------------------------------------------------\n",
       "Intercept                        2.5093      0.095     26.450      0.000       2.322       2.696\n",
       "C(group, group_helmert)[H.B]     0.3187      0.134      2.375      0.019       0.054       0.583\n",
       "C(group, group_helmert)[H.A]     0.0977      0.077      1.261      0.209      -0.055       0.250\n",
       "C(group, group_helmert)[H.C]    -0.0928      0.055     -1.694      0.092      -0.201       0.015\n",
       "==============================================================================\n",
       "Omnibus:                        3.306   Durbin-Watson:                   2.119\n",
       "Prob(Omnibus):                  0.191   Jarque-Bera (JB):                2.519\n",
       "Skew:                          -0.132   Prob(JB):                        0.284\n",
       "Kurtosis:                       2.517   Cond. No.                         2.45\n",
       "==============================================================================\n",
       "\n",
       "Warnings:\n",
       "[1] Standard Errors assume that the covariance matrix of the errors is correctly specified.\n",
       "\"\"\""
      ]
     },
     "execution_count": 359,
     "metadata": {},
     "output_type": "execute_result"
    }
   ],
   "source": [
    "ols_fit2.summary()"
   ]
  },
  {
   "cell_type": "code",
   "execution_count": 360,
   "metadata": {},
   "outputs": [],
   "source": [
    "# factorial contrasts (2 main effects and 1 interaction)\n",
    "ols_fit3 = statsmodels.formula.api.ols(\"y ~ C(group, group_factorial)\", data = data1).fit()"
   ]
  },
  {
   "cell_type": "markdown",
   "metadata": {},
   "source": [
    "## Results Summary"
   ]
  },
  {
   "cell_type": "code",
   "execution_count": 361,
   "metadata": {},
   "outputs": [
    {
     "data": {
      "text/html": [
       "<table class=\"simpletable\">\n",
       "<caption>OLS Regression Results</caption>\n",
       "<tr>\n",
       "  <th>Dep. Variable:</th>            <td>y</td>        <th>  R-squared:         </th> <td>   0.049</td>\n",
       "</tr>\n",
       "<tr>\n",
       "  <th>Model:</th>                   <td>OLS</td>       <th>  Adj. R-squared:    </th> <td>   0.034</td>\n",
       "</tr>\n",
       "<tr>\n",
       "  <th>Method:</th>             <td>Least Squares</td>  <th>  F-statistic:       </th> <td>   3.367</td>\n",
       "</tr>\n",
       "<tr>\n",
       "  <th>Date:</th>             <td>Mon, 13 Jan 2020</td> <th>  Prob (F-statistic):</th>  <td>0.0197</td> \n",
       "</tr>\n",
       "<tr>\n",
       "  <th>Time:</th>                 <td>23:02:14</td>     <th>  Log-Likelihood:    </th> <td> -340.55</td>\n",
       "</tr>\n",
       "<tr>\n",
       "  <th>No. Observations:</th>      <td>   200</td>      <th>  AIC:               </th> <td>   689.1</td>\n",
       "</tr>\n",
       "<tr>\n",
       "  <th>Df Residuals:</th>          <td>   196</td>      <th>  BIC:               </th> <td>   702.3</td>\n",
       "</tr>\n",
       "<tr>\n",
       "  <th>Df Model:</th>              <td>     3</td>      <th>                     </th>     <td> </td>   \n",
       "</tr>\n",
       "<tr>\n",
       "  <th>Covariance Type:</th>      <td>nonrobust</td>    <th>                     </th>     <td> </td>   \n",
       "</tr>\n",
       "</table>\n",
       "<table class=\"simpletable\">\n",
       "<tr>\n",
       "                     <td></td>                       <th>coef</th>     <th>std err</th>      <th>t</th>      <th>P>|t|</th>  <th>[0.025</th>    <th>0.975]</th>  \n",
       "</tr>\n",
       "<tr>\n",
       "  <th>Intercept</th>                              <td>    2.5093</td> <td>    0.095</td> <td>   26.450</td> <td> 0.000</td> <td>    2.322</td> <td>    2.696</td>\n",
       "</tr>\n",
       "<tr>\n",
       "  <th>C(group, group_factorial)Main Effect 1</th> <td>    0.0049</td> <td>    0.095</td> <td>    0.052</td> <td> 0.959</td> <td>   -0.182</td> <td>    0.192</td>\n",
       "</tr>\n",
       "<tr>\n",
       "  <th>C(group, group_factorial)Main Effect 2</th> <td>    0.0177</td> <td>    0.095</td> <td>    0.187</td> <td> 0.852</td> <td>   -0.169</td> <td>    0.205</td>\n",
       "</tr>\n",
       "<tr>\n",
       "  <th>C(group, group_factorial)Interaction</th>   <td>   -0.3010</td> <td>    0.095</td> <td>   -3.172</td> <td> 0.002</td> <td>   -0.488</td> <td>   -0.114</td>\n",
       "</tr>\n",
       "</table>\n",
       "<table class=\"simpletable\">\n",
       "<tr>\n",
       "  <th>Omnibus:</th>       <td> 3.306</td> <th>  Durbin-Watson:     </th> <td>   2.119</td>\n",
       "</tr>\n",
       "<tr>\n",
       "  <th>Prob(Omnibus):</th> <td> 0.191</td> <th>  Jarque-Bera (JB):  </th> <td>   2.519</td>\n",
       "</tr>\n",
       "<tr>\n",
       "  <th>Skew:</th>          <td>-0.132</td> <th>  Prob(JB):          </th> <td>   0.284</td>\n",
       "</tr>\n",
       "<tr>\n",
       "  <th>Kurtosis:</th>      <td> 2.517</td> <th>  Cond. No.          </th> <td>    1.00</td>\n",
       "</tr>\n",
       "</table><br/><br/>Warnings:<br/>[1] Standard Errors assume that the covariance matrix of the errors is correctly specified."
      ],
      "text/plain": [
       "<class 'statsmodels.iolib.summary.Summary'>\n",
       "\"\"\"\n",
       "                            OLS Regression Results                            \n",
       "==============================================================================\n",
       "Dep. Variable:                      y   R-squared:                       0.049\n",
       "Model:                            OLS   Adj. R-squared:                  0.034\n",
       "Method:                 Least Squares   F-statistic:                     3.367\n",
       "Date:                Mon, 13 Jan 2020   Prob (F-statistic):             0.0197\n",
       "Time:                        23:02:14   Log-Likelihood:                -340.55\n",
       "No. Observations:                 200   AIC:                             689.1\n",
       "Df Residuals:                     196   BIC:                             702.3\n",
       "Df Model:                           3                                         \n",
       "Covariance Type:            nonrobust                                         \n",
       "==========================================================================================================\n",
       "                                             coef    std err          t      P>|t|      [0.025      0.975]\n",
       "----------------------------------------------------------------------------------------------------------\n",
       "Intercept                                  2.5093      0.095     26.450      0.000       2.322       2.696\n",
       "C(group, group_factorial)Main Effect 1     0.0049      0.095      0.052      0.959      -0.182       0.192\n",
       "C(group, group_factorial)Main Effect 2     0.0177      0.095      0.187      0.852      -0.169       0.205\n",
       "C(group, group_factorial)Interaction      -0.3010      0.095     -3.172      0.002      -0.488      -0.114\n",
       "==============================================================================\n",
       "Omnibus:                        3.306   Durbin-Watson:                   2.119\n",
       "Prob(Omnibus):                  0.191   Jarque-Bera (JB):                2.519\n",
       "Skew:                          -0.132   Prob(JB):                        0.284\n",
       "Kurtosis:                       2.517   Cond. No.                         1.00\n",
       "==============================================================================\n",
       "\n",
       "Warnings:\n",
       "[1] Standard Errors assume that the covariance matrix of the errors is correctly specified.\n",
       "\"\"\""
      ]
     },
     "execution_count": 361,
     "metadata": {},
     "output_type": "execute_result"
    }
   ],
   "source": [
    "ols_fit3.summary()"
   ]
  },
  {
   "cell_type": "markdown",
   "metadata": {},
   "source": [
    "## Fit linear regression"
   ]
  },
  {
   "cell_type": "code",
   "execution_count": 362,
   "metadata": {},
   "outputs": [],
   "source": [
    "ols_fit4 = statsmodels.formula.api.ols(\"y ~ main1 + main2 + interaction\", data = data1).fit()"
   ]
  },
  {
   "cell_type": "markdown",
   "metadata": {},
   "source": [
    "## Results Summary"
   ]
  },
  {
   "cell_type": "code",
   "execution_count": 363,
   "metadata": {},
   "outputs": [
    {
     "data": {
      "text/html": [
       "<table class=\"simpletable\">\n",
       "<caption>OLS Regression Results</caption>\n",
       "<tr>\n",
       "  <th>Dep. Variable:</th>            <td>y</td>        <th>  R-squared:         </th> <td>   0.049</td>\n",
       "</tr>\n",
       "<tr>\n",
       "  <th>Model:</th>                   <td>OLS</td>       <th>  Adj. R-squared:    </th> <td>   0.034</td>\n",
       "</tr>\n",
       "<tr>\n",
       "  <th>Method:</th>             <td>Least Squares</td>  <th>  F-statistic:       </th> <td>   3.367</td>\n",
       "</tr>\n",
       "<tr>\n",
       "  <th>Date:</th>             <td>Mon, 13 Jan 2020</td> <th>  Prob (F-statistic):</th>  <td>0.0197</td> \n",
       "</tr>\n",
       "<tr>\n",
       "  <th>Time:</th>                 <td>23:02:14</td>     <th>  Log-Likelihood:    </th> <td> -340.55</td>\n",
       "</tr>\n",
       "<tr>\n",
       "  <th>No. Observations:</th>      <td>   200</td>      <th>  AIC:               </th> <td>   689.1</td>\n",
       "</tr>\n",
       "<tr>\n",
       "  <th>Df Residuals:</th>          <td>   196</td>      <th>  BIC:               </th> <td>   702.3</td>\n",
       "</tr>\n",
       "<tr>\n",
       "  <th>Df Model:</th>              <td>     3</td>      <th>                     </th>     <td> </td>   \n",
       "</tr>\n",
       "<tr>\n",
       "  <th>Covariance Type:</th>      <td>nonrobust</td>    <th>                     </th>     <td> </td>   \n",
       "</tr>\n",
       "</table>\n",
       "<table class=\"simpletable\">\n",
       "<tr>\n",
       "       <td></td>          <th>coef</th>     <th>std err</th>      <th>t</th>      <th>P>|t|</th>  <th>[0.025</th>    <th>0.975]</th>  \n",
       "</tr>\n",
       "<tr>\n",
       "  <th>Intercept</th>   <td>    2.5093</td> <td>    0.095</td> <td>   26.450</td> <td> 0.000</td> <td>    2.322</td> <td>    2.696</td>\n",
       "</tr>\n",
       "<tr>\n",
       "  <th>main1</th>       <td>    0.0049</td> <td>    0.095</td> <td>    0.052</td> <td> 0.959</td> <td>   -0.182</td> <td>    0.192</td>\n",
       "</tr>\n",
       "<tr>\n",
       "  <th>main2</th>       <td>    0.0177</td> <td>    0.095</td> <td>    0.187</td> <td> 0.852</td> <td>   -0.169</td> <td>    0.205</td>\n",
       "</tr>\n",
       "<tr>\n",
       "  <th>interaction</th> <td>   -0.3010</td> <td>    0.095</td> <td>   -3.172</td> <td> 0.002</td> <td>   -0.488</td> <td>   -0.114</td>\n",
       "</tr>\n",
       "</table>\n",
       "<table class=\"simpletable\">\n",
       "<tr>\n",
       "  <th>Omnibus:</th>       <td> 3.306</td> <th>  Durbin-Watson:     </th> <td>   2.119</td>\n",
       "</tr>\n",
       "<tr>\n",
       "  <th>Prob(Omnibus):</th> <td> 0.191</td> <th>  Jarque-Bera (JB):  </th> <td>   2.519</td>\n",
       "</tr>\n",
       "<tr>\n",
       "  <th>Skew:</th>          <td>-0.132</td> <th>  Prob(JB):          </th> <td>   0.284</td>\n",
       "</tr>\n",
       "<tr>\n",
       "  <th>Kurtosis:</th>      <td> 2.517</td> <th>  Cond. No.          </th> <td>    1.00</td>\n",
       "</tr>\n",
       "</table><br/><br/>Warnings:<br/>[1] Standard Errors assume that the covariance matrix of the errors is correctly specified."
      ],
      "text/plain": [
       "<class 'statsmodels.iolib.summary.Summary'>\n",
       "\"\"\"\n",
       "                            OLS Regression Results                            \n",
       "==============================================================================\n",
       "Dep. Variable:                      y   R-squared:                       0.049\n",
       "Model:                            OLS   Adj. R-squared:                  0.034\n",
       "Method:                 Least Squares   F-statistic:                     3.367\n",
       "Date:                Mon, 13 Jan 2020   Prob (F-statistic):             0.0197\n",
       "Time:                        23:02:14   Log-Likelihood:                -340.55\n",
       "No. Observations:                 200   AIC:                             689.1\n",
       "Df Residuals:                     196   BIC:                             702.3\n",
       "Df Model:                           3                                         \n",
       "Covariance Type:            nonrobust                                         \n",
       "===============================================================================\n",
       "                  coef    std err          t      P>|t|      [0.025      0.975]\n",
       "-------------------------------------------------------------------------------\n",
       "Intercept       2.5093      0.095     26.450      0.000       2.322       2.696\n",
       "main1           0.0049      0.095      0.052      0.959      -0.182       0.192\n",
       "main2           0.0177      0.095      0.187      0.852      -0.169       0.205\n",
       "interaction    -0.3010      0.095     -3.172      0.002      -0.488      -0.114\n",
       "==============================================================================\n",
       "Omnibus:                        3.306   Durbin-Watson:                   2.119\n",
       "Prob(Omnibus):                  0.191   Jarque-Bera (JB):                2.519\n",
       "Skew:                          -0.132   Prob(JB):                        0.284\n",
       "Kurtosis:                       2.517   Cond. No.                         1.00\n",
       "==============================================================================\n",
       "\n",
       "Warnings:\n",
       "[1] Standard Errors assume that the covariance matrix of the errors is correctly specified.\n",
       "\"\"\""
      ]
     },
     "execution_count": 363,
     "metadata": {},
     "output_type": "execute_result"
    }
   ],
   "source": [
    "ols_fit4.summary()"
   ]
  }
 ],
 "metadata": {
  "kernelspec": {
   "display_name": "Python 3",
   "language": "python",
   "name": "python3"
  },
  "language_info": {
   "codemirror_mode": {
    "name": "ipython",
    "version": 3
   },
   "file_extension": ".py",
   "mimetype": "text/x-python",
   "name": "python",
   "nbconvert_exporter": "python",
   "pygments_lexer": "ipython3",
   "version": "3.7.4"
  }
 },
 "nbformat": 4,
 "nbformat_minor": 2
}
