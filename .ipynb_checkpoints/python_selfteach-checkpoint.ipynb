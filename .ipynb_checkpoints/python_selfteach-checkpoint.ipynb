{
 "cells": [
  {
   "cell_type": "markdown",
   "metadata": {},
   "source": [
    "# Learning Python as an R user"
   ]
  },
  {
   "cell_type": "markdown",
   "metadata": {},
   "source": [
    "# Introduction"
   ]
  },
  {
   "cell_type": "markdown",
   "metadata": {},
   "source": [
    "I'm teaching myself Python with examples I used to teach myself R for my research. I plan to update this post with more detailed notes as I learn how to interpret Python code."
   ]
  },
  {
   "cell_type": "markdown",
   "metadata": {},
   "source": [
    "# Install Python Anaconda"
   ]
  },
  {
   "cell_type": "markdown",
   "metadata": {},
   "source": [
    "You can find documentation and a list of installation tutorials [here](https://docs.anaconda.com/anaconda/install/)."
   ]
  },
  {
   "cell_type": "markdown",
   "metadata": {},
   "source": [
    "# Install Jupyter"
   ]
  },
  {
   "cell_type": "markdown",
   "metadata": {},
   "source": [
    "You can find an installation tutorial [here](https://jupyter.org/install)."
   ]
  },
  {
   "cell_type": "markdown",
   "metadata": {},
   "source": [
    "# shell"
   ]
  },
  {
   "cell_type": "markdown",
   "metadata": {},
   "source": [
    "On my Mac, I open [Terminal](https://support.apple.com/guide/terminal/welcome/mac) and execute code to open jupyter notebook and more code to install new Python packages"
   ]
  },
  {
   "cell_type": "raw",
   "metadata": {},
   "source": [
    "# Open jupyter notebook\n",
    "jupyter notebook\n",
    "\n",
    "# Install Python packages\n",
    "condas install pandas\n",
    "condas install math\n",
    "condas install numpy\n",
    "condas install plotly.express\n",
    "condas install plotly.offline\n",
    "condas install scipy\n",
    "condas install statsmodels.api\n",
    "condas install statsmodels.formula.api\n",
    "condas install patsy.contrasts"
   ]
  },
  {
   "cell_type": "markdown",
   "metadata": {},
   "source": [
    "# Import libraries"
   ]
  },
  {
   "cell_type": "code",
   "execution_count": 365,
   "metadata": {},
   "outputs": [],
   "source": [
    "# did you install these libraries somewhere? what does import do? what do the dots \".\" mean?"
   ]
  },
  {
   "cell_type": "code",
   "execution_count": 366,
   "metadata": {},
   "outputs": [],
   "source": [
    "import pandas\n",
    "import math\n",
    "import numpy\n",
    "import plotly.express\n",
    "import plotly.offline\n",
    "import scipy\n",
    "import statsmodels.api\n",
    "import statsmodels.formula.api\n",
    "import patsy.contrasts"
   ]
  },
  {
   "cell_type": "markdown",
   "metadata": {},
   "source": [
    "## Offline Plotting Settings"
   ]
  },
  {
   "cell_type": "code",
   "execution_count": 367,
   "metadata": {},
   "outputs": [],
   "source": [
    "# what do this code mean? why do you have to start with \"plotly\"?"
   ]
  },
  {
   "cell_type": "code",
   "execution_count": 368,
   "metadata": {},
   "outputs": [
    {
     "data": {
      "text/html": [
       "        <script type=\"text/javascript\">\n",
       "        window.PlotlyConfig = {MathJaxConfig: 'local'};\n",
       "        if (window.MathJax) {MathJax.Hub.Config({SVG: {font: \"STIX-Web\"}});}\n",
       "        if (typeof require !== 'undefined') {\n",
       "        require.undef(\"plotly\");\n",
       "        requirejs.config({\n",
       "            paths: {\n",
       "                'plotly': ['https://cdn.plot.ly/plotly-latest.min']\n",
       "            }\n",
       "        });\n",
       "        require(['plotly'], function(Plotly) {\n",
       "            window._Plotly = Plotly;\n",
       "        });\n",
       "        }\n",
       "        </script>\n",
       "        "
      ]
     },
     "metadata": {},
     "output_type": "display_data"
    }
   ],
   "source": [
    "plotly.offline.init_notebook_mode(connected = True)"
   ]
  },
  {
   "cell_type": "markdown",
   "metadata": {},
   "source": [
    "# Generate data\n",
    "## `group` variable with 4 levels"
   ]
  },
  {
   "cell_type": "code",
   "execution_count": 369,
   "metadata": {},
   "outputs": [],
   "source": [
    "# similar to the `base::rep` function in R. [] make lists. what are lists?"
   ]
  },
  {
   "cell_type": "code",
   "execution_count": 370,
   "metadata": {},
   "outputs": [],
   "source": [
    "group = numpy.repeat([\"A\", \"B\", \"C\", \"D\"], repeats = 50)"
   ]
  },
  {
   "cell_type": "markdown",
   "metadata": {},
   "source": [
    "## Save parameters"
   ]
  },
  {
   "cell_type": "code",
   "execution_count": 371,
   "metadata": {},
   "outputs": [],
   "source": [
    "# () make tuples. what are tuples?"
   ]
  },
  {
   "cell_type": "code",
   "execution_count": 372,
   "metadata": {},
   "outputs": [],
   "source": [
    "mean = (3, 4, 4, 3)\n",
    "sigma = (1, 1, 1, 1)\n",
    "n = (50, 50, 50, 50)"
   ]
  },
  {
   "cell_type": "markdown",
   "metadata": {},
   "source": [
    "## Random normal variable `x` whose means depend on levels of `group` variable"
   ]
  },
  {
   "cell_type": "code",
   "execution_count": 373,
   "metadata": {},
   "outputs": [],
   "source": [
    "# what are list comprehensions? why do you have to concatenate it? what is zip?"
   ]
  },
  {
   "cell_type": "code",
   "execution_count": 374,
   "metadata": {},
   "outputs": [],
   "source": [
    "# Loop through equal-length mean, sigma, and n (group size)\n",
    "x = numpy.concatenate(\n",
    "    [numpy.random.normal(loc = i, scale = j, size = k) for (i, j, k) in zip(mean, sigma, n)]\n",
    ")"
   ]
  },
  {
   "cell_type": "markdown",
   "metadata": {},
   "source": [
    "## Variable `y` correlated r = 0.75 with x"
   ]
  },
  {
   "cell_type": "code",
   "execution_count": 375,
   "metadata": {},
   "outputs": [],
   "source": [
    "# pretty similar to stats::rnorm in R. annoying part is that I had to concatenate the list above"
   ]
  },
  {
   "cell_type": "code",
   "execution_count": 376,
   "metadata": {},
   "outputs": [],
   "source": [
    "y = x * 0.75 + numpy.random.normal(loc = 0, scale = 1, size = sum(n))"
   ]
  },
  {
   "cell_type": "markdown",
   "metadata": {},
   "source": [
    "## Store variables in a data frame"
   ]
  },
  {
   "cell_type": "code",
   "execution_count": 377,
   "metadata": {},
   "outputs": [],
   "source": [
    "# why the colons? why the squigly brackets?"
   ]
  },
  {
   "cell_type": "code",
   "execution_count": 378,
   "metadata": {},
   "outputs": [],
   "source": [
    "data1 = pandas.DataFrame({\"y\": y, \"x\": x, \"group\": group})"
   ]
  },
  {
   "cell_type": "markdown",
   "metadata": {},
   "source": [
    "## Create contrast variables for use in linear regression on `group` variable"
   ]
  },
  {
   "cell_type": "code",
   "execution_count": 379,
   "metadata": {},
   "outputs": [],
   "source": [
    "# this is similar to base::factor in r, except you use these arrays in the regression syntax. they're not an attribute of the factor."
   ]
  },
  {
   "cell_type": "code",
   "execution_count": 380,
   "metadata": {},
   "outputs": [],
   "source": [
    "# Helmert contrasts\n",
    "group_helmert = patsy.contrasts.Helmert().code_without_intercept(list(set(group)))\n",
    "\n",
    "# 2 main effects and 1 interaction contrast\n",
    "group_factorial = patsy.contrasts.ContrastMatrix([[-1, -1, 1], [-1, 1, -1], [1, -1, -1], [1, 1, 1]], \n",
    "                                                 [\"Main Effect 1\", \"Main Effect 2\", \"Interaction\"])"
   ]
  },
  {
   "cell_type": "markdown",
   "metadata": {},
   "source": [
    "## Add contrast variables to data frame"
   ]
  },
  {
   "cell_type": "code",
   "execution_count": 381,
   "metadata": {},
   "outputs": [],
   "source": [
    "# not too efficient. why do I need .loc? matrix[row, column] is similar to R as well as assignment."
   ]
  },
  {
   "cell_type": "code",
   "execution_count": 382,
   "metadata": {},
   "outputs": [],
   "source": [
    "data1.loc[data1[\"group\"] == \"A\", \"main1\"] = -1\n",
    "data1.loc[data1[\"group\"] == \"B\", \"main1\"] = -1\n",
    "data1.loc[data1[\"group\"] == \"C\", \"main1\"] = 1\n",
    "data1.loc[data1[\"group\"] == \"D\", \"main1\"] = 1\n",
    "\n",
    "data1.loc[data1[\"group\"] == \"A\", \"main2\"] = -1\n",
    "data1.loc[data1[\"group\"] == \"B\", \"main2\"] = 1\n",
    "data1.loc[data1[\"group\"] == \"C\", \"main2\"] = -1\n",
    "data1.loc[data1[\"group\"] == \"D\", \"main2\"] = 1\n",
    "\n",
    "data1.loc[data1[\"group\"] == \"A\", \"interaction\"] = 1\n",
    "data1.loc[data1[\"group\"] == \"B\", \"interaction\"] = -1\n",
    "data1.loc[data1[\"group\"] == \"C\", \"interaction\"] = -1\n",
    "data1.loc[data1[\"group\"] == \"D\", \"interaction\"] = 1"
   ]
  },
  {
   "cell_type": "markdown",
   "metadata": {},
   "source": [
    "# Plots\n",
    "## Boxplots"
   ]
  },
  {
   "cell_type": "code",
   "execution_count": 383,
   "metadata": {},
   "outputs": [],
   "source": [
    "# similar to ggplot2::geom_boxplot"
   ]
  },
  {
   "cell_type": "code",
   "execution_count": 384,
   "metadata": {},
   "outputs": [
    {
     "data": {
      "application/vnd.plotly.v1+json": {
       "config": {
        "linkText": "Export to plot.ly",
        "plotlyServerURL": "https://plot.ly",
        "showLink": false
       },
       "data": [
        {
         "alignmentgroup": "True",
         "hoverlabel": {
          "namelength": 0
         },
         "hovertemplate": "group=%{x}<br>y=%{y}",
         "legendgroup": "",
         "marker": {
          "color": "#636efa"
         },
         "name": "",
         "notched": false,
         "offsetgroup": "",
         "orientation": "v",
         "showlegend": false,
         "type": "box",
         "x": [
          "A",
          "A",
          "A",
          "A",
          "A",
          "A",
          "A",
          "A",
          "A",
          "A",
          "A",
          "A",
          "A",
          "A",
          "A",
          "A",
          "A",
          "A",
          "A",
          "A",
          "A",
          "A",
          "A",
          "A",
          "A",
          "A",
          "A",
          "A",
          "A",
          "A",
          "A",
          "A",
          "A",
          "A",
          "A",
          "A",
          "A",
          "A",
          "A",
          "A",
          "A",
          "A",
          "A",
          "A",
          "A",
          "A",
          "A",
          "A",
          "A",
          "A",
          "B",
          "B",
          "B",
          "B",
          "B",
          "B",
          "B",
          "B",
          "B",
          "B",
          "B",
          "B",
          "B",
          "B",
          "B",
          "B",
          "B",
          "B",
          "B",
          "B",
          "B",
          "B",
          "B",
          "B",
          "B",
          "B",
          "B",
          "B",
          "B",
          "B",
          "B",
          "B",
          "B",
          "B",
          "B",
          "B",
          "B",
          "B",
          "B",
          "B",
          "B",
          "B",
          "B",
          "B",
          "B",
          "B",
          "B",
          "B",
          "B",
          "B",
          "C",
          "C",
          "C",
          "C",
          "C",
          "C",
          "C",
          "C",
          "C",
          "C",
          "C",
          "C",
          "C",
          "C",
          "C",
          "C",
          "C",
          "C",
          "C",
          "C",
          "C",
          "C",
          "C",
          "C",
          "C",
          "C",
          "C",
          "C",
          "C",
          "C",
          "C",
          "C",
          "C",
          "C",
          "C",
          "C",
          "C",
          "C",
          "C",
          "C",
          "C",
          "C",
          "C",
          "C",
          "C",
          "C",
          "C",
          "C",
          "C",
          "C",
          "D",
          "D",
          "D",
          "D",
          "D",
          "D",
          "D",
          "D",
          "D",
          "D",
          "D",
          "D",
          "D",
          "D",
          "D",
          "D",
          "D",
          "D",
          "D",
          "D",
          "D",
          "D",
          "D",
          "D",
          "D",
          "D",
          "D",
          "D",
          "D",
          "D",
          "D",
          "D",
          "D",
          "D",
          "D",
          "D",
          "D",
          "D",
          "D",
          "D",
          "D",
          "D",
          "D",
          "D",
          "D",
          "D",
          "D",
          "D",
          "D",
          "D"
         ],
         "x0": " ",
         "xaxis": "x",
         "y": [
          0.6950469748897452,
          -0.5034403329926198,
          2.174208383982993,
          2.8264205605740744,
          3.2117712655990647,
          1.1781581196733888,
          1.1160282964159203,
          2.6723921742356294,
          0.8541201117838098,
          1.4557354259419546,
          2.037594787810373,
          2.372639118877078,
          2.9612994490494846,
          0.8716254151255541,
          -0.021961355659155135,
          3.2076414076811703,
          3.240826661021682,
          1.2702695035765341,
          3.6455035958150708,
          0.8630935615144297,
          2.4814388097201086,
          2.190128125350091,
          3.518020554964058,
          2.8015126466983302,
          2.022721081085111,
          2.785480814014643,
          2.605216553826863,
          3.9920592366279766,
          4.214911604166839,
          1.9260483446553858,
          4.368321941438964,
          4.6184331702674415,
          2.7358033286149133,
          0.1662069931571537,
          1.5368484806388423,
          0.4593710667555235,
          3.684210965090906,
          2.9203275587853996,
          -0.33315468237684254,
          3.976118411517691,
          1.118171435238924,
          1.7600637769207592,
          3.4163510640869803,
          0.028073988162205854,
          4.190651269451221,
          1.2311610496111531,
          2.884079089864101,
          3.430391620268408,
          4.081713952905699,
          2.9775341347071684,
          1.2618348795389895,
          4.753340668418486,
          4.769116173920377,
          3.013960384532216,
          6.286328377242914,
          3.6157582507123047,
          3.3356872497205416,
          2.723786196546012,
          3.2426371809639094,
          0.8366660838731161,
          2.193945705813425,
          4.627006941241677,
          5.244624649972142,
          3.758965050706978,
          2.6648051445002396,
          1.326546065028106,
          1.4703749526672274,
          1.9455694959401075,
          5.8722861197635625,
          2.707484791083193,
          3.420572753250407,
          2.608778693866711,
          2.423608862387928,
          3.8212947130638,
          3.878433503224329,
          0.16521919100152194,
          5.694762258431668,
          3.0717278494320235,
          4.397381199846352,
          4.252148650339173,
          2.1083848727100394,
          2.7026862934136497,
          2.390954563001253,
          3.0293093231101307,
          1.967958400334754,
          1.875359683192888,
          1.8184415750263332,
          2.8399949279698538,
          3.992503278664061,
          3.3436021355662433,
          3.328664694794086,
          0.4343956162741197,
          3.9974235230979103,
          0.5001532124053734,
          2.010685607804752,
          4.396511584361904,
          4.782269819871636,
          4.913721911674665,
          2.43232505548643,
          4.822036904239104,
          3.131832806427382,
          4.822830396522785,
          3.338207697580485,
          2.465793795661478,
          4.105826799464889,
          3.889653915700479,
          3.7481867846214723,
          2.5187998366597912,
          3.471166932897151,
          1.7544384249020104,
          3.2450240276985456,
          3.2643232096764088,
          2.9760783967449695,
          6.170304812134368,
          4.053175580519442,
          3.1184855340369664,
          3.7989270646228466,
          2.342666557619671,
          2.6449387019113773,
          2.061175732966708,
          3.366484946314323,
          3.578074106490438,
          4.109822151261497,
          3.7249772080885486,
          5.309449680816956,
          6.095726353368207,
          3.4976381698368235,
          2.7757598058930943,
          3.4483621158743043,
          2.5312660553963457,
          0.9846823988865984,
          2.3743113657193025,
          4.527302491887923,
          1.954171050657958,
          4.800819084814348,
          3.8086074445406206,
          3.1282391148665067,
          1.640442799441174,
          2.0852290068598784,
          2.2304300599781595,
          3.187549833496889,
          3.04706169505677,
          1.382929236499277,
          0.9691000836887057,
          0.2757187273163584,
          3.588219862262456,
          5.453878874590729,
          4.775100446510809,
          -0.7457680907446939,
          4.6339671110227885,
          3.858824153322869,
          1.578320181316926,
          4.231308301848548,
          1.446624505889436,
          2.809455504499523,
          0.3370565221316617,
          2.2442210229382304,
          2.4817129521171077,
          2.669074356135961,
          1.119463217860492,
          2.8238164920488,
          1.203893609298915,
          2.5811597515079625,
          3.510249848998413,
          2.6068590472389337,
          4.07286753960857,
          2.9990537458214788,
          2.9209725224722467,
          3.45279146202614,
          2.748404381812157,
          3.3553086850070377,
          0.5915666262477557,
          5.10053530406739,
          2.9723949088852306,
          2.0564841213246514,
          1.3741350074484446,
          2.8548360546761264,
          3.656424831388678,
          1.5715717874275368,
          1.0767446852301434,
          3.2008372847616537,
          2.4993188622397335,
          2.3571534788959867,
          2.285262978926535,
          1.2845299222950965,
          1.528539648001414,
          4.359960306274103,
          2.0125801172918054,
          1.362642100342817,
          1.1527324548556643,
          0.3674902133174178,
          2.505882363332325,
          2.4694857292899957,
          0.5190976037933384,
          4.718203301328052,
          1.9283940758370306,
          1.8227776686682613,
          1.4471514216671981,
          1.6095552935566728,
          3.5789226530974902
         ],
         "y0": " ",
         "yaxis": "y"
        }
       ],
       "layout": {
        "boxmode": "group",
        "legend": {
         "tracegroupgap": 0
        },
        "margin": {
         "t": 60
        },
        "template": {
         "data": {
          "bar": [
           {
            "error_x": {
             "color": "#2a3f5f"
            },
            "error_y": {
             "color": "#2a3f5f"
            },
            "marker": {
             "line": {
              "color": "#E5ECF6",
              "width": 0.5
             }
            },
            "type": "bar"
           }
          ],
          "barpolar": [
           {
            "marker": {
             "line": {
              "color": "#E5ECF6",
              "width": 0.5
             }
            },
            "type": "barpolar"
           }
          ],
          "carpet": [
           {
            "aaxis": {
             "endlinecolor": "#2a3f5f",
             "gridcolor": "white",
             "linecolor": "white",
             "minorgridcolor": "white",
             "startlinecolor": "#2a3f5f"
            },
            "baxis": {
             "endlinecolor": "#2a3f5f",
             "gridcolor": "white",
             "linecolor": "white",
             "minorgridcolor": "white",
             "startlinecolor": "#2a3f5f"
            },
            "type": "carpet"
           }
          ],
          "choropleth": [
           {
            "colorbar": {
             "outlinewidth": 0,
             "ticks": ""
            },
            "type": "choropleth"
           }
          ],
          "contour": [
           {
            "colorbar": {
             "outlinewidth": 0,
             "ticks": ""
            },
            "colorscale": [
             [
              0,
              "#0d0887"
             ],
             [
              0.1111111111111111,
              "#46039f"
             ],
             [
              0.2222222222222222,
              "#7201a8"
             ],
             [
              0.3333333333333333,
              "#9c179e"
             ],
             [
              0.4444444444444444,
              "#bd3786"
             ],
             [
              0.5555555555555556,
              "#d8576b"
             ],
             [
              0.6666666666666666,
              "#ed7953"
             ],
             [
              0.7777777777777778,
              "#fb9f3a"
             ],
             [
              0.8888888888888888,
              "#fdca26"
             ],
             [
              1,
              "#f0f921"
             ]
            ],
            "type": "contour"
           }
          ],
          "contourcarpet": [
           {
            "colorbar": {
             "outlinewidth": 0,
             "ticks": ""
            },
            "type": "contourcarpet"
           }
          ],
          "heatmap": [
           {
            "colorbar": {
             "outlinewidth": 0,
             "ticks": ""
            },
            "colorscale": [
             [
              0,
              "#0d0887"
             ],
             [
              0.1111111111111111,
              "#46039f"
             ],
             [
              0.2222222222222222,
              "#7201a8"
             ],
             [
              0.3333333333333333,
              "#9c179e"
             ],
             [
              0.4444444444444444,
              "#bd3786"
             ],
             [
              0.5555555555555556,
              "#d8576b"
             ],
             [
              0.6666666666666666,
              "#ed7953"
             ],
             [
              0.7777777777777778,
              "#fb9f3a"
             ],
             [
              0.8888888888888888,
              "#fdca26"
             ],
             [
              1,
              "#f0f921"
             ]
            ],
            "type": "heatmap"
           }
          ],
          "heatmapgl": [
           {
            "colorbar": {
             "outlinewidth": 0,
             "ticks": ""
            },
            "colorscale": [
             [
              0,
              "#0d0887"
             ],
             [
              0.1111111111111111,
              "#46039f"
             ],
             [
              0.2222222222222222,
              "#7201a8"
             ],
             [
              0.3333333333333333,
              "#9c179e"
             ],
             [
              0.4444444444444444,
              "#bd3786"
             ],
             [
              0.5555555555555556,
              "#d8576b"
             ],
             [
              0.6666666666666666,
              "#ed7953"
             ],
             [
              0.7777777777777778,
              "#fb9f3a"
             ],
             [
              0.8888888888888888,
              "#fdca26"
             ],
             [
              1,
              "#f0f921"
             ]
            ],
            "type": "heatmapgl"
           }
          ],
          "histogram": [
           {
            "marker": {
             "colorbar": {
              "outlinewidth": 0,
              "ticks": ""
             }
            },
            "type": "histogram"
           }
          ],
          "histogram2d": [
           {
            "colorbar": {
             "outlinewidth": 0,
             "ticks": ""
            },
            "colorscale": [
             [
              0,
              "#0d0887"
             ],
             [
              0.1111111111111111,
              "#46039f"
             ],
             [
              0.2222222222222222,
              "#7201a8"
             ],
             [
              0.3333333333333333,
              "#9c179e"
             ],
             [
              0.4444444444444444,
              "#bd3786"
             ],
             [
              0.5555555555555556,
              "#d8576b"
             ],
             [
              0.6666666666666666,
              "#ed7953"
             ],
             [
              0.7777777777777778,
              "#fb9f3a"
             ],
             [
              0.8888888888888888,
              "#fdca26"
             ],
             [
              1,
              "#f0f921"
             ]
            ],
            "type": "histogram2d"
           }
          ],
          "histogram2dcontour": [
           {
            "colorbar": {
             "outlinewidth": 0,
             "ticks": ""
            },
            "colorscale": [
             [
              0,
              "#0d0887"
             ],
             [
              0.1111111111111111,
              "#46039f"
             ],
             [
              0.2222222222222222,
              "#7201a8"
             ],
             [
              0.3333333333333333,
              "#9c179e"
             ],
             [
              0.4444444444444444,
              "#bd3786"
             ],
             [
              0.5555555555555556,
              "#d8576b"
             ],
             [
              0.6666666666666666,
              "#ed7953"
             ],
             [
              0.7777777777777778,
              "#fb9f3a"
             ],
             [
              0.8888888888888888,
              "#fdca26"
             ],
             [
              1,
              "#f0f921"
             ]
            ],
            "type": "histogram2dcontour"
           }
          ],
          "mesh3d": [
           {
            "colorbar": {
             "outlinewidth": 0,
             "ticks": ""
            },
            "type": "mesh3d"
           }
          ],
          "parcoords": [
           {
            "line": {
             "colorbar": {
              "outlinewidth": 0,
              "ticks": ""
             }
            },
            "type": "parcoords"
           }
          ],
          "pie": [
           {
            "automargin": true,
            "type": "pie"
           }
          ],
          "scatter": [
           {
            "marker": {
             "colorbar": {
              "outlinewidth": 0,
              "ticks": ""
             }
            },
            "type": "scatter"
           }
          ],
          "scatter3d": [
           {
            "line": {
             "colorbar": {
              "outlinewidth": 0,
              "ticks": ""
             }
            },
            "marker": {
             "colorbar": {
              "outlinewidth": 0,
              "ticks": ""
             }
            },
            "type": "scatter3d"
           }
          ],
          "scattercarpet": [
           {
            "marker": {
             "colorbar": {
              "outlinewidth": 0,
              "ticks": ""
             }
            },
            "type": "scattercarpet"
           }
          ],
          "scattergeo": [
           {
            "marker": {
             "colorbar": {
              "outlinewidth": 0,
              "ticks": ""
             }
            },
            "type": "scattergeo"
           }
          ],
          "scattergl": [
           {
            "marker": {
             "colorbar": {
              "outlinewidth": 0,
              "ticks": ""
             }
            },
            "type": "scattergl"
           }
          ],
          "scattermapbox": [
           {
            "marker": {
             "colorbar": {
              "outlinewidth": 0,
              "ticks": ""
             }
            },
            "type": "scattermapbox"
           }
          ],
          "scatterpolar": [
           {
            "marker": {
             "colorbar": {
              "outlinewidth": 0,
              "ticks": ""
             }
            },
            "type": "scatterpolar"
           }
          ],
          "scatterpolargl": [
           {
            "marker": {
             "colorbar": {
              "outlinewidth": 0,
              "ticks": ""
             }
            },
            "type": "scatterpolargl"
           }
          ],
          "scatterternary": [
           {
            "marker": {
             "colorbar": {
              "outlinewidth": 0,
              "ticks": ""
             }
            },
            "type": "scatterternary"
           }
          ],
          "surface": [
           {
            "colorbar": {
             "outlinewidth": 0,
             "ticks": ""
            },
            "colorscale": [
             [
              0,
              "#0d0887"
             ],
             [
              0.1111111111111111,
              "#46039f"
             ],
             [
              0.2222222222222222,
              "#7201a8"
             ],
             [
              0.3333333333333333,
              "#9c179e"
             ],
             [
              0.4444444444444444,
              "#bd3786"
             ],
             [
              0.5555555555555556,
              "#d8576b"
             ],
             [
              0.6666666666666666,
              "#ed7953"
             ],
             [
              0.7777777777777778,
              "#fb9f3a"
             ],
             [
              0.8888888888888888,
              "#fdca26"
             ],
             [
              1,
              "#f0f921"
             ]
            ],
            "type": "surface"
           }
          ],
          "table": [
           {
            "cells": {
             "fill": {
              "color": "#EBF0F8"
             },
             "line": {
              "color": "white"
             }
            },
            "header": {
             "fill": {
              "color": "#C8D4E3"
             },
             "line": {
              "color": "white"
             }
            },
            "type": "table"
           }
          ]
         },
         "layout": {
          "annotationdefaults": {
           "arrowcolor": "#2a3f5f",
           "arrowhead": 0,
           "arrowwidth": 1
          },
          "coloraxis": {
           "colorbar": {
            "outlinewidth": 0,
            "ticks": ""
           }
          },
          "colorscale": {
           "diverging": [
            [
             0,
             "#8e0152"
            ],
            [
             0.1,
             "#c51b7d"
            ],
            [
             0.2,
             "#de77ae"
            ],
            [
             0.3,
             "#f1b6da"
            ],
            [
             0.4,
             "#fde0ef"
            ],
            [
             0.5,
             "#f7f7f7"
            ],
            [
             0.6,
             "#e6f5d0"
            ],
            [
             0.7,
             "#b8e186"
            ],
            [
             0.8,
             "#7fbc41"
            ],
            [
             0.9,
             "#4d9221"
            ],
            [
             1,
             "#276419"
            ]
           ],
           "sequential": [
            [
             0,
             "#0d0887"
            ],
            [
             0.1111111111111111,
             "#46039f"
            ],
            [
             0.2222222222222222,
             "#7201a8"
            ],
            [
             0.3333333333333333,
             "#9c179e"
            ],
            [
             0.4444444444444444,
             "#bd3786"
            ],
            [
             0.5555555555555556,
             "#d8576b"
            ],
            [
             0.6666666666666666,
             "#ed7953"
            ],
            [
             0.7777777777777778,
             "#fb9f3a"
            ],
            [
             0.8888888888888888,
             "#fdca26"
            ],
            [
             1,
             "#f0f921"
            ]
           ],
           "sequentialminus": [
            [
             0,
             "#0d0887"
            ],
            [
             0.1111111111111111,
             "#46039f"
            ],
            [
             0.2222222222222222,
             "#7201a8"
            ],
            [
             0.3333333333333333,
             "#9c179e"
            ],
            [
             0.4444444444444444,
             "#bd3786"
            ],
            [
             0.5555555555555556,
             "#d8576b"
            ],
            [
             0.6666666666666666,
             "#ed7953"
            ],
            [
             0.7777777777777778,
             "#fb9f3a"
            ],
            [
             0.8888888888888888,
             "#fdca26"
            ],
            [
             1,
             "#f0f921"
            ]
           ]
          },
          "colorway": [
           "#636efa",
           "#EF553B",
           "#00cc96",
           "#ab63fa",
           "#FFA15A",
           "#19d3f3",
           "#FF6692",
           "#B6E880",
           "#FF97FF",
           "#FECB52"
          ],
          "font": {
           "color": "#2a3f5f"
          },
          "geo": {
           "bgcolor": "white",
           "lakecolor": "white",
           "landcolor": "#E5ECF6",
           "showlakes": true,
           "showland": true,
           "subunitcolor": "white"
          },
          "hoverlabel": {
           "align": "left"
          },
          "hovermode": "closest",
          "mapbox": {
           "style": "light"
          },
          "paper_bgcolor": "white",
          "plot_bgcolor": "#E5ECF6",
          "polar": {
           "angularaxis": {
            "gridcolor": "white",
            "linecolor": "white",
            "ticks": ""
           },
           "bgcolor": "#E5ECF6",
           "radialaxis": {
            "gridcolor": "white",
            "linecolor": "white",
            "ticks": ""
           }
          },
          "scene": {
           "xaxis": {
            "backgroundcolor": "#E5ECF6",
            "gridcolor": "white",
            "gridwidth": 2,
            "linecolor": "white",
            "showbackground": true,
            "ticks": "",
            "zerolinecolor": "white"
           },
           "yaxis": {
            "backgroundcolor": "#E5ECF6",
            "gridcolor": "white",
            "gridwidth": 2,
            "linecolor": "white",
            "showbackground": true,
            "ticks": "",
            "zerolinecolor": "white"
           },
           "zaxis": {
            "backgroundcolor": "#E5ECF6",
            "gridcolor": "white",
            "gridwidth": 2,
            "linecolor": "white",
            "showbackground": true,
            "ticks": "",
            "zerolinecolor": "white"
           }
          },
          "shapedefaults": {
           "line": {
            "color": "#2a3f5f"
           }
          },
          "ternary": {
           "aaxis": {
            "gridcolor": "white",
            "linecolor": "white",
            "ticks": ""
           },
           "baxis": {
            "gridcolor": "white",
            "linecolor": "white",
            "ticks": ""
           },
           "bgcolor": "#E5ECF6",
           "caxis": {
            "gridcolor": "white",
            "linecolor": "white",
            "ticks": ""
           }
          },
          "title": {
           "x": 0.05
          },
          "xaxis": {
           "automargin": true,
           "gridcolor": "white",
           "linecolor": "white",
           "ticks": "",
           "title": {
            "standoff": 15
           },
           "zerolinecolor": "white",
           "zerolinewidth": 2
          },
          "yaxis": {
           "automargin": true,
           "gridcolor": "white",
           "linecolor": "white",
           "ticks": "",
           "title": {
            "standoff": 15
           },
           "zerolinecolor": "white",
           "zerolinewidth": 2
          }
         }
        },
        "xaxis": {
         "anchor": "y",
         "domain": [
          0,
          1
         ],
         "title": {
          "text": "group"
         }
        },
        "yaxis": {
         "anchor": "x",
         "domain": [
          0,
          1
         ],
         "title": {
          "text": "y"
         }
        }
       }
      },
      "text/html": [
       "<div>\n",
       "        \n",
       "        \n",
       "            <div id=\"847fba35-df28-429c-97c7-98a56004410a\" class=\"plotly-graph-div\" style=\"height:525px; width:100%;\"></div>\n",
       "            <script type=\"text/javascript\">\n",
       "                require([\"plotly\"], function(Plotly) {\n",
       "                    window.PLOTLYENV=window.PLOTLYENV || {};\n",
       "                    \n",
       "                if (document.getElementById(\"847fba35-df28-429c-97c7-98a56004410a\")) {\n",
       "                    Plotly.newPlot(\n",
       "                        '847fba35-df28-429c-97c7-98a56004410a',\n",
       "                        [{\"alignmentgroup\": \"True\", \"hoverlabel\": {\"namelength\": 0}, \"hovertemplate\": \"group=%{x}<br>y=%{y}\", \"legendgroup\": \"\", \"marker\": {\"color\": \"#636efa\"}, \"name\": \"\", \"notched\": false, \"offsetgroup\": \"\", \"orientation\": \"v\", \"showlegend\": false, \"type\": \"box\", \"x\": [\"A\", \"A\", \"A\", \"A\", \"A\", \"A\", \"A\", \"A\", \"A\", \"A\", \"A\", \"A\", \"A\", \"A\", \"A\", \"A\", \"A\", \"A\", \"A\", \"A\", \"A\", \"A\", \"A\", \"A\", \"A\", \"A\", \"A\", \"A\", \"A\", \"A\", \"A\", \"A\", \"A\", \"A\", \"A\", \"A\", \"A\", \"A\", \"A\", \"A\", \"A\", \"A\", \"A\", \"A\", \"A\", \"A\", \"A\", \"A\", \"A\", \"A\", \"B\", \"B\", \"B\", \"B\", \"B\", \"B\", \"B\", \"B\", \"B\", \"B\", \"B\", \"B\", \"B\", \"B\", \"B\", \"B\", \"B\", \"B\", \"B\", \"B\", \"B\", \"B\", \"B\", \"B\", \"B\", \"B\", \"B\", \"B\", \"B\", \"B\", \"B\", \"B\", \"B\", \"B\", \"B\", \"B\", \"B\", \"B\", \"B\", \"B\", \"B\", \"B\", \"B\", \"B\", \"B\", \"B\", \"B\", \"B\", \"B\", \"B\", \"C\", \"C\", \"C\", \"C\", \"C\", \"C\", \"C\", \"C\", \"C\", \"C\", \"C\", \"C\", \"C\", \"C\", \"C\", \"C\", \"C\", \"C\", \"C\", \"C\", \"C\", \"C\", \"C\", \"C\", \"C\", \"C\", \"C\", \"C\", \"C\", \"C\", \"C\", \"C\", \"C\", \"C\", \"C\", \"C\", \"C\", \"C\", \"C\", \"C\", \"C\", \"C\", \"C\", \"C\", \"C\", \"C\", \"C\", \"C\", \"C\", \"C\", \"D\", \"D\", \"D\", \"D\", \"D\", \"D\", \"D\", \"D\", \"D\", \"D\", \"D\", \"D\", \"D\", \"D\", \"D\", \"D\", \"D\", \"D\", \"D\", \"D\", \"D\", \"D\", \"D\", \"D\", \"D\", \"D\", \"D\", \"D\", \"D\", \"D\", \"D\", \"D\", \"D\", \"D\", \"D\", \"D\", \"D\", \"D\", \"D\", \"D\", \"D\", \"D\", \"D\", \"D\", \"D\", \"D\", \"D\", \"D\", \"D\", \"D\"], \"x0\": \" \", \"xaxis\": \"x\", \"y\": [0.6950469748897452, -0.5034403329926198, 2.174208383982993, 2.8264205605740744, 3.2117712655990647, 1.1781581196733888, 1.1160282964159203, 2.6723921742356294, 0.8541201117838098, 1.4557354259419546, 2.037594787810373, 2.372639118877078, 2.9612994490494846, 0.8716254151255541, -0.021961355659155135, 3.2076414076811703, 3.240826661021682, 1.2702695035765341, 3.6455035958150708, 0.8630935615144297, 2.4814388097201086, 2.190128125350091, 3.518020554964058, 2.8015126466983302, 2.022721081085111, 2.785480814014643, 2.605216553826863, 3.9920592366279766, 4.214911604166839, 1.9260483446553858, 4.368321941438964, 4.6184331702674415, 2.7358033286149133, 0.1662069931571537, 1.5368484806388423, 0.4593710667555235, 3.684210965090906, 2.9203275587853996, -0.33315468237684254, 3.976118411517691, 1.118171435238924, 1.7600637769207592, 3.4163510640869803, 0.028073988162205854, 4.190651269451221, 1.2311610496111531, 2.884079089864101, 3.430391620268408, 4.081713952905699, 2.9775341347071684, 1.2618348795389895, 4.753340668418486, 4.769116173920377, 3.013960384532216, 6.286328377242914, 3.6157582507123047, 3.3356872497205416, 2.723786196546012, 3.2426371809639094, 0.8366660838731161, 2.193945705813425, 4.627006941241677, 5.244624649972142, 3.758965050706978, 2.6648051445002396, 1.326546065028106, 1.4703749526672274, 1.9455694959401075, 5.8722861197635625, 2.707484791083193, 3.420572753250407, 2.608778693866711, 2.423608862387928, 3.8212947130638, 3.878433503224329, 0.16521919100152194, 5.694762258431668, 3.0717278494320235, 4.397381199846352, 4.252148650339173, 2.1083848727100394, 2.7026862934136497, 2.390954563001253, 3.0293093231101307, 1.967958400334754, 1.875359683192888, 1.8184415750263332, 2.8399949279698538, 3.992503278664061, 3.3436021355662433, 3.328664694794086, 0.4343956162741197, 3.9974235230979103, 0.5001532124053734, 2.010685607804752, 4.396511584361904, 4.782269819871636, 4.913721911674665, 2.43232505548643, 4.822036904239104, 3.131832806427382, 4.822830396522785, 3.338207697580485, 2.465793795661478, 4.105826799464889, 3.889653915700479, 3.7481867846214723, 2.5187998366597912, 3.471166932897151, 1.7544384249020104, 3.2450240276985456, 3.2643232096764088, 2.9760783967449695, 6.170304812134368, 4.053175580519442, 3.1184855340369664, 3.7989270646228466, 2.342666557619671, 2.6449387019113773, 2.061175732966708, 3.366484946314323, 3.578074106490438, 4.109822151261497, 3.7249772080885486, 5.309449680816956, 6.095726353368207, 3.4976381698368235, 2.7757598058930943, 3.4483621158743043, 2.5312660553963457, 0.9846823988865984, 2.3743113657193025, 4.527302491887923, 1.954171050657958, 4.800819084814348, 3.8086074445406206, 3.1282391148665067, 1.640442799441174, 2.0852290068598784, 2.2304300599781595, 3.187549833496889, 3.04706169505677, 1.382929236499277, 0.9691000836887057, 0.2757187273163584, 3.588219862262456, 5.453878874590729, 4.775100446510809, -0.7457680907446939, 4.6339671110227885, 3.858824153322869, 1.578320181316926, 4.231308301848548, 1.446624505889436, 2.809455504499523, 0.3370565221316617, 2.2442210229382304, 2.4817129521171077, 2.669074356135961, 1.119463217860492, 2.8238164920488, 1.203893609298915, 2.5811597515079625, 3.510249848998413, 2.6068590472389337, 4.07286753960857, 2.9990537458214788, 2.9209725224722467, 3.45279146202614, 2.748404381812157, 3.3553086850070377, 0.5915666262477557, 5.10053530406739, 2.9723949088852306, 2.0564841213246514, 1.3741350074484446, 2.8548360546761264, 3.656424831388678, 1.5715717874275368, 1.0767446852301434, 3.2008372847616537, 2.4993188622397335, 2.3571534788959867, 2.285262978926535, 1.2845299222950965, 1.528539648001414, 4.359960306274103, 2.0125801172918054, 1.362642100342817, 1.1527324548556643, 0.3674902133174178, 2.505882363332325, 2.4694857292899957, 0.5190976037933384, 4.718203301328052, 1.9283940758370306, 1.8227776686682613, 1.4471514216671981, 1.6095552935566728, 3.5789226530974902], \"y0\": \" \", \"yaxis\": \"y\"}],\n",
       "                        {\"boxmode\": \"group\", \"legend\": {\"tracegroupgap\": 0}, \"margin\": {\"t\": 60}, \"template\": {\"data\": {\"bar\": [{\"error_x\": {\"color\": \"#2a3f5f\"}, \"error_y\": {\"color\": \"#2a3f5f\"}, \"marker\": {\"line\": {\"color\": \"#E5ECF6\", \"width\": 0.5}}, \"type\": \"bar\"}], \"barpolar\": [{\"marker\": {\"line\": {\"color\": \"#E5ECF6\", \"width\": 0.5}}, \"type\": \"barpolar\"}], \"carpet\": [{\"aaxis\": {\"endlinecolor\": \"#2a3f5f\", \"gridcolor\": \"white\", \"linecolor\": \"white\", \"minorgridcolor\": \"white\", \"startlinecolor\": \"#2a3f5f\"}, \"baxis\": {\"endlinecolor\": \"#2a3f5f\", \"gridcolor\": \"white\", \"linecolor\": \"white\", \"minorgridcolor\": \"white\", \"startlinecolor\": \"#2a3f5f\"}, \"type\": \"carpet\"}], \"choropleth\": [{\"colorbar\": {\"outlinewidth\": 0, \"ticks\": \"\"}, \"type\": \"choropleth\"}], \"contour\": [{\"colorbar\": {\"outlinewidth\": 0, \"ticks\": \"\"}, \"colorscale\": [[0.0, \"#0d0887\"], [0.1111111111111111, \"#46039f\"], [0.2222222222222222, \"#7201a8\"], [0.3333333333333333, \"#9c179e\"], [0.4444444444444444, \"#bd3786\"], [0.5555555555555556, \"#d8576b\"], [0.6666666666666666, \"#ed7953\"], [0.7777777777777778, \"#fb9f3a\"], [0.8888888888888888, \"#fdca26\"], [1.0, \"#f0f921\"]], \"type\": \"contour\"}], \"contourcarpet\": [{\"colorbar\": {\"outlinewidth\": 0, \"ticks\": \"\"}, \"type\": \"contourcarpet\"}], \"heatmap\": [{\"colorbar\": {\"outlinewidth\": 0, \"ticks\": \"\"}, \"colorscale\": [[0.0, \"#0d0887\"], [0.1111111111111111, \"#46039f\"], [0.2222222222222222, \"#7201a8\"], [0.3333333333333333, \"#9c179e\"], [0.4444444444444444, \"#bd3786\"], [0.5555555555555556, \"#d8576b\"], [0.6666666666666666, \"#ed7953\"], [0.7777777777777778, \"#fb9f3a\"], [0.8888888888888888, \"#fdca26\"], [1.0, \"#f0f921\"]], \"type\": \"heatmap\"}], \"heatmapgl\": [{\"colorbar\": {\"outlinewidth\": 0, \"ticks\": \"\"}, \"colorscale\": [[0.0, \"#0d0887\"], [0.1111111111111111, \"#46039f\"], [0.2222222222222222, \"#7201a8\"], [0.3333333333333333, \"#9c179e\"], [0.4444444444444444, \"#bd3786\"], [0.5555555555555556, \"#d8576b\"], [0.6666666666666666, \"#ed7953\"], [0.7777777777777778, \"#fb9f3a\"], [0.8888888888888888, \"#fdca26\"], [1.0, \"#f0f921\"]], \"type\": \"heatmapgl\"}], \"histogram\": [{\"marker\": {\"colorbar\": {\"outlinewidth\": 0, \"ticks\": \"\"}}, \"type\": \"histogram\"}], \"histogram2d\": [{\"colorbar\": {\"outlinewidth\": 0, \"ticks\": \"\"}, \"colorscale\": [[0.0, \"#0d0887\"], [0.1111111111111111, \"#46039f\"], [0.2222222222222222, \"#7201a8\"], [0.3333333333333333, \"#9c179e\"], [0.4444444444444444, \"#bd3786\"], [0.5555555555555556, \"#d8576b\"], [0.6666666666666666, \"#ed7953\"], [0.7777777777777778, \"#fb9f3a\"], [0.8888888888888888, \"#fdca26\"], [1.0, \"#f0f921\"]], \"type\": \"histogram2d\"}], \"histogram2dcontour\": [{\"colorbar\": {\"outlinewidth\": 0, \"ticks\": \"\"}, \"colorscale\": [[0.0, \"#0d0887\"], [0.1111111111111111, \"#46039f\"], [0.2222222222222222, \"#7201a8\"], [0.3333333333333333, \"#9c179e\"], [0.4444444444444444, \"#bd3786\"], [0.5555555555555556, \"#d8576b\"], [0.6666666666666666, \"#ed7953\"], [0.7777777777777778, \"#fb9f3a\"], [0.8888888888888888, \"#fdca26\"], [1.0, \"#f0f921\"]], \"type\": \"histogram2dcontour\"}], \"mesh3d\": [{\"colorbar\": {\"outlinewidth\": 0, \"ticks\": \"\"}, \"type\": \"mesh3d\"}], \"parcoords\": [{\"line\": {\"colorbar\": {\"outlinewidth\": 0, \"ticks\": \"\"}}, \"type\": \"parcoords\"}], \"pie\": [{\"automargin\": true, \"type\": \"pie\"}], \"scatter\": [{\"marker\": {\"colorbar\": {\"outlinewidth\": 0, \"ticks\": \"\"}}, \"type\": \"scatter\"}], \"scatter3d\": [{\"line\": {\"colorbar\": {\"outlinewidth\": 0, \"ticks\": \"\"}}, \"marker\": {\"colorbar\": {\"outlinewidth\": 0, \"ticks\": \"\"}}, \"type\": \"scatter3d\"}], \"scattercarpet\": [{\"marker\": {\"colorbar\": {\"outlinewidth\": 0, \"ticks\": \"\"}}, \"type\": \"scattercarpet\"}], \"scattergeo\": [{\"marker\": {\"colorbar\": {\"outlinewidth\": 0, \"ticks\": \"\"}}, \"type\": \"scattergeo\"}], \"scattergl\": [{\"marker\": {\"colorbar\": {\"outlinewidth\": 0, \"ticks\": \"\"}}, \"type\": \"scattergl\"}], \"scattermapbox\": [{\"marker\": {\"colorbar\": {\"outlinewidth\": 0, \"ticks\": \"\"}}, \"type\": \"scattermapbox\"}], \"scatterpolar\": [{\"marker\": {\"colorbar\": {\"outlinewidth\": 0, \"ticks\": \"\"}}, \"type\": \"scatterpolar\"}], \"scatterpolargl\": [{\"marker\": {\"colorbar\": {\"outlinewidth\": 0, \"ticks\": \"\"}}, \"type\": \"scatterpolargl\"}], \"scatterternary\": [{\"marker\": {\"colorbar\": {\"outlinewidth\": 0, \"ticks\": \"\"}}, \"type\": \"scatterternary\"}], \"surface\": [{\"colorbar\": {\"outlinewidth\": 0, \"ticks\": \"\"}, \"colorscale\": [[0.0, \"#0d0887\"], [0.1111111111111111, \"#46039f\"], [0.2222222222222222, \"#7201a8\"], [0.3333333333333333, \"#9c179e\"], [0.4444444444444444, \"#bd3786\"], [0.5555555555555556, \"#d8576b\"], [0.6666666666666666, \"#ed7953\"], [0.7777777777777778, \"#fb9f3a\"], [0.8888888888888888, \"#fdca26\"], [1.0, \"#f0f921\"]], \"type\": \"surface\"}], \"table\": [{\"cells\": {\"fill\": {\"color\": \"#EBF0F8\"}, \"line\": {\"color\": \"white\"}}, \"header\": {\"fill\": {\"color\": \"#C8D4E3\"}, \"line\": {\"color\": \"white\"}}, \"type\": \"table\"}]}, \"layout\": {\"annotationdefaults\": {\"arrowcolor\": \"#2a3f5f\", \"arrowhead\": 0, \"arrowwidth\": 1}, \"coloraxis\": {\"colorbar\": {\"outlinewidth\": 0, \"ticks\": \"\"}}, \"colorscale\": {\"diverging\": [[0, \"#8e0152\"], [0.1, \"#c51b7d\"], [0.2, \"#de77ae\"], [0.3, \"#f1b6da\"], [0.4, \"#fde0ef\"], [0.5, \"#f7f7f7\"], [0.6, \"#e6f5d0\"], [0.7, \"#b8e186\"], [0.8, \"#7fbc41\"], [0.9, \"#4d9221\"], [1, \"#276419\"]], \"sequential\": [[0.0, \"#0d0887\"], [0.1111111111111111, \"#46039f\"], [0.2222222222222222, \"#7201a8\"], [0.3333333333333333, \"#9c179e\"], [0.4444444444444444, \"#bd3786\"], [0.5555555555555556, \"#d8576b\"], [0.6666666666666666, \"#ed7953\"], [0.7777777777777778, \"#fb9f3a\"], [0.8888888888888888, \"#fdca26\"], [1.0, \"#f0f921\"]], \"sequentialminus\": [[0.0, \"#0d0887\"], [0.1111111111111111, \"#46039f\"], [0.2222222222222222, \"#7201a8\"], [0.3333333333333333, \"#9c179e\"], [0.4444444444444444, \"#bd3786\"], [0.5555555555555556, \"#d8576b\"], [0.6666666666666666, \"#ed7953\"], [0.7777777777777778, \"#fb9f3a\"], [0.8888888888888888, \"#fdca26\"], [1.0, \"#f0f921\"]]}, \"colorway\": [\"#636efa\", \"#EF553B\", \"#00cc96\", \"#ab63fa\", \"#FFA15A\", \"#19d3f3\", \"#FF6692\", \"#B6E880\", \"#FF97FF\", \"#FECB52\"], \"font\": {\"color\": \"#2a3f5f\"}, \"geo\": {\"bgcolor\": \"white\", \"lakecolor\": \"white\", \"landcolor\": \"#E5ECF6\", \"showlakes\": true, \"showland\": true, \"subunitcolor\": \"white\"}, \"hoverlabel\": {\"align\": \"left\"}, \"hovermode\": \"closest\", \"mapbox\": {\"style\": \"light\"}, \"paper_bgcolor\": \"white\", \"plot_bgcolor\": \"#E5ECF6\", \"polar\": {\"angularaxis\": {\"gridcolor\": \"white\", \"linecolor\": \"white\", \"ticks\": \"\"}, \"bgcolor\": \"#E5ECF6\", \"radialaxis\": {\"gridcolor\": \"white\", \"linecolor\": \"white\", \"ticks\": \"\"}}, \"scene\": {\"xaxis\": {\"backgroundcolor\": \"#E5ECF6\", \"gridcolor\": \"white\", \"gridwidth\": 2, \"linecolor\": \"white\", \"showbackground\": true, \"ticks\": \"\", \"zerolinecolor\": \"white\"}, \"yaxis\": {\"backgroundcolor\": \"#E5ECF6\", \"gridcolor\": \"white\", \"gridwidth\": 2, \"linecolor\": \"white\", \"showbackground\": true, \"ticks\": \"\", \"zerolinecolor\": \"white\"}, \"zaxis\": {\"backgroundcolor\": \"#E5ECF6\", \"gridcolor\": \"white\", \"gridwidth\": 2, \"linecolor\": \"white\", \"showbackground\": true, \"ticks\": \"\", \"zerolinecolor\": \"white\"}}, \"shapedefaults\": {\"line\": {\"color\": \"#2a3f5f\"}}, \"ternary\": {\"aaxis\": {\"gridcolor\": \"white\", \"linecolor\": \"white\", \"ticks\": \"\"}, \"baxis\": {\"gridcolor\": \"white\", \"linecolor\": \"white\", \"ticks\": \"\"}, \"bgcolor\": \"#E5ECF6\", \"caxis\": {\"gridcolor\": \"white\", \"linecolor\": \"white\", \"ticks\": \"\"}}, \"title\": {\"x\": 0.05}, \"xaxis\": {\"automargin\": true, \"gridcolor\": \"white\", \"linecolor\": \"white\", \"ticks\": \"\", \"title\": {\"standoff\": 15}, \"zerolinecolor\": \"white\", \"zerolinewidth\": 2}, \"yaxis\": {\"automargin\": true, \"gridcolor\": \"white\", \"linecolor\": \"white\", \"ticks\": \"\", \"title\": {\"standoff\": 15}, \"zerolinecolor\": \"white\", \"zerolinewidth\": 2}}}, \"xaxis\": {\"anchor\": \"y\", \"domain\": [0.0, 1.0], \"title\": {\"text\": \"group\"}}, \"yaxis\": {\"anchor\": \"x\", \"domain\": [0.0, 1.0], \"title\": {\"text\": \"y\"}}},\n",
       "                        {\"responsive\": true}\n",
       "                    ).then(function(){\n",
       "                            \n",
       "var gd = document.getElementById('847fba35-df28-429c-97c7-98a56004410a');\n",
       "var x = new MutationObserver(function (mutations, observer) {{\n",
       "        var display = window.getComputedStyle(gd).display;\n",
       "        if (!display || display === 'none') {{\n",
       "            console.log([gd, 'removed!']);\n",
       "            Plotly.purge(gd);\n",
       "            observer.disconnect();\n",
       "        }}\n",
       "}});\n",
       "\n",
       "// Listen for the removal of the full notebook cells\n",
       "var notebookContainer = gd.closest('#notebook-container');\n",
       "if (notebookContainer) {{\n",
       "    x.observe(notebookContainer, {childList: true});\n",
       "}}\n",
       "\n",
       "// Listen for the clearing of the current output cell\n",
       "var outputEl = gd.closest('.output');\n",
       "if (outputEl) {{\n",
       "    x.observe(outputEl, {childList: true});\n",
       "}}\n",
       "\n",
       "                        })\n",
       "                };\n",
       "                });\n",
       "            </script>\n",
       "        </div>"
      ]
     },
     "metadata": {},
     "output_type": "display_data"
    }
   ],
   "source": [
    "# boxplots of y by group\n",
    "plotly.offline.iplot(\n",
    "    plotly.express.box(data1, x = \"group\", y = \"y\")\n",
    ")"
   ]
  },
  {
   "cell_type": "code",
   "execution_count": 385,
   "metadata": {},
   "outputs": [
    {
     "data": {
      "application/vnd.plotly.v1+json": {
       "config": {
        "linkText": "Export to plot.ly",
        "plotlyServerURL": "https://plot.ly",
        "showLink": false
       },
       "data": [
        {
         "alignmentgroup": "True",
         "hoverlabel": {
          "namelength": 0
         },
         "hovertemplate": "group=%{x}<br>x=%{y}",
         "legendgroup": "",
         "marker": {
          "color": "#636efa"
         },
         "name": "",
         "notched": false,
         "offsetgroup": "",
         "orientation": "v",
         "showlegend": false,
         "type": "box",
         "x": [
          "A",
          "A",
          "A",
          "A",
          "A",
          "A",
          "A",
          "A",
          "A",
          "A",
          "A",
          "A",
          "A",
          "A",
          "A",
          "A",
          "A",
          "A",
          "A",
          "A",
          "A",
          "A",
          "A",
          "A",
          "A",
          "A",
          "A",
          "A",
          "A",
          "A",
          "A",
          "A",
          "A",
          "A",
          "A",
          "A",
          "A",
          "A",
          "A",
          "A",
          "A",
          "A",
          "A",
          "A",
          "A",
          "A",
          "A",
          "A",
          "A",
          "A",
          "B",
          "B",
          "B",
          "B",
          "B",
          "B",
          "B",
          "B",
          "B",
          "B",
          "B",
          "B",
          "B",
          "B",
          "B",
          "B",
          "B",
          "B",
          "B",
          "B",
          "B",
          "B",
          "B",
          "B",
          "B",
          "B",
          "B",
          "B",
          "B",
          "B",
          "B",
          "B",
          "B",
          "B",
          "B",
          "B",
          "B",
          "B",
          "B",
          "B",
          "B",
          "B",
          "B",
          "B",
          "B",
          "B",
          "B",
          "B",
          "B",
          "B",
          "C",
          "C",
          "C",
          "C",
          "C",
          "C",
          "C",
          "C",
          "C",
          "C",
          "C",
          "C",
          "C",
          "C",
          "C",
          "C",
          "C",
          "C",
          "C",
          "C",
          "C",
          "C",
          "C",
          "C",
          "C",
          "C",
          "C",
          "C",
          "C",
          "C",
          "C",
          "C",
          "C",
          "C",
          "C",
          "C",
          "C",
          "C",
          "C",
          "C",
          "C",
          "C",
          "C",
          "C",
          "C",
          "C",
          "C",
          "C",
          "C",
          "C",
          "D",
          "D",
          "D",
          "D",
          "D",
          "D",
          "D",
          "D",
          "D",
          "D",
          "D",
          "D",
          "D",
          "D",
          "D",
          "D",
          "D",
          "D",
          "D",
          "D",
          "D",
          "D",
          "D",
          "D",
          "D",
          "D",
          "D",
          "D",
          "D",
          "D",
          "D",
          "D",
          "D",
          "D",
          "D",
          "D",
          "D",
          "D",
          "D",
          "D",
          "D",
          "D",
          "D",
          "D",
          "D",
          "D",
          "D",
          "D",
          "D",
          "D"
         ],
         "x0": " ",
         "xaxis": "x",
         "y": [
          3.473579208934824,
          1.6222774133964595,
          3.409079412238413,
          3.2631845561845205,
          4.766648955991365,
          2.532701233371488,
          1.9944866847085572,
          3.7979180212435044,
          2.721998982108717,
          2.538649097889896,
          3.392323201439394,
          3.0254962729484203,
          3.496218949706905,
          1.3536579723422777,
          2.9790998170647485,
          3.965019281420345,
          4.355199550777634,
          2.465617278309938,
          3.6554044650894064,
          1.7654933927945418,
          2.601300387271374,
          3.453612713910802,
          2.791959859127478,
          2.434657683640396,
          4.583771369003968,
          3.3754937363050743,
          2.5846733795043533,
          4.818691318017904,
          4.545566454047936,
          2.754171666710543,
          3.9389006928965733,
          3.9446693334162424,
          3.07818877716491,
          2.1841258637992684,
          3.741118143737825,
          2.063200208585301,
          3.4185006160784104,
          2.352801257779132,
          2.7059750843522865,
          3.8887388038364694,
          2.431396692906948,
          2.778913792877626,
          3.601969647640224,
          2.3637519045588555,
          3.3951104394125533,
          1.8742611089049463,
          3.186193302366253,
          3.1092320169618457,
          4.086240919611782,
          4.555032434488652,
          3.8499268387164096,
          5.492941829490316,
          5.195954366148203,
          3.1242113454792735,
          5.010338925238923,
          3.5069445925735314,
          3.194238268334213,
          4.420845191010165,
          3.5679732664188646,
          2.8986650064216803,
          3.3217754673359825,
          4.277198450589916,
          5.303121071695143,
          5.659833931717733,
          2.67348239549958,
          3.3971680901937917,
          2.7916193675288463,
          3.3864137475992657,
          6.803851696799482,
          2.7722527843920757,
          2.4362893963031613,
          2.6638980885622994,
          4.063931796774217,
          4.131468924861049,
          4.636869764495064,
          2.819189272201937,
          4.0603588650553,
          5.43984627080321,
          3.572746052288088,
          4.1568199219652255,
          4.271651979795466,
          3.178643179018273,
          3.551297335971648,
          4.042219932787372,
          2.728553262640103,
          2.9809019967512365,
          3.784156707171044,
          4.787506308750086,
          5.503561596419499,
          4.153947300101712,
          2.658234860524419,
          1.533631247199423,
          3.673958441851678,
          2.4418209428638447,
          2.916850698468002,
          4.458910014449712,
          5.055749413145341,
          5.311775262661834,
          2.921016656642108,
          4.61894594697223,
          3.3532299061909363,
          5.386394772314725,
          4.608474094126514,
          3.4907917052330095,
          4.724674137149463,
          4.504683930923926,
          4.939997026751625,
          3.226611472815457,
          3.007570814508811,
          3.3757378874412014,
          3.505610235656885,
          2.9924492143836137,
          4.490912387163064,
          6.384193063844521,
          5.554791959790973,
          2.6355251106830275,
          3.102610248148898,
          3.7447167003851574,
          3.0990225082760103,
          3.4415117379411684,
          5.613893912706013,
          4.433612112789211,
          4.688545140873281,
          3.022549665294838,
          5.328408765670799,
          4.996684384260931,
          4.036592405562132,
          5.507784853328769,
          3.754162027748343,
          2.30730128531301,
          1.7166876416744734,
          4.608822322334572,
          4.1465705927396685,
          3.7629036417426334,
          5.414433742481071,
          5.6520198909270345,
          4.031827971685776,
          3.9245545749297737,
          3.7677492155706775,
          2.786647387954144,
          2.844578542182097,
          4.922705290206343,
          2.100252443731639,
          2.5196318075329316,
          2.3352751249953423,
          4.679915877980518,
          6.395958270501213,
          4.117244226009278,
          0.9433372440345518,
          3.826123296245632,
          4.377282027604293,
          1.902052090909183,
          4.655917032942277,
          2.719093361734187,
          2.155935438103405,
          2.2427268230845354,
          2.5759109029056635,
          3.572188347151112,
          3.3498813930276827,
          1.7252841684678064,
          4.596086158516954,
          1.660189960973414,
          1.871952059573553,
          3.9380418637240315,
          3.259888019206968,
          4.064811450208193,
          3.9813237862067337,
          4.230106742672806,
          3.810044653012682,
          2.833823732109744,
          5.22856008679004,
          3.8993125438778717,
          4.988283873786491,
          4.301515305113021,
          2.9318774366162117,
          2.3184931951877026,
          3.117473372554815,
          4.827779171640705,
          2.3707738048240845,
          3.4275914688484543,
          3.1594314373917616,
          2.8465070960667176,
          3.337608327508946,
          2.7150374045249714,
          3.5555297776052144,
          3.403695271800628,
          4.998984477637411,
          2.09963345022199,
          2.4683604837895485,
          2.2017644847350013,
          1.722785109397267,
          3.3972519092460027,
          3.4859663953494042,
          3.1431213982345976,
          4.172301773025032,
          2.8700774261380952,
          2.822246250956574,
          1.1971383671569615,
          3.493334834231731,
          3.7051247701629184
         ],
         "y0": " ",
         "yaxis": "y"
        }
       ],
       "layout": {
        "boxmode": "group",
        "legend": {
         "tracegroupgap": 0
        },
        "margin": {
         "t": 60
        },
        "template": {
         "data": {
          "bar": [
           {
            "error_x": {
             "color": "#2a3f5f"
            },
            "error_y": {
             "color": "#2a3f5f"
            },
            "marker": {
             "line": {
              "color": "#E5ECF6",
              "width": 0.5
             }
            },
            "type": "bar"
           }
          ],
          "barpolar": [
           {
            "marker": {
             "line": {
              "color": "#E5ECF6",
              "width": 0.5
             }
            },
            "type": "barpolar"
           }
          ],
          "carpet": [
           {
            "aaxis": {
             "endlinecolor": "#2a3f5f",
             "gridcolor": "white",
             "linecolor": "white",
             "minorgridcolor": "white",
             "startlinecolor": "#2a3f5f"
            },
            "baxis": {
             "endlinecolor": "#2a3f5f",
             "gridcolor": "white",
             "linecolor": "white",
             "minorgridcolor": "white",
             "startlinecolor": "#2a3f5f"
            },
            "type": "carpet"
           }
          ],
          "choropleth": [
           {
            "colorbar": {
             "outlinewidth": 0,
             "ticks": ""
            },
            "type": "choropleth"
           }
          ],
          "contour": [
           {
            "colorbar": {
             "outlinewidth": 0,
             "ticks": ""
            },
            "colorscale": [
             [
              0,
              "#0d0887"
             ],
             [
              0.1111111111111111,
              "#46039f"
             ],
             [
              0.2222222222222222,
              "#7201a8"
             ],
             [
              0.3333333333333333,
              "#9c179e"
             ],
             [
              0.4444444444444444,
              "#bd3786"
             ],
             [
              0.5555555555555556,
              "#d8576b"
             ],
             [
              0.6666666666666666,
              "#ed7953"
             ],
             [
              0.7777777777777778,
              "#fb9f3a"
             ],
             [
              0.8888888888888888,
              "#fdca26"
             ],
             [
              1,
              "#f0f921"
             ]
            ],
            "type": "contour"
           }
          ],
          "contourcarpet": [
           {
            "colorbar": {
             "outlinewidth": 0,
             "ticks": ""
            },
            "type": "contourcarpet"
           }
          ],
          "heatmap": [
           {
            "colorbar": {
             "outlinewidth": 0,
             "ticks": ""
            },
            "colorscale": [
             [
              0,
              "#0d0887"
             ],
             [
              0.1111111111111111,
              "#46039f"
             ],
             [
              0.2222222222222222,
              "#7201a8"
             ],
             [
              0.3333333333333333,
              "#9c179e"
             ],
             [
              0.4444444444444444,
              "#bd3786"
             ],
             [
              0.5555555555555556,
              "#d8576b"
             ],
             [
              0.6666666666666666,
              "#ed7953"
             ],
             [
              0.7777777777777778,
              "#fb9f3a"
             ],
             [
              0.8888888888888888,
              "#fdca26"
             ],
             [
              1,
              "#f0f921"
             ]
            ],
            "type": "heatmap"
           }
          ],
          "heatmapgl": [
           {
            "colorbar": {
             "outlinewidth": 0,
             "ticks": ""
            },
            "colorscale": [
             [
              0,
              "#0d0887"
             ],
             [
              0.1111111111111111,
              "#46039f"
             ],
             [
              0.2222222222222222,
              "#7201a8"
             ],
             [
              0.3333333333333333,
              "#9c179e"
             ],
             [
              0.4444444444444444,
              "#bd3786"
             ],
             [
              0.5555555555555556,
              "#d8576b"
             ],
             [
              0.6666666666666666,
              "#ed7953"
             ],
             [
              0.7777777777777778,
              "#fb9f3a"
             ],
             [
              0.8888888888888888,
              "#fdca26"
             ],
             [
              1,
              "#f0f921"
             ]
            ],
            "type": "heatmapgl"
           }
          ],
          "histogram": [
           {
            "marker": {
             "colorbar": {
              "outlinewidth": 0,
              "ticks": ""
             }
            },
            "type": "histogram"
           }
          ],
          "histogram2d": [
           {
            "colorbar": {
             "outlinewidth": 0,
             "ticks": ""
            },
            "colorscale": [
             [
              0,
              "#0d0887"
             ],
             [
              0.1111111111111111,
              "#46039f"
             ],
             [
              0.2222222222222222,
              "#7201a8"
             ],
             [
              0.3333333333333333,
              "#9c179e"
             ],
             [
              0.4444444444444444,
              "#bd3786"
             ],
             [
              0.5555555555555556,
              "#d8576b"
             ],
             [
              0.6666666666666666,
              "#ed7953"
             ],
             [
              0.7777777777777778,
              "#fb9f3a"
             ],
             [
              0.8888888888888888,
              "#fdca26"
             ],
             [
              1,
              "#f0f921"
             ]
            ],
            "type": "histogram2d"
           }
          ],
          "histogram2dcontour": [
           {
            "colorbar": {
             "outlinewidth": 0,
             "ticks": ""
            },
            "colorscale": [
             [
              0,
              "#0d0887"
             ],
             [
              0.1111111111111111,
              "#46039f"
             ],
             [
              0.2222222222222222,
              "#7201a8"
             ],
             [
              0.3333333333333333,
              "#9c179e"
             ],
             [
              0.4444444444444444,
              "#bd3786"
             ],
             [
              0.5555555555555556,
              "#d8576b"
             ],
             [
              0.6666666666666666,
              "#ed7953"
             ],
             [
              0.7777777777777778,
              "#fb9f3a"
             ],
             [
              0.8888888888888888,
              "#fdca26"
             ],
             [
              1,
              "#f0f921"
             ]
            ],
            "type": "histogram2dcontour"
           }
          ],
          "mesh3d": [
           {
            "colorbar": {
             "outlinewidth": 0,
             "ticks": ""
            },
            "type": "mesh3d"
           }
          ],
          "parcoords": [
           {
            "line": {
             "colorbar": {
              "outlinewidth": 0,
              "ticks": ""
             }
            },
            "type": "parcoords"
           }
          ],
          "pie": [
           {
            "automargin": true,
            "type": "pie"
           }
          ],
          "scatter": [
           {
            "marker": {
             "colorbar": {
              "outlinewidth": 0,
              "ticks": ""
             }
            },
            "type": "scatter"
           }
          ],
          "scatter3d": [
           {
            "line": {
             "colorbar": {
              "outlinewidth": 0,
              "ticks": ""
             }
            },
            "marker": {
             "colorbar": {
              "outlinewidth": 0,
              "ticks": ""
             }
            },
            "type": "scatter3d"
           }
          ],
          "scattercarpet": [
           {
            "marker": {
             "colorbar": {
              "outlinewidth": 0,
              "ticks": ""
             }
            },
            "type": "scattercarpet"
           }
          ],
          "scattergeo": [
           {
            "marker": {
             "colorbar": {
              "outlinewidth": 0,
              "ticks": ""
             }
            },
            "type": "scattergeo"
           }
          ],
          "scattergl": [
           {
            "marker": {
             "colorbar": {
              "outlinewidth": 0,
              "ticks": ""
             }
            },
            "type": "scattergl"
           }
          ],
          "scattermapbox": [
           {
            "marker": {
             "colorbar": {
              "outlinewidth": 0,
              "ticks": ""
             }
            },
            "type": "scattermapbox"
           }
          ],
          "scatterpolar": [
           {
            "marker": {
             "colorbar": {
              "outlinewidth": 0,
              "ticks": ""
             }
            },
            "type": "scatterpolar"
           }
          ],
          "scatterpolargl": [
           {
            "marker": {
             "colorbar": {
              "outlinewidth": 0,
              "ticks": ""
             }
            },
            "type": "scatterpolargl"
           }
          ],
          "scatterternary": [
           {
            "marker": {
             "colorbar": {
              "outlinewidth": 0,
              "ticks": ""
             }
            },
            "type": "scatterternary"
           }
          ],
          "surface": [
           {
            "colorbar": {
             "outlinewidth": 0,
             "ticks": ""
            },
            "colorscale": [
             [
              0,
              "#0d0887"
             ],
             [
              0.1111111111111111,
              "#46039f"
             ],
             [
              0.2222222222222222,
              "#7201a8"
             ],
             [
              0.3333333333333333,
              "#9c179e"
             ],
             [
              0.4444444444444444,
              "#bd3786"
             ],
             [
              0.5555555555555556,
              "#d8576b"
             ],
             [
              0.6666666666666666,
              "#ed7953"
             ],
             [
              0.7777777777777778,
              "#fb9f3a"
             ],
             [
              0.8888888888888888,
              "#fdca26"
             ],
             [
              1,
              "#f0f921"
             ]
            ],
            "type": "surface"
           }
          ],
          "table": [
           {
            "cells": {
             "fill": {
              "color": "#EBF0F8"
             },
             "line": {
              "color": "white"
             }
            },
            "header": {
             "fill": {
              "color": "#C8D4E3"
             },
             "line": {
              "color": "white"
             }
            },
            "type": "table"
           }
          ]
         },
         "layout": {
          "annotationdefaults": {
           "arrowcolor": "#2a3f5f",
           "arrowhead": 0,
           "arrowwidth": 1
          },
          "coloraxis": {
           "colorbar": {
            "outlinewidth": 0,
            "ticks": ""
           }
          },
          "colorscale": {
           "diverging": [
            [
             0,
             "#8e0152"
            ],
            [
             0.1,
             "#c51b7d"
            ],
            [
             0.2,
             "#de77ae"
            ],
            [
             0.3,
             "#f1b6da"
            ],
            [
             0.4,
             "#fde0ef"
            ],
            [
             0.5,
             "#f7f7f7"
            ],
            [
             0.6,
             "#e6f5d0"
            ],
            [
             0.7,
             "#b8e186"
            ],
            [
             0.8,
             "#7fbc41"
            ],
            [
             0.9,
             "#4d9221"
            ],
            [
             1,
             "#276419"
            ]
           ],
           "sequential": [
            [
             0,
             "#0d0887"
            ],
            [
             0.1111111111111111,
             "#46039f"
            ],
            [
             0.2222222222222222,
             "#7201a8"
            ],
            [
             0.3333333333333333,
             "#9c179e"
            ],
            [
             0.4444444444444444,
             "#bd3786"
            ],
            [
             0.5555555555555556,
             "#d8576b"
            ],
            [
             0.6666666666666666,
             "#ed7953"
            ],
            [
             0.7777777777777778,
             "#fb9f3a"
            ],
            [
             0.8888888888888888,
             "#fdca26"
            ],
            [
             1,
             "#f0f921"
            ]
           ],
           "sequentialminus": [
            [
             0,
             "#0d0887"
            ],
            [
             0.1111111111111111,
             "#46039f"
            ],
            [
             0.2222222222222222,
             "#7201a8"
            ],
            [
             0.3333333333333333,
             "#9c179e"
            ],
            [
             0.4444444444444444,
             "#bd3786"
            ],
            [
             0.5555555555555556,
             "#d8576b"
            ],
            [
             0.6666666666666666,
             "#ed7953"
            ],
            [
             0.7777777777777778,
             "#fb9f3a"
            ],
            [
             0.8888888888888888,
             "#fdca26"
            ],
            [
             1,
             "#f0f921"
            ]
           ]
          },
          "colorway": [
           "#636efa",
           "#EF553B",
           "#00cc96",
           "#ab63fa",
           "#FFA15A",
           "#19d3f3",
           "#FF6692",
           "#B6E880",
           "#FF97FF",
           "#FECB52"
          ],
          "font": {
           "color": "#2a3f5f"
          },
          "geo": {
           "bgcolor": "white",
           "lakecolor": "white",
           "landcolor": "#E5ECF6",
           "showlakes": true,
           "showland": true,
           "subunitcolor": "white"
          },
          "hoverlabel": {
           "align": "left"
          },
          "hovermode": "closest",
          "mapbox": {
           "style": "light"
          },
          "paper_bgcolor": "white",
          "plot_bgcolor": "#E5ECF6",
          "polar": {
           "angularaxis": {
            "gridcolor": "white",
            "linecolor": "white",
            "ticks": ""
           },
           "bgcolor": "#E5ECF6",
           "radialaxis": {
            "gridcolor": "white",
            "linecolor": "white",
            "ticks": ""
           }
          },
          "scene": {
           "xaxis": {
            "backgroundcolor": "#E5ECF6",
            "gridcolor": "white",
            "gridwidth": 2,
            "linecolor": "white",
            "showbackground": true,
            "ticks": "",
            "zerolinecolor": "white"
           },
           "yaxis": {
            "backgroundcolor": "#E5ECF6",
            "gridcolor": "white",
            "gridwidth": 2,
            "linecolor": "white",
            "showbackground": true,
            "ticks": "",
            "zerolinecolor": "white"
           },
           "zaxis": {
            "backgroundcolor": "#E5ECF6",
            "gridcolor": "white",
            "gridwidth": 2,
            "linecolor": "white",
            "showbackground": true,
            "ticks": "",
            "zerolinecolor": "white"
           }
          },
          "shapedefaults": {
           "line": {
            "color": "#2a3f5f"
           }
          },
          "ternary": {
           "aaxis": {
            "gridcolor": "white",
            "linecolor": "white",
            "ticks": ""
           },
           "baxis": {
            "gridcolor": "white",
            "linecolor": "white",
            "ticks": ""
           },
           "bgcolor": "#E5ECF6",
           "caxis": {
            "gridcolor": "white",
            "linecolor": "white",
            "ticks": ""
           }
          },
          "title": {
           "x": 0.05
          },
          "xaxis": {
           "automargin": true,
           "gridcolor": "white",
           "linecolor": "white",
           "ticks": "",
           "title": {
            "standoff": 15
           },
           "zerolinecolor": "white",
           "zerolinewidth": 2
          },
          "yaxis": {
           "automargin": true,
           "gridcolor": "white",
           "linecolor": "white",
           "ticks": "",
           "title": {
            "standoff": 15
           },
           "zerolinecolor": "white",
           "zerolinewidth": 2
          }
         }
        },
        "xaxis": {
         "anchor": "y",
         "domain": [
          0,
          1
         ],
         "title": {
          "text": "group"
         }
        },
        "yaxis": {
         "anchor": "x",
         "domain": [
          0,
          1
         ],
         "title": {
          "text": "x"
         }
        }
       }
      },
      "text/html": [
       "<div>\n",
       "        \n",
       "        \n",
       "            <div id=\"1d0d55ed-919b-4273-92f2-174e4c70adad\" class=\"plotly-graph-div\" style=\"height:525px; width:100%;\"></div>\n",
       "            <script type=\"text/javascript\">\n",
       "                require([\"plotly\"], function(Plotly) {\n",
       "                    window.PLOTLYENV=window.PLOTLYENV || {};\n",
       "                    \n",
       "                if (document.getElementById(\"1d0d55ed-919b-4273-92f2-174e4c70adad\")) {\n",
       "                    Plotly.newPlot(\n",
       "                        '1d0d55ed-919b-4273-92f2-174e4c70adad',\n",
       "                        [{\"alignmentgroup\": \"True\", \"hoverlabel\": {\"namelength\": 0}, \"hovertemplate\": \"group=%{x}<br>x=%{y}\", \"legendgroup\": \"\", \"marker\": {\"color\": \"#636efa\"}, \"name\": \"\", \"notched\": false, \"offsetgroup\": \"\", \"orientation\": \"v\", \"showlegend\": false, \"type\": \"box\", \"x\": [\"A\", \"A\", \"A\", \"A\", \"A\", \"A\", \"A\", \"A\", \"A\", \"A\", \"A\", \"A\", \"A\", \"A\", \"A\", \"A\", \"A\", \"A\", \"A\", \"A\", \"A\", \"A\", \"A\", \"A\", \"A\", \"A\", \"A\", \"A\", \"A\", \"A\", \"A\", \"A\", \"A\", \"A\", \"A\", \"A\", \"A\", \"A\", \"A\", \"A\", \"A\", \"A\", \"A\", \"A\", \"A\", \"A\", \"A\", \"A\", \"A\", \"A\", \"B\", \"B\", \"B\", \"B\", \"B\", \"B\", \"B\", \"B\", \"B\", \"B\", \"B\", \"B\", \"B\", \"B\", \"B\", \"B\", \"B\", \"B\", \"B\", \"B\", \"B\", \"B\", \"B\", \"B\", \"B\", \"B\", \"B\", \"B\", \"B\", \"B\", \"B\", \"B\", \"B\", \"B\", \"B\", \"B\", \"B\", \"B\", \"B\", \"B\", \"B\", \"B\", \"B\", \"B\", \"B\", \"B\", \"B\", \"B\", \"B\", \"B\", \"C\", \"C\", \"C\", \"C\", \"C\", \"C\", \"C\", \"C\", \"C\", \"C\", \"C\", \"C\", \"C\", \"C\", \"C\", \"C\", \"C\", \"C\", \"C\", \"C\", \"C\", \"C\", \"C\", \"C\", \"C\", \"C\", \"C\", \"C\", \"C\", \"C\", \"C\", \"C\", \"C\", \"C\", \"C\", \"C\", \"C\", \"C\", \"C\", \"C\", \"C\", \"C\", \"C\", \"C\", \"C\", \"C\", \"C\", \"C\", \"C\", \"C\", \"D\", \"D\", \"D\", \"D\", \"D\", \"D\", \"D\", \"D\", \"D\", \"D\", \"D\", \"D\", \"D\", \"D\", \"D\", \"D\", \"D\", \"D\", \"D\", \"D\", \"D\", \"D\", \"D\", \"D\", \"D\", \"D\", \"D\", \"D\", \"D\", \"D\", \"D\", \"D\", \"D\", \"D\", \"D\", \"D\", \"D\", \"D\", \"D\", \"D\", \"D\", \"D\", \"D\", \"D\", \"D\", \"D\", \"D\", \"D\", \"D\", \"D\"], \"x0\": \" \", \"xaxis\": \"x\", \"y\": [3.473579208934824, 1.6222774133964595, 3.409079412238413, 3.2631845561845205, 4.766648955991365, 2.532701233371488, 1.9944866847085572, 3.7979180212435044, 2.721998982108717, 2.538649097889896, 3.392323201439394, 3.0254962729484203, 3.496218949706905, 1.3536579723422777, 2.9790998170647485, 3.965019281420345, 4.355199550777634, 2.465617278309938, 3.6554044650894064, 1.7654933927945418, 2.601300387271374, 3.453612713910802, 2.791959859127478, 2.434657683640396, 4.583771369003968, 3.3754937363050743, 2.5846733795043533, 4.818691318017904, 4.545566454047936, 2.754171666710543, 3.9389006928965733, 3.9446693334162424, 3.07818877716491, 2.1841258637992684, 3.741118143737825, 2.063200208585301, 3.4185006160784104, 2.352801257779132, 2.7059750843522865, 3.8887388038364694, 2.431396692906948, 2.778913792877626, 3.601969647640224, 2.3637519045588555, 3.3951104394125533, 1.8742611089049463, 3.186193302366253, 3.1092320169618457, 4.086240919611782, 4.555032434488652, 3.8499268387164096, 5.492941829490316, 5.195954366148203, 3.1242113454792735, 5.010338925238923, 3.5069445925735314, 3.194238268334213, 4.420845191010165, 3.5679732664188646, 2.8986650064216803, 3.3217754673359825, 4.277198450589916, 5.303121071695143, 5.659833931717733, 2.67348239549958, 3.3971680901937917, 2.7916193675288463, 3.3864137475992657, 6.803851696799482, 2.7722527843920757, 2.4362893963031613, 2.6638980885622994, 4.063931796774217, 4.131468924861049, 4.636869764495064, 2.819189272201937, 4.0603588650553, 5.43984627080321, 3.572746052288088, 4.1568199219652255, 4.271651979795466, 3.178643179018273, 3.551297335971648, 4.042219932787372, 2.728553262640103, 2.9809019967512365, 3.784156707171044, 4.787506308750086, 5.503561596419499, 4.153947300101712, 2.658234860524419, 1.533631247199423, 3.673958441851678, 2.4418209428638447, 2.916850698468002, 4.458910014449712, 5.055749413145341, 5.311775262661834, 2.921016656642108, 4.61894594697223, 3.3532299061909363, 5.386394772314725, 4.608474094126514, 3.4907917052330095, 4.724674137149463, 4.504683930923926, 4.939997026751625, 3.226611472815457, 3.007570814508811, 3.3757378874412014, 3.505610235656885, 2.9924492143836137, 4.490912387163064, 6.384193063844521, 5.554791959790973, 2.6355251106830275, 3.102610248148898, 3.7447167003851574, 3.0990225082760103, 3.4415117379411684, 5.613893912706013, 4.433612112789211, 4.688545140873281, 3.022549665294838, 5.328408765670799, 4.996684384260931, 4.036592405562132, 5.507784853328769, 3.754162027748343, 2.30730128531301, 1.7166876416744734, 4.608822322334572, 4.1465705927396685, 3.7629036417426334, 5.414433742481071, 5.6520198909270345, 4.031827971685776, 3.9245545749297737, 3.7677492155706775, 2.786647387954144, 2.844578542182097, 4.922705290206343, 2.100252443731639, 2.5196318075329316, 2.3352751249953423, 4.679915877980518, 6.395958270501213, 4.117244226009278, 0.9433372440345518, 3.826123296245632, 4.377282027604293, 1.902052090909183, 4.655917032942277, 2.719093361734187, 2.155935438103405, 2.2427268230845354, 2.5759109029056635, 3.572188347151112, 3.3498813930276827, 1.7252841684678064, 4.596086158516954, 1.660189960973414, 1.871952059573553, 3.9380418637240315, 3.259888019206968, 4.064811450208193, 3.9813237862067337, 4.230106742672806, 3.810044653012682, 2.833823732109744, 5.22856008679004, 3.8993125438778717, 4.988283873786491, 4.301515305113021, 2.9318774366162117, 2.3184931951877026, 3.117473372554815, 4.827779171640705, 2.3707738048240845, 3.4275914688484543, 3.1594314373917616, 2.8465070960667176, 3.337608327508946, 2.7150374045249714, 3.5555297776052144, 3.403695271800628, 4.998984477637411, 2.09963345022199, 2.4683604837895485, 2.2017644847350013, 1.722785109397267, 3.3972519092460027, 3.4859663953494042, 3.1431213982345976, 4.172301773025032, 2.8700774261380952, 2.822246250956574, 1.1971383671569615, 3.493334834231731, 3.7051247701629184], \"y0\": \" \", \"yaxis\": \"y\"}],\n",
       "                        {\"boxmode\": \"group\", \"legend\": {\"tracegroupgap\": 0}, \"margin\": {\"t\": 60}, \"template\": {\"data\": {\"bar\": [{\"error_x\": {\"color\": \"#2a3f5f\"}, \"error_y\": {\"color\": \"#2a3f5f\"}, \"marker\": {\"line\": {\"color\": \"#E5ECF6\", \"width\": 0.5}}, \"type\": \"bar\"}], \"barpolar\": [{\"marker\": {\"line\": {\"color\": \"#E5ECF6\", \"width\": 0.5}}, \"type\": \"barpolar\"}], \"carpet\": [{\"aaxis\": {\"endlinecolor\": \"#2a3f5f\", \"gridcolor\": \"white\", \"linecolor\": \"white\", \"minorgridcolor\": \"white\", \"startlinecolor\": \"#2a3f5f\"}, \"baxis\": {\"endlinecolor\": \"#2a3f5f\", \"gridcolor\": \"white\", \"linecolor\": \"white\", \"minorgridcolor\": \"white\", \"startlinecolor\": \"#2a3f5f\"}, \"type\": \"carpet\"}], \"choropleth\": [{\"colorbar\": {\"outlinewidth\": 0, \"ticks\": \"\"}, \"type\": \"choropleth\"}], \"contour\": [{\"colorbar\": {\"outlinewidth\": 0, \"ticks\": \"\"}, \"colorscale\": [[0.0, \"#0d0887\"], [0.1111111111111111, \"#46039f\"], [0.2222222222222222, \"#7201a8\"], [0.3333333333333333, \"#9c179e\"], [0.4444444444444444, \"#bd3786\"], [0.5555555555555556, \"#d8576b\"], [0.6666666666666666, \"#ed7953\"], [0.7777777777777778, \"#fb9f3a\"], [0.8888888888888888, \"#fdca26\"], [1.0, \"#f0f921\"]], \"type\": \"contour\"}], \"contourcarpet\": [{\"colorbar\": {\"outlinewidth\": 0, \"ticks\": \"\"}, \"type\": \"contourcarpet\"}], \"heatmap\": [{\"colorbar\": {\"outlinewidth\": 0, \"ticks\": \"\"}, \"colorscale\": [[0.0, \"#0d0887\"], [0.1111111111111111, \"#46039f\"], [0.2222222222222222, \"#7201a8\"], [0.3333333333333333, \"#9c179e\"], [0.4444444444444444, \"#bd3786\"], [0.5555555555555556, \"#d8576b\"], [0.6666666666666666, \"#ed7953\"], [0.7777777777777778, \"#fb9f3a\"], [0.8888888888888888, \"#fdca26\"], [1.0, \"#f0f921\"]], \"type\": \"heatmap\"}], \"heatmapgl\": [{\"colorbar\": {\"outlinewidth\": 0, \"ticks\": \"\"}, \"colorscale\": [[0.0, \"#0d0887\"], [0.1111111111111111, \"#46039f\"], [0.2222222222222222, \"#7201a8\"], [0.3333333333333333, \"#9c179e\"], [0.4444444444444444, \"#bd3786\"], [0.5555555555555556, \"#d8576b\"], [0.6666666666666666, \"#ed7953\"], [0.7777777777777778, \"#fb9f3a\"], [0.8888888888888888, \"#fdca26\"], [1.0, \"#f0f921\"]], \"type\": \"heatmapgl\"}], \"histogram\": [{\"marker\": {\"colorbar\": {\"outlinewidth\": 0, \"ticks\": \"\"}}, \"type\": \"histogram\"}], \"histogram2d\": [{\"colorbar\": {\"outlinewidth\": 0, \"ticks\": \"\"}, \"colorscale\": [[0.0, \"#0d0887\"], [0.1111111111111111, \"#46039f\"], [0.2222222222222222, \"#7201a8\"], [0.3333333333333333, \"#9c179e\"], [0.4444444444444444, \"#bd3786\"], [0.5555555555555556, \"#d8576b\"], [0.6666666666666666, \"#ed7953\"], [0.7777777777777778, \"#fb9f3a\"], [0.8888888888888888, \"#fdca26\"], [1.0, \"#f0f921\"]], \"type\": \"histogram2d\"}], \"histogram2dcontour\": [{\"colorbar\": {\"outlinewidth\": 0, \"ticks\": \"\"}, \"colorscale\": [[0.0, \"#0d0887\"], [0.1111111111111111, \"#46039f\"], [0.2222222222222222, \"#7201a8\"], [0.3333333333333333, \"#9c179e\"], [0.4444444444444444, \"#bd3786\"], [0.5555555555555556, \"#d8576b\"], [0.6666666666666666, \"#ed7953\"], [0.7777777777777778, \"#fb9f3a\"], [0.8888888888888888, \"#fdca26\"], [1.0, \"#f0f921\"]], \"type\": \"histogram2dcontour\"}], \"mesh3d\": [{\"colorbar\": {\"outlinewidth\": 0, \"ticks\": \"\"}, \"type\": \"mesh3d\"}], \"parcoords\": [{\"line\": {\"colorbar\": {\"outlinewidth\": 0, \"ticks\": \"\"}}, \"type\": \"parcoords\"}], \"pie\": [{\"automargin\": true, \"type\": \"pie\"}], \"scatter\": [{\"marker\": {\"colorbar\": {\"outlinewidth\": 0, \"ticks\": \"\"}}, \"type\": \"scatter\"}], \"scatter3d\": [{\"line\": {\"colorbar\": {\"outlinewidth\": 0, \"ticks\": \"\"}}, \"marker\": {\"colorbar\": {\"outlinewidth\": 0, \"ticks\": \"\"}}, \"type\": \"scatter3d\"}], \"scattercarpet\": [{\"marker\": {\"colorbar\": {\"outlinewidth\": 0, \"ticks\": \"\"}}, \"type\": \"scattercarpet\"}], \"scattergeo\": [{\"marker\": {\"colorbar\": {\"outlinewidth\": 0, \"ticks\": \"\"}}, \"type\": \"scattergeo\"}], \"scattergl\": [{\"marker\": {\"colorbar\": {\"outlinewidth\": 0, \"ticks\": \"\"}}, \"type\": \"scattergl\"}], \"scattermapbox\": [{\"marker\": {\"colorbar\": {\"outlinewidth\": 0, \"ticks\": \"\"}}, \"type\": \"scattermapbox\"}], \"scatterpolar\": [{\"marker\": {\"colorbar\": {\"outlinewidth\": 0, \"ticks\": \"\"}}, \"type\": \"scatterpolar\"}], \"scatterpolargl\": [{\"marker\": {\"colorbar\": {\"outlinewidth\": 0, \"ticks\": \"\"}}, \"type\": \"scatterpolargl\"}], \"scatterternary\": [{\"marker\": {\"colorbar\": {\"outlinewidth\": 0, \"ticks\": \"\"}}, \"type\": \"scatterternary\"}], \"surface\": [{\"colorbar\": {\"outlinewidth\": 0, \"ticks\": \"\"}, \"colorscale\": [[0.0, \"#0d0887\"], [0.1111111111111111, \"#46039f\"], [0.2222222222222222, \"#7201a8\"], [0.3333333333333333, \"#9c179e\"], [0.4444444444444444, \"#bd3786\"], [0.5555555555555556, \"#d8576b\"], [0.6666666666666666, \"#ed7953\"], [0.7777777777777778, \"#fb9f3a\"], [0.8888888888888888, \"#fdca26\"], [1.0, \"#f0f921\"]], \"type\": \"surface\"}], \"table\": [{\"cells\": {\"fill\": {\"color\": \"#EBF0F8\"}, \"line\": {\"color\": \"white\"}}, \"header\": {\"fill\": {\"color\": \"#C8D4E3\"}, \"line\": {\"color\": \"white\"}}, \"type\": \"table\"}]}, \"layout\": {\"annotationdefaults\": {\"arrowcolor\": \"#2a3f5f\", \"arrowhead\": 0, \"arrowwidth\": 1}, \"coloraxis\": {\"colorbar\": {\"outlinewidth\": 0, \"ticks\": \"\"}}, \"colorscale\": {\"diverging\": [[0, \"#8e0152\"], [0.1, \"#c51b7d\"], [0.2, \"#de77ae\"], [0.3, \"#f1b6da\"], [0.4, \"#fde0ef\"], [0.5, \"#f7f7f7\"], [0.6, \"#e6f5d0\"], [0.7, \"#b8e186\"], [0.8, \"#7fbc41\"], [0.9, \"#4d9221\"], [1, \"#276419\"]], \"sequential\": [[0.0, \"#0d0887\"], [0.1111111111111111, \"#46039f\"], [0.2222222222222222, \"#7201a8\"], [0.3333333333333333, \"#9c179e\"], [0.4444444444444444, \"#bd3786\"], [0.5555555555555556, \"#d8576b\"], [0.6666666666666666, \"#ed7953\"], [0.7777777777777778, \"#fb9f3a\"], [0.8888888888888888, \"#fdca26\"], [1.0, \"#f0f921\"]], \"sequentialminus\": [[0.0, \"#0d0887\"], [0.1111111111111111, \"#46039f\"], [0.2222222222222222, \"#7201a8\"], [0.3333333333333333, \"#9c179e\"], [0.4444444444444444, \"#bd3786\"], [0.5555555555555556, \"#d8576b\"], [0.6666666666666666, \"#ed7953\"], [0.7777777777777778, \"#fb9f3a\"], [0.8888888888888888, \"#fdca26\"], [1.0, \"#f0f921\"]]}, \"colorway\": [\"#636efa\", \"#EF553B\", \"#00cc96\", \"#ab63fa\", \"#FFA15A\", \"#19d3f3\", \"#FF6692\", \"#B6E880\", \"#FF97FF\", \"#FECB52\"], \"font\": {\"color\": \"#2a3f5f\"}, \"geo\": {\"bgcolor\": \"white\", \"lakecolor\": \"white\", \"landcolor\": \"#E5ECF6\", \"showlakes\": true, \"showland\": true, \"subunitcolor\": \"white\"}, \"hoverlabel\": {\"align\": \"left\"}, \"hovermode\": \"closest\", \"mapbox\": {\"style\": \"light\"}, \"paper_bgcolor\": \"white\", \"plot_bgcolor\": \"#E5ECF6\", \"polar\": {\"angularaxis\": {\"gridcolor\": \"white\", \"linecolor\": \"white\", \"ticks\": \"\"}, \"bgcolor\": \"#E5ECF6\", \"radialaxis\": {\"gridcolor\": \"white\", \"linecolor\": \"white\", \"ticks\": \"\"}}, \"scene\": {\"xaxis\": {\"backgroundcolor\": \"#E5ECF6\", \"gridcolor\": \"white\", \"gridwidth\": 2, \"linecolor\": \"white\", \"showbackground\": true, \"ticks\": \"\", \"zerolinecolor\": \"white\"}, \"yaxis\": {\"backgroundcolor\": \"#E5ECF6\", \"gridcolor\": \"white\", \"gridwidth\": 2, \"linecolor\": \"white\", \"showbackground\": true, \"ticks\": \"\", \"zerolinecolor\": \"white\"}, \"zaxis\": {\"backgroundcolor\": \"#E5ECF6\", \"gridcolor\": \"white\", \"gridwidth\": 2, \"linecolor\": \"white\", \"showbackground\": true, \"ticks\": \"\", \"zerolinecolor\": \"white\"}}, \"shapedefaults\": {\"line\": {\"color\": \"#2a3f5f\"}}, \"ternary\": {\"aaxis\": {\"gridcolor\": \"white\", \"linecolor\": \"white\", \"ticks\": \"\"}, \"baxis\": {\"gridcolor\": \"white\", \"linecolor\": \"white\", \"ticks\": \"\"}, \"bgcolor\": \"#E5ECF6\", \"caxis\": {\"gridcolor\": \"white\", \"linecolor\": \"white\", \"ticks\": \"\"}}, \"title\": {\"x\": 0.05}, \"xaxis\": {\"automargin\": true, \"gridcolor\": \"white\", \"linecolor\": \"white\", \"ticks\": \"\", \"title\": {\"standoff\": 15}, \"zerolinecolor\": \"white\", \"zerolinewidth\": 2}, \"yaxis\": {\"automargin\": true, \"gridcolor\": \"white\", \"linecolor\": \"white\", \"ticks\": \"\", \"title\": {\"standoff\": 15}, \"zerolinecolor\": \"white\", \"zerolinewidth\": 2}}}, \"xaxis\": {\"anchor\": \"y\", \"domain\": [0.0, 1.0], \"title\": {\"text\": \"group\"}}, \"yaxis\": {\"anchor\": \"x\", \"domain\": [0.0, 1.0], \"title\": {\"text\": \"x\"}}},\n",
       "                        {\"responsive\": true}\n",
       "                    ).then(function(){\n",
       "                            \n",
       "var gd = document.getElementById('1d0d55ed-919b-4273-92f2-174e4c70adad');\n",
       "var x = new MutationObserver(function (mutations, observer) {{\n",
       "        var display = window.getComputedStyle(gd).display;\n",
       "        if (!display || display === 'none') {{\n",
       "            console.log([gd, 'removed!']);\n",
       "            Plotly.purge(gd);\n",
       "            observer.disconnect();\n",
       "        }}\n",
       "}});\n",
       "\n",
       "// Listen for the removal of the full notebook cells\n",
       "var notebookContainer = gd.closest('#notebook-container');\n",
       "if (notebookContainer) {{\n",
       "    x.observe(notebookContainer, {childList: true});\n",
       "}}\n",
       "\n",
       "// Listen for the clearing of the current output cell\n",
       "var outputEl = gd.closest('.output');\n",
       "if (outputEl) {{\n",
       "    x.observe(outputEl, {childList: true});\n",
       "}}\n",
       "\n",
       "                        })\n",
       "                };\n",
       "                });\n",
       "            </script>\n",
       "        </div>"
      ]
     },
     "metadata": {},
     "output_type": "display_data"
    }
   ],
   "source": [
    "# boxplots of x by group\n",
    "plotly.offline.iplot(\n",
    "    plotly.express.box(data1, x = \"group\", y = \"x\")\n",
    ")"
   ]
  },
  {
   "cell_type": "markdown",
   "metadata": {},
   "source": [
    "## Histograms"
   ]
  },
  {
   "cell_type": "code",
   "execution_count": 386,
   "metadata": {},
   "outputs": [],
   "source": [
    "# similar to ggplot2::geom_histogram"
   ]
  },
  {
   "cell_type": "code",
   "execution_count": 387,
   "metadata": {},
   "outputs": [
    {
     "data": {
      "application/vnd.plotly.v1+json": {
       "config": {
        "linkText": "Export to plot.ly",
        "plotlyServerURL": "https://plot.ly",
        "showLink": false
       },
       "data": [
        {
         "alignmentgroup": "True",
         "bingroup": "x",
         "hoverlabel": {
          "namelength": 0
         },
         "hovertemplate": "group=A<br>y=%{x}<br>count=%{y}",
         "legendgroup": "",
         "marker": {
          "color": "#636efa"
         },
         "name": "",
         "offsetgroup": "",
         "orientation": "v",
         "showlegend": false,
         "type": "histogram",
         "x": [
          0.6950469748897452,
          -0.5034403329926198,
          2.174208383982993,
          2.8264205605740744,
          3.2117712655990647,
          1.1781581196733888,
          1.1160282964159203,
          2.6723921742356294,
          0.8541201117838098,
          1.4557354259419546,
          2.037594787810373,
          2.372639118877078,
          2.9612994490494846,
          0.8716254151255541,
          -0.021961355659155135,
          3.2076414076811703,
          3.240826661021682,
          1.2702695035765341,
          3.6455035958150708,
          0.8630935615144297,
          2.4814388097201086,
          2.190128125350091,
          3.518020554964058,
          2.8015126466983302,
          2.022721081085111,
          2.785480814014643,
          2.605216553826863,
          3.9920592366279766,
          4.214911604166839,
          1.9260483446553858,
          4.368321941438964,
          4.6184331702674415,
          2.7358033286149133,
          0.1662069931571537,
          1.5368484806388423,
          0.4593710667555235,
          3.684210965090906,
          2.9203275587853996,
          -0.33315468237684254,
          3.976118411517691,
          1.118171435238924,
          1.7600637769207592,
          3.4163510640869803,
          0.028073988162205854,
          4.190651269451221,
          1.2311610496111531,
          2.884079089864101,
          3.430391620268408,
          4.081713952905699,
          2.9775341347071684
         ],
         "xaxis": "x",
         "yaxis": "y"
        },
        {
         "alignmentgroup": "True",
         "bingroup": "x",
         "hoverlabel": {
          "namelength": 0
         },
         "hovertemplate": "group=B<br>y=%{x}<br>count=%{y}",
         "legendgroup": "",
         "marker": {
          "color": "#636efa"
         },
         "name": "",
         "offsetgroup": "",
         "orientation": "v",
         "showlegend": false,
         "type": "histogram",
         "x": [
          1.2618348795389895,
          4.753340668418486,
          4.769116173920377,
          3.013960384532216,
          6.286328377242914,
          3.6157582507123047,
          3.3356872497205416,
          2.723786196546012,
          3.2426371809639094,
          0.8366660838731161,
          2.193945705813425,
          4.627006941241677,
          5.244624649972142,
          3.758965050706978,
          2.6648051445002396,
          1.326546065028106,
          1.4703749526672274,
          1.9455694959401075,
          5.8722861197635625,
          2.707484791083193,
          3.420572753250407,
          2.608778693866711,
          2.423608862387928,
          3.8212947130638,
          3.878433503224329,
          0.16521919100152194,
          5.694762258431668,
          3.0717278494320235,
          4.397381199846352,
          4.252148650339173,
          2.1083848727100394,
          2.7026862934136497,
          2.390954563001253,
          3.0293093231101307,
          1.967958400334754,
          1.875359683192888,
          1.8184415750263332,
          2.8399949279698538,
          3.992503278664061,
          3.3436021355662433,
          3.328664694794086,
          0.4343956162741197,
          3.9974235230979103,
          0.5001532124053734,
          2.010685607804752,
          4.396511584361904,
          4.782269819871636,
          4.913721911674665,
          2.43232505548643,
          4.822036904239104
         ],
         "xaxis": "x2",
         "yaxis": "y2"
        },
        {
         "alignmentgroup": "True",
         "bingroup": "x",
         "hoverlabel": {
          "namelength": 0
         },
         "hovertemplate": "group=C<br>y=%{x}<br>count=%{y}",
         "legendgroup": "",
         "marker": {
          "color": "#636efa"
         },
         "name": "",
         "offsetgroup": "",
         "orientation": "v",
         "showlegend": false,
         "type": "histogram",
         "x": [
          3.131832806427382,
          4.822830396522785,
          3.338207697580485,
          2.465793795661478,
          4.105826799464889,
          3.889653915700479,
          3.7481867846214723,
          2.5187998366597912,
          3.471166932897151,
          1.7544384249020104,
          3.2450240276985456,
          3.2643232096764088,
          2.9760783967449695,
          6.170304812134368,
          4.053175580519442,
          3.1184855340369664,
          3.7989270646228466,
          2.342666557619671,
          2.6449387019113773,
          2.061175732966708,
          3.366484946314323,
          3.578074106490438,
          4.109822151261497,
          3.7249772080885486,
          5.309449680816956,
          6.095726353368207,
          3.4976381698368235,
          2.7757598058930943,
          3.4483621158743043,
          2.5312660553963457,
          0.9846823988865984,
          2.3743113657193025,
          4.527302491887923,
          1.954171050657958,
          4.800819084814348,
          3.8086074445406206,
          3.1282391148665067,
          1.640442799441174,
          2.0852290068598784,
          2.2304300599781595,
          3.187549833496889,
          3.04706169505677,
          1.382929236499277,
          0.9691000836887057,
          0.2757187273163584,
          3.588219862262456,
          5.453878874590729,
          4.775100446510809,
          -0.7457680907446939,
          4.6339671110227885
         ],
         "xaxis": "x3",
         "yaxis": "y3"
        },
        {
         "alignmentgroup": "True",
         "bingroup": "x",
         "hoverlabel": {
          "namelength": 0
         },
         "hovertemplate": "group=D<br>y=%{x}<br>count=%{y}",
         "legendgroup": "",
         "marker": {
          "color": "#636efa"
         },
         "name": "",
         "offsetgroup": "",
         "orientation": "v",
         "showlegend": false,
         "type": "histogram",
         "x": [
          3.858824153322869,
          1.578320181316926,
          4.231308301848548,
          1.446624505889436,
          2.809455504499523,
          0.3370565221316617,
          2.2442210229382304,
          2.4817129521171077,
          2.669074356135961,
          1.119463217860492,
          2.8238164920488,
          1.203893609298915,
          2.5811597515079625,
          3.510249848998413,
          2.6068590472389337,
          4.07286753960857,
          2.9990537458214788,
          2.9209725224722467,
          3.45279146202614,
          2.748404381812157,
          3.3553086850070377,
          0.5915666262477557,
          5.10053530406739,
          2.9723949088852306,
          2.0564841213246514,
          1.3741350074484446,
          2.8548360546761264,
          3.656424831388678,
          1.5715717874275368,
          1.0767446852301434,
          3.2008372847616537,
          2.4993188622397335,
          2.3571534788959867,
          2.285262978926535,
          1.2845299222950965,
          1.528539648001414,
          4.359960306274103,
          2.0125801172918054,
          1.362642100342817,
          1.1527324548556643,
          0.3674902133174178,
          2.505882363332325,
          2.4694857292899957,
          0.5190976037933384,
          4.718203301328052,
          1.9283940758370306,
          1.8227776686682613,
          1.4471514216671981,
          1.6095552935566728,
          3.5789226530974902
         ],
         "xaxis": "x4",
         "yaxis": "y4"
        }
       ],
       "layout": {
        "annotations": [
         {
          "showarrow": false,
          "text": "group=A",
          "x": 0.1175,
          "xanchor": "center",
          "xref": "paper",
          "y": 1,
          "yanchor": "bottom",
          "yref": "paper"
         },
         {
          "showarrow": false,
          "text": "group=B",
          "x": 0.3725,
          "xanchor": "center",
          "xref": "paper",
          "y": 1,
          "yanchor": "bottom",
          "yref": "paper"
         },
         {
          "showarrow": false,
          "text": "group=C",
          "x": 0.6275,
          "xanchor": "center",
          "xref": "paper",
          "y": 1,
          "yanchor": "bottom",
          "yref": "paper"
         },
         {
          "showarrow": false,
          "text": "group=D",
          "x": 0.8824999999999998,
          "xanchor": "center",
          "xref": "paper",
          "y": 1,
          "yanchor": "bottom",
          "yref": "paper"
         }
        ],
        "barmode": "relative",
        "legend": {
         "tracegroupgap": 0
        },
        "margin": {
         "t": 60
        },
        "template": {
         "data": {
          "bar": [
           {
            "error_x": {
             "color": "#2a3f5f"
            },
            "error_y": {
             "color": "#2a3f5f"
            },
            "marker": {
             "line": {
              "color": "#E5ECF6",
              "width": 0.5
             }
            },
            "type": "bar"
           }
          ],
          "barpolar": [
           {
            "marker": {
             "line": {
              "color": "#E5ECF6",
              "width": 0.5
             }
            },
            "type": "barpolar"
           }
          ],
          "carpet": [
           {
            "aaxis": {
             "endlinecolor": "#2a3f5f",
             "gridcolor": "white",
             "linecolor": "white",
             "minorgridcolor": "white",
             "startlinecolor": "#2a3f5f"
            },
            "baxis": {
             "endlinecolor": "#2a3f5f",
             "gridcolor": "white",
             "linecolor": "white",
             "minorgridcolor": "white",
             "startlinecolor": "#2a3f5f"
            },
            "type": "carpet"
           }
          ],
          "choropleth": [
           {
            "colorbar": {
             "outlinewidth": 0,
             "ticks": ""
            },
            "type": "choropleth"
           }
          ],
          "contour": [
           {
            "colorbar": {
             "outlinewidth": 0,
             "ticks": ""
            },
            "colorscale": [
             [
              0,
              "#0d0887"
             ],
             [
              0.1111111111111111,
              "#46039f"
             ],
             [
              0.2222222222222222,
              "#7201a8"
             ],
             [
              0.3333333333333333,
              "#9c179e"
             ],
             [
              0.4444444444444444,
              "#bd3786"
             ],
             [
              0.5555555555555556,
              "#d8576b"
             ],
             [
              0.6666666666666666,
              "#ed7953"
             ],
             [
              0.7777777777777778,
              "#fb9f3a"
             ],
             [
              0.8888888888888888,
              "#fdca26"
             ],
             [
              1,
              "#f0f921"
             ]
            ],
            "type": "contour"
           }
          ],
          "contourcarpet": [
           {
            "colorbar": {
             "outlinewidth": 0,
             "ticks": ""
            },
            "type": "contourcarpet"
           }
          ],
          "heatmap": [
           {
            "colorbar": {
             "outlinewidth": 0,
             "ticks": ""
            },
            "colorscale": [
             [
              0,
              "#0d0887"
             ],
             [
              0.1111111111111111,
              "#46039f"
             ],
             [
              0.2222222222222222,
              "#7201a8"
             ],
             [
              0.3333333333333333,
              "#9c179e"
             ],
             [
              0.4444444444444444,
              "#bd3786"
             ],
             [
              0.5555555555555556,
              "#d8576b"
             ],
             [
              0.6666666666666666,
              "#ed7953"
             ],
             [
              0.7777777777777778,
              "#fb9f3a"
             ],
             [
              0.8888888888888888,
              "#fdca26"
             ],
             [
              1,
              "#f0f921"
             ]
            ],
            "type": "heatmap"
           }
          ],
          "heatmapgl": [
           {
            "colorbar": {
             "outlinewidth": 0,
             "ticks": ""
            },
            "colorscale": [
             [
              0,
              "#0d0887"
             ],
             [
              0.1111111111111111,
              "#46039f"
             ],
             [
              0.2222222222222222,
              "#7201a8"
             ],
             [
              0.3333333333333333,
              "#9c179e"
             ],
             [
              0.4444444444444444,
              "#bd3786"
             ],
             [
              0.5555555555555556,
              "#d8576b"
             ],
             [
              0.6666666666666666,
              "#ed7953"
             ],
             [
              0.7777777777777778,
              "#fb9f3a"
             ],
             [
              0.8888888888888888,
              "#fdca26"
             ],
             [
              1,
              "#f0f921"
             ]
            ],
            "type": "heatmapgl"
           }
          ],
          "histogram": [
           {
            "marker": {
             "colorbar": {
              "outlinewidth": 0,
              "ticks": ""
             }
            },
            "type": "histogram"
           }
          ],
          "histogram2d": [
           {
            "colorbar": {
             "outlinewidth": 0,
             "ticks": ""
            },
            "colorscale": [
             [
              0,
              "#0d0887"
             ],
             [
              0.1111111111111111,
              "#46039f"
             ],
             [
              0.2222222222222222,
              "#7201a8"
             ],
             [
              0.3333333333333333,
              "#9c179e"
             ],
             [
              0.4444444444444444,
              "#bd3786"
             ],
             [
              0.5555555555555556,
              "#d8576b"
             ],
             [
              0.6666666666666666,
              "#ed7953"
             ],
             [
              0.7777777777777778,
              "#fb9f3a"
             ],
             [
              0.8888888888888888,
              "#fdca26"
             ],
             [
              1,
              "#f0f921"
             ]
            ],
            "type": "histogram2d"
           }
          ],
          "histogram2dcontour": [
           {
            "colorbar": {
             "outlinewidth": 0,
             "ticks": ""
            },
            "colorscale": [
             [
              0,
              "#0d0887"
             ],
             [
              0.1111111111111111,
              "#46039f"
             ],
             [
              0.2222222222222222,
              "#7201a8"
             ],
             [
              0.3333333333333333,
              "#9c179e"
             ],
             [
              0.4444444444444444,
              "#bd3786"
             ],
             [
              0.5555555555555556,
              "#d8576b"
             ],
             [
              0.6666666666666666,
              "#ed7953"
             ],
             [
              0.7777777777777778,
              "#fb9f3a"
             ],
             [
              0.8888888888888888,
              "#fdca26"
             ],
             [
              1,
              "#f0f921"
             ]
            ],
            "type": "histogram2dcontour"
           }
          ],
          "mesh3d": [
           {
            "colorbar": {
             "outlinewidth": 0,
             "ticks": ""
            },
            "type": "mesh3d"
           }
          ],
          "parcoords": [
           {
            "line": {
             "colorbar": {
              "outlinewidth": 0,
              "ticks": ""
             }
            },
            "type": "parcoords"
           }
          ],
          "pie": [
           {
            "automargin": true,
            "type": "pie"
           }
          ],
          "scatter": [
           {
            "marker": {
             "colorbar": {
              "outlinewidth": 0,
              "ticks": ""
             }
            },
            "type": "scatter"
           }
          ],
          "scatter3d": [
           {
            "line": {
             "colorbar": {
              "outlinewidth": 0,
              "ticks": ""
             }
            },
            "marker": {
             "colorbar": {
              "outlinewidth": 0,
              "ticks": ""
             }
            },
            "type": "scatter3d"
           }
          ],
          "scattercarpet": [
           {
            "marker": {
             "colorbar": {
              "outlinewidth": 0,
              "ticks": ""
             }
            },
            "type": "scattercarpet"
           }
          ],
          "scattergeo": [
           {
            "marker": {
             "colorbar": {
              "outlinewidth": 0,
              "ticks": ""
             }
            },
            "type": "scattergeo"
           }
          ],
          "scattergl": [
           {
            "marker": {
             "colorbar": {
              "outlinewidth": 0,
              "ticks": ""
             }
            },
            "type": "scattergl"
           }
          ],
          "scattermapbox": [
           {
            "marker": {
             "colorbar": {
              "outlinewidth": 0,
              "ticks": ""
             }
            },
            "type": "scattermapbox"
           }
          ],
          "scatterpolar": [
           {
            "marker": {
             "colorbar": {
              "outlinewidth": 0,
              "ticks": ""
             }
            },
            "type": "scatterpolar"
           }
          ],
          "scatterpolargl": [
           {
            "marker": {
             "colorbar": {
              "outlinewidth": 0,
              "ticks": ""
             }
            },
            "type": "scatterpolargl"
           }
          ],
          "scatterternary": [
           {
            "marker": {
             "colorbar": {
              "outlinewidth": 0,
              "ticks": ""
             }
            },
            "type": "scatterternary"
           }
          ],
          "surface": [
           {
            "colorbar": {
             "outlinewidth": 0,
             "ticks": ""
            },
            "colorscale": [
             [
              0,
              "#0d0887"
             ],
             [
              0.1111111111111111,
              "#46039f"
             ],
             [
              0.2222222222222222,
              "#7201a8"
             ],
             [
              0.3333333333333333,
              "#9c179e"
             ],
             [
              0.4444444444444444,
              "#bd3786"
             ],
             [
              0.5555555555555556,
              "#d8576b"
             ],
             [
              0.6666666666666666,
              "#ed7953"
             ],
             [
              0.7777777777777778,
              "#fb9f3a"
             ],
             [
              0.8888888888888888,
              "#fdca26"
             ],
             [
              1,
              "#f0f921"
             ]
            ],
            "type": "surface"
           }
          ],
          "table": [
           {
            "cells": {
             "fill": {
              "color": "#EBF0F8"
             },
             "line": {
              "color": "white"
             }
            },
            "header": {
             "fill": {
              "color": "#C8D4E3"
             },
             "line": {
              "color": "white"
             }
            },
            "type": "table"
           }
          ]
         },
         "layout": {
          "annotationdefaults": {
           "arrowcolor": "#2a3f5f",
           "arrowhead": 0,
           "arrowwidth": 1
          },
          "coloraxis": {
           "colorbar": {
            "outlinewidth": 0,
            "ticks": ""
           }
          },
          "colorscale": {
           "diverging": [
            [
             0,
             "#8e0152"
            ],
            [
             0.1,
             "#c51b7d"
            ],
            [
             0.2,
             "#de77ae"
            ],
            [
             0.3,
             "#f1b6da"
            ],
            [
             0.4,
             "#fde0ef"
            ],
            [
             0.5,
             "#f7f7f7"
            ],
            [
             0.6,
             "#e6f5d0"
            ],
            [
             0.7,
             "#b8e186"
            ],
            [
             0.8,
             "#7fbc41"
            ],
            [
             0.9,
             "#4d9221"
            ],
            [
             1,
             "#276419"
            ]
           ],
           "sequential": [
            [
             0,
             "#0d0887"
            ],
            [
             0.1111111111111111,
             "#46039f"
            ],
            [
             0.2222222222222222,
             "#7201a8"
            ],
            [
             0.3333333333333333,
             "#9c179e"
            ],
            [
             0.4444444444444444,
             "#bd3786"
            ],
            [
             0.5555555555555556,
             "#d8576b"
            ],
            [
             0.6666666666666666,
             "#ed7953"
            ],
            [
             0.7777777777777778,
             "#fb9f3a"
            ],
            [
             0.8888888888888888,
             "#fdca26"
            ],
            [
             1,
             "#f0f921"
            ]
           ],
           "sequentialminus": [
            [
             0,
             "#0d0887"
            ],
            [
             0.1111111111111111,
             "#46039f"
            ],
            [
             0.2222222222222222,
             "#7201a8"
            ],
            [
             0.3333333333333333,
             "#9c179e"
            ],
            [
             0.4444444444444444,
             "#bd3786"
            ],
            [
             0.5555555555555556,
             "#d8576b"
            ],
            [
             0.6666666666666666,
             "#ed7953"
            ],
            [
             0.7777777777777778,
             "#fb9f3a"
            ],
            [
             0.8888888888888888,
             "#fdca26"
            ],
            [
             1,
             "#f0f921"
            ]
           ]
          },
          "colorway": [
           "#636efa",
           "#EF553B",
           "#00cc96",
           "#ab63fa",
           "#FFA15A",
           "#19d3f3",
           "#FF6692",
           "#B6E880",
           "#FF97FF",
           "#FECB52"
          ],
          "font": {
           "color": "#2a3f5f"
          },
          "geo": {
           "bgcolor": "white",
           "lakecolor": "white",
           "landcolor": "#E5ECF6",
           "showlakes": true,
           "showland": true,
           "subunitcolor": "white"
          },
          "hoverlabel": {
           "align": "left"
          },
          "hovermode": "closest",
          "mapbox": {
           "style": "light"
          },
          "paper_bgcolor": "white",
          "plot_bgcolor": "#E5ECF6",
          "polar": {
           "angularaxis": {
            "gridcolor": "white",
            "linecolor": "white",
            "ticks": ""
           },
           "bgcolor": "#E5ECF6",
           "radialaxis": {
            "gridcolor": "white",
            "linecolor": "white",
            "ticks": ""
           }
          },
          "scene": {
           "xaxis": {
            "backgroundcolor": "#E5ECF6",
            "gridcolor": "white",
            "gridwidth": 2,
            "linecolor": "white",
            "showbackground": true,
            "ticks": "",
            "zerolinecolor": "white"
           },
           "yaxis": {
            "backgroundcolor": "#E5ECF6",
            "gridcolor": "white",
            "gridwidth": 2,
            "linecolor": "white",
            "showbackground": true,
            "ticks": "",
            "zerolinecolor": "white"
           },
           "zaxis": {
            "backgroundcolor": "#E5ECF6",
            "gridcolor": "white",
            "gridwidth": 2,
            "linecolor": "white",
            "showbackground": true,
            "ticks": "",
            "zerolinecolor": "white"
           }
          },
          "shapedefaults": {
           "line": {
            "color": "#2a3f5f"
           }
          },
          "ternary": {
           "aaxis": {
            "gridcolor": "white",
            "linecolor": "white",
            "ticks": ""
           },
           "baxis": {
            "gridcolor": "white",
            "linecolor": "white",
            "ticks": ""
           },
           "bgcolor": "#E5ECF6",
           "caxis": {
            "gridcolor": "white",
            "linecolor": "white",
            "ticks": ""
           }
          },
          "title": {
           "x": 0.05
          },
          "xaxis": {
           "automargin": true,
           "gridcolor": "white",
           "linecolor": "white",
           "ticks": "",
           "title": {
            "standoff": 15
           },
           "zerolinecolor": "white",
           "zerolinewidth": 2
          },
          "yaxis": {
           "automargin": true,
           "gridcolor": "white",
           "linecolor": "white",
           "ticks": "",
           "title": {
            "standoff": 15
           },
           "zerolinecolor": "white",
           "zerolinewidth": 2
          }
         }
        },
        "xaxis": {
         "anchor": "y",
         "domain": [
          0,
          0.235
         ],
         "title": {
          "text": "y"
         }
        },
        "xaxis2": {
         "anchor": "y2",
         "domain": [
          0.255,
          0.49
         ],
         "matches": "x",
         "title": {
          "text": "y"
         }
        },
        "xaxis3": {
         "anchor": "y3",
         "domain": [
          0.51,
          0.745
         ],
         "matches": "x",
         "title": {
          "text": "y"
         }
        },
        "xaxis4": {
         "anchor": "y4",
         "domain": [
          0.7649999999999999,
          0.9999999999999999
         ],
         "matches": "x",
         "title": {
          "text": "y"
         }
        },
        "yaxis": {
         "anchor": "x",
         "domain": [
          0,
          1
         ],
         "title": {
          "text": "count"
         }
        },
        "yaxis2": {
         "anchor": "x2",
         "domain": [
          0,
          1
         ],
         "matches": "y",
         "showticklabels": false
        },
        "yaxis3": {
         "anchor": "x3",
         "domain": [
          0,
          1
         ],
         "matches": "y",
         "showticklabels": false
        },
        "yaxis4": {
         "anchor": "x4",
         "domain": [
          0,
          1
         ],
         "matches": "y",
         "showticklabels": false
        }
       }
      },
      "text/html": [
       "<div>\n",
       "        \n",
       "        \n",
       "            <div id=\"a924b334-426e-4508-8c30-4fee303121cf\" class=\"plotly-graph-div\" style=\"height:525px; width:100%;\"></div>\n",
       "            <script type=\"text/javascript\">\n",
       "                require([\"plotly\"], function(Plotly) {\n",
       "                    window.PLOTLYENV=window.PLOTLYENV || {};\n",
       "                    \n",
       "                if (document.getElementById(\"a924b334-426e-4508-8c30-4fee303121cf\")) {\n",
       "                    Plotly.newPlot(\n",
       "                        'a924b334-426e-4508-8c30-4fee303121cf',\n",
       "                        [{\"alignmentgroup\": \"True\", \"bingroup\": \"x\", \"hoverlabel\": {\"namelength\": 0}, \"hovertemplate\": \"group=A<br>y=%{x}<br>count=%{y}\", \"legendgroup\": \"\", \"marker\": {\"color\": \"#636efa\"}, \"name\": \"\", \"offsetgroup\": \"\", \"orientation\": \"v\", \"showlegend\": false, \"type\": \"histogram\", \"x\": [0.6950469748897452, -0.5034403329926198, 2.174208383982993, 2.8264205605740744, 3.2117712655990647, 1.1781581196733888, 1.1160282964159203, 2.6723921742356294, 0.8541201117838098, 1.4557354259419546, 2.037594787810373, 2.372639118877078, 2.9612994490494846, 0.8716254151255541, -0.021961355659155135, 3.2076414076811703, 3.240826661021682, 1.2702695035765341, 3.6455035958150708, 0.8630935615144297, 2.4814388097201086, 2.190128125350091, 3.518020554964058, 2.8015126466983302, 2.022721081085111, 2.785480814014643, 2.605216553826863, 3.9920592366279766, 4.214911604166839, 1.9260483446553858, 4.368321941438964, 4.6184331702674415, 2.7358033286149133, 0.1662069931571537, 1.5368484806388423, 0.4593710667555235, 3.684210965090906, 2.9203275587853996, -0.33315468237684254, 3.976118411517691, 1.118171435238924, 1.7600637769207592, 3.4163510640869803, 0.028073988162205854, 4.190651269451221, 1.2311610496111531, 2.884079089864101, 3.430391620268408, 4.081713952905699, 2.9775341347071684], \"xaxis\": \"x\", \"yaxis\": \"y\"}, {\"alignmentgroup\": \"True\", \"bingroup\": \"x\", \"hoverlabel\": {\"namelength\": 0}, \"hovertemplate\": \"group=B<br>y=%{x}<br>count=%{y}\", \"legendgroup\": \"\", \"marker\": {\"color\": \"#636efa\"}, \"name\": \"\", \"offsetgroup\": \"\", \"orientation\": \"v\", \"showlegend\": false, \"type\": \"histogram\", \"x\": [1.2618348795389895, 4.753340668418486, 4.769116173920377, 3.013960384532216, 6.286328377242914, 3.6157582507123047, 3.3356872497205416, 2.723786196546012, 3.2426371809639094, 0.8366660838731161, 2.193945705813425, 4.627006941241677, 5.244624649972142, 3.758965050706978, 2.6648051445002396, 1.326546065028106, 1.4703749526672274, 1.9455694959401075, 5.8722861197635625, 2.707484791083193, 3.420572753250407, 2.608778693866711, 2.423608862387928, 3.8212947130638, 3.878433503224329, 0.16521919100152194, 5.694762258431668, 3.0717278494320235, 4.397381199846352, 4.252148650339173, 2.1083848727100394, 2.7026862934136497, 2.390954563001253, 3.0293093231101307, 1.967958400334754, 1.875359683192888, 1.8184415750263332, 2.8399949279698538, 3.992503278664061, 3.3436021355662433, 3.328664694794086, 0.4343956162741197, 3.9974235230979103, 0.5001532124053734, 2.010685607804752, 4.396511584361904, 4.782269819871636, 4.913721911674665, 2.43232505548643, 4.822036904239104], \"xaxis\": \"x2\", \"yaxis\": \"y2\"}, {\"alignmentgroup\": \"True\", \"bingroup\": \"x\", \"hoverlabel\": {\"namelength\": 0}, \"hovertemplate\": \"group=C<br>y=%{x}<br>count=%{y}\", \"legendgroup\": \"\", \"marker\": {\"color\": \"#636efa\"}, \"name\": \"\", \"offsetgroup\": \"\", \"orientation\": \"v\", \"showlegend\": false, \"type\": \"histogram\", \"x\": [3.131832806427382, 4.822830396522785, 3.338207697580485, 2.465793795661478, 4.105826799464889, 3.889653915700479, 3.7481867846214723, 2.5187998366597912, 3.471166932897151, 1.7544384249020104, 3.2450240276985456, 3.2643232096764088, 2.9760783967449695, 6.170304812134368, 4.053175580519442, 3.1184855340369664, 3.7989270646228466, 2.342666557619671, 2.6449387019113773, 2.061175732966708, 3.366484946314323, 3.578074106490438, 4.109822151261497, 3.7249772080885486, 5.309449680816956, 6.095726353368207, 3.4976381698368235, 2.7757598058930943, 3.4483621158743043, 2.5312660553963457, 0.9846823988865984, 2.3743113657193025, 4.527302491887923, 1.954171050657958, 4.800819084814348, 3.8086074445406206, 3.1282391148665067, 1.640442799441174, 2.0852290068598784, 2.2304300599781595, 3.187549833496889, 3.04706169505677, 1.382929236499277, 0.9691000836887057, 0.2757187273163584, 3.588219862262456, 5.453878874590729, 4.775100446510809, -0.7457680907446939, 4.6339671110227885], \"xaxis\": \"x3\", \"yaxis\": \"y3\"}, {\"alignmentgroup\": \"True\", \"bingroup\": \"x\", \"hoverlabel\": {\"namelength\": 0}, \"hovertemplate\": \"group=D<br>y=%{x}<br>count=%{y}\", \"legendgroup\": \"\", \"marker\": {\"color\": \"#636efa\"}, \"name\": \"\", \"offsetgroup\": \"\", \"orientation\": \"v\", \"showlegend\": false, \"type\": \"histogram\", \"x\": [3.858824153322869, 1.578320181316926, 4.231308301848548, 1.446624505889436, 2.809455504499523, 0.3370565221316617, 2.2442210229382304, 2.4817129521171077, 2.669074356135961, 1.119463217860492, 2.8238164920488, 1.203893609298915, 2.5811597515079625, 3.510249848998413, 2.6068590472389337, 4.07286753960857, 2.9990537458214788, 2.9209725224722467, 3.45279146202614, 2.748404381812157, 3.3553086850070377, 0.5915666262477557, 5.10053530406739, 2.9723949088852306, 2.0564841213246514, 1.3741350074484446, 2.8548360546761264, 3.656424831388678, 1.5715717874275368, 1.0767446852301434, 3.2008372847616537, 2.4993188622397335, 2.3571534788959867, 2.285262978926535, 1.2845299222950965, 1.528539648001414, 4.359960306274103, 2.0125801172918054, 1.362642100342817, 1.1527324548556643, 0.3674902133174178, 2.505882363332325, 2.4694857292899957, 0.5190976037933384, 4.718203301328052, 1.9283940758370306, 1.8227776686682613, 1.4471514216671981, 1.6095552935566728, 3.5789226530974902], \"xaxis\": \"x4\", \"yaxis\": \"y4\"}],\n",
       "                        {\"annotations\": [{\"showarrow\": false, \"text\": \"group=A\", \"x\": 0.1175, \"xanchor\": \"center\", \"xref\": \"paper\", \"y\": 1.0, \"yanchor\": \"bottom\", \"yref\": \"paper\"}, {\"showarrow\": false, \"text\": \"group=B\", \"x\": 0.3725, \"xanchor\": \"center\", \"xref\": \"paper\", \"y\": 1.0, \"yanchor\": \"bottom\", \"yref\": \"paper\"}, {\"showarrow\": false, \"text\": \"group=C\", \"x\": 0.6275, \"xanchor\": \"center\", \"xref\": \"paper\", \"y\": 1.0, \"yanchor\": \"bottom\", \"yref\": \"paper\"}, {\"showarrow\": false, \"text\": \"group=D\", \"x\": 0.8824999999999998, \"xanchor\": \"center\", \"xref\": \"paper\", \"y\": 1.0, \"yanchor\": \"bottom\", \"yref\": \"paper\"}], \"barmode\": \"relative\", \"legend\": {\"tracegroupgap\": 0}, \"margin\": {\"t\": 60}, \"template\": {\"data\": {\"bar\": [{\"error_x\": {\"color\": \"#2a3f5f\"}, \"error_y\": {\"color\": \"#2a3f5f\"}, \"marker\": {\"line\": {\"color\": \"#E5ECF6\", \"width\": 0.5}}, \"type\": \"bar\"}], \"barpolar\": [{\"marker\": {\"line\": {\"color\": \"#E5ECF6\", \"width\": 0.5}}, \"type\": \"barpolar\"}], \"carpet\": [{\"aaxis\": {\"endlinecolor\": \"#2a3f5f\", \"gridcolor\": \"white\", \"linecolor\": \"white\", \"minorgridcolor\": \"white\", \"startlinecolor\": \"#2a3f5f\"}, \"baxis\": {\"endlinecolor\": \"#2a3f5f\", \"gridcolor\": \"white\", \"linecolor\": \"white\", \"minorgridcolor\": \"white\", \"startlinecolor\": \"#2a3f5f\"}, \"type\": \"carpet\"}], \"choropleth\": [{\"colorbar\": {\"outlinewidth\": 0, \"ticks\": \"\"}, \"type\": \"choropleth\"}], \"contour\": [{\"colorbar\": {\"outlinewidth\": 0, \"ticks\": \"\"}, \"colorscale\": [[0.0, \"#0d0887\"], [0.1111111111111111, \"#46039f\"], [0.2222222222222222, \"#7201a8\"], [0.3333333333333333, \"#9c179e\"], [0.4444444444444444, \"#bd3786\"], [0.5555555555555556, \"#d8576b\"], [0.6666666666666666, \"#ed7953\"], [0.7777777777777778, \"#fb9f3a\"], [0.8888888888888888, \"#fdca26\"], [1.0, \"#f0f921\"]], \"type\": \"contour\"}], \"contourcarpet\": [{\"colorbar\": {\"outlinewidth\": 0, \"ticks\": \"\"}, \"type\": \"contourcarpet\"}], \"heatmap\": [{\"colorbar\": {\"outlinewidth\": 0, \"ticks\": \"\"}, \"colorscale\": [[0.0, \"#0d0887\"], [0.1111111111111111, \"#46039f\"], [0.2222222222222222, \"#7201a8\"], [0.3333333333333333, \"#9c179e\"], [0.4444444444444444, \"#bd3786\"], [0.5555555555555556, \"#d8576b\"], [0.6666666666666666, \"#ed7953\"], [0.7777777777777778, \"#fb9f3a\"], [0.8888888888888888, \"#fdca26\"], [1.0, \"#f0f921\"]], \"type\": \"heatmap\"}], \"heatmapgl\": [{\"colorbar\": {\"outlinewidth\": 0, \"ticks\": \"\"}, \"colorscale\": [[0.0, \"#0d0887\"], [0.1111111111111111, \"#46039f\"], [0.2222222222222222, \"#7201a8\"], [0.3333333333333333, \"#9c179e\"], [0.4444444444444444, \"#bd3786\"], [0.5555555555555556, \"#d8576b\"], [0.6666666666666666, \"#ed7953\"], [0.7777777777777778, \"#fb9f3a\"], [0.8888888888888888, \"#fdca26\"], [1.0, \"#f0f921\"]], \"type\": \"heatmapgl\"}], \"histogram\": [{\"marker\": {\"colorbar\": {\"outlinewidth\": 0, \"ticks\": \"\"}}, \"type\": \"histogram\"}], \"histogram2d\": [{\"colorbar\": {\"outlinewidth\": 0, \"ticks\": \"\"}, \"colorscale\": [[0.0, \"#0d0887\"], [0.1111111111111111, \"#46039f\"], [0.2222222222222222, \"#7201a8\"], [0.3333333333333333, \"#9c179e\"], [0.4444444444444444, \"#bd3786\"], [0.5555555555555556, \"#d8576b\"], [0.6666666666666666, \"#ed7953\"], [0.7777777777777778, \"#fb9f3a\"], [0.8888888888888888, \"#fdca26\"], [1.0, \"#f0f921\"]], \"type\": \"histogram2d\"}], \"histogram2dcontour\": [{\"colorbar\": {\"outlinewidth\": 0, \"ticks\": \"\"}, \"colorscale\": [[0.0, \"#0d0887\"], [0.1111111111111111, \"#46039f\"], [0.2222222222222222, \"#7201a8\"], [0.3333333333333333, \"#9c179e\"], [0.4444444444444444, \"#bd3786\"], [0.5555555555555556, \"#d8576b\"], [0.6666666666666666, \"#ed7953\"], [0.7777777777777778, \"#fb9f3a\"], [0.8888888888888888, \"#fdca26\"], [1.0, \"#f0f921\"]], \"type\": \"histogram2dcontour\"}], \"mesh3d\": [{\"colorbar\": {\"outlinewidth\": 0, \"ticks\": \"\"}, \"type\": \"mesh3d\"}], \"parcoords\": [{\"line\": {\"colorbar\": {\"outlinewidth\": 0, \"ticks\": \"\"}}, \"type\": \"parcoords\"}], \"pie\": [{\"automargin\": true, \"type\": \"pie\"}], \"scatter\": [{\"marker\": {\"colorbar\": {\"outlinewidth\": 0, \"ticks\": \"\"}}, \"type\": \"scatter\"}], \"scatter3d\": [{\"line\": {\"colorbar\": {\"outlinewidth\": 0, \"ticks\": \"\"}}, \"marker\": {\"colorbar\": {\"outlinewidth\": 0, \"ticks\": \"\"}}, \"type\": \"scatter3d\"}], \"scattercarpet\": [{\"marker\": {\"colorbar\": {\"outlinewidth\": 0, \"ticks\": \"\"}}, \"type\": \"scattercarpet\"}], \"scattergeo\": [{\"marker\": {\"colorbar\": {\"outlinewidth\": 0, \"ticks\": \"\"}}, \"type\": \"scattergeo\"}], \"scattergl\": [{\"marker\": {\"colorbar\": {\"outlinewidth\": 0, \"ticks\": \"\"}}, \"type\": \"scattergl\"}], \"scattermapbox\": [{\"marker\": {\"colorbar\": {\"outlinewidth\": 0, \"ticks\": \"\"}}, \"type\": \"scattermapbox\"}], \"scatterpolar\": [{\"marker\": {\"colorbar\": {\"outlinewidth\": 0, \"ticks\": \"\"}}, \"type\": \"scatterpolar\"}], \"scatterpolargl\": [{\"marker\": {\"colorbar\": {\"outlinewidth\": 0, \"ticks\": \"\"}}, \"type\": \"scatterpolargl\"}], \"scatterternary\": [{\"marker\": {\"colorbar\": {\"outlinewidth\": 0, \"ticks\": \"\"}}, \"type\": \"scatterternary\"}], \"surface\": [{\"colorbar\": {\"outlinewidth\": 0, \"ticks\": \"\"}, \"colorscale\": [[0.0, \"#0d0887\"], [0.1111111111111111, \"#46039f\"], [0.2222222222222222, \"#7201a8\"], [0.3333333333333333, \"#9c179e\"], [0.4444444444444444, \"#bd3786\"], [0.5555555555555556, \"#d8576b\"], [0.6666666666666666, \"#ed7953\"], [0.7777777777777778, \"#fb9f3a\"], [0.8888888888888888, \"#fdca26\"], [1.0, \"#f0f921\"]], \"type\": \"surface\"}], \"table\": [{\"cells\": {\"fill\": {\"color\": \"#EBF0F8\"}, \"line\": {\"color\": \"white\"}}, \"header\": {\"fill\": {\"color\": \"#C8D4E3\"}, \"line\": {\"color\": \"white\"}}, \"type\": \"table\"}]}, \"layout\": {\"annotationdefaults\": {\"arrowcolor\": \"#2a3f5f\", \"arrowhead\": 0, \"arrowwidth\": 1}, \"coloraxis\": {\"colorbar\": {\"outlinewidth\": 0, \"ticks\": \"\"}}, \"colorscale\": {\"diverging\": [[0, \"#8e0152\"], [0.1, \"#c51b7d\"], [0.2, \"#de77ae\"], [0.3, \"#f1b6da\"], [0.4, \"#fde0ef\"], [0.5, \"#f7f7f7\"], [0.6, \"#e6f5d0\"], [0.7, \"#b8e186\"], [0.8, \"#7fbc41\"], [0.9, \"#4d9221\"], [1, \"#276419\"]], \"sequential\": [[0.0, \"#0d0887\"], [0.1111111111111111, \"#46039f\"], [0.2222222222222222, \"#7201a8\"], [0.3333333333333333, \"#9c179e\"], [0.4444444444444444, \"#bd3786\"], [0.5555555555555556, \"#d8576b\"], [0.6666666666666666, \"#ed7953\"], [0.7777777777777778, \"#fb9f3a\"], [0.8888888888888888, \"#fdca26\"], [1.0, \"#f0f921\"]], \"sequentialminus\": [[0.0, \"#0d0887\"], [0.1111111111111111, \"#46039f\"], [0.2222222222222222, \"#7201a8\"], [0.3333333333333333, \"#9c179e\"], [0.4444444444444444, \"#bd3786\"], [0.5555555555555556, \"#d8576b\"], [0.6666666666666666, \"#ed7953\"], [0.7777777777777778, \"#fb9f3a\"], [0.8888888888888888, \"#fdca26\"], [1.0, \"#f0f921\"]]}, \"colorway\": [\"#636efa\", \"#EF553B\", \"#00cc96\", \"#ab63fa\", \"#FFA15A\", \"#19d3f3\", \"#FF6692\", \"#B6E880\", \"#FF97FF\", \"#FECB52\"], \"font\": {\"color\": \"#2a3f5f\"}, \"geo\": {\"bgcolor\": \"white\", \"lakecolor\": \"white\", \"landcolor\": \"#E5ECF6\", \"showlakes\": true, \"showland\": true, \"subunitcolor\": \"white\"}, \"hoverlabel\": {\"align\": \"left\"}, \"hovermode\": \"closest\", \"mapbox\": {\"style\": \"light\"}, \"paper_bgcolor\": \"white\", \"plot_bgcolor\": \"#E5ECF6\", \"polar\": {\"angularaxis\": {\"gridcolor\": \"white\", \"linecolor\": \"white\", \"ticks\": \"\"}, \"bgcolor\": \"#E5ECF6\", \"radialaxis\": {\"gridcolor\": \"white\", \"linecolor\": \"white\", \"ticks\": \"\"}}, \"scene\": {\"xaxis\": {\"backgroundcolor\": \"#E5ECF6\", \"gridcolor\": \"white\", \"gridwidth\": 2, \"linecolor\": \"white\", \"showbackground\": true, \"ticks\": \"\", \"zerolinecolor\": \"white\"}, \"yaxis\": {\"backgroundcolor\": \"#E5ECF6\", \"gridcolor\": \"white\", \"gridwidth\": 2, \"linecolor\": \"white\", \"showbackground\": true, \"ticks\": \"\", \"zerolinecolor\": \"white\"}, \"zaxis\": {\"backgroundcolor\": \"#E5ECF6\", \"gridcolor\": \"white\", \"gridwidth\": 2, \"linecolor\": \"white\", \"showbackground\": true, \"ticks\": \"\", \"zerolinecolor\": \"white\"}}, \"shapedefaults\": {\"line\": {\"color\": \"#2a3f5f\"}}, \"ternary\": {\"aaxis\": {\"gridcolor\": \"white\", \"linecolor\": \"white\", \"ticks\": \"\"}, \"baxis\": {\"gridcolor\": \"white\", \"linecolor\": \"white\", \"ticks\": \"\"}, \"bgcolor\": \"#E5ECF6\", \"caxis\": {\"gridcolor\": \"white\", \"linecolor\": \"white\", \"ticks\": \"\"}}, \"title\": {\"x\": 0.05}, \"xaxis\": {\"automargin\": true, \"gridcolor\": \"white\", \"linecolor\": \"white\", \"ticks\": \"\", \"title\": {\"standoff\": 15}, \"zerolinecolor\": \"white\", \"zerolinewidth\": 2}, \"yaxis\": {\"automargin\": true, \"gridcolor\": \"white\", \"linecolor\": \"white\", \"ticks\": \"\", \"title\": {\"standoff\": 15}, \"zerolinecolor\": \"white\", \"zerolinewidth\": 2}}}, \"xaxis\": {\"anchor\": \"y\", \"domain\": [0.0, 0.235], \"title\": {\"text\": \"y\"}}, \"xaxis2\": {\"anchor\": \"y2\", \"domain\": [0.255, 0.49], \"matches\": \"x\", \"title\": {\"text\": \"y\"}}, \"xaxis3\": {\"anchor\": \"y3\", \"domain\": [0.51, 0.745], \"matches\": \"x\", \"title\": {\"text\": \"y\"}}, \"xaxis4\": {\"anchor\": \"y4\", \"domain\": [0.7649999999999999, 0.9999999999999999], \"matches\": \"x\", \"title\": {\"text\": \"y\"}}, \"yaxis\": {\"anchor\": \"x\", \"domain\": [0.0, 1.0], \"title\": {\"text\": \"count\"}}, \"yaxis2\": {\"anchor\": \"x2\", \"domain\": [0.0, 1.0], \"matches\": \"y\", \"showticklabels\": false}, \"yaxis3\": {\"anchor\": \"x3\", \"domain\": [0.0, 1.0], \"matches\": \"y\", \"showticklabels\": false}, \"yaxis4\": {\"anchor\": \"x4\", \"domain\": [0.0, 1.0], \"matches\": \"y\", \"showticklabels\": false}},\n",
       "                        {\"responsive\": true}\n",
       "                    ).then(function(){\n",
       "                            \n",
       "var gd = document.getElementById('a924b334-426e-4508-8c30-4fee303121cf');\n",
       "var x = new MutationObserver(function (mutations, observer) {{\n",
       "        var display = window.getComputedStyle(gd).display;\n",
       "        if (!display || display === 'none') {{\n",
       "            console.log([gd, 'removed!']);\n",
       "            Plotly.purge(gd);\n",
       "            observer.disconnect();\n",
       "        }}\n",
       "}});\n",
       "\n",
       "// Listen for the removal of the full notebook cells\n",
       "var notebookContainer = gd.closest('#notebook-container');\n",
       "if (notebookContainer) {{\n",
       "    x.observe(notebookContainer, {childList: true});\n",
       "}}\n",
       "\n",
       "// Listen for the clearing of the current output cell\n",
       "var outputEl = gd.closest('.output');\n",
       "if (outputEl) {{\n",
       "    x.observe(outputEl, {childList: true});\n",
       "}}\n",
       "\n",
       "                        })\n",
       "                };\n",
       "                });\n",
       "            </script>\n",
       "        </div>"
      ]
     },
     "metadata": {},
     "output_type": "display_data"
    }
   ],
   "source": [
    "# y histograms by group\n",
    "plotly.offline.iplot(\n",
    "    plotly.express.histogram(data1, x = \"y\", facet_col = \"group\")\n",
    ")"
   ]
  },
  {
   "cell_type": "code",
   "execution_count": 388,
   "metadata": {},
   "outputs": [
    {
     "data": {
      "application/vnd.plotly.v1+json": {
       "config": {
        "linkText": "Export to plot.ly",
        "plotlyServerURL": "https://plot.ly",
        "showLink": false
       },
       "data": [
        {
         "alignmentgroup": "True",
         "bingroup": "x",
         "hoverlabel": {
          "namelength": 0
         },
         "hovertemplate": "group=A<br>x=%{x}<br>count=%{y}",
         "legendgroup": "",
         "marker": {
          "color": "#636efa"
         },
         "name": "",
         "offsetgroup": "",
         "orientation": "v",
         "showlegend": false,
         "type": "histogram",
         "x": [
          3.473579208934824,
          1.6222774133964595,
          3.409079412238413,
          3.2631845561845205,
          4.766648955991365,
          2.532701233371488,
          1.9944866847085572,
          3.7979180212435044,
          2.721998982108717,
          2.538649097889896,
          3.392323201439394,
          3.0254962729484203,
          3.496218949706905,
          1.3536579723422777,
          2.9790998170647485,
          3.965019281420345,
          4.355199550777634,
          2.465617278309938,
          3.6554044650894064,
          1.7654933927945418,
          2.601300387271374,
          3.453612713910802,
          2.791959859127478,
          2.434657683640396,
          4.583771369003968,
          3.3754937363050743,
          2.5846733795043533,
          4.818691318017904,
          4.545566454047936,
          2.754171666710543,
          3.9389006928965733,
          3.9446693334162424,
          3.07818877716491,
          2.1841258637992684,
          3.741118143737825,
          2.063200208585301,
          3.4185006160784104,
          2.352801257779132,
          2.7059750843522865,
          3.8887388038364694,
          2.431396692906948,
          2.778913792877626,
          3.601969647640224,
          2.3637519045588555,
          3.3951104394125533,
          1.8742611089049463,
          3.186193302366253,
          3.1092320169618457,
          4.086240919611782,
          4.555032434488652
         ],
         "xaxis": "x",
         "yaxis": "y"
        },
        {
         "alignmentgroup": "True",
         "bingroup": "x",
         "hoverlabel": {
          "namelength": 0
         },
         "hovertemplate": "group=B<br>x=%{x}<br>count=%{y}",
         "legendgroup": "",
         "marker": {
          "color": "#636efa"
         },
         "name": "",
         "offsetgroup": "",
         "orientation": "v",
         "showlegend": false,
         "type": "histogram",
         "x": [
          3.8499268387164096,
          5.492941829490316,
          5.195954366148203,
          3.1242113454792735,
          5.010338925238923,
          3.5069445925735314,
          3.194238268334213,
          4.420845191010165,
          3.5679732664188646,
          2.8986650064216803,
          3.3217754673359825,
          4.277198450589916,
          5.303121071695143,
          5.659833931717733,
          2.67348239549958,
          3.3971680901937917,
          2.7916193675288463,
          3.3864137475992657,
          6.803851696799482,
          2.7722527843920757,
          2.4362893963031613,
          2.6638980885622994,
          4.063931796774217,
          4.131468924861049,
          4.636869764495064,
          2.819189272201937,
          4.0603588650553,
          5.43984627080321,
          3.572746052288088,
          4.1568199219652255,
          4.271651979795466,
          3.178643179018273,
          3.551297335971648,
          4.042219932787372,
          2.728553262640103,
          2.9809019967512365,
          3.784156707171044,
          4.787506308750086,
          5.503561596419499,
          4.153947300101712,
          2.658234860524419,
          1.533631247199423,
          3.673958441851678,
          2.4418209428638447,
          2.916850698468002,
          4.458910014449712,
          5.055749413145341,
          5.311775262661834,
          2.921016656642108,
          4.61894594697223
         ],
         "xaxis": "x2",
         "yaxis": "y2"
        },
        {
         "alignmentgroup": "True",
         "bingroup": "x",
         "hoverlabel": {
          "namelength": 0
         },
         "hovertemplate": "group=C<br>x=%{x}<br>count=%{y}",
         "legendgroup": "",
         "marker": {
          "color": "#636efa"
         },
         "name": "",
         "offsetgroup": "",
         "orientation": "v",
         "showlegend": false,
         "type": "histogram",
         "x": [
          3.3532299061909363,
          5.386394772314725,
          4.608474094126514,
          3.4907917052330095,
          4.724674137149463,
          4.504683930923926,
          4.939997026751625,
          3.226611472815457,
          3.007570814508811,
          3.3757378874412014,
          3.505610235656885,
          2.9924492143836137,
          4.490912387163064,
          6.384193063844521,
          5.554791959790973,
          2.6355251106830275,
          3.102610248148898,
          3.7447167003851574,
          3.0990225082760103,
          3.4415117379411684,
          5.613893912706013,
          4.433612112789211,
          4.688545140873281,
          3.022549665294838,
          5.328408765670799,
          4.996684384260931,
          4.036592405562132,
          5.507784853328769,
          3.754162027748343,
          2.30730128531301,
          1.7166876416744734,
          4.608822322334572,
          4.1465705927396685,
          3.7629036417426334,
          5.414433742481071,
          5.6520198909270345,
          4.031827971685776,
          3.9245545749297737,
          3.7677492155706775,
          2.786647387954144,
          2.844578542182097,
          4.922705290206343,
          2.100252443731639,
          2.5196318075329316,
          2.3352751249953423,
          4.679915877980518,
          6.395958270501213,
          4.117244226009278,
          0.9433372440345518,
          3.826123296245632
         ],
         "xaxis": "x3",
         "yaxis": "y3"
        },
        {
         "alignmentgroup": "True",
         "bingroup": "x",
         "hoverlabel": {
          "namelength": 0
         },
         "hovertemplate": "group=D<br>x=%{x}<br>count=%{y}",
         "legendgroup": "",
         "marker": {
          "color": "#636efa"
         },
         "name": "",
         "offsetgroup": "",
         "orientation": "v",
         "showlegend": false,
         "type": "histogram",
         "x": [
          4.377282027604293,
          1.902052090909183,
          4.655917032942277,
          2.719093361734187,
          2.155935438103405,
          2.2427268230845354,
          2.5759109029056635,
          3.572188347151112,
          3.3498813930276827,
          1.7252841684678064,
          4.596086158516954,
          1.660189960973414,
          1.871952059573553,
          3.9380418637240315,
          3.259888019206968,
          4.064811450208193,
          3.9813237862067337,
          4.230106742672806,
          3.810044653012682,
          2.833823732109744,
          5.22856008679004,
          3.8993125438778717,
          4.988283873786491,
          4.301515305113021,
          2.9318774366162117,
          2.3184931951877026,
          3.117473372554815,
          4.827779171640705,
          2.3707738048240845,
          3.4275914688484543,
          3.1594314373917616,
          2.8465070960667176,
          3.337608327508946,
          2.7150374045249714,
          3.5555297776052144,
          3.403695271800628,
          4.998984477637411,
          2.09963345022199,
          2.4683604837895485,
          2.2017644847350013,
          1.722785109397267,
          3.3972519092460027,
          3.4859663953494042,
          3.1431213982345976,
          4.172301773025032,
          2.8700774261380952,
          2.822246250956574,
          1.1971383671569615,
          3.493334834231731,
          3.7051247701629184
         ],
         "xaxis": "x4",
         "yaxis": "y4"
        }
       ],
       "layout": {
        "annotations": [
         {
          "showarrow": false,
          "text": "group=A",
          "x": 0.1175,
          "xanchor": "center",
          "xref": "paper",
          "y": 1,
          "yanchor": "bottom",
          "yref": "paper"
         },
         {
          "showarrow": false,
          "text": "group=B",
          "x": 0.3725,
          "xanchor": "center",
          "xref": "paper",
          "y": 1,
          "yanchor": "bottom",
          "yref": "paper"
         },
         {
          "showarrow": false,
          "text": "group=C",
          "x": 0.6275,
          "xanchor": "center",
          "xref": "paper",
          "y": 1,
          "yanchor": "bottom",
          "yref": "paper"
         },
         {
          "showarrow": false,
          "text": "group=D",
          "x": 0.8824999999999998,
          "xanchor": "center",
          "xref": "paper",
          "y": 1,
          "yanchor": "bottom",
          "yref": "paper"
         }
        ],
        "barmode": "relative",
        "legend": {
         "tracegroupgap": 0
        },
        "margin": {
         "t": 60
        },
        "template": {
         "data": {
          "bar": [
           {
            "error_x": {
             "color": "#2a3f5f"
            },
            "error_y": {
             "color": "#2a3f5f"
            },
            "marker": {
             "line": {
              "color": "#E5ECF6",
              "width": 0.5
             }
            },
            "type": "bar"
           }
          ],
          "barpolar": [
           {
            "marker": {
             "line": {
              "color": "#E5ECF6",
              "width": 0.5
             }
            },
            "type": "barpolar"
           }
          ],
          "carpet": [
           {
            "aaxis": {
             "endlinecolor": "#2a3f5f",
             "gridcolor": "white",
             "linecolor": "white",
             "minorgridcolor": "white",
             "startlinecolor": "#2a3f5f"
            },
            "baxis": {
             "endlinecolor": "#2a3f5f",
             "gridcolor": "white",
             "linecolor": "white",
             "minorgridcolor": "white",
             "startlinecolor": "#2a3f5f"
            },
            "type": "carpet"
           }
          ],
          "choropleth": [
           {
            "colorbar": {
             "outlinewidth": 0,
             "ticks": ""
            },
            "type": "choropleth"
           }
          ],
          "contour": [
           {
            "colorbar": {
             "outlinewidth": 0,
             "ticks": ""
            },
            "colorscale": [
             [
              0,
              "#0d0887"
             ],
             [
              0.1111111111111111,
              "#46039f"
             ],
             [
              0.2222222222222222,
              "#7201a8"
             ],
             [
              0.3333333333333333,
              "#9c179e"
             ],
             [
              0.4444444444444444,
              "#bd3786"
             ],
             [
              0.5555555555555556,
              "#d8576b"
             ],
             [
              0.6666666666666666,
              "#ed7953"
             ],
             [
              0.7777777777777778,
              "#fb9f3a"
             ],
             [
              0.8888888888888888,
              "#fdca26"
             ],
             [
              1,
              "#f0f921"
             ]
            ],
            "type": "contour"
           }
          ],
          "contourcarpet": [
           {
            "colorbar": {
             "outlinewidth": 0,
             "ticks": ""
            },
            "type": "contourcarpet"
           }
          ],
          "heatmap": [
           {
            "colorbar": {
             "outlinewidth": 0,
             "ticks": ""
            },
            "colorscale": [
             [
              0,
              "#0d0887"
             ],
             [
              0.1111111111111111,
              "#46039f"
             ],
             [
              0.2222222222222222,
              "#7201a8"
             ],
             [
              0.3333333333333333,
              "#9c179e"
             ],
             [
              0.4444444444444444,
              "#bd3786"
             ],
             [
              0.5555555555555556,
              "#d8576b"
             ],
             [
              0.6666666666666666,
              "#ed7953"
             ],
             [
              0.7777777777777778,
              "#fb9f3a"
             ],
             [
              0.8888888888888888,
              "#fdca26"
             ],
             [
              1,
              "#f0f921"
             ]
            ],
            "type": "heatmap"
           }
          ],
          "heatmapgl": [
           {
            "colorbar": {
             "outlinewidth": 0,
             "ticks": ""
            },
            "colorscale": [
             [
              0,
              "#0d0887"
             ],
             [
              0.1111111111111111,
              "#46039f"
             ],
             [
              0.2222222222222222,
              "#7201a8"
             ],
             [
              0.3333333333333333,
              "#9c179e"
             ],
             [
              0.4444444444444444,
              "#bd3786"
             ],
             [
              0.5555555555555556,
              "#d8576b"
             ],
             [
              0.6666666666666666,
              "#ed7953"
             ],
             [
              0.7777777777777778,
              "#fb9f3a"
             ],
             [
              0.8888888888888888,
              "#fdca26"
             ],
             [
              1,
              "#f0f921"
             ]
            ],
            "type": "heatmapgl"
           }
          ],
          "histogram": [
           {
            "marker": {
             "colorbar": {
              "outlinewidth": 0,
              "ticks": ""
             }
            },
            "type": "histogram"
           }
          ],
          "histogram2d": [
           {
            "colorbar": {
             "outlinewidth": 0,
             "ticks": ""
            },
            "colorscale": [
             [
              0,
              "#0d0887"
             ],
             [
              0.1111111111111111,
              "#46039f"
             ],
             [
              0.2222222222222222,
              "#7201a8"
             ],
             [
              0.3333333333333333,
              "#9c179e"
             ],
             [
              0.4444444444444444,
              "#bd3786"
             ],
             [
              0.5555555555555556,
              "#d8576b"
             ],
             [
              0.6666666666666666,
              "#ed7953"
             ],
             [
              0.7777777777777778,
              "#fb9f3a"
             ],
             [
              0.8888888888888888,
              "#fdca26"
             ],
             [
              1,
              "#f0f921"
             ]
            ],
            "type": "histogram2d"
           }
          ],
          "histogram2dcontour": [
           {
            "colorbar": {
             "outlinewidth": 0,
             "ticks": ""
            },
            "colorscale": [
             [
              0,
              "#0d0887"
             ],
             [
              0.1111111111111111,
              "#46039f"
             ],
             [
              0.2222222222222222,
              "#7201a8"
             ],
             [
              0.3333333333333333,
              "#9c179e"
             ],
             [
              0.4444444444444444,
              "#bd3786"
             ],
             [
              0.5555555555555556,
              "#d8576b"
             ],
             [
              0.6666666666666666,
              "#ed7953"
             ],
             [
              0.7777777777777778,
              "#fb9f3a"
             ],
             [
              0.8888888888888888,
              "#fdca26"
             ],
             [
              1,
              "#f0f921"
             ]
            ],
            "type": "histogram2dcontour"
           }
          ],
          "mesh3d": [
           {
            "colorbar": {
             "outlinewidth": 0,
             "ticks": ""
            },
            "type": "mesh3d"
           }
          ],
          "parcoords": [
           {
            "line": {
             "colorbar": {
              "outlinewidth": 0,
              "ticks": ""
             }
            },
            "type": "parcoords"
           }
          ],
          "pie": [
           {
            "automargin": true,
            "type": "pie"
           }
          ],
          "scatter": [
           {
            "marker": {
             "colorbar": {
              "outlinewidth": 0,
              "ticks": ""
             }
            },
            "type": "scatter"
           }
          ],
          "scatter3d": [
           {
            "line": {
             "colorbar": {
              "outlinewidth": 0,
              "ticks": ""
             }
            },
            "marker": {
             "colorbar": {
              "outlinewidth": 0,
              "ticks": ""
             }
            },
            "type": "scatter3d"
           }
          ],
          "scattercarpet": [
           {
            "marker": {
             "colorbar": {
              "outlinewidth": 0,
              "ticks": ""
             }
            },
            "type": "scattercarpet"
           }
          ],
          "scattergeo": [
           {
            "marker": {
             "colorbar": {
              "outlinewidth": 0,
              "ticks": ""
             }
            },
            "type": "scattergeo"
           }
          ],
          "scattergl": [
           {
            "marker": {
             "colorbar": {
              "outlinewidth": 0,
              "ticks": ""
             }
            },
            "type": "scattergl"
           }
          ],
          "scattermapbox": [
           {
            "marker": {
             "colorbar": {
              "outlinewidth": 0,
              "ticks": ""
             }
            },
            "type": "scattermapbox"
           }
          ],
          "scatterpolar": [
           {
            "marker": {
             "colorbar": {
              "outlinewidth": 0,
              "ticks": ""
             }
            },
            "type": "scatterpolar"
           }
          ],
          "scatterpolargl": [
           {
            "marker": {
             "colorbar": {
              "outlinewidth": 0,
              "ticks": ""
             }
            },
            "type": "scatterpolargl"
           }
          ],
          "scatterternary": [
           {
            "marker": {
             "colorbar": {
              "outlinewidth": 0,
              "ticks": ""
             }
            },
            "type": "scatterternary"
           }
          ],
          "surface": [
           {
            "colorbar": {
             "outlinewidth": 0,
             "ticks": ""
            },
            "colorscale": [
             [
              0,
              "#0d0887"
             ],
             [
              0.1111111111111111,
              "#46039f"
             ],
             [
              0.2222222222222222,
              "#7201a8"
             ],
             [
              0.3333333333333333,
              "#9c179e"
             ],
             [
              0.4444444444444444,
              "#bd3786"
             ],
             [
              0.5555555555555556,
              "#d8576b"
             ],
             [
              0.6666666666666666,
              "#ed7953"
             ],
             [
              0.7777777777777778,
              "#fb9f3a"
             ],
             [
              0.8888888888888888,
              "#fdca26"
             ],
             [
              1,
              "#f0f921"
             ]
            ],
            "type": "surface"
           }
          ],
          "table": [
           {
            "cells": {
             "fill": {
              "color": "#EBF0F8"
             },
             "line": {
              "color": "white"
             }
            },
            "header": {
             "fill": {
              "color": "#C8D4E3"
             },
             "line": {
              "color": "white"
             }
            },
            "type": "table"
           }
          ]
         },
         "layout": {
          "annotationdefaults": {
           "arrowcolor": "#2a3f5f",
           "arrowhead": 0,
           "arrowwidth": 1
          },
          "coloraxis": {
           "colorbar": {
            "outlinewidth": 0,
            "ticks": ""
           }
          },
          "colorscale": {
           "diverging": [
            [
             0,
             "#8e0152"
            ],
            [
             0.1,
             "#c51b7d"
            ],
            [
             0.2,
             "#de77ae"
            ],
            [
             0.3,
             "#f1b6da"
            ],
            [
             0.4,
             "#fde0ef"
            ],
            [
             0.5,
             "#f7f7f7"
            ],
            [
             0.6,
             "#e6f5d0"
            ],
            [
             0.7,
             "#b8e186"
            ],
            [
             0.8,
             "#7fbc41"
            ],
            [
             0.9,
             "#4d9221"
            ],
            [
             1,
             "#276419"
            ]
           ],
           "sequential": [
            [
             0,
             "#0d0887"
            ],
            [
             0.1111111111111111,
             "#46039f"
            ],
            [
             0.2222222222222222,
             "#7201a8"
            ],
            [
             0.3333333333333333,
             "#9c179e"
            ],
            [
             0.4444444444444444,
             "#bd3786"
            ],
            [
             0.5555555555555556,
             "#d8576b"
            ],
            [
             0.6666666666666666,
             "#ed7953"
            ],
            [
             0.7777777777777778,
             "#fb9f3a"
            ],
            [
             0.8888888888888888,
             "#fdca26"
            ],
            [
             1,
             "#f0f921"
            ]
           ],
           "sequentialminus": [
            [
             0,
             "#0d0887"
            ],
            [
             0.1111111111111111,
             "#46039f"
            ],
            [
             0.2222222222222222,
             "#7201a8"
            ],
            [
             0.3333333333333333,
             "#9c179e"
            ],
            [
             0.4444444444444444,
             "#bd3786"
            ],
            [
             0.5555555555555556,
             "#d8576b"
            ],
            [
             0.6666666666666666,
             "#ed7953"
            ],
            [
             0.7777777777777778,
             "#fb9f3a"
            ],
            [
             0.8888888888888888,
             "#fdca26"
            ],
            [
             1,
             "#f0f921"
            ]
           ]
          },
          "colorway": [
           "#636efa",
           "#EF553B",
           "#00cc96",
           "#ab63fa",
           "#FFA15A",
           "#19d3f3",
           "#FF6692",
           "#B6E880",
           "#FF97FF",
           "#FECB52"
          ],
          "font": {
           "color": "#2a3f5f"
          },
          "geo": {
           "bgcolor": "white",
           "lakecolor": "white",
           "landcolor": "#E5ECF6",
           "showlakes": true,
           "showland": true,
           "subunitcolor": "white"
          },
          "hoverlabel": {
           "align": "left"
          },
          "hovermode": "closest",
          "mapbox": {
           "style": "light"
          },
          "paper_bgcolor": "white",
          "plot_bgcolor": "#E5ECF6",
          "polar": {
           "angularaxis": {
            "gridcolor": "white",
            "linecolor": "white",
            "ticks": ""
           },
           "bgcolor": "#E5ECF6",
           "radialaxis": {
            "gridcolor": "white",
            "linecolor": "white",
            "ticks": ""
           }
          },
          "scene": {
           "xaxis": {
            "backgroundcolor": "#E5ECF6",
            "gridcolor": "white",
            "gridwidth": 2,
            "linecolor": "white",
            "showbackground": true,
            "ticks": "",
            "zerolinecolor": "white"
           },
           "yaxis": {
            "backgroundcolor": "#E5ECF6",
            "gridcolor": "white",
            "gridwidth": 2,
            "linecolor": "white",
            "showbackground": true,
            "ticks": "",
            "zerolinecolor": "white"
           },
           "zaxis": {
            "backgroundcolor": "#E5ECF6",
            "gridcolor": "white",
            "gridwidth": 2,
            "linecolor": "white",
            "showbackground": true,
            "ticks": "",
            "zerolinecolor": "white"
           }
          },
          "shapedefaults": {
           "line": {
            "color": "#2a3f5f"
           }
          },
          "ternary": {
           "aaxis": {
            "gridcolor": "white",
            "linecolor": "white",
            "ticks": ""
           },
           "baxis": {
            "gridcolor": "white",
            "linecolor": "white",
            "ticks": ""
           },
           "bgcolor": "#E5ECF6",
           "caxis": {
            "gridcolor": "white",
            "linecolor": "white",
            "ticks": ""
           }
          },
          "title": {
           "x": 0.05
          },
          "xaxis": {
           "automargin": true,
           "gridcolor": "white",
           "linecolor": "white",
           "ticks": "",
           "title": {
            "standoff": 15
           },
           "zerolinecolor": "white",
           "zerolinewidth": 2
          },
          "yaxis": {
           "automargin": true,
           "gridcolor": "white",
           "linecolor": "white",
           "ticks": "",
           "title": {
            "standoff": 15
           },
           "zerolinecolor": "white",
           "zerolinewidth": 2
          }
         }
        },
        "xaxis": {
         "anchor": "y",
         "domain": [
          0,
          0.235
         ],
         "title": {
          "text": "x"
         }
        },
        "xaxis2": {
         "anchor": "y2",
         "domain": [
          0.255,
          0.49
         ],
         "matches": "x",
         "title": {
          "text": "x"
         }
        },
        "xaxis3": {
         "anchor": "y3",
         "domain": [
          0.51,
          0.745
         ],
         "matches": "x",
         "title": {
          "text": "x"
         }
        },
        "xaxis4": {
         "anchor": "y4",
         "domain": [
          0.7649999999999999,
          0.9999999999999999
         ],
         "matches": "x",
         "title": {
          "text": "x"
         }
        },
        "yaxis": {
         "anchor": "x",
         "domain": [
          0,
          1
         ],
         "title": {
          "text": "count"
         }
        },
        "yaxis2": {
         "anchor": "x2",
         "domain": [
          0,
          1
         ],
         "matches": "y",
         "showticklabels": false
        },
        "yaxis3": {
         "anchor": "x3",
         "domain": [
          0,
          1
         ],
         "matches": "y",
         "showticklabels": false
        },
        "yaxis4": {
         "anchor": "x4",
         "domain": [
          0,
          1
         ],
         "matches": "y",
         "showticklabels": false
        }
       }
      },
      "text/html": [
       "<div>\n",
       "        \n",
       "        \n",
       "            <div id=\"c94b8100-179f-4a48-86a1-7b800bf634bb\" class=\"plotly-graph-div\" style=\"height:525px; width:100%;\"></div>\n",
       "            <script type=\"text/javascript\">\n",
       "                require([\"plotly\"], function(Plotly) {\n",
       "                    window.PLOTLYENV=window.PLOTLYENV || {};\n",
       "                    \n",
       "                if (document.getElementById(\"c94b8100-179f-4a48-86a1-7b800bf634bb\")) {\n",
       "                    Plotly.newPlot(\n",
       "                        'c94b8100-179f-4a48-86a1-7b800bf634bb',\n",
       "                        [{\"alignmentgroup\": \"True\", \"bingroup\": \"x\", \"hoverlabel\": {\"namelength\": 0}, \"hovertemplate\": \"group=A<br>x=%{x}<br>count=%{y}\", \"legendgroup\": \"\", \"marker\": {\"color\": \"#636efa\"}, \"name\": \"\", \"offsetgroup\": \"\", \"orientation\": \"v\", \"showlegend\": false, \"type\": \"histogram\", \"x\": [3.473579208934824, 1.6222774133964595, 3.409079412238413, 3.2631845561845205, 4.766648955991365, 2.532701233371488, 1.9944866847085572, 3.7979180212435044, 2.721998982108717, 2.538649097889896, 3.392323201439394, 3.0254962729484203, 3.496218949706905, 1.3536579723422777, 2.9790998170647485, 3.965019281420345, 4.355199550777634, 2.465617278309938, 3.6554044650894064, 1.7654933927945418, 2.601300387271374, 3.453612713910802, 2.791959859127478, 2.434657683640396, 4.583771369003968, 3.3754937363050743, 2.5846733795043533, 4.818691318017904, 4.545566454047936, 2.754171666710543, 3.9389006928965733, 3.9446693334162424, 3.07818877716491, 2.1841258637992684, 3.741118143737825, 2.063200208585301, 3.4185006160784104, 2.352801257779132, 2.7059750843522865, 3.8887388038364694, 2.431396692906948, 2.778913792877626, 3.601969647640224, 2.3637519045588555, 3.3951104394125533, 1.8742611089049463, 3.186193302366253, 3.1092320169618457, 4.086240919611782, 4.555032434488652], \"xaxis\": \"x\", \"yaxis\": \"y\"}, {\"alignmentgroup\": \"True\", \"bingroup\": \"x\", \"hoverlabel\": {\"namelength\": 0}, \"hovertemplate\": \"group=B<br>x=%{x}<br>count=%{y}\", \"legendgroup\": \"\", \"marker\": {\"color\": \"#636efa\"}, \"name\": \"\", \"offsetgroup\": \"\", \"orientation\": \"v\", \"showlegend\": false, \"type\": \"histogram\", \"x\": [3.8499268387164096, 5.492941829490316, 5.195954366148203, 3.1242113454792735, 5.010338925238923, 3.5069445925735314, 3.194238268334213, 4.420845191010165, 3.5679732664188646, 2.8986650064216803, 3.3217754673359825, 4.277198450589916, 5.303121071695143, 5.659833931717733, 2.67348239549958, 3.3971680901937917, 2.7916193675288463, 3.3864137475992657, 6.803851696799482, 2.7722527843920757, 2.4362893963031613, 2.6638980885622994, 4.063931796774217, 4.131468924861049, 4.636869764495064, 2.819189272201937, 4.0603588650553, 5.43984627080321, 3.572746052288088, 4.1568199219652255, 4.271651979795466, 3.178643179018273, 3.551297335971648, 4.042219932787372, 2.728553262640103, 2.9809019967512365, 3.784156707171044, 4.787506308750086, 5.503561596419499, 4.153947300101712, 2.658234860524419, 1.533631247199423, 3.673958441851678, 2.4418209428638447, 2.916850698468002, 4.458910014449712, 5.055749413145341, 5.311775262661834, 2.921016656642108, 4.61894594697223], \"xaxis\": \"x2\", \"yaxis\": \"y2\"}, {\"alignmentgroup\": \"True\", \"bingroup\": \"x\", \"hoverlabel\": {\"namelength\": 0}, \"hovertemplate\": \"group=C<br>x=%{x}<br>count=%{y}\", \"legendgroup\": \"\", \"marker\": {\"color\": \"#636efa\"}, \"name\": \"\", \"offsetgroup\": \"\", \"orientation\": \"v\", \"showlegend\": false, \"type\": \"histogram\", \"x\": [3.3532299061909363, 5.386394772314725, 4.608474094126514, 3.4907917052330095, 4.724674137149463, 4.504683930923926, 4.939997026751625, 3.226611472815457, 3.007570814508811, 3.3757378874412014, 3.505610235656885, 2.9924492143836137, 4.490912387163064, 6.384193063844521, 5.554791959790973, 2.6355251106830275, 3.102610248148898, 3.7447167003851574, 3.0990225082760103, 3.4415117379411684, 5.613893912706013, 4.433612112789211, 4.688545140873281, 3.022549665294838, 5.328408765670799, 4.996684384260931, 4.036592405562132, 5.507784853328769, 3.754162027748343, 2.30730128531301, 1.7166876416744734, 4.608822322334572, 4.1465705927396685, 3.7629036417426334, 5.414433742481071, 5.6520198909270345, 4.031827971685776, 3.9245545749297737, 3.7677492155706775, 2.786647387954144, 2.844578542182097, 4.922705290206343, 2.100252443731639, 2.5196318075329316, 2.3352751249953423, 4.679915877980518, 6.395958270501213, 4.117244226009278, 0.9433372440345518, 3.826123296245632], \"xaxis\": \"x3\", \"yaxis\": \"y3\"}, {\"alignmentgroup\": \"True\", \"bingroup\": \"x\", \"hoverlabel\": {\"namelength\": 0}, \"hovertemplate\": \"group=D<br>x=%{x}<br>count=%{y}\", \"legendgroup\": \"\", \"marker\": {\"color\": \"#636efa\"}, \"name\": \"\", \"offsetgroup\": \"\", \"orientation\": \"v\", \"showlegend\": false, \"type\": \"histogram\", \"x\": [4.377282027604293, 1.902052090909183, 4.655917032942277, 2.719093361734187, 2.155935438103405, 2.2427268230845354, 2.5759109029056635, 3.572188347151112, 3.3498813930276827, 1.7252841684678064, 4.596086158516954, 1.660189960973414, 1.871952059573553, 3.9380418637240315, 3.259888019206968, 4.064811450208193, 3.9813237862067337, 4.230106742672806, 3.810044653012682, 2.833823732109744, 5.22856008679004, 3.8993125438778717, 4.988283873786491, 4.301515305113021, 2.9318774366162117, 2.3184931951877026, 3.117473372554815, 4.827779171640705, 2.3707738048240845, 3.4275914688484543, 3.1594314373917616, 2.8465070960667176, 3.337608327508946, 2.7150374045249714, 3.5555297776052144, 3.403695271800628, 4.998984477637411, 2.09963345022199, 2.4683604837895485, 2.2017644847350013, 1.722785109397267, 3.3972519092460027, 3.4859663953494042, 3.1431213982345976, 4.172301773025032, 2.8700774261380952, 2.822246250956574, 1.1971383671569615, 3.493334834231731, 3.7051247701629184], \"xaxis\": \"x4\", \"yaxis\": \"y4\"}],\n",
       "                        {\"annotations\": [{\"showarrow\": false, \"text\": \"group=A\", \"x\": 0.1175, \"xanchor\": \"center\", \"xref\": \"paper\", \"y\": 1.0, \"yanchor\": \"bottom\", \"yref\": \"paper\"}, {\"showarrow\": false, \"text\": \"group=B\", \"x\": 0.3725, \"xanchor\": \"center\", \"xref\": \"paper\", \"y\": 1.0, \"yanchor\": \"bottom\", \"yref\": \"paper\"}, {\"showarrow\": false, \"text\": \"group=C\", \"x\": 0.6275, \"xanchor\": \"center\", \"xref\": \"paper\", \"y\": 1.0, \"yanchor\": \"bottom\", \"yref\": \"paper\"}, {\"showarrow\": false, \"text\": \"group=D\", \"x\": 0.8824999999999998, \"xanchor\": \"center\", \"xref\": \"paper\", \"y\": 1.0, \"yanchor\": \"bottom\", \"yref\": \"paper\"}], \"barmode\": \"relative\", \"legend\": {\"tracegroupgap\": 0}, \"margin\": {\"t\": 60}, \"template\": {\"data\": {\"bar\": [{\"error_x\": {\"color\": \"#2a3f5f\"}, \"error_y\": {\"color\": \"#2a3f5f\"}, \"marker\": {\"line\": {\"color\": \"#E5ECF6\", \"width\": 0.5}}, \"type\": \"bar\"}], \"barpolar\": [{\"marker\": {\"line\": {\"color\": \"#E5ECF6\", \"width\": 0.5}}, \"type\": \"barpolar\"}], \"carpet\": [{\"aaxis\": {\"endlinecolor\": \"#2a3f5f\", \"gridcolor\": \"white\", \"linecolor\": \"white\", \"minorgridcolor\": \"white\", \"startlinecolor\": \"#2a3f5f\"}, \"baxis\": {\"endlinecolor\": \"#2a3f5f\", \"gridcolor\": \"white\", \"linecolor\": \"white\", \"minorgridcolor\": \"white\", \"startlinecolor\": \"#2a3f5f\"}, \"type\": \"carpet\"}], \"choropleth\": [{\"colorbar\": {\"outlinewidth\": 0, \"ticks\": \"\"}, \"type\": \"choropleth\"}], \"contour\": [{\"colorbar\": {\"outlinewidth\": 0, \"ticks\": \"\"}, \"colorscale\": [[0.0, \"#0d0887\"], [0.1111111111111111, \"#46039f\"], [0.2222222222222222, \"#7201a8\"], [0.3333333333333333, \"#9c179e\"], [0.4444444444444444, \"#bd3786\"], [0.5555555555555556, \"#d8576b\"], [0.6666666666666666, \"#ed7953\"], [0.7777777777777778, \"#fb9f3a\"], [0.8888888888888888, \"#fdca26\"], [1.0, \"#f0f921\"]], \"type\": \"contour\"}], \"contourcarpet\": [{\"colorbar\": {\"outlinewidth\": 0, \"ticks\": \"\"}, \"type\": \"contourcarpet\"}], \"heatmap\": [{\"colorbar\": {\"outlinewidth\": 0, \"ticks\": \"\"}, \"colorscale\": [[0.0, \"#0d0887\"], [0.1111111111111111, \"#46039f\"], [0.2222222222222222, \"#7201a8\"], [0.3333333333333333, \"#9c179e\"], [0.4444444444444444, \"#bd3786\"], [0.5555555555555556, \"#d8576b\"], [0.6666666666666666, \"#ed7953\"], [0.7777777777777778, \"#fb9f3a\"], [0.8888888888888888, \"#fdca26\"], [1.0, \"#f0f921\"]], \"type\": \"heatmap\"}], \"heatmapgl\": [{\"colorbar\": {\"outlinewidth\": 0, \"ticks\": \"\"}, \"colorscale\": [[0.0, \"#0d0887\"], [0.1111111111111111, \"#46039f\"], [0.2222222222222222, \"#7201a8\"], [0.3333333333333333, \"#9c179e\"], [0.4444444444444444, \"#bd3786\"], [0.5555555555555556, \"#d8576b\"], [0.6666666666666666, \"#ed7953\"], [0.7777777777777778, \"#fb9f3a\"], [0.8888888888888888, \"#fdca26\"], [1.0, \"#f0f921\"]], \"type\": \"heatmapgl\"}], \"histogram\": [{\"marker\": {\"colorbar\": {\"outlinewidth\": 0, \"ticks\": \"\"}}, \"type\": \"histogram\"}], \"histogram2d\": [{\"colorbar\": {\"outlinewidth\": 0, \"ticks\": \"\"}, \"colorscale\": [[0.0, \"#0d0887\"], [0.1111111111111111, \"#46039f\"], [0.2222222222222222, \"#7201a8\"], [0.3333333333333333, \"#9c179e\"], [0.4444444444444444, \"#bd3786\"], [0.5555555555555556, \"#d8576b\"], [0.6666666666666666, \"#ed7953\"], [0.7777777777777778, \"#fb9f3a\"], [0.8888888888888888, \"#fdca26\"], [1.0, \"#f0f921\"]], \"type\": \"histogram2d\"}], \"histogram2dcontour\": [{\"colorbar\": {\"outlinewidth\": 0, \"ticks\": \"\"}, \"colorscale\": [[0.0, \"#0d0887\"], [0.1111111111111111, \"#46039f\"], [0.2222222222222222, \"#7201a8\"], [0.3333333333333333, \"#9c179e\"], [0.4444444444444444, \"#bd3786\"], [0.5555555555555556, \"#d8576b\"], [0.6666666666666666, \"#ed7953\"], [0.7777777777777778, \"#fb9f3a\"], [0.8888888888888888, \"#fdca26\"], [1.0, \"#f0f921\"]], \"type\": \"histogram2dcontour\"}], \"mesh3d\": [{\"colorbar\": {\"outlinewidth\": 0, \"ticks\": \"\"}, \"type\": \"mesh3d\"}], \"parcoords\": [{\"line\": {\"colorbar\": {\"outlinewidth\": 0, \"ticks\": \"\"}}, \"type\": \"parcoords\"}], \"pie\": [{\"automargin\": true, \"type\": \"pie\"}], \"scatter\": [{\"marker\": {\"colorbar\": {\"outlinewidth\": 0, \"ticks\": \"\"}}, \"type\": \"scatter\"}], \"scatter3d\": [{\"line\": {\"colorbar\": {\"outlinewidth\": 0, \"ticks\": \"\"}}, \"marker\": {\"colorbar\": {\"outlinewidth\": 0, \"ticks\": \"\"}}, \"type\": \"scatter3d\"}], \"scattercarpet\": [{\"marker\": {\"colorbar\": {\"outlinewidth\": 0, \"ticks\": \"\"}}, \"type\": \"scattercarpet\"}], \"scattergeo\": [{\"marker\": {\"colorbar\": {\"outlinewidth\": 0, \"ticks\": \"\"}}, \"type\": \"scattergeo\"}], \"scattergl\": [{\"marker\": {\"colorbar\": {\"outlinewidth\": 0, \"ticks\": \"\"}}, \"type\": \"scattergl\"}], \"scattermapbox\": [{\"marker\": {\"colorbar\": {\"outlinewidth\": 0, \"ticks\": \"\"}}, \"type\": \"scattermapbox\"}], \"scatterpolar\": [{\"marker\": {\"colorbar\": {\"outlinewidth\": 0, \"ticks\": \"\"}}, \"type\": \"scatterpolar\"}], \"scatterpolargl\": [{\"marker\": {\"colorbar\": {\"outlinewidth\": 0, \"ticks\": \"\"}}, \"type\": \"scatterpolargl\"}], \"scatterternary\": [{\"marker\": {\"colorbar\": {\"outlinewidth\": 0, \"ticks\": \"\"}}, \"type\": \"scatterternary\"}], \"surface\": [{\"colorbar\": {\"outlinewidth\": 0, \"ticks\": \"\"}, \"colorscale\": [[0.0, \"#0d0887\"], [0.1111111111111111, \"#46039f\"], [0.2222222222222222, \"#7201a8\"], [0.3333333333333333, \"#9c179e\"], [0.4444444444444444, \"#bd3786\"], [0.5555555555555556, \"#d8576b\"], [0.6666666666666666, \"#ed7953\"], [0.7777777777777778, \"#fb9f3a\"], [0.8888888888888888, \"#fdca26\"], [1.0, \"#f0f921\"]], \"type\": \"surface\"}], \"table\": [{\"cells\": {\"fill\": {\"color\": \"#EBF0F8\"}, \"line\": {\"color\": \"white\"}}, \"header\": {\"fill\": {\"color\": \"#C8D4E3\"}, \"line\": {\"color\": \"white\"}}, \"type\": \"table\"}]}, \"layout\": {\"annotationdefaults\": {\"arrowcolor\": \"#2a3f5f\", \"arrowhead\": 0, \"arrowwidth\": 1}, \"coloraxis\": {\"colorbar\": {\"outlinewidth\": 0, \"ticks\": \"\"}}, \"colorscale\": {\"diverging\": [[0, \"#8e0152\"], [0.1, \"#c51b7d\"], [0.2, \"#de77ae\"], [0.3, \"#f1b6da\"], [0.4, \"#fde0ef\"], [0.5, \"#f7f7f7\"], [0.6, \"#e6f5d0\"], [0.7, \"#b8e186\"], [0.8, \"#7fbc41\"], [0.9, \"#4d9221\"], [1, \"#276419\"]], \"sequential\": [[0.0, \"#0d0887\"], [0.1111111111111111, \"#46039f\"], [0.2222222222222222, \"#7201a8\"], [0.3333333333333333, \"#9c179e\"], [0.4444444444444444, \"#bd3786\"], [0.5555555555555556, \"#d8576b\"], [0.6666666666666666, \"#ed7953\"], [0.7777777777777778, \"#fb9f3a\"], [0.8888888888888888, \"#fdca26\"], [1.0, \"#f0f921\"]], \"sequentialminus\": [[0.0, \"#0d0887\"], [0.1111111111111111, \"#46039f\"], [0.2222222222222222, \"#7201a8\"], [0.3333333333333333, \"#9c179e\"], [0.4444444444444444, \"#bd3786\"], [0.5555555555555556, \"#d8576b\"], [0.6666666666666666, \"#ed7953\"], [0.7777777777777778, \"#fb9f3a\"], [0.8888888888888888, \"#fdca26\"], [1.0, \"#f0f921\"]]}, \"colorway\": [\"#636efa\", \"#EF553B\", \"#00cc96\", \"#ab63fa\", \"#FFA15A\", \"#19d3f3\", \"#FF6692\", \"#B6E880\", \"#FF97FF\", \"#FECB52\"], \"font\": {\"color\": \"#2a3f5f\"}, \"geo\": {\"bgcolor\": \"white\", \"lakecolor\": \"white\", \"landcolor\": \"#E5ECF6\", \"showlakes\": true, \"showland\": true, \"subunitcolor\": \"white\"}, \"hoverlabel\": {\"align\": \"left\"}, \"hovermode\": \"closest\", \"mapbox\": {\"style\": \"light\"}, \"paper_bgcolor\": \"white\", \"plot_bgcolor\": \"#E5ECF6\", \"polar\": {\"angularaxis\": {\"gridcolor\": \"white\", \"linecolor\": \"white\", \"ticks\": \"\"}, \"bgcolor\": \"#E5ECF6\", \"radialaxis\": {\"gridcolor\": \"white\", \"linecolor\": \"white\", \"ticks\": \"\"}}, \"scene\": {\"xaxis\": {\"backgroundcolor\": \"#E5ECF6\", \"gridcolor\": \"white\", \"gridwidth\": 2, \"linecolor\": \"white\", \"showbackground\": true, \"ticks\": \"\", \"zerolinecolor\": \"white\"}, \"yaxis\": {\"backgroundcolor\": \"#E5ECF6\", \"gridcolor\": \"white\", \"gridwidth\": 2, \"linecolor\": \"white\", \"showbackground\": true, \"ticks\": \"\", \"zerolinecolor\": \"white\"}, \"zaxis\": {\"backgroundcolor\": \"#E5ECF6\", \"gridcolor\": \"white\", \"gridwidth\": 2, \"linecolor\": \"white\", \"showbackground\": true, \"ticks\": \"\", \"zerolinecolor\": \"white\"}}, \"shapedefaults\": {\"line\": {\"color\": \"#2a3f5f\"}}, \"ternary\": {\"aaxis\": {\"gridcolor\": \"white\", \"linecolor\": \"white\", \"ticks\": \"\"}, \"baxis\": {\"gridcolor\": \"white\", \"linecolor\": \"white\", \"ticks\": \"\"}, \"bgcolor\": \"#E5ECF6\", \"caxis\": {\"gridcolor\": \"white\", \"linecolor\": \"white\", \"ticks\": \"\"}}, \"title\": {\"x\": 0.05}, \"xaxis\": {\"automargin\": true, \"gridcolor\": \"white\", \"linecolor\": \"white\", \"ticks\": \"\", \"title\": {\"standoff\": 15}, \"zerolinecolor\": \"white\", \"zerolinewidth\": 2}, \"yaxis\": {\"automargin\": true, \"gridcolor\": \"white\", \"linecolor\": \"white\", \"ticks\": \"\", \"title\": {\"standoff\": 15}, \"zerolinecolor\": \"white\", \"zerolinewidth\": 2}}}, \"xaxis\": {\"anchor\": \"y\", \"domain\": [0.0, 0.235], \"title\": {\"text\": \"x\"}}, \"xaxis2\": {\"anchor\": \"y2\", \"domain\": [0.255, 0.49], \"matches\": \"x\", \"title\": {\"text\": \"x\"}}, \"xaxis3\": {\"anchor\": \"y3\", \"domain\": [0.51, 0.745], \"matches\": \"x\", \"title\": {\"text\": \"x\"}}, \"xaxis4\": {\"anchor\": \"y4\", \"domain\": [0.7649999999999999, 0.9999999999999999], \"matches\": \"x\", \"title\": {\"text\": \"x\"}}, \"yaxis\": {\"anchor\": \"x\", \"domain\": [0.0, 1.0], \"title\": {\"text\": \"count\"}}, \"yaxis2\": {\"anchor\": \"x2\", \"domain\": [0.0, 1.0], \"matches\": \"y\", \"showticklabels\": false}, \"yaxis3\": {\"anchor\": \"x3\", \"domain\": [0.0, 1.0], \"matches\": \"y\", \"showticklabels\": false}, \"yaxis4\": {\"anchor\": \"x4\", \"domain\": [0.0, 1.0], \"matches\": \"y\", \"showticklabels\": false}},\n",
       "                        {\"responsive\": true}\n",
       "                    ).then(function(){\n",
       "                            \n",
       "var gd = document.getElementById('c94b8100-179f-4a48-86a1-7b800bf634bb');\n",
       "var x = new MutationObserver(function (mutations, observer) {{\n",
       "        var display = window.getComputedStyle(gd).display;\n",
       "        if (!display || display === 'none') {{\n",
       "            console.log([gd, 'removed!']);\n",
       "            Plotly.purge(gd);\n",
       "            observer.disconnect();\n",
       "        }}\n",
       "}});\n",
       "\n",
       "// Listen for the removal of the full notebook cells\n",
       "var notebookContainer = gd.closest('#notebook-container');\n",
       "if (notebookContainer) {{\n",
       "    x.observe(notebookContainer, {childList: true});\n",
       "}}\n",
       "\n",
       "// Listen for the clearing of the current output cell\n",
       "var outputEl = gd.closest('.output');\n",
       "if (outputEl) {{\n",
       "    x.observe(outputEl, {childList: true});\n",
       "}}\n",
       "\n",
       "                        })\n",
       "                };\n",
       "                });\n",
       "            </script>\n",
       "        </div>"
      ]
     },
     "metadata": {},
     "output_type": "display_data"
    }
   ],
   "source": [
    "# x histograms by group\n",
    "plotly.offline.iplot(\n",
    "    plotly.express.histogram(data1, x = \"x\", facet_col = \"group\")\n",
    ")"
   ]
  },
  {
   "cell_type": "markdown",
   "metadata": {},
   "source": [
    "## Scatterplot"
   ]
  },
  {
   "cell_type": "code",
   "execution_count": 389,
   "metadata": {},
   "outputs": [],
   "source": [
    "# similar to ggplot2::geom_point and ggplot2::geom_smooth"
   ]
  },
  {
   "cell_type": "code",
   "execution_count": 390,
   "metadata": {},
   "outputs": [
    {
     "data": {
      "application/vnd.plotly.v1+json": {
       "config": {
        "linkText": "Export to plot.ly",
        "plotlyServerURL": "https://plot.ly",
        "showLink": false
       },
       "data": [
        {
         "hoverlabel": {
          "namelength": 0
         },
         "hovertemplate": "group=A<br>x=%{x}<br>y=%{y}",
         "legendgroup": "group=A",
         "marker": {
          "color": "#636efa",
          "symbol": "circle"
         },
         "mode": "markers",
         "name": "group=A",
         "showlegend": true,
         "type": "scatter",
         "x": [
          3.473579208934824,
          1.6222774133964595,
          3.409079412238413,
          3.2631845561845205,
          4.766648955991365,
          2.532701233371488,
          1.9944866847085572,
          3.7979180212435044,
          2.721998982108717,
          2.538649097889896,
          3.392323201439394,
          3.0254962729484203,
          3.496218949706905,
          1.3536579723422777,
          2.9790998170647485,
          3.965019281420345,
          4.355199550777634,
          2.465617278309938,
          3.6554044650894064,
          1.7654933927945418,
          2.601300387271374,
          3.453612713910802,
          2.791959859127478,
          2.434657683640396,
          4.583771369003968,
          3.3754937363050743,
          2.5846733795043533,
          4.818691318017904,
          4.545566454047936,
          2.754171666710543,
          3.9389006928965733,
          3.9446693334162424,
          3.07818877716491,
          2.1841258637992684,
          3.741118143737825,
          2.063200208585301,
          3.4185006160784104,
          2.352801257779132,
          2.7059750843522865,
          3.8887388038364694,
          2.431396692906948,
          2.778913792877626,
          3.601969647640224,
          2.3637519045588555,
          3.3951104394125533,
          1.8742611089049463,
          3.186193302366253,
          3.1092320169618457,
          4.086240919611782,
          4.555032434488652
         ],
         "xaxis": "x",
         "y": [
          0.6950469748897452,
          -0.5034403329926198,
          2.174208383982993,
          2.8264205605740744,
          3.2117712655990647,
          1.1781581196733888,
          1.1160282964159203,
          2.6723921742356294,
          0.8541201117838098,
          1.4557354259419546,
          2.037594787810373,
          2.372639118877078,
          2.9612994490494846,
          0.8716254151255541,
          -0.021961355659155135,
          3.2076414076811703,
          3.240826661021682,
          1.2702695035765341,
          3.6455035958150708,
          0.8630935615144297,
          2.4814388097201086,
          2.190128125350091,
          3.518020554964058,
          2.8015126466983302,
          2.022721081085111,
          2.785480814014643,
          2.605216553826863,
          3.9920592366279766,
          4.214911604166839,
          1.9260483446553858,
          4.368321941438964,
          4.6184331702674415,
          2.7358033286149133,
          0.1662069931571537,
          1.5368484806388423,
          0.4593710667555235,
          3.684210965090906,
          2.9203275587853996,
          -0.33315468237684254,
          3.976118411517691,
          1.118171435238924,
          1.7600637769207592,
          3.4163510640869803,
          0.028073988162205854,
          4.190651269451221,
          1.2311610496111531,
          2.884079089864101,
          3.430391620268408,
          4.081713952905699,
          2.9775341347071684
         ],
         "yaxis": "y"
        },
        {
         "hoverlabel": {
          "namelength": 0
         },
         "hovertemplate": "<b>OLS trendline</b><br>y = 1.080061 * x + -1.117721<br>R<sup>2</sup>=0.465920<br><br>group=A<br>x=%{x}<br>y=%{y} <b>(trend)</b>",
         "legendgroup": "group=A",
         "marker": {
          "color": "#636efa",
          "symbol": "circle"
         },
         "mode": "lines",
         "name": "group=A",
         "showlegend": false,
         "type": "scatter",
         "x": [
          1.3536579723422777,
          1.6222774133964595,
          1.7654933927945418,
          1.8742611089049463,
          1.9944866847085572,
          2.063200208585301,
          2.1841258637992684,
          2.352801257779132,
          2.3637519045588555,
          2.431396692906948,
          2.434657683640396,
          2.465617278309938,
          2.532701233371488,
          2.538649097889896,
          2.5846733795043533,
          2.601300387271374,
          2.7059750843522865,
          2.721998982108717,
          2.754171666710543,
          2.778913792877626,
          2.791959859127478,
          2.9790998170647485,
          3.0254962729484203,
          3.07818877716491,
          3.1092320169618457,
          3.186193302366253,
          3.2631845561845205,
          3.3754937363050743,
          3.392323201439394,
          3.3951104394125533,
          3.409079412238413,
          3.4185006160784104,
          3.453612713910802,
          3.473579208934824,
          3.496218949706905,
          3.601969647640224,
          3.6554044650894064,
          3.741118143737825,
          3.7979180212435044,
          3.8887388038364694,
          3.9389006928965733,
          3.9446693334162424,
          3.965019281420345,
          4.086240919611782,
          4.355199550777634,
          4.545566454047936,
          4.555032434488652,
          4.583771369003968,
          4.766648955991365,
          4.818691318017904
         ],
         "xaxis": "x",
         "y": [
          0.3443130031640629,
          0.6344384845900006,
          0.78912053145784,
          0.9065963398963135,
          1.0364473399685592,
          1.1106621626819753,
          1.2412692914810506,
          1.4234490685331773,
          1.435276439092897,
          1.5083369618474192,
          1.5118590319654797,
          1.5452972941888052,
          1.617752082575705,
          1.6241761412740898,
          1.6738851899128442,
          1.691843378695266,
          1.8048984753946462,
          1.8222052683529666,
          1.8569537421500917,
          1.8836767568267485,
          1.897767309009416,
          2.099889948299805,
          2.1500009679895244,
          2.2069121062651194,
          2.2404407103593034,
          2.323563621685029,
          2.406718900736875,
          2.5280197076448,
          2.546196562808647,
          2.549206950871544,
          2.564294298794775,
          2.5744697771181775,
          2.612392997595144,
          2.6339580375583704,
          2.658410346985719,
          2.7726275906395195,
          2.830340472761942,
          2.922916505922716,
          2.9842638594187934,
          3.08235587826098,
          3.1365337968646507,
          3.142764282645479,
          3.164743475359577,
          3.2956702839386987,
          3.5861621115012268,
          3.791770049787872,
          3.8019938895879744,
          3.8330337025635473,
          4.030552719647759,
          4.086761664459192
         ],
         "yaxis": "y"
        },
        {
         "hoverlabel": {
          "namelength": 0
         },
         "hovertemplate": "group=B<br>x=%{x}<br>y=%{y}",
         "legendgroup": "group=B",
         "marker": {
          "color": "#EF553B",
          "symbol": "circle"
         },
         "mode": "markers",
         "name": "group=B",
         "showlegend": true,
         "type": "scatter",
         "x": [
          3.8499268387164096,
          5.492941829490316,
          5.195954366148203,
          3.1242113454792735,
          5.010338925238923,
          3.5069445925735314,
          3.194238268334213,
          4.420845191010165,
          3.5679732664188646,
          2.8986650064216803,
          3.3217754673359825,
          4.277198450589916,
          5.303121071695143,
          5.659833931717733,
          2.67348239549958,
          3.3971680901937917,
          2.7916193675288463,
          3.3864137475992657,
          6.803851696799482,
          2.7722527843920757,
          2.4362893963031613,
          2.6638980885622994,
          4.063931796774217,
          4.131468924861049,
          4.636869764495064,
          2.819189272201937,
          4.0603588650553,
          5.43984627080321,
          3.572746052288088,
          4.1568199219652255,
          4.271651979795466,
          3.178643179018273,
          3.551297335971648,
          4.042219932787372,
          2.728553262640103,
          2.9809019967512365,
          3.784156707171044,
          4.787506308750086,
          5.503561596419499,
          4.153947300101712,
          2.658234860524419,
          1.533631247199423,
          3.673958441851678,
          2.4418209428638447,
          2.916850698468002,
          4.458910014449712,
          5.055749413145341,
          5.311775262661834,
          2.921016656642108,
          4.61894594697223
         ],
         "xaxis": "x2",
         "y": [
          1.2618348795389895,
          4.753340668418486,
          4.769116173920377,
          3.013960384532216,
          6.286328377242914,
          3.6157582507123047,
          3.3356872497205416,
          2.723786196546012,
          3.2426371809639094,
          0.8366660838731161,
          2.193945705813425,
          4.627006941241677,
          5.244624649972142,
          3.758965050706978,
          2.6648051445002396,
          1.326546065028106,
          1.4703749526672274,
          1.9455694959401075,
          5.8722861197635625,
          2.707484791083193,
          3.420572753250407,
          2.608778693866711,
          2.423608862387928,
          3.8212947130638,
          3.878433503224329,
          0.16521919100152194,
          5.694762258431668,
          3.0717278494320235,
          4.397381199846352,
          4.252148650339173,
          2.1083848727100394,
          2.7026862934136497,
          2.390954563001253,
          3.0293093231101307,
          1.967958400334754,
          1.875359683192888,
          1.8184415750263332,
          2.8399949279698538,
          3.992503278664061,
          3.3436021355662433,
          3.328664694794086,
          0.4343956162741197,
          3.9974235230979103,
          0.5001532124053734,
          2.010685607804752,
          4.396511584361904,
          4.782269819871636,
          4.913721911674665,
          2.43232505548643,
          4.822036904239104
         ],
         "yaxis": "y2"
        },
        {
         "hoverlabel": {
          "namelength": 0
         },
         "hovertemplate": "<b>OLS trendline</b><br>y = 0.953960 * x + -0.544726<br>R<sup>2</sup>=0.501675<br><br>group=B<br>x=%{x}<br>y=%{y} <b>(trend)</b>",
         "legendgroup": "group=B",
         "marker": {
          "color": "#EF553B",
          "symbol": "circle"
         },
         "mode": "lines",
         "name": "group=B",
         "showlegend": false,
         "type": "scatter",
         "x": [
          1.533631247199423,
          2.4362893963031613,
          2.4418209428638447,
          2.658234860524419,
          2.6638980885622994,
          2.67348239549958,
          2.728553262640103,
          2.7722527843920757,
          2.7916193675288463,
          2.819189272201937,
          2.8986650064216803,
          2.916850698468002,
          2.921016656642108,
          2.9809019967512365,
          3.1242113454792735,
          3.178643179018273,
          3.194238268334213,
          3.3217754673359825,
          3.3864137475992657,
          3.3971680901937917,
          3.5069445925735314,
          3.551297335971648,
          3.5679732664188646,
          3.572746052288088,
          3.673958441851678,
          3.784156707171044,
          3.8499268387164096,
          4.042219932787372,
          4.0603588650553,
          4.063931796774217,
          4.131468924861049,
          4.153947300101712,
          4.1568199219652255,
          4.271651979795466,
          4.277198450589916,
          4.420845191010165,
          4.458910014449712,
          4.61894594697223,
          4.636869764495064,
          4.787506308750086,
          5.010338925238923,
          5.055749413145341,
          5.195954366148203,
          5.303121071695143,
          5.311775262661834,
          5.43984627080321,
          5.492941829490316,
          5.503561596419499,
          5.659833931717733,
          6.803851696799482
         ],
         "xaxis": "x2",
         "y": [
          0.9182961614235506,
          1.7793955545478668,
          1.7846724264081306,
          1.9911225574419107,
          1.9965250481094854,
          2.0056680895758525,
          2.058203471127129,
          2.099891048753066,
          2.118365986360978,
          2.1446665611755584,
          2.2204831995925294,
          2.237831614826117,
          2.2418057705561307,
          2.29893396474151,
          2.435645291550317,
          2.487571060872419,
          2.5024481458009813,
          2.624113479205707,
          2.6857757862070653,
          2.696034994403205,
          2.800757341032837,
          2.843068065709104,
          2.8589762293944805,
          2.863529274220566,
          2.9600818033440284,
          3.0652064947724247,
          3.1279485421528803,
          3.3113883823303745,
          3.328692190625181,
          3.332100623084234,
          3.396528313751708,
          3.4179717752629952,
          3.420712140423165,
          3.530257282631229,
          3.5355483916073394,
          3.672581576454759,
          3.7088938796181705,
          3.8615616913584776,
          3.8786602888803725,
          4.022361464091761,
          4.2349347743946275,
          4.278254544582845,
          4.412004403334647,
          4.514237109261281,
          4.52249285768254,
          4.64466742343244,
          4.6953184405516675,
          4.705449269001974,
          4.854526761096896,
          5.945873473264134
         ],
         "yaxis": "y2"
        },
        {
         "hoverlabel": {
          "namelength": 0
         },
         "hovertemplate": "group=C<br>x=%{x}<br>y=%{y}",
         "legendgroup": "group=C",
         "marker": {
          "color": "#00cc96",
          "symbol": "circle"
         },
         "mode": "markers",
         "name": "group=C",
         "showlegend": true,
         "type": "scatter",
         "x": [
          3.3532299061909363,
          5.386394772314725,
          4.608474094126514,
          3.4907917052330095,
          4.724674137149463,
          4.504683930923926,
          4.939997026751625,
          3.226611472815457,
          3.007570814508811,
          3.3757378874412014,
          3.505610235656885,
          2.9924492143836137,
          4.490912387163064,
          6.384193063844521,
          5.554791959790973,
          2.6355251106830275,
          3.102610248148898,
          3.7447167003851574,
          3.0990225082760103,
          3.4415117379411684,
          5.613893912706013,
          4.433612112789211,
          4.688545140873281,
          3.022549665294838,
          5.328408765670799,
          4.996684384260931,
          4.036592405562132,
          5.507784853328769,
          3.754162027748343,
          2.30730128531301,
          1.7166876416744734,
          4.608822322334572,
          4.1465705927396685,
          3.7629036417426334,
          5.414433742481071,
          5.6520198909270345,
          4.031827971685776,
          3.9245545749297737,
          3.7677492155706775,
          2.786647387954144,
          2.844578542182097,
          4.922705290206343,
          2.100252443731639,
          2.5196318075329316,
          2.3352751249953423,
          4.679915877980518,
          6.395958270501213,
          4.117244226009278,
          0.9433372440345518,
          3.826123296245632
         ],
         "xaxis": "x3",
         "y": [
          3.131832806427382,
          4.822830396522785,
          3.338207697580485,
          2.465793795661478,
          4.105826799464889,
          3.889653915700479,
          3.7481867846214723,
          2.5187998366597912,
          3.471166932897151,
          1.7544384249020104,
          3.2450240276985456,
          3.2643232096764088,
          2.9760783967449695,
          6.170304812134368,
          4.053175580519442,
          3.1184855340369664,
          3.7989270646228466,
          2.342666557619671,
          2.6449387019113773,
          2.061175732966708,
          3.366484946314323,
          3.578074106490438,
          4.109822151261497,
          3.7249772080885486,
          5.309449680816956,
          6.095726353368207,
          3.4976381698368235,
          2.7757598058930943,
          3.4483621158743043,
          2.5312660553963457,
          0.9846823988865984,
          2.3743113657193025,
          4.527302491887923,
          1.954171050657958,
          4.800819084814348,
          3.8086074445406206,
          3.1282391148665067,
          1.640442799441174,
          2.0852290068598784,
          2.2304300599781595,
          3.187549833496889,
          3.04706169505677,
          1.382929236499277,
          0.9691000836887057,
          0.2757187273163584,
          3.588219862262456,
          5.453878874590729,
          4.775100446510809,
          -0.7457680907446939,
          4.6339671110227885
         ],
         "yaxis": "y3"
        },
        {
         "hoverlabel": {
          "namelength": 0
         },
         "hovertemplate": "<b>OLS trendline</b><br>y = 0.855562 * x + -0.194629<br>R<sup>2</sup>=0.552695<br><br>group=C<br>x=%{x}<br>y=%{y} <b>(trend)</b>",
         "legendgroup": "group=C",
         "marker": {
          "color": "#00cc96",
          "symbol": "circle"
         },
         "mode": "lines",
         "name": "group=C",
         "showlegend": false,
         "type": "scatter",
         "x": [
          0.9433372440345518,
          1.7166876416744734,
          2.100252443731639,
          2.30730128531301,
          2.3352751249953423,
          2.5196318075329316,
          2.6355251106830275,
          2.786647387954144,
          2.844578542182097,
          2.9924492143836137,
          3.007570814508811,
          3.022549665294838,
          3.0990225082760103,
          3.102610248148898,
          3.226611472815457,
          3.3532299061909363,
          3.3757378874412014,
          3.4415117379411684,
          3.4907917052330095,
          3.505610235656885,
          3.7447167003851574,
          3.754162027748343,
          3.7629036417426334,
          3.7677492155706775,
          3.826123296245632,
          3.9245545749297737,
          4.031827971685776,
          4.036592405562132,
          4.117244226009278,
          4.1465705927396685,
          4.433612112789211,
          4.490912387163064,
          4.504683930923926,
          4.608474094126514,
          4.608822322334572,
          4.679915877980518,
          4.688545140873281,
          4.724674137149463,
          4.922705290206343,
          4.939997026751625,
          4.996684384260931,
          5.328408765670799,
          5.386394772314725,
          5.414433742481071,
          5.507784853328769,
          5.554791959790973,
          5.613893912706013,
          5.6520198909270345,
          6.384193063844521,
          6.395958270501213
         ],
         "xaxis": "x3",
         "y": [
          0.6124551583707367,
          1.2741046106367113,
          1.6022681985318261,
          1.7794113836167376,
          1.8033447465012413,
          1.9610733755868663,
          2.060227317686808,
          2.1895218422474287,
          2.2390855543513277,
          2.365598128168985,
          2.3785355992955988,
          2.391350939467911,
          2.4567782216237464,
          2.4598477566353187,
          2.5659385307932183,
          2.6742684900785934,
          2.693525470499498,
          2.7497990979386735,
          2.7919611805675024,
          2.8046393566805103,
          3.0092098358624146,
          3.017290901955348,
          3.024769897413156,
          3.028915587748383,
          3.078858251026222,
          3.163072343145336,
          3.254851418222979,
          3.258927688273746,
          3.327930346041764,
          3.35302088009118,
          3.598602785910282,
          3.647626740989183,
          3.6594091547747567,
          3.7482081065088746,
          3.7485060374387977,
          3.8093310040985835,
          3.816713876188492,
          3.847624483682853,
          4.017052474347302,
          4.031846632401437,
          4.080346198912168,
          4.3641570767922655,
          4.413767718555857,
          4.437756804627683,
          4.517624496619946,
          4.5578420051881725,
          4.608407408520769,
          4.641026558499908,
          5.267446329283106,
          5.277512196662179
         ],
         "yaxis": "y3"
        },
        {
         "hoverlabel": {
          "namelength": 0
         },
         "hovertemplate": "group=D<br>x=%{x}<br>y=%{y}",
         "legendgroup": "group=D",
         "marker": {
          "color": "#ab63fa",
          "symbol": "circle"
         },
         "mode": "markers",
         "name": "group=D",
         "showlegend": true,
         "type": "scatter",
         "x": [
          4.377282027604293,
          1.902052090909183,
          4.655917032942277,
          2.719093361734187,
          2.155935438103405,
          2.2427268230845354,
          2.5759109029056635,
          3.572188347151112,
          3.3498813930276827,
          1.7252841684678064,
          4.596086158516954,
          1.660189960973414,
          1.871952059573553,
          3.9380418637240315,
          3.259888019206968,
          4.064811450208193,
          3.9813237862067337,
          4.230106742672806,
          3.810044653012682,
          2.833823732109744,
          5.22856008679004,
          3.8993125438778717,
          4.988283873786491,
          4.301515305113021,
          2.9318774366162117,
          2.3184931951877026,
          3.117473372554815,
          4.827779171640705,
          2.3707738048240845,
          3.4275914688484543,
          3.1594314373917616,
          2.8465070960667176,
          3.337608327508946,
          2.7150374045249714,
          3.5555297776052144,
          3.403695271800628,
          4.998984477637411,
          2.09963345022199,
          2.4683604837895485,
          2.2017644847350013,
          1.722785109397267,
          3.3972519092460027,
          3.4859663953494042,
          3.1431213982345976,
          4.172301773025032,
          2.8700774261380952,
          2.822246250956574,
          1.1971383671569615,
          3.493334834231731,
          3.7051247701629184
         ],
         "xaxis": "x4",
         "y": [
          3.858824153322869,
          1.578320181316926,
          4.231308301848548,
          1.446624505889436,
          2.809455504499523,
          0.3370565221316617,
          2.2442210229382304,
          2.4817129521171077,
          2.669074356135961,
          1.119463217860492,
          2.8238164920488,
          1.203893609298915,
          2.5811597515079625,
          3.510249848998413,
          2.6068590472389337,
          4.07286753960857,
          2.9990537458214788,
          2.9209725224722467,
          3.45279146202614,
          2.748404381812157,
          3.3553086850070377,
          0.5915666262477557,
          5.10053530406739,
          2.9723949088852306,
          2.0564841213246514,
          1.3741350074484446,
          2.8548360546761264,
          3.656424831388678,
          1.5715717874275368,
          1.0767446852301434,
          3.2008372847616537,
          2.4993188622397335,
          2.3571534788959867,
          2.285262978926535,
          1.2845299222950965,
          1.528539648001414,
          4.359960306274103,
          2.0125801172918054,
          1.362642100342817,
          1.1527324548556643,
          0.3674902133174178,
          2.505882363332325,
          2.4694857292899957,
          0.5190976037933384,
          4.718203301328052,
          1.9283940758370306,
          1.8227776686682613,
          1.4471514216671981,
          1.6095552935566728,
          3.5789226530974902
         ],
         "yaxis": "y4"
        },
        {
         "hoverlabel": {
          "namelength": 0
         },
         "hovertemplate": "<b>OLS trendline</b><br>y = 0.813282 * x + -0.244310<br>R<sup>2</sup>=0.490103<br><br>group=D<br>x=%{x}<br>y=%{y} <b>(trend)</b>",
         "legendgroup": "group=D",
         "marker": {
          "color": "#ab63fa",
          "symbol": "circle"
         },
         "mode": "lines",
         "name": "group=D",
         "showlegend": false,
         "type": "scatter",
         "x": [
          1.1971383671569615,
          1.660189960973414,
          1.722785109397267,
          1.7252841684678064,
          1.871952059573553,
          1.902052090909183,
          2.09963345022199,
          2.155935438103405,
          2.2017644847350013,
          2.2427268230845354,
          2.3184931951877026,
          2.3707738048240845,
          2.4683604837895485,
          2.5759109029056635,
          2.7150374045249714,
          2.719093361734187,
          2.822246250956574,
          2.833823732109744,
          2.8465070960667176,
          2.8700774261380952,
          2.9318774366162117,
          3.117473372554815,
          3.1431213982345976,
          3.1594314373917616,
          3.259888019206968,
          3.337608327508946,
          3.3498813930276827,
          3.3972519092460027,
          3.403695271800628,
          3.4275914688484543,
          3.4859663953494042,
          3.493334834231731,
          3.5555297776052144,
          3.572188347151112,
          3.7051247701629184,
          3.810044653012682,
          3.8993125438778717,
          3.9380418637240315,
          3.9813237862067337,
          4.064811450208193,
          4.172301773025032,
          4.230106742672806,
          4.301515305113021,
          4.377282027604293,
          4.596086158516954,
          4.655917032942277,
          4.827779171640705,
          4.988283873786491,
          4.998984477637411,
          5.22856008679004
         ],
         "xaxis": "x4",
         "y": [
          0.729300677768945,
          1.1058921551141876,
          1.1567996559939437,
          1.1588320954886244,
          1.2781144357898184,
          1.3025942462908404,
          1.463283588457289,
          1.5090729758103978,
          1.5463449096656952,
          1.5796588377906924,
          1.6412782564136876,
          1.683797129650261,
          1.7631626087709036,
          1.8506314173548828,
          1.96378048212942,
          1.9670791186914467,
          2.050971495833522,
          2.060387251636184,
          2.070702401900319,
          2.089871724588394,
          2.1401325541734675,
          2.2910743685149955,
          2.311933443423108,
          2.3251981029638107,
          2.406897622110348,
          2.4701061416663164,
          2.480087603639403,
          2.518613186800089,
          2.523853456903725,
          2.543287801303673,
          2.5907630721039,
          2.5967556900356366,
          2.6473377113939476,
          2.6608858243893962,
          2.7690006103085927,
          2.854330051375033,
          2.926930010751787,
          2.958427865358509,
          2.9936282692611553,
          3.061527274785096,
          3.1489472081369634,
          3.1959589433480105,
          3.254034234273626,
          3.315653937860923,
          3.49360337591491,
          3.542262742800971,
          3.682035108508039,
          3.8125706767019785,
          3.821273284071258,
          4.007982970351904
         ],
         "yaxis": "y4"
        }
       ],
       "layout": {
        "annotations": [
         {
          "showarrow": false,
          "text": "group=A",
          "x": 0.1175,
          "xanchor": "center",
          "xref": "paper",
          "y": 1,
          "yanchor": "bottom",
          "yref": "paper"
         },
         {
          "showarrow": false,
          "text": "group=B",
          "x": 0.3725,
          "xanchor": "center",
          "xref": "paper",
          "y": 1,
          "yanchor": "bottom",
          "yref": "paper"
         },
         {
          "showarrow": false,
          "text": "group=C",
          "x": 0.6275,
          "xanchor": "center",
          "xref": "paper",
          "y": 1,
          "yanchor": "bottom",
          "yref": "paper"
         },
         {
          "showarrow": false,
          "text": "group=D",
          "x": 0.8824999999999998,
          "xanchor": "center",
          "xref": "paper",
          "y": 1,
          "yanchor": "bottom",
          "yref": "paper"
         }
        ],
        "legend": {
         "tracegroupgap": 0
        },
        "margin": {
         "t": 60
        },
        "template": {
         "data": {
          "bar": [
           {
            "error_x": {
             "color": "#2a3f5f"
            },
            "error_y": {
             "color": "#2a3f5f"
            },
            "marker": {
             "line": {
              "color": "#E5ECF6",
              "width": 0.5
             }
            },
            "type": "bar"
           }
          ],
          "barpolar": [
           {
            "marker": {
             "line": {
              "color": "#E5ECF6",
              "width": 0.5
             }
            },
            "type": "barpolar"
           }
          ],
          "carpet": [
           {
            "aaxis": {
             "endlinecolor": "#2a3f5f",
             "gridcolor": "white",
             "linecolor": "white",
             "minorgridcolor": "white",
             "startlinecolor": "#2a3f5f"
            },
            "baxis": {
             "endlinecolor": "#2a3f5f",
             "gridcolor": "white",
             "linecolor": "white",
             "minorgridcolor": "white",
             "startlinecolor": "#2a3f5f"
            },
            "type": "carpet"
           }
          ],
          "choropleth": [
           {
            "colorbar": {
             "outlinewidth": 0,
             "ticks": ""
            },
            "type": "choropleth"
           }
          ],
          "contour": [
           {
            "colorbar": {
             "outlinewidth": 0,
             "ticks": ""
            },
            "colorscale": [
             [
              0,
              "#0d0887"
             ],
             [
              0.1111111111111111,
              "#46039f"
             ],
             [
              0.2222222222222222,
              "#7201a8"
             ],
             [
              0.3333333333333333,
              "#9c179e"
             ],
             [
              0.4444444444444444,
              "#bd3786"
             ],
             [
              0.5555555555555556,
              "#d8576b"
             ],
             [
              0.6666666666666666,
              "#ed7953"
             ],
             [
              0.7777777777777778,
              "#fb9f3a"
             ],
             [
              0.8888888888888888,
              "#fdca26"
             ],
             [
              1,
              "#f0f921"
             ]
            ],
            "type": "contour"
           }
          ],
          "contourcarpet": [
           {
            "colorbar": {
             "outlinewidth": 0,
             "ticks": ""
            },
            "type": "contourcarpet"
           }
          ],
          "heatmap": [
           {
            "colorbar": {
             "outlinewidth": 0,
             "ticks": ""
            },
            "colorscale": [
             [
              0,
              "#0d0887"
             ],
             [
              0.1111111111111111,
              "#46039f"
             ],
             [
              0.2222222222222222,
              "#7201a8"
             ],
             [
              0.3333333333333333,
              "#9c179e"
             ],
             [
              0.4444444444444444,
              "#bd3786"
             ],
             [
              0.5555555555555556,
              "#d8576b"
             ],
             [
              0.6666666666666666,
              "#ed7953"
             ],
             [
              0.7777777777777778,
              "#fb9f3a"
             ],
             [
              0.8888888888888888,
              "#fdca26"
             ],
             [
              1,
              "#f0f921"
             ]
            ],
            "type": "heatmap"
           }
          ],
          "heatmapgl": [
           {
            "colorbar": {
             "outlinewidth": 0,
             "ticks": ""
            },
            "colorscale": [
             [
              0,
              "#0d0887"
             ],
             [
              0.1111111111111111,
              "#46039f"
             ],
             [
              0.2222222222222222,
              "#7201a8"
             ],
             [
              0.3333333333333333,
              "#9c179e"
             ],
             [
              0.4444444444444444,
              "#bd3786"
             ],
             [
              0.5555555555555556,
              "#d8576b"
             ],
             [
              0.6666666666666666,
              "#ed7953"
             ],
             [
              0.7777777777777778,
              "#fb9f3a"
             ],
             [
              0.8888888888888888,
              "#fdca26"
             ],
             [
              1,
              "#f0f921"
             ]
            ],
            "type": "heatmapgl"
           }
          ],
          "histogram": [
           {
            "marker": {
             "colorbar": {
              "outlinewidth": 0,
              "ticks": ""
             }
            },
            "type": "histogram"
           }
          ],
          "histogram2d": [
           {
            "colorbar": {
             "outlinewidth": 0,
             "ticks": ""
            },
            "colorscale": [
             [
              0,
              "#0d0887"
             ],
             [
              0.1111111111111111,
              "#46039f"
             ],
             [
              0.2222222222222222,
              "#7201a8"
             ],
             [
              0.3333333333333333,
              "#9c179e"
             ],
             [
              0.4444444444444444,
              "#bd3786"
             ],
             [
              0.5555555555555556,
              "#d8576b"
             ],
             [
              0.6666666666666666,
              "#ed7953"
             ],
             [
              0.7777777777777778,
              "#fb9f3a"
             ],
             [
              0.8888888888888888,
              "#fdca26"
             ],
             [
              1,
              "#f0f921"
             ]
            ],
            "type": "histogram2d"
           }
          ],
          "histogram2dcontour": [
           {
            "colorbar": {
             "outlinewidth": 0,
             "ticks": ""
            },
            "colorscale": [
             [
              0,
              "#0d0887"
             ],
             [
              0.1111111111111111,
              "#46039f"
             ],
             [
              0.2222222222222222,
              "#7201a8"
             ],
             [
              0.3333333333333333,
              "#9c179e"
             ],
             [
              0.4444444444444444,
              "#bd3786"
             ],
             [
              0.5555555555555556,
              "#d8576b"
             ],
             [
              0.6666666666666666,
              "#ed7953"
             ],
             [
              0.7777777777777778,
              "#fb9f3a"
             ],
             [
              0.8888888888888888,
              "#fdca26"
             ],
             [
              1,
              "#f0f921"
             ]
            ],
            "type": "histogram2dcontour"
           }
          ],
          "mesh3d": [
           {
            "colorbar": {
             "outlinewidth": 0,
             "ticks": ""
            },
            "type": "mesh3d"
           }
          ],
          "parcoords": [
           {
            "line": {
             "colorbar": {
              "outlinewidth": 0,
              "ticks": ""
             }
            },
            "type": "parcoords"
           }
          ],
          "pie": [
           {
            "automargin": true,
            "type": "pie"
           }
          ],
          "scatter": [
           {
            "marker": {
             "colorbar": {
              "outlinewidth": 0,
              "ticks": ""
             }
            },
            "type": "scatter"
           }
          ],
          "scatter3d": [
           {
            "line": {
             "colorbar": {
              "outlinewidth": 0,
              "ticks": ""
             }
            },
            "marker": {
             "colorbar": {
              "outlinewidth": 0,
              "ticks": ""
             }
            },
            "type": "scatter3d"
           }
          ],
          "scattercarpet": [
           {
            "marker": {
             "colorbar": {
              "outlinewidth": 0,
              "ticks": ""
             }
            },
            "type": "scattercarpet"
           }
          ],
          "scattergeo": [
           {
            "marker": {
             "colorbar": {
              "outlinewidth": 0,
              "ticks": ""
             }
            },
            "type": "scattergeo"
           }
          ],
          "scattergl": [
           {
            "marker": {
             "colorbar": {
              "outlinewidth": 0,
              "ticks": ""
             }
            },
            "type": "scattergl"
           }
          ],
          "scattermapbox": [
           {
            "marker": {
             "colorbar": {
              "outlinewidth": 0,
              "ticks": ""
             }
            },
            "type": "scattermapbox"
           }
          ],
          "scatterpolar": [
           {
            "marker": {
             "colorbar": {
              "outlinewidth": 0,
              "ticks": ""
             }
            },
            "type": "scatterpolar"
           }
          ],
          "scatterpolargl": [
           {
            "marker": {
             "colorbar": {
              "outlinewidth": 0,
              "ticks": ""
             }
            },
            "type": "scatterpolargl"
           }
          ],
          "scatterternary": [
           {
            "marker": {
             "colorbar": {
              "outlinewidth": 0,
              "ticks": ""
             }
            },
            "type": "scatterternary"
           }
          ],
          "surface": [
           {
            "colorbar": {
             "outlinewidth": 0,
             "ticks": ""
            },
            "colorscale": [
             [
              0,
              "#0d0887"
             ],
             [
              0.1111111111111111,
              "#46039f"
             ],
             [
              0.2222222222222222,
              "#7201a8"
             ],
             [
              0.3333333333333333,
              "#9c179e"
             ],
             [
              0.4444444444444444,
              "#bd3786"
             ],
             [
              0.5555555555555556,
              "#d8576b"
             ],
             [
              0.6666666666666666,
              "#ed7953"
             ],
             [
              0.7777777777777778,
              "#fb9f3a"
             ],
             [
              0.8888888888888888,
              "#fdca26"
             ],
             [
              1,
              "#f0f921"
             ]
            ],
            "type": "surface"
           }
          ],
          "table": [
           {
            "cells": {
             "fill": {
              "color": "#EBF0F8"
             },
             "line": {
              "color": "white"
             }
            },
            "header": {
             "fill": {
              "color": "#C8D4E3"
             },
             "line": {
              "color": "white"
             }
            },
            "type": "table"
           }
          ]
         },
         "layout": {
          "annotationdefaults": {
           "arrowcolor": "#2a3f5f",
           "arrowhead": 0,
           "arrowwidth": 1
          },
          "coloraxis": {
           "colorbar": {
            "outlinewidth": 0,
            "ticks": ""
           }
          },
          "colorscale": {
           "diverging": [
            [
             0,
             "#8e0152"
            ],
            [
             0.1,
             "#c51b7d"
            ],
            [
             0.2,
             "#de77ae"
            ],
            [
             0.3,
             "#f1b6da"
            ],
            [
             0.4,
             "#fde0ef"
            ],
            [
             0.5,
             "#f7f7f7"
            ],
            [
             0.6,
             "#e6f5d0"
            ],
            [
             0.7,
             "#b8e186"
            ],
            [
             0.8,
             "#7fbc41"
            ],
            [
             0.9,
             "#4d9221"
            ],
            [
             1,
             "#276419"
            ]
           ],
           "sequential": [
            [
             0,
             "#0d0887"
            ],
            [
             0.1111111111111111,
             "#46039f"
            ],
            [
             0.2222222222222222,
             "#7201a8"
            ],
            [
             0.3333333333333333,
             "#9c179e"
            ],
            [
             0.4444444444444444,
             "#bd3786"
            ],
            [
             0.5555555555555556,
             "#d8576b"
            ],
            [
             0.6666666666666666,
             "#ed7953"
            ],
            [
             0.7777777777777778,
             "#fb9f3a"
            ],
            [
             0.8888888888888888,
             "#fdca26"
            ],
            [
             1,
             "#f0f921"
            ]
           ],
           "sequentialminus": [
            [
             0,
             "#0d0887"
            ],
            [
             0.1111111111111111,
             "#46039f"
            ],
            [
             0.2222222222222222,
             "#7201a8"
            ],
            [
             0.3333333333333333,
             "#9c179e"
            ],
            [
             0.4444444444444444,
             "#bd3786"
            ],
            [
             0.5555555555555556,
             "#d8576b"
            ],
            [
             0.6666666666666666,
             "#ed7953"
            ],
            [
             0.7777777777777778,
             "#fb9f3a"
            ],
            [
             0.8888888888888888,
             "#fdca26"
            ],
            [
             1,
             "#f0f921"
            ]
           ]
          },
          "colorway": [
           "#636efa",
           "#EF553B",
           "#00cc96",
           "#ab63fa",
           "#FFA15A",
           "#19d3f3",
           "#FF6692",
           "#B6E880",
           "#FF97FF",
           "#FECB52"
          ],
          "font": {
           "color": "#2a3f5f"
          },
          "geo": {
           "bgcolor": "white",
           "lakecolor": "white",
           "landcolor": "#E5ECF6",
           "showlakes": true,
           "showland": true,
           "subunitcolor": "white"
          },
          "hoverlabel": {
           "align": "left"
          },
          "hovermode": "closest",
          "mapbox": {
           "style": "light"
          },
          "paper_bgcolor": "white",
          "plot_bgcolor": "#E5ECF6",
          "polar": {
           "angularaxis": {
            "gridcolor": "white",
            "linecolor": "white",
            "ticks": ""
           },
           "bgcolor": "#E5ECF6",
           "radialaxis": {
            "gridcolor": "white",
            "linecolor": "white",
            "ticks": ""
           }
          },
          "scene": {
           "xaxis": {
            "backgroundcolor": "#E5ECF6",
            "gridcolor": "white",
            "gridwidth": 2,
            "linecolor": "white",
            "showbackground": true,
            "ticks": "",
            "zerolinecolor": "white"
           },
           "yaxis": {
            "backgroundcolor": "#E5ECF6",
            "gridcolor": "white",
            "gridwidth": 2,
            "linecolor": "white",
            "showbackground": true,
            "ticks": "",
            "zerolinecolor": "white"
           },
           "zaxis": {
            "backgroundcolor": "#E5ECF6",
            "gridcolor": "white",
            "gridwidth": 2,
            "linecolor": "white",
            "showbackground": true,
            "ticks": "",
            "zerolinecolor": "white"
           }
          },
          "shapedefaults": {
           "line": {
            "color": "#2a3f5f"
           }
          },
          "ternary": {
           "aaxis": {
            "gridcolor": "white",
            "linecolor": "white",
            "ticks": ""
           },
           "baxis": {
            "gridcolor": "white",
            "linecolor": "white",
            "ticks": ""
           },
           "bgcolor": "#E5ECF6",
           "caxis": {
            "gridcolor": "white",
            "linecolor": "white",
            "ticks": ""
           }
          },
          "title": {
           "x": 0.05
          },
          "xaxis": {
           "automargin": true,
           "gridcolor": "white",
           "linecolor": "white",
           "ticks": "",
           "title": {
            "standoff": 15
           },
           "zerolinecolor": "white",
           "zerolinewidth": 2
          },
          "yaxis": {
           "automargin": true,
           "gridcolor": "white",
           "linecolor": "white",
           "ticks": "",
           "title": {
            "standoff": 15
           },
           "zerolinecolor": "white",
           "zerolinewidth": 2
          }
         }
        },
        "xaxis": {
         "anchor": "y",
         "domain": [
          0,
          0.235
         ],
         "title": {
          "text": "x"
         }
        },
        "xaxis2": {
         "anchor": "y2",
         "domain": [
          0.255,
          0.49
         ],
         "matches": "x",
         "title": {
          "text": "x"
         }
        },
        "xaxis3": {
         "anchor": "y3",
         "domain": [
          0.51,
          0.745
         ],
         "matches": "x",
         "title": {
          "text": "x"
         }
        },
        "xaxis4": {
         "anchor": "y4",
         "domain": [
          0.7649999999999999,
          0.9999999999999999
         ],
         "matches": "x",
         "title": {
          "text": "x"
         }
        },
        "yaxis": {
         "anchor": "x",
         "domain": [
          0,
          1
         ],
         "title": {
          "text": "y"
         }
        },
        "yaxis2": {
         "anchor": "x2",
         "domain": [
          0,
          1
         ],
         "matches": "y",
         "showticklabels": false
        },
        "yaxis3": {
         "anchor": "x3",
         "domain": [
          0,
          1
         ],
         "matches": "y",
         "showticklabels": false
        },
        "yaxis4": {
         "anchor": "x4",
         "domain": [
          0,
          1
         ],
         "matches": "y",
         "showticklabels": false
        }
       }
      },
      "text/html": [
       "<div>\n",
       "        \n",
       "        \n",
       "            <div id=\"e35203c2-d272-4520-923c-ca3689fd9df0\" class=\"plotly-graph-div\" style=\"height:525px; width:100%;\"></div>\n",
       "            <script type=\"text/javascript\">\n",
       "                require([\"plotly\"], function(Plotly) {\n",
       "                    window.PLOTLYENV=window.PLOTLYENV || {};\n",
       "                    \n",
       "                if (document.getElementById(\"e35203c2-d272-4520-923c-ca3689fd9df0\")) {\n",
       "                    Plotly.newPlot(\n",
       "                        'e35203c2-d272-4520-923c-ca3689fd9df0',\n",
       "                        [{\"hoverlabel\": {\"namelength\": 0}, \"hovertemplate\": \"group=A<br>x=%{x}<br>y=%{y}\", \"legendgroup\": \"group=A\", \"marker\": {\"color\": \"#636efa\", \"symbol\": \"circle\"}, \"mode\": \"markers\", \"name\": \"group=A\", \"showlegend\": true, \"type\": \"scatter\", \"x\": [3.473579208934824, 1.6222774133964595, 3.409079412238413, 3.2631845561845205, 4.766648955991365, 2.532701233371488, 1.9944866847085572, 3.7979180212435044, 2.721998982108717, 2.538649097889896, 3.392323201439394, 3.0254962729484203, 3.496218949706905, 1.3536579723422777, 2.9790998170647485, 3.965019281420345, 4.355199550777634, 2.465617278309938, 3.6554044650894064, 1.7654933927945418, 2.601300387271374, 3.453612713910802, 2.791959859127478, 2.434657683640396, 4.583771369003968, 3.3754937363050743, 2.5846733795043533, 4.818691318017904, 4.545566454047936, 2.754171666710543, 3.9389006928965733, 3.9446693334162424, 3.07818877716491, 2.1841258637992684, 3.741118143737825, 2.063200208585301, 3.4185006160784104, 2.352801257779132, 2.7059750843522865, 3.8887388038364694, 2.431396692906948, 2.778913792877626, 3.601969647640224, 2.3637519045588555, 3.3951104394125533, 1.8742611089049463, 3.186193302366253, 3.1092320169618457, 4.086240919611782, 4.555032434488652], \"xaxis\": \"x\", \"y\": [0.6950469748897452, -0.5034403329926198, 2.174208383982993, 2.8264205605740744, 3.2117712655990647, 1.1781581196733888, 1.1160282964159203, 2.6723921742356294, 0.8541201117838098, 1.4557354259419546, 2.037594787810373, 2.372639118877078, 2.9612994490494846, 0.8716254151255541, -0.021961355659155135, 3.2076414076811703, 3.240826661021682, 1.2702695035765341, 3.6455035958150708, 0.8630935615144297, 2.4814388097201086, 2.190128125350091, 3.518020554964058, 2.8015126466983302, 2.022721081085111, 2.785480814014643, 2.605216553826863, 3.9920592366279766, 4.214911604166839, 1.9260483446553858, 4.368321941438964, 4.6184331702674415, 2.7358033286149133, 0.1662069931571537, 1.5368484806388423, 0.4593710667555235, 3.684210965090906, 2.9203275587853996, -0.33315468237684254, 3.976118411517691, 1.118171435238924, 1.7600637769207592, 3.4163510640869803, 0.028073988162205854, 4.190651269451221, 1.2311610496111531, 2.884079089864101, 3.430391620268408, 4.081713952905699, 2.9775341347071684], \"yaxis\": \"y\"}, {\"hoverlabel\": {\"namelength\": 0}, \"hovertemplate\": \"<b>OLS trendline</b><br>y = 1.080061 * x + -1.117721<br>R<sup>2</sup>=0.465920<br><br>group=A<br>x=%{x}<br>y=%{y} <b>(trend)</b>\", \"legendgroup\": \"group=A\", \"marker\": {\"color\": \"#636efa\", \"symbol\": \"circle\"}, \"mode\": \"lines\", \"name\": \"group=A\", \"showlegend\": false, \"type\": \"scatter\", \"x\": [1.3536579723422777, 1.6222774133964595, 1.7654933927945418, 1.8742611089049463, 1.9944866847085572, 2.063200208585301, 2.1841258637992684, 2.352801257779132, 2.3637519045588555, 2.431396692906948, 2.434657683640396, 2.465617278309938, 2.532701233371488, 2.538649097889896, 2.5846733795043533, 2.601300387271374, 2.7059750843522865, 2.721998982108717, 2.754171666710543, 2.778913792877626, 2.791959859127478, 2.9790998170647485, 3.0254962729484203, 3.07818877716491, 3.1092320169618457, 3.186193302366253, 3.2631845561845205, 3.3754937363050743, 3.392323201439394, 3.3951104394125533, 3.409079412238413, 3.4185006160784104, 3.453612713910802, 3.473579208934824, 3.496218949706905, 3.601969647640224, 3.6554044650894064, 3.741118143737825, 3.7979180212435044, 3.8887388038364694, 3.9389006928965733, 3.9446693334162424, 3.965019281420345, 4.086240919611782, 4.355199550777634, 4.545566454047936, 4.555032434488652, 4.583771369003968, 4.766648955991365, 4.818691318017904], \"xaxis\": \"x\", \"y\": [0.3443130031640629, 0.6344384845900006, 0.78912053145784, 0.9065963398963135, 1.0364473399685592, 1.1106621626819753, 1.2412692914810506, 1.4234490685331773, 1.435276439092897, 1.5083369618474192, 1.5118590319654797, 1.5452972941888052, 1.617752082575705, 1.6241761412740898, 1.6738851899128442, 1.691843378695266, 1.8048984753946462, 1.8222052683529666, 1.8569537421500917, 1.8836767568267485, 1.897767309009416, 2.099889948299805, 2.1500009679895244, 2.2069121062651194, 2.2404407103593034, 2.323563621685029, 2.406718900736875, 2.5280197076448, 2.546196562808647, 2.549206950871544, 2.564294298794775, 2.5744697771181775, 2.612392997595144, 2.6339580375583704, 2.658410346985719, 2.7726275906395195, 2.830340472761942, 2.922916505922716, 2.9842638594187934, 3.08235587826098, 3.1365337968646507, 3.142764282645479, 3.164743475359577, 3.2956702839386987, 3.5861621115012268, 3.791770049787872, 3.8019938895879744, 3.8330337025635473, 4.030552719647759, 4.086761664459192], \"yaxis\": \"y\"}, {\"hoverlabel\": {\"namelength\": 0}, \"hovertemplate\": \"group=B<br>x=%{x}<br>y=%{y}\", \"legendgroup\": \"group=B\", \"marker\": {\"color\": \"#EF553B\", \"symbol\": \"circle\"}, \"mode\": \"markers\", \"name\": \"group=B\", \"showlegend\": true, \"type\": \"scatter\", \"x\": [3.8499268387164096, 5.492941829490316, 5.195954366148203, 3.1242113454792735, 5.010338925238923, 3.5069445925735314, 3.194238268334213, 4.420845191010165, 3.5679732664188646, 2.8986650064216803, 3.3217754673359825, 4.277198450589916, 5.303121071695143, 5.659833931717733, 2.67348239549958, 3.3971680901937917, 2.7916193675288463, 3.3864137475992657, 6.803851696799482, 2.7722527843920757, 2.4362893963031613, 2.6638980885622994, 4.063931796774217, 4.131468924861049, 4.636869764495064, 2.819189272201937, 4.0603588650553, 5.43984627080321, 3.572746052288088, 4.1568199219652255, 4.271651979795466, 3.178643179018273, 3.551297335971648, 4.042219932787372, 2.728553262640103, 2.9809019967512365, 3.784156707171044, 4.787506308750086, 5.503561596419499, 4.153947300101712, 2.658234860524419, 1.533631247199423, 3.673958441851678, 2.4418209428638447, 2.916850698468002, 4.458910014449712, 5.055749413145341, 5.311775262661834, 2.921016656642108, 4.61894594697223], \"xaxis\": \"x2\", \"y\": [1.2618348795389895, 4.753340668418486, 4.769116173920377, 3.013960384532216, 6.286328377242914, 3.6157582507123047, 3.3356872497205416, 2.723786196546012, 3.2426371809639094, 0.8366660838731161, 2.193945705813425, 4.627006941241677, 5.244624649972142, 3.758965050706978, 2.6648051445002396, 1.326546065028106, 1.4703749526672274, 1.9455694959401075, 5.8722861197635625, 2.707484791083193, 3.420572753250407, 2.608778693866711, 2.423608862387928, 3.8212947130638, 3.878433503224329, 0.16521919100152194, 5.694762258431668, 3.0717278494320235, 4.397381199846352, 4.252148650339173, 2.1083848727100394, 2.7026862934136497, 2.390954563001253, 3.0293093231101307, 1.967958400334754, 1.875359683192888, 1.8184415750263332, 2.8399949279698538, 3.992503278664061, 3.3436021355662433, 3.328664694794086, 0.4343956162741197, 3.9974235230979103, 0.5001532124053734, 2.010685607804752, 4.396511584361904, 4.782269819871636, 4.913721911674665, 2.43232505548643, 4.822036904239104], \"yaxis\": \"y2\"}, {\"hoverlabel\": {\"namelength\": 0}, \"hovertemplate\": \"<b>OLS trendline</b><br>y = 0.953960 * x + -0.544726<br>R<sup>2</sup>=0.501675<br><br>group=B<br>x=%{x}<br>y=%{y} <b>(trend)</b>\", \"legendgroup\": \"group=B\", \"marker\": {\"color\": \"#EF553B\", \"symbol\": \"circle\"}, \"mode\": \"lines\", \"name\": \"group=B\", \"showlegend\": false, \"type\": \"scatter\", \"x\": [1.533631247199423, 2.4362893963031613, 2.4418209428638447, 2.658234860524419, 2.6638980885622994, 2.67348239549958, 2.728553262640103, 2.7722527843920757, 2.7916193675288463, 2.819189272201937, 2.8986650064216803, 2.916850698468002, 2.921016656642108, 2.9809019967512365, 3.1242113454792735, 3.178643179018273, 3.194238268334213, 3.3217754673359825, 3.3864137475992657, 3.3971680901937917, 3.5069445925735314, 3.551297335971648, 3.5679732664188646, 3.572746052288088, 3.673958441851678, 3.784156707171044, 3.8499268387164096, 4.042219932787372, 4.0603588650553, 4.063931796774217, 4.131468924861049, 4.153947300101712, 4.1568199219652255, 4.271651979795466, 4.277198450589916, 4.420845191010165, 4.458910014449712, 4.61894594697223, 4.636869764495064, 4.787506308750086, 5.010338925238923, 5.055749413145341, 5.195954366148203, 5.303121071695143, 5.311775262661834, 5.43984627080321, 5.492941829490316, 5.503561596419499, 5.659833931717733, 6.803851696799482], \"xaxis\": \"x2\", \"y\": [0.9182961614235506, 1.7793955545478668, 1.7846724264081306, 1.9911225574419107, 1.9965250481094854, 2.0056680895758525, 2.058203471127129, 2.099891048753066, 2.118365986360978, 2.1446665611755584, 2.2204831995925294, 2.237831614826117, 2.2418057705561307, 2.29893396474151, 2.435645291550317, 2.487571060872419, 2.5024481458009813, 2.624113479205707, 2.6857757862070653, 2.696034994403205, 2.800757341032837, 2.843068065709104, 2.8589762293944805, 2.863529274220566, 2.9600818033440284, 3.0652064947724247, 3.1279485421528803, 3.3113883823303745, 3.328692190625181, 3.332100623084234, 3.396528313751708, 3.4179717752629952, 3.420712140423165, 3.530257282631229, 3.5355483916073394, 3.672581576454759, 3.7088938796181705, 3.8615616913584776, 3.8786602888803725, 4.022361464091761, 4.2349347743946275, 4.278254544582845, 4.412004403334647, 4.514237109261281, 4.52249285768254, 4.64466742343244, 4.6953184405516675, 4.705449269001974, 4.854526761096896, 5.945873473264134], \"yaxis\": \"y2\"}, {\"hoverlabel\": {\"namelength\": 0}, \"hovertemplate\": \"group=C<br>x=%{x}<br>y=%{y}\", \"legendgroup\": \"group=C\", \"marker\": {\"color\": \"#00cc96\", \"symbol\": \"circle\"}, \"mode\": \"markers\", \"name\": \"group=C\", \"showlegend\": true, \"type\": \"scatter\", \"x\": [3.3532299061909363, 5.386394772314725, 4.608474094126514, 3.4907917052330095, 4.724674137149463, 4.504683930923926, 4.939997026751625, 3.226611472815457, 3.007570814508811, 3.3757378874412014, 3.505610235656885, 2.9924492143836137, 4.490912387163064, 6.384193063844521, 5.554791959790973, 2.6355251106830275, 3.102610248148898, 3.7447167003851574, 3.0990225082760103, 3.4415117379411684, 5.613893912706013, 4.433612112789211, 4.688545140873281, 3.022549665294838, 5.328408765670799, 4.996684384260931, 4.036592405562132, 5.507784853328769, 3.754162027748343, 2.30730128531301, 1.7166876416744734, 4.608822322334572, 4.1465705927396685, 3.7629036417426334, 5.414433742481071, 5.6520198909270345, 4.031827971685776, 3.9245545749297737, 3.7677492155706775, 2.786647387954144, 2.844578542182097, 4.922705290206343, 2.100252443731639, 2.5196318075329316, 2.3352751249953423, 4.679915877980518, 6.395958270501213, 4.117244226009278, 0.9433372440345518, 3.826123296245632], \"xaxis\": \"x3\", \"y\": [3.131832806427382, 4.822830396522785, 3.338207697580485, 2.465793795661478, 4.105826799464889, 3.889653915700479, 3.7481867846214723, 2.5187998366597912, 3.471166932897151, 1.7544384249020104, 3.2450240276985456, 3.2643232096764088, 2.9760783967449695, 6.170304812134368, 4.053175580519442, 3.1184855340369664, 3.7989270646228466, 2.342666557619671, 2.6449387019113773, 2.061175732966708, 3.366484946314323, 3.578074106490438, 4.109822151261497, 3.7249772080885486, 5.309449680816956, 6.095726353368207, 3.4976381698368235, 2.7757598058930943, 3.4483621158743043, 2.5312660553963457, 0.9846823988865984, 2.3743113657193025, 4.527302491887923, 1.954171050657958, 4.800819084814348, 3.8086074445406206, 3.1282391148665067, 1.640442799441174, 2.0852290068598784, 2.2304300599781595, 3.187549833496889, 3.04706169505677, 1.382929236499277, 0.9691000836887057, 0.2757187273163584, 3.588219862262456, 5.453878874590729, 4.775100446510809, -0.7457680907446939, 4.6339671110227885], \"yaxis\": \"y3\"}, {\"hoverlabel\": {\"namelength\": 0}, \"hovertemplate\": \"<b>OLS trendline</b><br>y = 0.855562 * x + -0.194629<br>R<sup>2</sup>=0.552695<br><br>group=C<br>x=%{x}<br>y=%{y} <b>(trend)</b>\", \"legendgroup\": \"group=C\", \"marker\": {\"color\": \"#00cc96\", \"symbol\": \"circle\"}, \"mode\": \"lines\", \"name\": \"group=C\", \"showlegend\": false, \"type\": \"scatter\", \"x\": [0.9433372440345518, 1.7166876416744734, 2.100252443731639, 2.30730128531301, 2.3352751249953423, 2.5196318075329316, 2.6355251106830275, 2.786647387954144, 2.844578542182097, 2.9924492143836137, 3.007570814508811, 3.022549665294838, 3.0990225082760103, 3.102610248148898, 3.226611472815457, 3.3532299061909363, 3.3757378874412014, 3.4415117379411684, 3.4907917052330095, 3.505610235656885, 3.7447167003851574, 3.754162027748343, 3.7629036417426334, 3.7677492155706775, 3.826123296245632, 3.9245545749297737, 4.031827971685776, 4.036592405562132, 4.117244226009278, 4.1465705927396685, 4.433612112789211, 4.490912387163064, 4.504683930923926, 4.608474094126514, 4.608822322334572, 4.679915877980518, 4.688545140873281, 4.724674137149463, 4.922705290206343, 4.939997026751625, 4.996684384260931, 5.328408765670799, 5.386394772314725, 5.414433742481071, 5.507784853328769, 5.554791959790973, 5.613893912706013, 5.6520198909270345, 6.384193063844521, 6.395958270501213], \"xaxis\": \"x3\", \"y\": [0.6124551583707367, 1.2741046106367113, 1.6022681985318261, 1.7794113836167376, 1.8033447465012413, 1.9610733755868663, 2.060227317686808, 2.1895218422474287, 2.2390855543513277, 2.365598128168985, 2.3785355992955988, 2.391350939467911, 2.4567782216237464, 2.4598477566353187, 2.5659385307932183, 2.6742684900785934, 2.693525470499498, 2.7497990979386735, 2.7919611805675024, 2.8046393566805103, 3.0092098358624146, 3.017290901955348, 3.024769897413156, 3.028915587748383, 3.078858251026222, 3.163072343145336, 3.254851418222979, 3.258927688273746, 3.327930346041764, 3.35302088009118, 3.598602785910282, 3.647626740989183, 3.6594091547747567, 3.7482081065088746, 3.7485060374387977, 3.8093310040985835, 3.816713876188492, 3.847624483682853, 4.017052474347302, 4.031846632401437, 4.080346198912168, 4.3641570767922655, 4.413767718555857, 4.437756804627683, 4.517624496619946, 4.5578420051881725, 4.608407408520769, 4.641026558499908, 5.267446329283106, 5.277512196662179], \"yaxis\": \"y3\"}, {\"hoverlabel\": {\"namelength\": 0}, \"hovertemplate\": \"group=D<br>x=%{x}<br>y=%{y}\", \"legendgroup\": \"group=D\", \"marker\": {\"color\": \"#ab63fa\", \"symbol\": \"circle\"}, \"mode\": \"markers\", \"name\": \"group=D\", \"showlegend\": true, \"type\": \"scatter\", \"x\": [4.377282027604293, 1.902052090909183, 4.655917032942277, 2.719093361734187, 2.155935438103405, 2.2427268230845354, 2.5759109029056635, 3.572188347151112, 3.3498813930276827, 1.7252841684678064, 4.596086158516954, 1.660189960973414, 1.871952059573553, 3.9380418637240315, 3.259888019206968, 4.064811450208193, 3.9813237862067337, 4.230106742672806, 3.810044653012682, 2.833823732109744, 5.22856008679004, 3.8993125438778717, 4.988283873786491, 4.301515305113021, 2.9318774366162117, 2.3184931951877026, 3.117473372554815, 4.827779171640705, 2.3707738048240845, 3.4275914688484543, 3.1594314373917616, 2.8465070960667176, 3.337608327508946, 2.7150374045249714, 3.5555297776052144, 3.403695271800628, 4.998984477637411, 2.09963345022199, 2.4683604837895485, 2.2017644847350013, 1.722785109397267, 3.3972519092460027, 3.4859663953494042, 3.1431213982345976, 4.172301773025032, 2.8700774261380952, 2.822246250956574, 1.1971383671569615, 3.493334834231731, 3.7051247701629184], \"xaxis\": \"x4\", \"y\": [3.858824153322869, 1.578320181316926, 4.231308301848548, 1.446624505889436, 2.809455504499523, 0.3370565221316617, 2.2442210229382304, 2.4817129521171077, 2.669074356135961, 1.119463217860492, 2.8238164920488, 1.203893609298915, 2.5811597515079625, 3.510249848998413, 2.6068590472389337, 4.07286753960857, 2.9990537458214788, 2.9209725224722467, 3.45279146202614, 2.748404381812157, 3.3553086850070377, 0.5915666262477557, 5.10053530406739, 2.9723949088852306, 2.0564841213246514, 1.3741350074484446, 2.8548360546761264, 3.656424831388678, 1.5715717874275368, 1.0767446852301434, 3.2008372847616537, 2.4993188622397335, 2.3571534788959867, 2.285262978926535, 1.2845299222950965, 1.528539648001414, 4.359960306274103, 2.0125801172918054, 1.362642100342817, 1.1527324548556643, 0.3674902133174178, 2.505882363332325, 2.4694857292899957, 0.5190976037933384, 4.718203301328052, 1.9283940758370306, 1.8227776686682613, 1.4471514216671981, 1.6095552935566728, 3.5789226530974902], \"yaxis\": \"y4\"}, {\"hoverlabel\": {\"namelength\": 0}, \"hovertemplate\": \"<b>OLS trendline</b><br>y = 0.813282 * x + -0.244310<br>R<sup>2</sup>=0.490103<br><br>group=D<br>x=%{x}<br>y=%{y} <b>(trend)</b>\", \"legendgroup\": \"group=D\", \"marker\": {\"color\": \"#ab63fa\", \"symbol\": \"circle\"}, \"mode\": \"lines\", \"name\": \"group=D\", \"showlegend\": false, \"type\": \"scatter\", \"x\": [1.1971383671569615, 1.660189960973414, 1.722785109397267, 1.7252841684678064, 1.871952059573553, 1.902052090909183, 2.09963345022199, 2.155935438103405, 2.2017644847350013, 2.2427268230845354, 2.3184931951877026, 2.3707738048240845, 2.4683604837895485, 2.5759109029056635, 2.7150374045249714, 2.719093361734187, 2.822246250956574, 2.833823732109744, 2.8465070960667176, 2.8700774261380952, 2.9318774366162117, 3.117473372554815, 3.1431213982345976, 3.1594314373917616, 3.259888019206968, 3.337608327508946, 3.3498813930276827, 3.3972519092460027, 3.403695271800628, 3.4275914688484543, 3.4859663953494042, 3.493334834231731, 3.5555297776052144, 3.572188347151112, 3.7051247701629184, 3.810044653012682, 3.8993125438778717, 3.9380418637240315, 3.9813237862067337, 4.064811450208193, 4.172301773025032, 4.230106742672806, 4.301515305113021, 4.377282027604293, 4.596086158516954, 4.655917032942277, 4.827779171640705, 4.988283873786491, 4.998984477637411, 5.22856008679004], \"xaxis\": \"x4\", \"y\": [0.729300677768945, 1.1058921551141876, 1.1567996559939437, 1.1588320954886244, 1.2781144357898184, 1.3025942462908404, 1.463283588457289, 1.5090729758103978, 1.5463449096656952, 1.5796588377906924, 1.6412782564136876, 1.683797129650261, 1.7631626087709036, 1.8506314173548828, 1.96378048212942, 1.9670791186914467, 2.050971495833522, 2.060387251636184, 2.070702401900319, 2.089871724588394, 2.1401325541734675, 2.2910743685149955, 2.311933443423108, 2.3251981029638107, 2.406897622110348, 2.4701061416663164, 2.480087603639403, 2.518613186800089, 2.523853456903725, 2.543287801303673, 2.5907630721039, 2.5967556900356366, 2.6473377113939476, 2.6608858243893962, 2.7690006103085927, 2.854330051375033, 2.926930010751787, 2.958427865358509, 2.9936282692611553, 3.061527274785096, 3.1489472081369634, 3.1959589433480105, 3.254034234273626, 3.315653937860923, 3.49360337591491, 3.542262742800971, 3.682035108508039, 3.8125706767019785, 3.821273284071258, 4.007982970351904], \"yaxis\": \"y4\"}],\n",
       "                        {\"annotations\": [{\"showarrow\": false, \"text\": \"group=A\", \"x\": 0.1175, \"xanchor\": \"center\", \"xref\": \"paper\", \"y\": 1.0, \"yanchor\": \"bottom\", \"yref\": \"paper\"}, {\"showarrow\": false, \"text\": \"group=B\", \"x\": 0.3725, \"xanchor\": \"center\", \"xref\": \"paper\", \"y\": 1.0, \"yanchor\": \"bottom\", \"yref\": \"paper\"}, {\"showarrow\": false, \"text\": \"group=C\", \"x\": 0.6275, \"xanchor\": \"center\", \"xref\": \"paper\", \"y\": 1.0, \"yanchor\": \"bottom\", \"yref\": \"paper\"}, {\"showarrow\": false, \"text\": \"group=D\", \"x\": 0.8824999999999998, \"xanchor\": \"center\", \"xref\": \"paper\", \"y\": 1.0, \"yanchor\": \"bottom\", \"yref\": \"paper\"}], \"legend\": {\"tracegroupgap\": 0}, \"margin\": {\"t\": 60}, \"template\": {\"data\": {\"bar\": [{\"error_x\": {\"color\": \"#2a3f5f\"}, \"error_y\": {\"color\": \"#2a3f5f\"}, \"marker\": {\"line\": {\"color\": \"#E5ECF6\", \"width\": 0.5}}, \"type\": \"bar\"}], \"barpolar\": [{\"marker\": {\"line\": {\"color\": \"#E5ECF6\", \"width\": 0.5}}, \"type\": \"barpolar\"}], \"carpet\": [{\"aaxis\": {\"endlinecolor\": \"#2a3f5f\", \"gridcolor\": \"white\", \"linecolor\": \"white\", \"minorgridcolor\": \"white\", \"startlinecolor\": \"#2a3f5f\"}, \"baxis\": {\"endlinecolor\": \"#2a3f5f\", \"gridcolor\": \"white\", \"linecolor\": \"white\", \"minorgridcolor\": \"white\", \"startlinecolor\": \"#2a3f5f\"}, \"type\": \"carpet\"}], \"choropleth\": [{\"colorbar\": {\"outlinewidth\": 0, \"ticks\": \"\"}, \"type\": \"choropleth\"}], \"contour\": [{\"colorbar\": {\"outlinewidth\": 0, \"ticks\": \"\"}, \"colorscale\": [[0.0, \"#0d0887\"], [0.1111111111111111, \"#46039f\"], [0.2222222222222222, \"#7201a8\"], [0.3333333333333333, \"#9c179e\"], [0.4444444444444444, \"#bd3786\"], [0.5555555555555556, \"#d8576b\"], [0.6666666666666666, \"#ed7953\"], [0.7777777777777778, \"#fb9f3a\"], [0.8888888888888888, \"#fdca26\"], [1.0, \"#f0f921\"]], \"type\": \"contour\"}], \"contourcarpet\": [{\"colorbar\": {\"outlinewidth\": 0, \"ticks\": \"\"}, \"type\": \"contourcarpet\"}], \"heatmap\": [{\"colorbar\": {\"outlinewidth\": 0, \"ticks\": \"\"}, \"colorscale\": [[0.0, \"#0d0887\"], [0.1111111111111111, \"#46039f\"], [0.2222222222222222, \"#7201a8\"], [0.3333333333333333, \"#9c179e\"], [0.4444444444444444, \"#bd3786\"], [0.5555555555555556, \"#d8576b\"], [0.6666666666666666, \"#ed7953\"], [0.7777777777777778, \"#fb9f3a\"], [0.8888888888888888, \"#fdca26\"], [1.0, \"#f0f921\"]], \"type\": \"heatmap\"}], \"heatmapgl\": [{\"colorbar\": {\"outlinewidth\": 0, \"ticks\": \"\"}, \"colorscale\": [[0.0, \"#0d0887\"], [0.1111111111111111, \"#46039f\"], [0.2222222222222222, \"#7201a8\"], [0.3333333333333333, \"#9c179e\"], [0.4444444444444444, \"#bd3786\"], [0.5555555555555556, \"#d8576b\"], [0.6666666666666666, \"#ed7953\"], [0.7777777777777778, \"#fb9f3a\"], [0.8888888888888888, \"#fdca26\"], [1.0, \"#f0f921\"]], \"type\": \"heatmapgl\"}], \"histogram\": [{\"marker\": {\"colorbar\": {\"outlinewidth\": 0, \"ticks\": \"\"}}, \"type\": \"histogram\"}], \"histogram2d\": [{\"colorbar\": {\"outlinewidth\": 0, \"ticks\": \"\"}, \"colorscale\": [[0.0, \"#0d0887\"], [0.1111111111111111, \"#46039f\"], [0.2222222222222222, \"#7201a8\"], [0.3333333333333333, \"#9c179e\"], [0.4444444444444444, \"#bd3786\"], [0.5555555555555556, \"#d8576b\"], [0.6666666666666666, \"#ed7953\"], [0.7777777777777778, \"#fb9f3a\"], [0.8888888888888888, \"#fdca26\"], [1.0, \"#f0f921\"]], \"type\": \"histogram2d\"}], \"histogram2dcontour\": [{\"colorbar\": {\"outlinewidth\": 0, \"ticks\": \"\"}, \"colorscale\": [[0.0, \"#0d0887\"], [0.1111111111111111, \"#46039f\"], [0.2222222222222222, \"#7201a8\"], [0.3333333333333333, \"#9c179e\"], [0.4444444444444444, \"#bd3786\"], [0.5555555555555556, \"#d8576b\"], [0.6666666666666666, \"#ed7953\"], [0.7777777777777778, \"#fb9f3a\"], [0.8888888888888888, \"#fdca26\"], [1.0, \"#f0f921\"]], \"type\": \"histogram2dcontour\"}], \"mesh3d\": [{\"colorbar\": {\"outlinewidth\": 0, \"ticks\": \"\"}, \"type\": \"mesh3d\"}], \"parcoords\": [{\"line\": {\"colorbar\": {\"outlinewidth\": 0, \"ticks\": \"\"}}, \"type\": \"parcoords\"}], \"pie\": [{\"automargin\": true, \"type\": \"pie\"}], \"scatter\": [{\"marker\": {\"colorbar\": {\"outlinewidth\": 0, \"ticks\": \"\"}}, \"type\": \"scatter\"}], \"scatter3d\": [{\"line\": {\"colorbar\": {\"outlinewidth\": 0, \"ticks\": \"\"}}, \"marker\": {\"colorbar\": {\"outlinewidth\": 0, \"ticks\": \"\"}}, \"type\": \"scatter3d\"}], \"scattercarpet\": [{\"marker\": {\"colorbar\": {\"outlinewidth\": 0, \"ticks\": \"\"}}, \"type\": \"scattercarpet\"}], \"scattergeo\": [{\"marker\": {\"colorbar\": {\"outlinewidth\": 0, \"ticks\": \"\"}}, \"type\": \"scattergeo\"}], \"scattergl\": [{\"marker\": {\"colorbar\": {\"outlinewidth\": 0, \"ticks\": \"\"}}, \"type\": \"scattergl\"}], \"scattermapbox\": [{\"marker\": {\"colorbar\": {\"outlinewidth\": 0, \"ticks\": \"\"}}, \"type\": \"scattermapbox\"}], \"scatterpolar\": [{\"marker\": {\"colorbar\": {\"outlinewidth\": 0, \"ticks\": \"\"}}, \"type\": \"scatterpolar\"}], \"scatterpolargl\": [{\"marker\": {\"colorbar\": {\"outlinewidth\": 0, \"ticks\": \"\"}}, \"type\": \"scatterpolargl\"}], \"scatterternary\": [{\"marker\": {\"colorbar\": {\"outlinewidth\": 0, \"ticks\": \"\"}}, \"type\": \"scatterternary\"}], \"surface\": [{\"colorbar\": {\"outlinewidth\": 0, \"ticks\": \"\"}, \"colorscale\": [[0.0, \"#0d0887\"], [0.1111111111111111, \"#46039f\"], [0.2222222222222222, \"#7201a8\"], [0.3333333333333333, \"#9c179e\"], [0.4444444444444444, \"#bd3786\"], [0.5555555555555556, \"#d8576b\"], [0.6666666666666666, \"#ed7953\"], [0.7777777777777778, \"#fb9f3a\"], [0.8888888888888888, \"#fdca26\"], [1.0, \"#f0f921\"]], \"type\": \"surface\"}], \"table\": [{\"cells\": {\"fill\": {\"color\": \"#EBF0F8\"}, \"line\": {\"color\": \"white\"}}, \"header\": {\"fill\": {\"color\": \"#C8D4E3\"}, \"line\": {\"color\": \"white\"}}, \"type\": \"table\"}]}, \"layout\": {\"annotationdefaults\": {\"arrowcolor\": \"#2a3f5f\", \"arrowhead\": 0, \"arrowwidth\": 1}, \"coloraxis\": {\"colorbar\": {\"outlinewidth\": 0, \"ticks\": \"\"}}, \"colorscale\": {\"diverging\": [[0, \"#8e0152\"], [0.1, \"#c51b7d\"], [0.2, \"#de77ae\"], [0.3, \"#f1b6da\"], [0.4, \"#fde0ef\"], [0.5, \"#f7f7f7\"], [0.6, \"#e6f5d0\"], [0.7, \"#b8e186\"], [0.8, \"#7fbc41\"], [0.9, \"#4d9221\"], [1, \"#276419\"]], \"sequential\": [[0.0, \"#0d0887\"], [0.1111111111111111, \"#46039f\"], [0.2222222222222222, \"#7201a8\"], [0.3333333333333333, \"#9c179e\"], [0.4444444444444444, \"#bd3786\"], [0.5555555555555556, \"#d8576b\"], [0.6666666666666666, \"#ed7953\"], [0.7777777777777778, \"#fb9f3a\"], [0.8888888888888888, \"#fdca26\"], [1.0, \"#f0f921\"]], \"sequentialminus\": [[0.0, \"#0d0887\"], [0.1111111111111111, \"#46039f\"], [0.2222222222222222, \"#7201a8\"], [0.3333333333333333, \"#9c179e\"], [0.4444444444444444, \"#bd3786\"], [0.5555555555555556, \"#d8576b\"], [0.6666666666666666, \"#ed7953\"], [0.7777777777777778, \"#fb9f3a\"], [0.8888888888888888, \"#fdca26\"], [1.0, \"#f0f921\"]]}, \"colorway\": [\"#636efa\", \"#EF553B\", \"#00cc96\", \"#ab63fa\", \"#FFA15A\", \"#19d3f3\", \"#FF6692\", \"#B6E880\", \"#FF97FF\", \"#FECB52\"], \"font\": {\"color\": \"#2a3f5f\"}, \"geo\": {\"bgcolor\": \"white\", \"lakecolor\": \"white\", \"landcolor\": \"#E5ECF6\", \"showlakes\": true, \"showland\": true, \"subunitcolor\": \"white\"}, \"hoverlabel\": {\"align\": \"left\"}, \"hovermode\": \"closest\", \"mapbox\": {\"style\": \"light\"}, \"paper_bgcolor\": \"white\", \"plot_bgcolor\": \"#E5ECF6\", \"polar\": {\"angularaxis\": {\"gridcolor\": \"white\", \"linecolor\": \"white\", \"ticks\": \"\"}, \"bgcolor\": \"#E5ECF6\", \"radialaxis\": {\"gridcolor\": \"white\", \"linecolor\": \"white\", \"ticks\": \"\"}}, \"scene\": {\"xaxis\": {\"backgroundcolor\": \"#E5ECF6\", \"gridcolor\": \"white\", \"gridwidth\": 2, \"linecolor\": \"white\", \"showbackground\": true, \"ticks\": \"\", \"zerolinecolor\": \"white\"}, \"yaxis\": {\"backgroundcolor\": \"#E5ECF6\", \"gridcolor\": \"white\", \"gridwidth\": 2, \"linecolor\": \"white\", \"showbackground\": true, \"ticks\": \"\", \"zerolinecolor\": \"white\"}, \"zaxis\": {\"backgroundcolor\": \"#E5ECF6\", \"gridcolor\": \"white\", \"gridwidth\": 2, \"linecolor\": \"white\", \"showbackground\": true, \"ticks\": \"\", \"zerolinecolor\": \"white\"}}, \"shapedefaults\": {\"line\": {\"color\": \"#2a3f5f\"}}, \"ternary\": {\"aaxis\": {\"gridcolor\": \"white\", \"linecolor\": \"white\", \"ticks\": \"\"}, \"baxis\": {\"gridcolor\": \"white\", \"linecolor\": \"white\", \"ticks\": \"\"}, \"bgcolor\": \"#E5ECF6\", \"caxis\": {\"gridcolor\": \"white\", \"linecolor\": \"white\", \"ticks\": \"\"}}, \"title\": {\"x\": 0.05}, \"xaxis\": {\"automargin\": true, \"gridcolor\": \"white\", \"linecolor\": \"white\", \"ticks\": \"\", \"title\": {\"standoff\": 15}, \"zerolinecolor\": \"white\", \"zerolinewidth\": 2}, \"yaxis\": {\"automargin\": true, \"gridcolor\": \"white\", \"linecolor\": \"white\", \"ticks\": \"\", \"title\": {\"standoff\": 15}, \"zerolinecolor\": \"white\", \"zerolinewidth\": 2}}}, \"xaxis\": {\"anchor\": \"y\", \"domain\": [0.0, 0.235], \"title\": {\"text\": \"x\"}}, \"xaxis2\": {\"anchor\": \"y2\", \"domain\": [0.255, 0.49], \"matches\": \"x\", \"title\": {\"text\": \"x\"}}, \"xaxis3\": {\"anchor\": \"y3\", \"domain\": [0.51, 0.745], \"matches\": \"x\", \"title\": {\"text\": \"x\"}}, \"xaxis4\": {\"anchor\": \"y4\", \"domain\": [0.7649999999999999, 0.9999999999999999], \"matches\": \"x\", \"title\": {\"text\": \"x\"}}, \"yaxis\": {\"anchor\": \"x\", \"domain\": [0.0, 1.0], \"title\": {\"text\": \"y\"}}, \"yaxis2\": {\"anchor\": \"x2\", \"domain\": [0.0, 1.0], \"matches\": \"y\", \"showticklabels\": false}, \"yaxis3\": {\"anchor\": \"x3\", \"domain\": [0.0, 1.0], \"matches\": \"y\", \"showticklabels\": false}, \"yaxis4\": {\"anchor\": \"x4\", \"domain\": [0.0, 1.0], \"matches\": \"y\", \"showticklabels\": false}},\n",
       "                        {\"responsive\": true}\n",
       "                    ).then(function(){\n",
       "                            \n",
       "var gd = document.getElementById('e35203c2-d272-4520-923c-ca3689fd9df0');\n",
       "var x = new MutationObserver(function (mutations, observer) {{\n",
       "        var display = window.getComputedStyle(gd).display;\n",
       "        if (!display || display === 'none') {{\n",
       "            console.log([gd, 'removed!']);\n",
       "            Plotly.purge(gd);\n",
       "            observer.disconnect();\n",
       "        }}\n",
       "}});\n",
       "\n",
       "// Listen for the removal of the full notebook cells\n",
       "var notebookContainer = gd.closest('#notebook-container');\n",
       "if (notebookContainer) {{\n",
       "    x.observe(notebookContainer, {childList: true});\n",
       "}}\n",
       "\n",
       "// Listen for the clearing of the current output cell\n",
       "var outputEl = gd.closest('.output');\n",
       "if (outputEl) {{\n",
       "    x.observe(outputEl, {childList: true});\n",
       "}}\n",
       "\n",
       "                        })\n",
       "                };\n",
       "                });\n",
       "            </script>\n",
       "        </div>"
      ]
     },
     "metadata": {},
     "output_type": "display_data"
    }
   ],
   "source": [
    "plotly.offline.iplot(\n",
    "    plotly.express.scatter(data1, x = \"x\", y = \"y\", color = \"group\", trendline = \"ols\", facet_col = \"group\")\n",
    ")"
   ]
  },
  {
   "cell_type": "markdown",
   "metadata": {},
   "source": [
    "## Bars of `group` means with 95% confidence intervals"
   ]
  },
  {
   "cell_type": "code",
   "execution_count": 391,
   "metadata": {},
   "outputs": [],
   "source": [
    "# had to manually compute summary data in a data frame (haven't found ggplot2::stat_summary)"
   ]
  },
  {
   "cell_type": "code",
   "execution_count": 392,
   "metadata": {},
   "outputs": [
    {
     "data": {
      "application/vnd.plotly.v1+json": {
       "config": {
        "linkText": "Export to plot.ly",
        "plotlyServerURL": "https://plot.ly",
        "showLink": false
       },
       "data": [
        {
         "alignmentgroup": "True",
         "error_y": {
          "array": [
           2.6614823590134744
          ],
          "arrayminus": [
           1.895205221431813
          ]
         },
         "hoverlabel": {
          "namelength": 0
         },
         "hovertemplate": "group=%{x}<br>mean=%{y}",
         "legendgroup": "group=A",
         "marker": {
          "color": "#636efa"
         },
         "name": "group=A",
         "offsetgroup": "group=A",
         "orientation": "v",
         "showlegend": true,
         "textposition": "auto",
         "type": "bar",
         "x": [
          "A"
         ],
         "xaxis": "x",
         "y": [
          2.2783437902226438
         ],
         "yaxis": "y"
        },
        {
         "alignmentgroup": "True",
         "error_y": {
          "array": [
           3.5521373688262696
          ],
          "arrayminus": [
           2.730744031974876
          ]
         },
         "hoverlabel": {
          "namelength": 0
         },
         "hovertemplate": "group=%{x}<br>mean=%{y}",
         "legendgroup": "group=B",
         "marker": {
          "color": "#EF553B"
         },
         "name": "group=B",
         "offsetgroup": "group=B",
         "orientation": "v",
         "showlegend": true,
         "textposition": "auto",
         "type": "bar",
         "x": [
          "B"
         ],
         "xaxis": "x",
         "y": [
          3.141440700400573
         ],
         "yaxis": "y"
        },
        {
         "alignmentgroup": "True",
         "error_y": {
          "array": [
           3.5813031485839346
          ],
          "arrayminus": [
           2.7971524593785606
          ]
         },
         "hoverlabel": {
          "namelength": 0
         },
         "hovertemplate": "group=%{x}<br>mean=%{y}",
         "legendgroup": "group=C",
         "marker": {
          "color": "#00cc96"
         },
         "name": "group=C",
         "offsetgroup": "group=C",
         "orientation": "v",
         "showlegend": true,
         "textposition": "auto",
         "type": "bar",
         "x": [
          "C"
         ],
         "xaxis": "x",
         "y": [
          3.1892278039812476
         ],
         "yaxis": "y"
        },
        {
         "alignmentgroup": "True",
         "error_y": {
          "array": [
           2.7106910129322004
          ],
          "arrayminus": [
           2.0619749314025966
          ]
         },
         "hoverlabel": {
          "namelength": 0
         },
         "hovertemplate": "group=%{x}<br>mean=%{y}",
         "legendgroup": "group=D",
         "marker": {
          "color": "#ab63fa"
         },
         "name": "group=D",
         "offsetgroup": "group=D",
         "orientation": "v",
         "showlegend": true,
         "textposition": "auto",
         "type": "bar",
         "x": [
          "D"
         ],
         "xaxis": "x",
         "y": [
          2.3863329721673985
         ],
         "yaxis": "y"
        }
       ],
       "layout": {
        "barmode": "relative",
        "legend": {
         "tracegroupgap": 0
        },
        "margin": {
         "t": 60
        },
        "template": {
         "data": {
          "bar": [
           {
            "error_x": {
             "color": "#2a3f5f"
            },
            "error_y": {
             "color": "#2a3f5f"
            },
            "marker": {
             "line": {
              "color": "#E5ECF6",
              "width": 0.5
             }
            },
            "type": "bar"
           }
          ],
          "barpolar": [
           {
            "marker": {
             "line": {
              "color": "#E5ECF6",
              "width": 0.5
             }
            },
            "type": "barpolar"
           }
          ],
          "carpet": [
           {
            "aaxis": {
             "endlinecolor": "#2a3f5f",
             "gridcolor": "white",
             "linecolor": "white",
             "minorgridcolor": "white",
             "startlinecolor": "#2a3f5f"
            },
            "baxis": {
             "endlinecolor": "#2a3f5f",
             "gridcolor": "white",
             "linecolor": "white",
             "minorgridcolor": "white",
             "startlinecolor": "#2a3f5f"
            },
            "type": "carpet"
           }
          ],
          "choropleth": [
           {
            "colorbar": {
             "outlinewidth": 0,
             "ticks": ""
            },
            "type": "choropleth"
           }
          ],
          "contour": [
           {
            "colorbar": {
             "outlinewidth": 0,
             "ticks": ""
            },
            "colorscale": [
             [
              0,
              "#0d0887"
             ],
             [
              0.1111111111111111,
              "#46039f"
             ],
             [
              0.2222222222222222,
              "#7201a8"
             ],
             [
              0.3333333333333333,
              "#9c179e"
             ],
             [
              0.4444444444444444,
              "#bd3786"
             ],
             [
              0.5555555555555556,
              "#d8576b"
             ],
             [
              0.6666666666666666,
              "#ed7953"
             ],
             [
              0.7777777777777778,
              "#fb9f3a"
             ],
             [
              0.8888888888888888,
              "#fdca26"
             ],
             [
              1,
              "#f0f921"
             ]
            ],
            "type": "contour"
           }
          ],
          "contourcarpet": [
           {
            "colorbar": {
             "outlinewidth": 0,
             "ticks": ""
            },
            "type": "contourcarpet"
           }
          ],
          "heatmap": [
           {
            "colorbar": {
             "outlinewidth": 0,
             "ticks": ""
            },
            "colorscale": [
             [
              0,
              "#0d0887"
             ],
             [
              0.1111111111111111,
              "#46039f"
             ],
             [
              0.2222222222222222,
              "#7201a8"
             ],
             [
              0.3333333333333333,
              "#9c179e"
             ],
             [
              0.4444444444444444,
              "#bd3786"
             ],
             [
              0.5555555555555556,
              "#d8576b"
             ],
             [
              0.6666666666666666,
              "#ed7953"
             ],
             [
              0.7777777777777778,
              "#fb9f3a"
             ],
             [
              0.8888888888888888,
              "#fdca26"
             ],
             [
              1,
              "#f0f921"
             ]
            ],
            "type": "heatmap"
           }
          ],
          "heatmapgl": [
           {
            "colorbar": {
             "outlinewidth": 0,
             "ticks": ""
            },
            "colorscale": [
             [
              0,
              "#0d0887"
             ],
             [
              0.1111111111111111,
              "#46039f"
             ],
             [
              0.2222222222222222,
              "#7201a8"
             ],
             [
              0.3333333333333333,
              "#9c179e"
             ],
             [
              0.4444444444444444,
              "#bd3786"
             ],
             [
              0.5555555555555556,
              "#d8576b"
             ],
             [
              0.6666666666666666,
              "#ed7953"
             ],
             [
              0.7777777777777778,
              "#fb9f3a"
             ],
             [
              0.8888888888888888,
              "#fdca26"
             ],
             [
              1,
              "#f0f921"
             ]
            ],
            "type": "heatmapgl"
           }
          ],
          "histogram": [
           {
            "marker": {
             "colorbar": {
              "outlinewidth": 0,
              "ticks": ""
             }
            },
            "type": "histogram"
           }
          ],
          "histogram2d": [
           {
            "colorbar": {
             "outlinewidth": 0,
             "ticks": ""
            },
            "colorscale": [
             [
              0,
              "#0d0887"
             ],
             [
              0.1111111111111111,
              "#46039f"
             ],
             [
              0.2222222222222222,
              "#7201a8"
             ],
             [
              0.3333333333333333,
              "#9c179e"
             ],
             [
              0.4444444444444444,
              "#bd3786"
             ],
             [
              0.5555555555555556,
              "#d8576b"
             ],
             [
              0.6666666666666666,
              "#ed7953"
             ],
             [
              0.7777777777777778,
              "#fb9f3a"
             ],
             [
              0.8888888888888888,
              "#fdca26"
             ],
             [
              1,
              "#f0f921"
             ]
            ],
            "type": "histogram2d"
           }
          ],
          "histogram2dcontour": [
           {
            "colorbar": {
             "outlinewidth": 0,
             "ticks": ""
            },
            "colorscale": [
             [
              0,
              "#0d0887"
             ],
             [
              0.1111111111111111,
              "#46039f"
             ],
             [
              0.2222222222222222,
              "#7201a8"
             ],
             [
              0.3333333333333333,
              "#9c179e"
             ],
             [
              0.4444444444444444,
              "#bd3786"
             ],
             [
              0.5555555555555556,
              "#d8576b"
             ],
             [
              0.6666666666666666,
              "#ed7953"
             ],
             [
              0.7777777777777778,
              "#fb9f3a"
             ],
             [
              0.8888888888888888,
              "#fdca26"
             ],
             [
              1,
              "#f0f921"
             ]
            ],
            "type": "histogram2dcontour"
           }
          ],
          "mesh3d": [
           {
            "colorbar": {
             "outlinewidth": 0,
             "ticks": ""
            },
            "type": "mesh3d"
           }
          ],
          "parcoords": [
           {
            "line": {
             "colorbar": {
              "outlinewidth": 0,
              "ticks": ""
             }
            },
            "type": "parcoords"
           }
          ],
          "pie": [
           {
            "automargin": true,
            "type": "pie"
           }
          ],
          "scatter": [
           {
            "marker": {
             "colorbar": {
              "outlinewidth": 0,
              "ticks": ""
             }
            },
            "type": "scatter"
           }
          ],
          "scatter3d": [
           {
            "line": {
             "colorbar": {
              "outlinewidth": 0,
              "ticks": ""
             }
            },
            "marker": {
             "colorbar": {
              "outlinewidth": 0,
              "ticks": ""
             }
            },
            "type": "scatter3d"
           }
          ],
          "scattercarpet": [
           {
            "marker": {
             "colorbar": {
              "outlinewidth": 0,
              "ticks": ""
             }
            },
            "type": "scattercarpet"
           }
          ],
          "scattergeo": [
           {
            "marker": {
             "colorbar": {
              "outlinewidth": 0,
              "ticks": ""
             }
            },
            "type": "scattergeo"
           }
          ],
          "scattergl": [
           {
            "marker": {
             "colorbar": {
              "outlinewidth": 0,
              "ticks": ""
             }
            },
            "type": "scattergl"
           }
          ],
          "scattermapbox": [
           {
            "marker": {
             "colorbar": {
              "outlinewidth": 0,
              "ticks": ""
             }
            },
            "type": "scattermapbox"
           }
          ],
          "scatterpolar": [
           {
            "marker": {
             "colorbar": {
              "outlinewidth": 0,
              "ticks": ""
             }
            },
            "type": "scatterpolar"
           }
          ],
          "scatterpolargl": [
           {
            "marker": {
             "colorbar": {
              "outlinewidth": 0,
              "ticks": ""
             }
            },
            "type": "scatterpolargl"
           }
          ],
          "scatterternary": [
           {
            "marker": {
             "colorbar": {
              "outlinewidth": 0,
              "ticks": ""
             }
            },
            "type": "scatterternary"
           }
          ],
          "surface": [
           {
            "colorbar": {
             "outlinewidth": 0,
             "ticks": ""
            },
            "colorscale": [
             [
              0,
              "#0d0887"
             ],
             [
              0.1111111111111111,
              "#46039f"
             ],
             [
              0.2222222222222222,
              "#7201a8"
             ],
             [
              0.3333333333333333,
              "#9c179e"
             ],
             [
              0.4444444444444444,
              "#bd3786"
             ],
             [
              0.5555555555555556,
              "#d8576b"
             ],
             [
              0.6666666666666666,
              "#ed7953"
             ],
             [
              0.7777777777777778,
              "#fb9f3a"
             ],
             [
              0.8888888888888888,
              "#fdca26"
             ],
             [
              1,
              "#f0f921"
             ]
            ],
            "type": "surface"
           }
          ],
          "table": [
           {
            "cells": {
             "fill": {
              "color": "#EBF0F8"
             },
             "line": {
              "color": "white"
             }
            },
            "header": {
             "fill": {
              "color": "#C8D4E3"
             },
             "line": {
              "color": "white"
             }
            },
            "type": "table"
           }
          ]
         },
         "layout": {
          "annotationdefaults": {
           "arrowcolor": "#2a3f5f",
           "arrowhead": 0,
           "arrowwidth": 1
          },
          "coloraxis": {
           "colorbar": {
            "outlinewidth": 0,
            "ticks": ""
           }
          },
          "colorscale": {
           "diverging": [
            [
             0,
             "#8e0152"
            ],
            [
             0.1,
             "#c51b7d"
            ],
            [
             0.2,
             "#de77ae"
            ],
            [
             0.3,
             "#f1b6da"
            ],
            [
             0.4,
             "#fde0ef"
            ],
            [
             0.5,
             "#f7f7f7"
            ],
            [
             0.6,
             "#e6f5d0"
            ],
            [
             0.7,
             "#b8e186"
            ],
            [
             0.8,
             "#7fbc41"
            ],
            [
             0.9,
             "#4d9221"
            ],
            [
             1,
             "#276419"
            ]
           ],
           "sequential": [
            [
             0,
             "#0d0887"
            ],
            [
             0.1111111111111111,
             "#46039f"
            ],
            [
             0.2222222222222222,
             "#7201a8"
            ],
            [
             0.3333333333333333,
             "#9c179e"
            ],
            [
             0.4444444444444444,
             "#bd3786"
            ],
            [
             0.5555555555555556,
             "#d8576b"
            ],
            [
             0.6666666666666666,
             "#ed7953"
            ],
            [
             0.7777777777777778,
             "#fb9f3a"
            ],
            [
             0.8888888888888888,
             "#fdca26"
            ],
            [
             1,
             "#f0f921"
            ]
           ],
           "sequentialminus": [
            [
             0,
             "#0d0887"
            ],
            [
             0.1111111111111111,
             "#46039f"
            ],
            [
             0.2222222222222222,
             "#7201a8"
            ],
            [
             0.3333333333333333,
             "#9c179e"
            ],
            [
             0.4444444444444444,
             "#bd3786"
            ],
            [
             0.5555555555555556,
             "#d8576b"
            ],
            [
             0.6666666666666666,
             "#ed7953"
            ],
            [
             0.7777777777777778,
             "#fb9f3a"
            ],
            [
             0.8888888888888888,
             "#fdca26"
            ],
            [
             1,
             "#f0f921"
            ]
           ]
          },
          "colorway": [
           "#636efa",
           "#EF553B",
           "#00cc96",
           "#ab63fa",
           "#FFA15A",
           "#19d3f3",
           "#FF6692",
           "#B6E880",
           "#FF97FF",
           "#FECB52"
          ],
          "font": {
           "color": "#2a3f5f"
          },
          "geo": {
           "bgcolor": "white",
           "lakecolor": "white",
           "landcolor": "#E5ECF6",
           "showlakes": true,
           "showland": true,
           "subunitcolor": "white"
          },
          "hoverlabel": {
           "align": "left"
          },
          "hovermode": "closest",
          "mapbox": {
           "style": "light"
          },
          "paper_bgcolor": "white",
          "plot_bgcolor": "#E5ECF6",
          "polar": {
           "angularaxis": {
            "gridcolor": "white",
            "linecolor": "white",
            "ticks": ""
           },
           "bgcolor": "#E5ECF6",
           "radialaxis": {
            "gridcolor": "white",
            "linecolor": "white",
            "ticks": ""
           }
          },
          "scene": {
           "xaxis": {
            "backgroundcolor": "#E5ECF6",
            "gridcolor": "white",
            "gridwidth": 2,
            "linecolor": "white",
            "showbackground": true,
            "ticks": "",
            "zerolinecolor": "white"
           },
           "yaxis": {
            "backgroundcolor": "#E5ECF6",
            "gridcolor": "white",
            "gridwidth": 2,
            "linecolor": "white",
            "showbackground": true,
            "ticks": "",
            "zerolinecolor": "white"
           },
           "zaxis": {
            "backgroundcolor": "#E5ECF6",
            "gridcolor": "white",
            "gridwidth": 2,
            "linecolor": "white",
            "showbackground": true,
            "ticks": "",
            "zerolinecolor": "white"
           }
          },
          "shapedefaults": {
           "line": {
            "color": "#2a3f5f"
           }
          },
          "ternary": {
           "aaxis": {
            "gridcolor": "white",
            "linecolor": "white",
            "ticks": ""
           },
           "baxis": {
            "gridcolor": "white",
            "linecolor": "white",
            "ticks": ""
           },
           "bgcolor": "#E5ECF6",
           "caxis": {
            "gridcolor": "white",
            "linecolor": "white",
            "ticks": ""
           }
          },
          "title": {
           "x": 0.05
          },
          "xaxis": {
           "automargin": true,
           "gridcolor": "white",
           "linecolor": "white",
           "ticks": "",
           "title": {
            "standoff": 15
           },
           "zerolinecolor": "white",
           "zerolinewidth": 2
          },
          "yaxis": {
           "automargin": true,
           "gridcolor": "white",
           "linecolor": "white",
           "ticks": "",
           "title": {
            "standoff": 15
           },
           "zerolinecolor": "white",
           "zerolinewidth": 2
          }
         }
        },
        "xaxis": {
         "anchor": "y",
         "categoryarray": [
          "A",
          "B",
          "C",
          "D"
         ],
         "categoryorder": "array",
         "domain": [
          0,
          1
         ],
         "title": {
          "text": "group"
         }
        },
        "yaxis": {
         "anchor": "x",
         "domain": [
          0,
          1
         ],
         "title": {
          "text": "mean"
         }
        }
       }
      },
      "text/html": [
       "<div>\n",
       "        \n",
       "        \n",
       "            <div id=\"579e49ed-a922-4c06-9216-b67113e2e2f1\" class=\"plotly-graph-div\" style=\"height:525px; width:100%;\"></div>\n",
       "            <script type=\"text/javascript\">\n",
       "                require([\"plotly\"], function(Plotly) {\n",
       "                    window.PLOTLYENV=window.PLOTLYENV || {};\n",
       "                    \n",
       "                if (document.getElementById(\"579e49ed-a922-4c06-9216-b67113e2e2f1\")) {\n",
       "                    Plotly.newPlot(\n",
       "                        '579e49ed-a922-4c06-9216-b67113e2e2f1',\n",
       "                        [{\"alignmentgroup\": \"True\", \"error_y\": {\"array\": [2.6614823590134744], \"arrayminus\": [1.895205221431813]}, \"hoverlabel\": {\"namelength\": 0}, \"hovertemplate\": \"group=%{x}<br>mean=%{y}\", \"legendgroup\": \"group=A\", \"marker\": {\"color\": \"#636efa\"}, \"name\": \"group=A\", \"offsetgroup\": \"group=A\", \"orientation\": \"v\", \"showlegend\": true, \"textposition\": \"auto\", \"type\": \"bar\", \"x\": [\"A\"], \"xaxis\": \"x\", \"y\": [2.2783437902226438], \"yaxis\": \"y\"}, {\"alignmentgroup\": \"True\", \"error_y\": {\"array\": [3.5521373688262696], \"arrayminus\": [2.730744031974876]}, \"hoverlabel\": {\"namelength\": 0}, \"hovertemplate\": \"group=%{x}<br>mean=%{y}\", \"legendgroup\": \"group=B\", \"marker\": {\"color\": \"#EF553B\"}, \"name\": \"group=B\", \"offsetgroup\": \"group=B\", \"orientation\": \"v\", \"showlegend\": true, \"textposition\": \"auto\", \"type\": \"bar\", \"x\": [\"B\"], \"xaxis\": \"x\", \"y\": [3.141440700400573], \"yaxis\": \"y\"}, {\"alignmentgroup\": \"True\", \"error_y\": {\"array\": [3.5813031485839346], \"arrayminus\": [2.7971524593785606]}, \"hoverlabel\": {\"namelength\": 0}, \"hovertemplate\": \"group=%{x}<br>mean=%{y}\", \"legendgroup\": \"group=C\", \"marker\": {\"color\": \"#00cc96\"}, \"name\": \"group=C\", \"offsetgroup\": \"group=C\", \"orientation\": \"v\", \"showlegend\": true, \"textposition\": \"auto\", \"type\": \"bar\", \"x\": [\"C\"], \"xaxis\": \"x\", \"y\": [3.1892278039812476], \"yaxis\": \"y\"}, {\"alignmentgroup\": \"True\", \"error_y\": {\"array\": [2.7106910129322004], \"arrayminus\": [2.0619749314025966]}, \"hoverlabel\": {\"namelength\": 0}, \"hovertemplate\": \"group=%{x}<br>mean=%{y}\", \"legendgroup\": \"group=D\", \"marker\": {\"color\": \"#ab63fa\"}, \"name\": \"group=D\", \"offsetgroup\": \"group=D\", \"orientation\": \"v\", \"showlegend\": true, \"textposition\": \"auto\", \"type\": \"bar\", \"x\": [\"D\"], \"xaxis\": \"x\", \"y\": [2.3863329721673985], \"yaxis\": \"y\"}],\n",
       "                        {\"barmode\": \"relative\", \"legend\": {\"tracegroupgap\": 0}, \"margin\": {\"t\": 60}, \"template\": {\"data\": {\"bar\": [{\"error_x\": {\"color\": \"#2a3f5f\"}, \"error_y\": {\"color\": \"#2a3f5f\"}, \"marker\": {\"line\": {\"color\": \"#E5ECF6\", \"width\": 0.5}}, \"type\": \"bar\"}], \"barpolar\": [{\"marker\": {\"line\": {\"color\": \"#E5ECF6\", \"width\": 0.5}}, \"type\": \"barpolar\"}], \"carpet\": [{\"aaxis\": {\"endlinecolor\": \"#2a3f5f\", \"gridcolor\": \"white\", \"linecolor\": \"white\", \"minorgridcolor\": \"white\", \"startlinecolor\": \"#2a3f5f\"}, \"baxis\": {\"endlinecolor\": \"#2a3f5f\", \"gridcolor\": \"white\", \"linecolor\": \"white\", \"minorgridcolor\": \"white\", \"startlinecolor\": \"#2a3f5f\"}, \"type\": \"carpet\"}], \"choropleth\": [{\"colorbar\": {\"outlinewidth\": 0, \"ticks\": \"\"}, \"type\": \"choropleth\"}], \"contour\": [{\"colorbar\": {\"outlinewidth\": 0, \"ticks\": \"\"}, \"colorscale\": [[0.0, \"#0d0887\"], [0.1111111111111111, \"#46039f\"], [0.2222222222222222, \"#7201a8\"], [0.3333333333333333, \"#9c179e\"], [0.4444444444444444, \"#bd3786\"], [0.5555555555555556, \"#d8576b\"], [0.6666666666666666, \"#ed7953\"], [0.7777777777777778, \"#fb9f3a\"], [0.8888888888888888, \"#fdca26\"], [1.0, \"#f0f921\"]], \"type\": \"contour\"}], \"contourcarpet\": [{\"colorbar\": {\"outlinewidth\": 0, \"ticks\": \"\"}, \"type\": \"contourcarpet\"}], \"heatmap\": [{\"colorbar\": {\"outlinewidth\": 0, \"ticks\": \"\"}, \"colorscale\": [[0.0, \"#0d0887\"], [0.1111111111111111, \"#46039f\"], [0.2222222222222222, \"#7201a8\"], [0.3333333333333333, \"#9c179e\"], [0.4444444444444444, \"#bd3786\"], [0.5555555555555556, \"#d8576b\"], [0.6666666666666666, \"#ed7953\"], [0.7777777777777778, \"#fb9f3a\"], [0.8888888888888888, \"#fdca26\"], [1.0, \"#f0f921\"]], \"type\": \"heatmap\"}], \"heatmapgl\": [{\"colorbar\": {\"outlinewidth\": 0, \"ticks\": \"\"}, \"colorscale\": [[0.0, \"#0d0887\"], [0.1111111111111111, \"#46039f\"], [0.2222222222222222, \"#7201a8\"], [0.3333333333333333, \"#9c179e\"], [0.4444444444444444, \"#bd3786\"], [0.5555555555555556, \"#d8576b\"], [0.6666666666666666, \"#ed7953\"], [0.7777777777777778, \"#fb9f3a\"], [0.8888888888888888, \"#fdca26\"], [1.0, \"#f0f921\"]], \"type\": \"heatmapgl\"}], \"histogram\": [{\"marker\": {\"colorbar\": {\"outlinewidth\": 0, \"ticks\": \"\"}}, \"type\": \"histogram\"}], \"histogram2d\": [{\"colorbar\": {\"outlinewidth\": 0, \"ticks\": \"\"}, \"colorscale\": [[0.0, \"#0d0887\"], [0.1111111111111111, \"#46039f\"], [0.2222222222222222, \"#7201a8\"], [0.3333333333333333, \"#9c179e\"], [0.4444444444444444, \"#bd3786\"], [0.5555555555555556, \"#d8576b\"], [0.6666666666666666, \"#ed7953\"], [0.7777777777777778, \"#fb9f3a\"], [0.8888888888888888, \"#fdca26\"], [1.0, \"#f0f921\"]], \"type\": \"histogram2d\"}], \"histogram2dcontour\": [{\"colorbar\": {\"outlinewidth\": 0, \"ticks\": \"\"}, \"colorscale\": [[0.0, \"#0d0887\"], [0.1111111111111111, \"#46039f\"], [0.2222222222222222, \"#7201a8\"], [0.3333333333333333, \"#9c179e\"], [0.4444444444444444, \"#bd3786\"], [0.5555555555555556, \"#d8576b\"], [0.6666666666666666, \"#ed7953\"], [0.7777777777777778, \"#fb9f3a\"], [0.8888888888888888, \"#fdca26\"], [1.0, \"#f0f921\"]], \"type\": \"histogram2dcontour\"}], \"mesh3d\": [{\"colorbar\": {\"outlinewidth\": 0, \"ticks\": \"\"}, \"type\": \"mesh3d\"}], \"parcoords\": [{\"line\": {\"colorbar\": {\"outlinewidth\": 0, \"ticks\": \"\"}}, \"type\": \"parcoords\"}], \"pie\": [{\"automargin\": true, \"type\": \"pie\"}], \"scatter\": [{\"marker\": {\"colorbar\": {\"outlinewidth\": 0, \"ticks\": \"\"}}, \"type\": \"scatter\"}], \"scatter3d\": [{\"line\": {\"colorbar\": {\"outlinewidth\": 0, \"ticks\": \"\"}}, \"marker\": {\"colorbar\": {\"outlinewidth\": 0, \"ticks\": \"\"}}, \"type\": \"scatter3d\"}], \"scattercarpet\": [{\"marker\": {\"colorbar\": {\"outlinewidth\": 0, \"ticks\": \"\"}}, \"type\": \"scattercarpet\"}], \"scattergeo\": [{\"marker\": {\"colorbar\": {\"outlinewidth\": 0, \"ticks\": \"\"}}, \"type\": \"scattergeo\"}], \"scattergl\": [{\"marker\": {\"colorbar\": {\"outlinewidth\": 0, \"ticks\": \"\"}}, \"type\": \"scattergl\"}], \"scattermapbox\": [{\"marker\": {\"colorbar\": {\"outlinewidth\": 0, \"ticks\": \"\"}}, \"type\": \"scattermapbox\"}], \"scatterpolar\": [{\"marker\": {\"colorbar\": {\"outlinewidth\": 0, \"ticks\": \"\"}}, \"type\": \"scatterpolar\"}], \"scatterpolargl\": [{\"marker\": {\"colorbar\": {\"outlinewidth\": 0, \"ticks\": \"\"}}, \"type\": \"scatterpolargl\"}], \"scatterternary\": [{\"marker\": {\"colorbar\": {\"outlinewidth\": 0, \"ticks\": \"\"}}, \"type\": \"scatterternary\"}], \"surface\": [{\"colorbar\": {\"outlinewidth\": 0, \"ticks\": \"\"}, \"colorscale\": [[0.0, \"#0d0887\"], [0.1111111111111111, \"#46039f\"], [0.2222222222222222, \"#7201a8\"], [0.3333333333333333, \"#9c179e\"], [0.4444444444444444, \"#bd3786\"], [0.5555555555555556, \"#d8576b\"], [0.6666666666666666, \"#ed7953\"], [0.7777777777777778, \"#fb9f3a\"], [0.8888888888888888, \"#fdca26\"], [1.0, \"#f0f921\"]], \"type\": \"surface\"}], \"table\": [{\"cells\": {\"fill\": {\"color\": \"#EBF0F8\"}, \"line\": {\"color\": \"white\"}}, \"header\": {\"fill\": {\"color\": \"#C8D4E3\"}, \"line\": {\"color\": \"white\"}}, \"type\": \"table\"}]}, \"layout\": {\"annotationdefaults\": {\"arrowcolor\": \"#2a3f5f\", \"arrowhead\": 0, \"arrowwidth\": 1}, \"coloraxis\": {\"colorbar\": {\"outlinewidth\": 0, \"ticks\": \"\"}}, \"colorscale\": {\"diverging\": [[0, \"#8e0152\"], [0.1, \"#c51b7d\"], [0.2, \"#de77ae\"], [0.3, \"#f1b6da\"], [0.4, \"#fde0ef\"], [0.5, \"#f7f7f7\"], [0.6, \"#e6f5d0\"], [0.7, \"#b8e186\"], [0.8, \"#7fbc41\"], [0.9, \"#4d9221\"], [1, \"#276419\"]], \"sequential\": [[0.0, \"#0d0887\"], [0.1111111111111111, \"#46039f\"], [0.2222222222222222, \"#7201a8\"], [0.3333333333333333, \"#9c179e\"], [0.4444444444444444, \"#bd3786\"], [0.5555555555555556, \"#d8576b\"], [0.6666666666666666, \"#ed7953\"], [0.7777777777777778, \"#fb9f3a\"], [0.8888888888888888, \"#fdca26\"], [1.0, \"#f0f921\"]], \"sequentialminus\": [[0.0, \"#0d0887\"], [0.1111111111111111, \"#46039f\"], [0.2222222222222222, \"#7201a8\"], [0.3333333333333333, \"#9c179e\"], [0.4444444444444444, \"#bd3786\"], [0.5555555555555556, \"#d8576b\"], [0.6666666666666666, \"#ed7953\"], [0.7777777777777778, \"#fb9f3a\"], [0.8888888888888888, \"#fdca26\"], [1.0, \"#f0f921\"]]}, \"colorway\": [\"#636efa\", \"#EF553B\", \"#00cc96\", \"#ab63fa\", \"#FFA15A\", \"#19d3f3\", \"#FF6692\", \"#B6E880\", \"#FF97FF\", \"#FECB52\"], \"font\": {\"color\": \"#2a3f5f\"}, \"geo\": {\"bgcolor\": \"white\", \"lakecolor\": \"white\", \"landcolor\": \"#E5ECF6\", \"showlakes\": true, \"showland\": true, \"subunitcolor\": \"white\"}, \"hoverlabel\": {\"align\": \"left\"}, \"hovermode\": \"closest\", \"mapbox\": {\"style\": \"light\"}, \"paper_bgcolor\": \"white\", \"plot_bgcolor\": \"#E5ECF6\", \"polar\": {\"angularaxis\": {\"gridcolor\": \"white\", \"linecolor\": \"white\", \"ticks\": \"\"}, \"bgcolor\": \"#E5ECF6\", \"radialaxis\": {\"gridcolor\": \"white\", \"linecolor\": \"white\", \"ticks\": \"\"}}, \"scene\": {\"xaxis\": {\"backgroundcolor\": \"#E5ECF6\", \"gridcolor\": \"white\", \"gridwidth\": 2, \"linecolor\": \"white\", \"showbackground\": true, \"ticks\": \"\", \"zerolinecolor\": \"white\"}, \"yaxis\": {\"backgroundcolor\": \"#E5ECF6\", \"gridcolor\": \"white\", \"gridwidth\": 2, \"linecolor\": \"white\", \"showbackground\": true, \"ticks\": \"\", \"zerolinecolor\": \"white\"}, \"zaxis\": {\"backgroundcolor\": \"#E5ECF6\", \"gridcolor\": \"white\", \"gridwidth\": 2, \"linecolor\": \"white\", \"showbackground\": true, \"ticks\": \"\", \"zerolinecolor\": \"white\"}}, \"shapedefaults\": {\"line\": {\"color\": \"#2a3f5f\"}}, \"ternary\": {\"aaxis\": {\"gridcolor\": \"white\", \"linecolor\": \"white\", \"ticks\": \"\"}, \"baxis\": {\"gridcolor\": \"white\", \"linecolor\": \"white\", \"ticks\": \"\"}, \"bgcolor\": \"#E5ECF6\", \"caxis\": {\"gridcolor\": \"white\", \"linecolor\": \"white\", \"ticks\": \"\"}}, \"title\": {\"x\": 0.05}, \"xaxis\": {\"automargin\": true, \"gridcolor\": \"white\", \"linecolor\": \"white\", \"ticks\": \"\", \"title\": {\"standoff\": 15}, \"zerolinecolor\": \"white\", \"zerolinewidth\": 2}, \"yaxis\": {\"automargin\": true, \"gridcolor\": \"white\", \"linecolor\": \"white\", \"ticks\": \"\", \"title\": {\"standoff\": 15}, \"zerolinecolor\": \"white\", \"zerolinewidth\": 2}}}, \"xaxis\": {\"anchor\": \"y\", \"categoryarray\": [\"A\", \"B\", \"C\", \"D\"], \"categoryorder\": \"array\", \"domain\": [0.0, 1.0], \"title\": {\"text\": \"group\"}}, \"yaxis\": {\"anchor\": \"x\", \"domain\": [0.0, 1.0], \"title\": {\"text\": \"mean\"}}},\n",
       "                        {\"responsive\": true}\n",
       "                    ).then(function(){\n",
       "                            \n",
       "var gd = document.getElementById('579e49ed-a922-4c06-9216-b67113e2e2f1');\n",
       "var x = new MutationObserver(function (mutations, observer) {{\n",
       "        var display = window.getComputedStyle(gd).display;\n",
       "        if (!display || display === 'none') {{\n",
       "            console.log([gd, 'removed!']);\n",
       "            Plotly.purge(gd);\n",
       "            observer.disconnect();\n",
       "        }}\n",
       "}});\n",
       "\n",
       "// Listen for the removal of the full notebook cells\n",
       "var notebookContainer = gd.closest('#notebook-container');\n",
       "if (notebookContainer) {{\n",
       "    x.observe(notebookContainer, {childList: true});\n",
       "}}\n",
       "\n",
       "// Listen for the clearing of the current output cell\n",
       "var outputEl = gd.closest('.output');\n",
       "if (outputEl) {{\n",
       "    x.observe(outputEl, {childList: true});\n",
       "}}\n",
       "\n",
       "                        })\n",
       "                };\n",
       "                });\n",
       "            </script>\n",
       "        </div>"
      ]
     },
     "metadata": {},
     "output_type": "display_data"
    }
   ],
   "source": [
    "group_desc = data1.groupby(\"group\")[\"y\"].agg([\"mean\", \"sem\", \"count\"]).reset_index()\n",
    "group_desc[\"df\"] = group_desc[\"count\"] - 1\n",
    "group_desc[\"lower\"] = group_desc[\"mean\"] - scipy.stats.t.ppf(1 - 0.05 / 2, df = group_desc[\"df\"]) * group_desc[\"sem\"]\n",
    "group_desc[\"upper\"] = group_desc[\"mean\"] + scipy.stats.t.ppf(1 - 0.05 / 2, df = group_desc[\"df\"]) * group_desc[\"sem\"]\n",
    "\n",
    "# Plot\n",
    "plotly.offline.iplot(\n",
    "    plotly.express.bar(group_desc, x = \"group\", y = \"mean\", error_y_minus = \"lower\", error_y = \"upper\", color = \"group\")\n",
    ")"
   ]
  },
  {
   "cell_type": "markdown",
   "metadata": {},
   "source": [
    "# Descriptive Statistics"
   ]
  },
  {
   "cell_type": "code",
   "execution_count": 393,
   "metadata": {},
   "outputs": [],
   "source": [
    "# similar to psych::describe and psych::describeBy in R"
   ]
  },
  {
   "cell_type": "code",
   "execution_count": 394,
   "metadata": {},
   "outputs": [
    {
     "data": {
      "text/html": [
       "<div>\n",
       "<style scoped>\n",
       "    .dataframe tbody tr th:only-of-type {\n",
       "        vertical-align: middle;\n",
       "    }\n",
       "\n",
       "    .dataframe tbody tr th {\n",
       "        vertical-align: top;\n",
       "    }\n",
       "\n",
       "    .dataframe thead tr th {\n",
       "        text-align: left;\n",
       "    }\n",
       "\n",
       "    .dataframe thead tr:last-of-type th {\n",
       "        text-align: right;\n",
       "    }\n",
       "</style>\n",
       "<table border=\"1\" class=\"dataframe\">\n",
       "  <thead>\n",
       "    <tr>\n",
       "      <th></th>\n",
       "      <th colspan=\"8\" halign=\"left\">x</th>\n",
       "      <th colspan=\"8\" halign=\"left\">y</th>\n",
       "    </tr>\n",
       "    <tr>\n",
       "      <th></th>\n",
       "      <th>count</th>\n",
       "      <th>mean</th>\n",
       "      <th>std</th>\n",
       "      <th>min</th>\n",
       "      <th>25%</th>\n",
       "      <th>50%</th>\n",
       "      <th>75%</th>\n",
       "      <th>max</th>\n",
       "      <th>count</th>\n",
       "      <th>mean</th>\n",
       "      <th>std</th>\n",
       "      <th>min</th>\n",
       "      <th>25%</th>\n",
       "      <th>50%</th>\n",
       "      <th>75%</th>\n",
       "      <th>max</th>\n",
       "    </tr>\n",
       "    <tr>\n",
       "      <th>group</th>\n",
       "      <th></th>\n",
       "      <th></th>\n",
       "      <th></th>\n",
       "      <th></th>\n",
       "      <th></th>\n",
       "      <th></th>\n",
       "      <th></th>\n",
       "      <th></th>\n",
       "      <th></th>\n",
       "      <th></th>\n",
       "      <th></th>\n",
       "      <th></th>\n",
       "      <th></th>\n",
       "      <th></th>\n",
       "      <th></th>\n",
       "      <th></th>\n",
       "    </tr>\n",
       "  </thead>\n",
       "  <tbody>\n",
       "    <tr>\n",
       "      <td>A</td>\n",
       "      <td>50.0</td>\n",
       "      <td>3.14</td>\n",
       "      <td>0.85</td>\n",
       "      <td>1.35</td>\n",
       "      <td>2.53</td>\n",
       "      <td>3.15</td>\n",
       "      <td>3.72</td>\n",
       "      <td>4.82</td>\n",
       "      <td>50.0</td>\n",
       "      <td>2.28</td>\n",
       "      <td>1.35</td>\n",
       "      <td>-0.50</td>\n",
       "      <td>1.19</td>\n",
       "      <td>2.54</td>\n",
       "      <td>3.23</td>\n",
       "      <td>4.62</td>\n",
       "    </tr>\n",
       "    <tr>\n",
       "      <td>B</td>\n",
       "      <td>50.0</td>\n",
       "      <td>3.86</td>\n",
       "      <td>1.07</td>\n",
       "      <td>1.53</td>\n",
       "      <td>2.94</td>\n",
       "      <td>3.73</td>\n",
       "      <td>4.58</td>\n",
       "      <td>6.80</td>\n",
       "      <td>50.0</td>\n",
       "      <td>3.14</td>\n",
       "      <td>1.45</td>\n",
       "      <td>0.17</td>\n",
       "      <td>2.13</td>\n",
       "      <td>3.05</td>\n",
       "      <td>4.19</td>\n",
       "      <td>6.29</td>\n",
       "    </tr>\n",
       "    <tr>\n",
       "      <td>C</td>\n",
       "      <td>50.0</td>\n",
       "      <td>3.96</td>\n",
       "      <td>1.20</td>\n",
       "      <td>0.94</td>\n",
       "      <td>3.10</td>\n",
       "      <td>3.88</td>\n",
       "      <td>4.72</td>\n",
       "      <td>6.40</td>\n",
       "      <td>50.0</td>\n",
       "      <td>3.19</td>\n",
       "      <td>1.38</td>\n",
       "      <td>-0.75</td>\n",
       "      <td>2.40</td>\n",
       "      <td>3.25</td>\n",
       "      <td>3.87</td>\n",
       "      <td>6.17</td>\n",
       "    </tr>\n",
       "    <tr>\n",
       "      <td>D</td>\n",
       "      <td>50.0</td>\n",
       "      <td>3.23</td>\n",
       "      <td>0.98</td>\n",
       "      <td>1.20</td>\n",
       "      <td>2.50</td>\n",
       "      <td>3.30</td>\n",
       "      <td>3.93</td>\n",
       "      <td>5.23</td>\n",
       "      <td>50.0</td>\n",
       "      <td>2.39</td>\n",
       "      <td>1.14</td>\n",
       "      <td>0.34</td>\n",
       "      <td>1.47</td>\n",
       "      <td>2.48</td>\n",
       "      <td>2.99</td>\n",
       "      <td>5.10</td>\n",
       "    </tr>\n",
       "  </tbody>\n",
       "</table>\n",
       "</div>"
      ],
      "text/plain": [
       "          x                                               y                    \\\n",
       "      count  mean   std   min   25%   50%   75%   max count  mean   std   min   \n",
       "group                                                                           \n",
       "A      50.0  3.14  0.85  1.35  2.53  3.15  3.72  4.82  50.0  2.28  1.35 -0.50   \n",
       "B      50.0  3.86  1.07  1.53  2.94  3.73  4.58  6.80  50.0  3.14  1.45  0.17   \n",
       "C      50.0  3.96  1.20  0.94  3.10  3.88  4.72  6.40  50.0  3.19  1.38 -0.75   \n",
       "D      50.0  3.23  0.98  1.20  2.50  3.30  3.93  5.23  50.0  2.39  1.14  0.34   \n",
       "\n",
       "                               \n",
       "        25%   50%   75%   max  \n",
       "group                          \n",
       "A      1.19  2.54  3.23  4.62  \n",
       "B      2.13  3.05  4.19  6.29  \n",
       "C      2.40  3.25  3.87  6.17  \n",
       "D      1.47  2.48  2.99  5.10  "
      ]
     },
     "execution_count": 394,
     "metadata": {},
     "output_type": "execute_result"
    }
   ],
   "source": [
    "data1.groupby(\"group\")[[\"x\", \"y\"]].describe().round(2)"
   ]
  },
  {
   "cell_type": "markdown",
   "metadata": {},
   "source": [
    "# Correlation"
   ]
  },
  {
   "cell_type": "code",
   "execution_count": 395,
   "metadata": {},
   "outputs": [],
   "source": [
    "# not a lot of help here from python libraries. they have r and p, like SPSS. had to manually compute the rest. print syntax is pretty neat with the {}"
   ]
  },
  {
   "cell_type": "code",
   "execution_count": 396,
   "metadata": {
    "scrolled": true
   },
   "outputs": [
    {
     "data": {
      "text/html": [
       "<div>\n",
       "<style scoped>\n",
       "    .dataframe tbody tr th:only-of-type {\n",
       "        vertical-align: middle;\n",
       "    }\n",
       "\n",
       "    .dataframe tbody tr th {\n",
       "        vertical-align: top;\n",
       "    }\n",
       "\n",
       "    .dataframe thead th {\n",
       "        text-align: right;\n",
       "    }\n",
       "</style>\n",
       "<table border=\"1\" class=\"dataframe\">\n",
       "  <thead>\n",
       "    <tr style=\"text-align: right;\">\n",
       "      <th></th>\n",
       "      <th>r</th>\n",
       "      <th>lower</th>\n",
       "      <th>upper</th>\n",
       "      <th>t</th>\n",
       "      <th>df</th>\n",
       "      <th>p</th>\n",
       "    </tr>\n",
       "  </thead>\n",
       "  <tbody>\n",
       "    <tr>\n",
       "      <td>0</td>\n",
       "      <td>0.735492</td>\n",
       "      <td>0.664565</td>\n",
       "      <td>0.793284</td>\n",
       "      <td>15.274958</td>\n",
       "      <td>198</td>\n",
       "      <td>2.563995e-35</td>\n",
       "    </tr>\n",
       "  </tbody>\n",
       "</table>\n",
       "</div>"
      ],
      "text/plain": [
       "          r     lower     upper          t   df             p\n",
       "0  0.735492  0.664565  0.793284  15.274958  198  2.563995e-35"
      ]
     },
     "execution_count": 396,
     "metadata": {},
     "output_type": "execute_result"
    }
   ],
   "source": [
    "# Save r and p-value\n",
    "r1, pvalue1 = scipy.stats.pearsonr(x, y)\n",
    "\n",
    "# Save degrees of freedom\n",
    "ddf1 = len(x) - 2\n",
    "\n",
    "# Compute t-statistic and degress of freedom, isf for upper tail of t distribution\n",
    "t1 = scipy.stats.t.isf(pvalue1 / 2, df = ddf1)\n",
    "\n",
    "# Compute standard error\n",
    "se1 = r1 / t1\n",
    "\n",
    "# Compute lower and upper confidence intervals\n",
    "lower1, upper1 = (numpy.tanh(numpy.arctanh(r1) - 1 / math.sqrt(len(x) - 3) * scipy.stats.norm.ppf(1 - 0.05 / 2)),\n",
    "                  numpy.tanh(numpy.arctanh(r1) + 1 / math.sqrt(len(x) - 3) * scipy.stats.norm.ppf(1 - 0.05 / 2)))\n",
    "\n",
    "# Print most basic results\n",
    "# \"r = {0}, 95%CI [{1}, {2}], t({3}) = {4}, p = {5}\".format(r1.round(2), lower1.round(2), upper1.round(2), ddf1, t1.round(2), pvalue1.round(3))\n",
    "\n",
    "# Also as data frame\n",
    "pandas.DataFrame({\"r\": r1, \"lower\": lower1, \"upper\": upper1, \"t\": t1, \"df\": ddf1, \"p\": pvalue1}, index = [0])"
   ]
  },
  {
   "cell_type": "markdown",
   "metadata": {},
   "source": [
    "# Analyses\n",
    "## Regression\n",
    "### Fit linear regression"
   ]
  },
  {
   "cell_type": "code",
   "execution_count": 397,
   "metadata": {},
   "outputs": [],
   "source": [
    "# regress y on numeric/continuous x\n",
    "ols_fit1 = statsmodels.formula.api.ols(\"y ~ x\", data = data1).fit()"
   ]
  },
  {
   "cell_type": "markdown",
   "metadata": {},
   "source": [
    "### Results Summary"
   ]
  },
  {
   "cell_type": "code",
   "execution_count": 398,
   "metadata": {},
   "outputs": [
    {
     "data": {
      "text/html": [
       "<table class=\"simpletable\">\n",
       "<caption>OLS Regression Results</caption>\n",
       "<tr>\n",
       "  <th>Dep. Variable:</th>            <td>y</td>        <th>  R-squared:         </th> <td>   0.541</td>\n",
       "</tr>\n",
       "<tr>\n",
       "  <th>Model:</th>                   <td>OLS</td>       <th>  Adj. R-squared:    </th> <td>   0.539</td>\n",
       "</tr>\n",
       "<tr>\n",
       "  <th>Method:</th>             <td>Least Squares</td>  <th>  F-statistic:       </th> <td>   233.3</td>\n",
       "</tr>\n",
       "<tr>\n",
       "  <th>Date:</th>             <td>Tue, 14 Jan 2020</td> <th>  Prob (F-statistic):</th> <td>2.56e-35</td>\n",
       "</tr>\n",
       "<tr>\n",
       "  <th>Time:</th>                 <td>09:47:27</td>     <th>  Log-Likelihood:    </th> <td> -271.04</td>\n",
       "</tr>\n",
       "<tr>\n",
       "  <th>No. Observations:</th>      <td>   200</td>      <th>  AIC:               </th> <td>   546.1</td>\n",
       "</tr>\n",
       "<tr>\n",
       "  <th>Df Residuals:</th>          <td>   198</td>      <th>  BIC:               </th> <td>   552.7</td>\n",
       "</tr>\n",
       "<tr>\n",
       "  <th>Df Model:</th>              <td>     1</td>      <th>                     </th>     <td> </td>   \n",
       "</tr>\n",
       "<tr>\n",
       "  <th>Covariance Type:</th>      <td>nonrobust</td>    <th>                     </th>     <td> </td>   \n",
       "</tr>\n",
       "</table>\n",
       "<table class=\"simpletable\">\n",
       "<tr>\n",
       "      <td></td>         <th>coef</th>     <th>std err</th>      <th>t</th>      <th>P>|t|</th>  <th>[0.025</th>    <th>0.975]</th>  \n",
       "</tr>\n",
       "<tr>\n",
       "  <th>Intercept</th> <td>   -0.5789</td> <td>    0.228</td> <td>   -2.541</td> <td> 0.012</td> <td>   -1.028</td> <td>   -0.130</td>\n",
       "</tr>\n",
       "<tr>\n",
       "  <th>x</th>         <td>    0.9375</td> <td>    0.061</td> <td>   15.275</td> <td> 0.000</td> <td>    0.816</td> <td>    1.059</td>\n",
       "</tr>\n",
       "</table>\n",
       "<table class=\"simpletable\">\n",
       "<tr>\n",
       "  <th>Omnibus:</th>       <td> 1.528</td> <th>  Durbin-Watson:     </th> <td>   2.152</td>\n",
       "</tr>\n",
       "<tr>\n",
       "  <th>Prob(Omnibus):</th> <td> 0.466</td> <th>  Jarque-Bera (JB):  </th> <td>   1.567</td>\n",
       "</tr>\n",
       "<tr>\n",
       "  <th>Skew:</th>          <td>-0.154</td> <th>  Prob(JB):          </th> <td>   0.457</td>\n",
       "</tr>\n",
       "<tr>\n",
       "  <th>Kurtosis:</th>      <td> 2.695</td> <th>  Cond. No.          </th> <td>    13.5</td>\n",
       "</tr>\n",
       "</table><br/><br/>Warnings:<br/>[1] Standard Errors assume that the covariance matrix of the errors is correctly specified."
      ],
      "text/plain": [
       "<class 'statsmodels.iolib.summary.Summary'>\n",
       "\"\"\"\n",
       "                            OLS Regression Results                            \n",
       "==============================================================================\n",
       "Dep. Variable:                      y   R-squared:                       0.541\n",
       "Model:                            OLS   Adj. R-squared:                  0.539\n",
       "Method:                 Least Squares   F-statistic:                     233.3\n",
       "Date:                Tue, 14 Jan 2020   Prob (F-statistic):           2.56e-35\n",
       "Time:                        09:47:27   Log-Likelihood:                -271.04\n",
       "No. Observations:                 200   AIC:                             546.1\n",
       "Df Residuals:                     198   BIC:                             552.7\n",
       "Df Model:                           1                                         \n",
       "Covariance Type:            nonrobust                                         \n",
       "==============================================================================\n",
       "                 coef    std err          t      P>|t|      [0.025      0.975]\n",
       "------------------------------------------------------------------------------\n",
       "Intercept     -0.5789      0.228     -2.541      0.012      -1.028      -0.130\n",
       "x              0.9375      0.061     15.275      0.000       0.816       1.059\n",
       "==============================================================================\n",
       "Omnibus:                        1.528   Durbin-Watson:                   2.152\n",
       "Prob(Omnibus):                  0.466   Jarque-Bera (JB):                1.567\n",
       "Skew:                          -0.154   Prob(JB):                        0.457\n",
       "Kurtosis:                       2.695   Cond. No.                         13.5\n",
       "==============================================================================\n",
       "\n",
       "Warnings:\n",
       "[1] Standard Errors assume that the covariance matrix of the errors is correctly specified.\n",
       "\"\"\""
      ]
     },
     "execution_count": 398,
     "metadata": {},
     "output_type": "execute_result"
    }
   ],
   "source": [
    "ols_fit1.summary()"
   ]
  },
  {
   "cell_type": "markdown",
   "metadata": {},
   "source": [
    "## Fit linear regression"
   ]
  },
  {
   "cell_type": "code",
   "execution_count": 399,
   "metadata": {},
   "outputs": [],
   "source": [
    "# helmert contrasts on group\n",
    "ols_fit2 = statsmodels.formula.api.ols(\"y ~ C(group, group_helmert)\", data = data1).fit()"
   ]
  },
  {
   "cell_type": "markdown",
   "metadata": {},
   "source": [
    "### Results Summary"
   ]
  },
  {
   "cell_type": "code",
   "execution_count": 400,
   "metadata": {},
   "outputs": [
    {
     "data": {
      "text/html": [
       "<table class=\"simpletable\">\n",
       "<caption>OLS Regression Results</caption>\n",
       "<tr>\n",
       "  <th>Dep. Variable:</th>            <td>y</td>        <th>  R-squared:         </th> <td>   0.091</td>\n",
       "</tr>\n",
       "<tr>\n",
       "  <th>Model:</th>                   <td>OLS</td>       <th>  Adj. R-squared:    </th> <td>   0.077</td>\n",
       "</tr>\n",
       "<tr>\n",
       "  <th>Method:</th>             <td>Least Squares</td>  <th>  F-statistic:       </th> <td>   6.570</td>\n",
       "</tr>\n",
       "<tr>\n",
       "  <th>Date:</th>             <td>Tue, 14 Jan 2020</td> <th>  Prob (F-statistic):</th> <td>0.000297</td>\n",
       "</tr>\n",
       "<tr>\n",
       "  <th>Time:</th>                 <td>09:47:27</td>     <th>  Log-Likelihood:    </th> <td> -339.31</td>\n",
       "</tr>\n",
       "<tr>\n",
       "  <th>No. Observations:</th>      <td>   200</td>      <th>  AIC:               </th> <td>   686.6</td>\n",
       "</tr>\n",
       "<tr>\n",
       "  <th>Df Residuals:</th>          <td>   196</td>      <th>  BIC:               </th> <td>   699.8</td>\n",
       "</tr>\n",
       "<tr>\n",
       "  <th>Df Model:</th>              <td>     3</td>      <th>                     </th>     <td> </td>   \n",
       "</tr>\n",
       "<tr>\n",
       "  <th>Covariance Type:</th>      <td>nonrobust</td>    <th>                     </th>     <td> </td>   \n",
       "</tr>\n",
       "</table>\n",
       "<table class=\"simpletable\">\n",
       "<tr>\n",
       "                <td></td>                  <th>coef</th>     <th>std err</th>      <th>t</th>      <th>P>|t|</th>  <th>[0.025</th>    <th>0.975]</th>  \n",
       "</tr>\n",
       "<tr>\n",
       "  <th>Intercept</th>                    <td>    2.7488</td> <td>    0.094</td> <td>   29.155</td> <td> 0.000</td> <td>    2.563</td> <td>    2.935</td>\n",
       "</tr>\n",
       "<tr>\n",
       "  <th>C(group, group_helmert)[H.B]</th> <td>    0.4315</td> <td>    0.133</td> <td>    3.236</td> <td> 0.001</td> <td>    0.169</td> <td>    0.695</td>\n",
       "</tr>\n",
       "<tr>\n",
       "  <th>C(group, group_helmert)[H.A]</th> <td>    0.1598</td> <td>    0.077</td> <td>    2.075</td> <td> 0.039</td> <td>    0.008</td> <td>    0.312</td>\n",
       "</tr>\n",
       "<tr>\n",
       "  <th>C(group, group_helmert)[H.C]</th> <td>   -0.1208</td> <td>    0.054</td> <td>   -2.220</td> <td> 0.028</td> <td>   -0.228</td> <td>   -0.013</td>\n",
       "</tr>\n",
       "</table>\n",
       "<table class=\"simpletable\">\n",
       "<tr>\n",
       "  <th>Omnibus:</th>       <td> 0.591</td> <th>  Durbin-Watson:     </th> <td>   1.977</td>\n",
       "</tr>\n",
       "<tr>\n",
       "  <th>Prob(Omnibus):</th> <td> 0.744</td> <th>  Jarque-Bera (JB):  </th> <td>   0.727</td>\n",
       "</tr>\n",
       "<tr>\n",
       "  <th>Skew:</th>          <td>-0.093</td> <th>  Prob(JB):          </th> <td>   0.695</td>\n",
       "</tr>\n",
       "<tr>\n",
       "  <th>Kurtosis:</th>      <td> 2.770</td> <th>  Cond. No.          </th> <td>    2.45</td>\n",
       "</tr>\n",
       "</table><br/><br/>Warnings:<br/>[1] Standard Errors assume that the covariance matrix of the errors is correctly specified."
      ],
      "text/plain": [
       "<class 'statsmodels.iolib.summary.Summary'>\n",
       "\"\"\"\n",
       "                            OLS Regression Results                            \n",
       "==============================================================================\n",
       "Dep. Variable:                      y   R-squared:                       0.091\n",
       "Model:                            OLS   Adj. R-squared:                  0.077\n",
       "Method:                 Least Squares   F-statistic:                     6.570\n",
       "Date:                Tue, 14 Jan 2020   Prob (F-statistic):           0.000297\n",
       "Time:                        09:47:27   Log-Likelihood:                -339.31\n",
       "No. Observations:                 200   AIC:                             686.6\n",
       "Df Residuals:                     196   BIC:                             699.8\n",
       "Df Model:                           3                                         \n",
       "Covariance Type:            nonrobust                                         \n",
       "================================================================================================\n",
       "                                   coef    std err          t      P>|t|      [0.025      0.975]\n",
       "------------------------------------------------------------------------------------------------\n",
       "Intercept                        2.7488      0.094     29.155      0.000       2.563       2.935\n",
       "C(group, group_helmert)[H.B]     0.4315      0.133      3.236      0.001       0.169       0.695\n",
       "C(group, group_helmert)[H.A]     0.1598      0.077      2.075      0.039       0.008       0.312\n",
       "C(group, group_helmert)[H.C]    -0.1208      0.054     -2.220      0.028      -0.228      -0.013\n",
       "==============================================================================\n",
       "Omnibus:                        0.591   Durbin-Watson:                   1.977\n",
       "Prob(Omnibus):                  0.744   Jarque-Bera (JB):                0.727\n",
       "Skew:                          -0.093   Prob(JB):                        0.695\n",
       "Kurtosis:                       2.770   Cond. No.                         2.45\n",
       "==============================================================================\n",
       "\n",
       "Warnings:\n",
       "[1] Standard Errors assume that the covariance matrix of the errors is correctly specified.\n",
       "\"\"\""
      ]
     },
     "execution_count": 400,
     "metadata": {},
     "output_type": "execute_result"
    }
   ],
   "source": [
    "ols_fit2.summary()"
   ]
  },
  {
   "cell_type": "code",
   "execution_count": 401,
   "metadata": {},
   "outputs": [],
   "source": [
    "# factorial contrasts (2 main effects and 1 interaction)\n",
    "ols_fit3 = statsmodels.formula.api.ols(\"y ~ C(group, group_factorial)\", data = data1).fit()"
   ]
  },
  {
   "cell_type": "markdown",
   "metadata": {},
   "source": [
    "## Results Summary"
   ]
  },
  {
   "cell_type": "code",
   "execution_count": 402,
   "metadata": {},
   "outputs": [
    {
     "data": {
      "text/html": [
       "<table class=\"simpletable\">\n",
       "<caption>OLS Regression Results</caption>\n",
       "<tr>\n",
       "  <th>Dep. Variable:</th>            <td>y</td>        <th>  R-squared:         </th> <td>   0.091</td>\n",
       "</tr>\n",
       "<tr>\n",
       "  <th>Model:</th>                   <td>OLS</td>       <th>  Adj. R-squared:    </th> <td>   0.077</td>\n",
       "</tr>\n",
       "<tr>\n",
       "  <th>Method:</th>             <td>Least Squares</td>  <th>  F-statistic:       </th> <td>   6.570</td>\n",
       "</tr>\n",
       "<tr>\n",
       "  <th>Date:</th>             <td>Tue, 14 Jan 2020</td> <th>  Prob (F-statistic):</th> <td>0.000297</td>\n",
       "</tr>\n",
       "<tr>\n",
       "  <th>Time:</th>                 <td>09:47:27</td>     <th>  Log-Likelihood:    </th> <td> -339.31</td>\n",
       "</tr>\n",
       "<tr>\n",
       "  <th>No. Observations:</th>      <td>   200</td>      <th>  AIC:               </th> <td>   686.6</td>\n",
       "</tr>\n",
       "<tr>\n",
       "  <th>Df Residuals:</th>          <td>   196</td>      <th>  BIC:               </th> <td>   699.8</td>\n",
       "</tr>\n",
       "<tr>\n",
       "  <th>Df Model:</th>              <td>     3</td>      <th>                     </th>     <td> </td>   \n",
       "</tr>\n",
       "<tr>\n",
       "  <th>Covariance Type:</th>      <td>nonrobust</td>    <th>                     </th>     <td> </td>   \n",
       "</tr>\n",
       "</table>\n",
       "<table class=\"simpletable\">\n",
       "<tr>\n",
       "                     <td></td>                       <th>coef</th>     <th>std err</th>      <th>t</th>      <th>P>|t|</th>  <th>[0.025</th>    <th>0.975]</th>  \n",
       "</tr>\n",
       "<tr>\n",
       "  <th>Intercept</th>                              <td>    2.7488</td> <td>    0.094</td> <td>   29.155</td> <td> 0.000</td> <td>    2.563</td> <td>    2.935</td>\n",
       "</tr>\n",
       "<tr>\n",
       "  <th>C(group, group_factorial)Main Effect 1</th> <td>    0.0389</td> <td>    0.094</td> <td>    0.413</td> <td> 0.680</td> <td>   -0.147</td> <td>    0.225</td>\n",
       "</tr>\n",
       "<tr>\n",
       "  <th>C(group, group_factorial)Main Effect 2</th> <td>    0.0151</td> <td>    0.094</td> <td>    0.160</td> <td> 0.873</td> <td>   -0.171</td> <td>    0.201</td>\n",
       "</tr>\n",
       "<tr>\n",
       "  <th>C(group, group_factorial)Interaction</th>   <td>   -0.4165</td> <td>    0.094</td> <td>   -4.417</td> <td> 0.000</td> <td>   -0.602</td> <td>   -0.231</td>\n",
       "</tr>\n",
       "</table>\n",
       "<table class=\"simpletable\">\n",
       "<tr>\n",
       "  <th>Omnibus:</th>       <td> 0.591</td> <th>  Durbin-Watson:     </th> <td>   1.977</td>\n",
       "</tr>\n",
       "<tr>\n",
       "  <th>Prob(Omnibus):</th> <td> 0.744</td> <th>  Jarque-Bera (JB):  </th> <td>   0.727</td>\n",
       "</tr>\n",
       "<tr>\n",
       "  <th>Skew:</th>          <td>-0.093</td> <th>  Prob(JB):          </th> <td>   0.695</td>\n",
       "</tr>\n",
       "<tr>\n",
       "  <th>Kurtosis:</th>      <td> 2.770</td> <th>  Cond. No.          </th> <td>    1.00</td>\n",
       "</tr>\n",
       "</table><br/><br/>Warnings:<br/>[1] Standard Errors assume that the covariance matrix of the errors is correctly specified."
      ],
      "text/plain": [
       "<class 'statsmodels.iolib.summary.Summary'>\n",
       "\"\"\"\n",
       "                            OLS Regression Results                            \n",
       "==============================================================================\n",
       "Dep. Variable:                      y   R-squared:                       0.091\n",
       "Model:                            OLS   Adj. R-squared:                  0.077\n",
       "Method:                 Least Squares   F-statistic:                     6.570\n",
       "Date:                Tue, 14 Jan 2020   Prob (F-statistic):           0.000297\n",
       "Time:                        09:47:27   Log-Likelihood:                -339.31\n",
       "No. Observations:                 200   AIC:                             686.6\n",
       "Df Residuals:                     196   BIC:                             699.8\n",
       "Df Model:                           3                                         \n",
       "Covariance Type:            nonrobust                                         \n",
       "==========================================================================================================\n",
       "                                             coef    std err          t      P>|t|      [0.025      0.975]\n",
       "----------------------------------------------------------------------------------------------------------\n",
       "Intercept                                  2.7488      0.094     29.155      0.000       2.563       2.935\n",
       "C(group, group_factorial)Main Effect 1     0.0389      0.094      0.413      0.680      -0.147       0.225\n",
       "C(group, group_factorial)Main Effect 2     0.0151      0.094      0.160      0.873      -0.171       0.201\n",
       "C(group, group_factorial)Interaction      -0.4165      0.094     -4.417      0.000      -0.602      -0.231\n",
       "==============================================================================\n",
       "Omnibus:                        0.591   Durbin-Watson:                   1.977\n",
       "Prob(Omnibus):                  0.744   Jarque-Bera (JB):                0.727\n",
       "Skew:                          -0.093   Prob(JB):                        0.695\n",
       "Kurtosis:                       2.770   Cond. No.                         1.00\n",
       "==============================================================================\n",
       "\n",
       "Warnings:\n",
       "[1] Standard Errors assume that the covariance matrix of the errors is correctly specified.\n",
       "\"\"\""
      ]
     },
     "execution_count": 402,
     "metadata": {},
     "output_type": "execute_result"
    }
   ],
   "source": [
    "ols_fit3.summary()"
   ]
  },
  {
   "cell_type": "markdown",
   "metadata": {},
   "source": [
    "## Fit linear regression"
   ]
  },
  {
   "cell_type": "code",
   "execution_count": 403,
   "metadata": {},
   "outputs": [],
   "source": [
    "ols_fit4 = statsmodels.formula.api.ols(\"y ~ main1 + main2 + interaction\", data = data1).fit()"
   ]
  },
  {
   "cell_type": "markdown",
   "metadata": {},
   "source": [
    "## Results Summary"
   ]
  },
  {
   "cell_type": "code",
   "execution_count": 404,
   "metadata": {},
   "outputs": [
    {
     "data": {
      "text/html": [
       "<table class=\"simpletable\">\n",
       "<caption>OLS Regression Results</caption>\n",
       "<tr>\n",
       "  <th>Dep. Variable:</th>            <td>y</td>        <th>  R-squared:         </th> <td>   0.091</td>\n",
       "</tr>\n",
       "<tr>\n",
       "  <th>Model:</th>                   <td>OLS</td>       <th>  Adj. R-squared:    </th> <td>   0.077</td>\n",
       "</tr>\n",
       "<tr>\n",
       "  <th>Method:</th>             <td>Least Squares</td>  <th>  F-statistic:       </th> <td>   6.570</td>\n",
       "</tr>\n",
       "<tr>\n",
       "  <th>Date:</th>             <td>Tue, 14 Jan 2020</td> <th>  Prob (F-statistic):</th> <td>0.000297</td>\n",
       "</tr>\n",
       "<tr>\n",
       "  <th>Time:</th>                 <td>09:47:27</td>     <th>  Log-Likelihood:    </th> <td> -339.31</td>\n",
       "</tr>\n",
       "<tr>\n",
       "  <th>No. Observations:</th>      <td>   200</td>      <th>  AIC:               </th> <td>   686.6</td>\n",
       "</tr>\n",
       "<tr>\n",
       "  <th>Df Residuals:</th>          <td>   196</td>      <th>  BIC:               </th> <td>   699.8</td>\n",
       "</tr>\n",
       "<tr>\n",
       "  <th>Df Model:</th>              <td>     3</td>      <th>                     </th>     <td> </td>   \n",
       "</tr>\n",
       "<tr>\n",
       "  <th>Covariance Type:</th>      <td>nonrobust</td>    <th>                     </th>     <td> </td>   \n",
       "</tr>\n",
       "</table>\n",
       "<table class=\"simpletable\">\n",
       "<tr>\n",
       "       <td></td>          <th>coef</th>     <th>std err</th>      <th>t</th>      <th>P>|t|</th>  <th>[0.025</th>    <th>0.975]</th>  \n",
       "</tr>\n",
       "<tr>\n",
       "  <th>Intercept</th>   <td>    2.7488</td> <td>    0.094</td> <td>   29.155</td> <td> 0.000</td> <td>    2.563</td> <td>    2.935</td>\n",
       "</tr>\n",
       "<tr>\n",
       "  <th>main1</th>       <td>    0.0389</td> <td>    0.094</td> <td>    0.413</td> <td> 0.680</td> <td>   -0.147</td> <td>    0.225</td>\n",
       "</tr>\n",
       "<tr>\n",
       "  <th>main2</th>       <td>    0.0151</td> <td>    0.094</td> <td>    0.160</td> <td> 0.873</td> <td>   -0.171</td> <td>    0.201</td>\n",
       "</tr>\n",
       "<tr>\n",
       "  <th>interaction</th> <td>   -0.4165</td> <td>    0.094</td> <td>   -4.417</td> <td> 0.000</td> <td>   -0.602</td> <td>   -0.231</td>\n",
       "</tr>\n",
       "</table>\n",
       "<table class=\"simpletable\">\n",
       "<tr>\n",
       "  <th>Omnibus:</th>       <td> 0.591</td> <th>  Durbin-Watson:     </th> <td>   1.977</td>\n",
       "</tr>\n",
       "<tr>\n",
       "  <th>Prob(Omnibus):</th> <td> 0.744</td> <th>  Jarque-Bera (JB):  </th> <td>   0.727</td>\n",
       "</tr>\n",
       "<tr>\n",
       "  <th>Skew:</th>          <td>-0.093</td> <th>  Prob(JB):          </th> <td>   0.695</td>\n",
       "</tr>\n",
       "<tr>\n",
       "  <th>Kurtosis:</th>      <td> 2.770</td> <th>  Cond. No.          </th> <td>    1.00</td>\n",
       "</tr>\n",
       "</table><br/><br/>Warnings:<br/>[1] Standard Errors assume that the covariance matrix of the errors is correctly specified."
      ],
      "text/plain": [
       "<class 'statsmodels.iolib.summary.Summary'>\n",
       "\"\"\"\n",
       "                            OLS Regression Results                            \n",
       "==============================================================================\n",
       "Dep. Variable:                      y   R-squared:                       0.091\n",
       "Model:                            OLS   Adj. R-squared:                  0.077\n",
       "Method:                 Least Squares   F-statistic:                     6.570\n",
       "Date:                Tue, 14 Jan 2020   Prob (F-statistic):           0.000297\n",
       "Time:                        09:47:27   Log-Likelihood:                -339.31\n",
       "No. Observations:                 200   AIC:                             686.6\n",
       "Df Residuals:                     196   BIC:                             699.8\n",
       "Df Model:                           3                                         \n",
       "Covariance Type:            nonrobust                                         \n",
       "===============================================================================\n",
       "                  coef    std err          t      P>|t|      [0.025      0.975]\n",
       "-------------------------------------------------------------------------------\n",
       "Intercept       2.7488      0.094     29.155      0.000       2.563       2.935\n",
       "main1           0.0389      0.094      0.413      0.680      -0.147       0.225\n",
       "main2           0.0151      0.094      0.160      0.873      -0.171       0.201\n",
       "interaction    -0.4165      0.094     -4.417      0.000      -0.602      -0.231\n",
       "==============================================================================\n",
       "Omnibus:                        0.591   Durbin-Watson:                   1.977\n",
       "Prob(Omnibus):                  0.744   Jarque-Bera (JB):                0.727\n",
       "Skew:                          -0.093   Prob(JB):                        0.695\n",
       "Kurtosis:                       2.770   Cond. No.                         1.00\n",
       "==============================================================================\n",
       "\n",
       "Warnings:\n",
       "[1] Standard Errors assume that the covariance matrix of the errors is correctly specified.\n",
       "\"\"\""
      ]
     },
     "execution_count": 404,
     "metadata": {},
     "output_type": "execute_result"
    }
   ],
   "source": [
    "ols_fit4.summary()"
   ]
  }
 ],
 "metadata": {
  "kernelspec": {
   "display_name": "Python 3",
   "language": "python",
   "name": "python3"
  },
  "language_info": {
   "codemirror_mode": {
    "name": "ipython",
    "version": 3
   },
   "file_extension": ".py",
   "mimetype": "text/x-python",
   "name": "python",
   "nbconvert_exporter": "python",
   "pygments_lexer": "ipython3",
   "version": "3.7.4"
  }
 },
 "nbformat": 4,
 "nbformat_minor": 2
}
